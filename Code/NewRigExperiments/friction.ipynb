{
 "cells": [
  {
   "cell_type": "code",
   "execution_count": 1,
   "metadata": {},
   "outputs": [
    {
     "name": "stderr",
     "output_type": "stream",
     "text": [
      "/its/home/drs25/miniconda3/lib/python3.10/site-packages/pandas/core/arrays/masked.py:60: UserWarning: Pandas requires version '1.3.6' or newer of 'bottleneck' (version '1.3.5' currently installed).\n",
      "  from pandas.core import (\n"
     ]
    },
    {
     "name": "stdout",
     "output_type": "stream",
     "text": [
      "Using device: cpu\n"
     ]
    }
   ],
   "source": [
    "import numpy as np\n",
    "import matplotlib.pyplot as plt\n",
    "from matplotlib.colors import ListedColormap, BoundaryNorm\n",
    "from sys import getsizeof\n",
    "import cv2\n",
    "import torch\n",
    "import torch.nn as nn\n",
    "import torch.optim as optim\n",
    "from torch.utils.data import DataLoader, TensorDataset, random_split\n",
    "from sklearn.preprocessing import LabelEncoder\n",
    "from IPython.display import clear_output\n",
    "import os\n",
    "import time\n",
    "from sklearn.model_selection import train_test_split\n",
    "path=\"/its/home/drs25/Documents/GitHub/RoboSkin/Code/NewRigExperiments/\"\n",
    "datapath=\"/its/home/drs25/Documents/data/Tactile Dataset/datasets/\"\n",
    "if os.name == 'nt':\n",
    "    path=\"C:/Users/dexte/Documents/GitHub/RoboSkin/Code/NewRigExperiments/\"\n",
    "    datapath=\"C:/Users/dexte/Documents/GitHub/RoboSkin/Code/NewRigExperiments/texture-tactip/\"\n",
    "from IPython.display import clear_output\n",
    "#os.environ[\"PYTORCH_CUDA_ALLOC_CONF\"] = \"max_split_size_mb:18230\"\n",
    "from sklearn.linear_model import Ridge\n",
    "device = torch.device(\"cuda\" if torch.cuda.is_available() else \"cpu\")\n",
    "device=torch.device(\"cpu\")\n",
    "print(f\"Using device: {device}\")\n",
    "from itertools import islice\n",
    "\n",
    "def take(n, iterable):\n",
    "    \"\"\"Return the first n items of the iterable as a list.\"\"\"\n",
    "    return list(islice(iterable, n))\n"
   ]
  },
  {
   "attachments": {},
   "cell_type": "markdown",
   "metadata": {},
   "source": [
    "# load in datasets"
   ]
  },
  {
   "cell_type": "code",
   "execution_count": 2,
   "metadata": {},
   "outputs": [],
   "source": [
    "class loaded:\n",
    "    def __init__(self,t=20,filename=\"X_data_15.npz\"):\n",
    "        data = np.load(datapath+filename) #load data\n",
    "        for array_name in data:\n",
    "            self.X=(data[array_name].astype(np.uint8))\n",
    "        data = np.load(datapath+filename.replace(\"X\",\"y\")) #load data\n",
    "        for array_name in data:\n",
    "            self.y=(data[array_name].astype(np.uint8))\n",
    "        self.keys=['Leather', 'Cork', 'wool', 'LacedMatt', 'Gfoam', 'Plastic', 'Carpet', 'bubble', 'Efoam', 'cotton', 'LongCarpet', 'Flat', 'felt', 'Jeans', 'Ffoam']\n",
    "\n",
    "        print(\"Dataset size:\",self.X.shape[0],\"\\nWindow size:\",self.X.shape[1],\"\\nImage:\",self.X.shape[2:])\n",
    "        print(\"Memory needed:\",round(getsizeof(self.X)/ 1024 / 1024/ 1024,2),\"GB\")\n",
    "        assert self.X.shape[0]==self.y.shape[0],\"Incorrect data size match y=\"+str(self.y.shape[0])+\" x=\"+str(self.X.shape[0])\n",
    "        self.X=self.X[:,0:t]\n",
    "        #randomize order\n",
    "        n_samples = self.X.shape[0]\n",
    "        indices = np.random.permutation(n_samples)\n",
    "        shuffled_data = self.X[indices]\n",
    "        shuffled_labels = self.y[indices]\n",
    "        self.X=shuffled_data\n",
    "        self.y=shuffled_labels\n",
    "    def shuffle(self):\n",
    "        n_samples = self.X.shape[0]\n",
    "        indices = np.random.permutation(n_samples)\n",
    "        shuffled_data = self.X[indices]\n",
    "        shuffled_labels = self.y[indices]\n",
    "        self.X=shuffled_data\n",
    "        self.y=shuffled_labels\n",
    "    def augment(self):\n",
    "        #create rotations\n",
    "        self.AugmentedX=np.zeros((len(self.X)*3,*self.X.shape[1:]),dtype=np.uint8)\n",
    "        self.Augmentedy=np.zeros_like(np.concatenate((self.y,self.y,self.y)))\n",
    "        for k,i in enumerate(range(0,len(self.AugmentedX),3)): #loop through the normal data and new data\n",
    "            for j in range(len(self.X[0])):\n",
    "                self.AugmentedX[i][j]=np.copy(self.X[k][j])\n",
    "                self.AugmentedX[i+1][j]=cv2.resize(cv2.rotate(self.X[k][j].copy(), cv2.ROTATE_90_CLOCKWISE),(self.X[k][j].shape[1],self.X[k][j].shape[0]),interpolation=cv2.INTER_AREA)\n",
    "                self.AugmentedX[i+2][j]=cv2.resize(cv2.rotate(self.X[k][j].copy(), cv2.ROTATE_180),(self.X[k][j].shape[1],self.X[k][j].shape[0]),interpolation=cv2.INTER_AREA)\n",
    "                self.Augmentedy[i+1]=self.y[k]\n",
    "                self.Augmentedy[i+2]=self.y[k]\n",
    "                self.Augmentedy[i]=self.y[k]\n",
    "                #self.AugmentedX[i+3][j]=cv2.rotate(self.X[k][j], cv2.ROTATE_90_COUNTERCLOCKWISE)\n",
    "        print(\"Dataset size:\",self.AugmentedX.shape[0],\"\\nWindow size:\",self.X.shape[1],\"\\nImage:\",self.X.shape[2:])\n",
    "        print(\"Memory needed:\",round(getsizeof(self.AugmentedX)/ 1024 / 1024/ 1024,2),\"GB\")\n",
    "        self.X = self.AugmentedX\n",
    "        self.y = self.Augmentedy\n",
    "        n_samples = self.X.shape[0]\n",
    "        indices = np.random.permutation(n_samples)\n",
    "        shuffled_data = self.X[indices]\n",
    "        shuffled_labels = self.y[indices]\n",
    "        self.X=shuffled_data\n",
    "        self.y=shuffled_labels\n",
    "        del self.AugmentedX\n",
    "        del self.Augmentedy\n",
    "    def applySobel(self):\n",
    "        for i in range(len(self.X)): #crop all images individually\n",
    "            for j in range(len(self.X[0])):\n",
    "                image=self.X[i][j]\n",
    "                # Apply Sobel filter in x-direction\n",
    "                sobel_x = cv2.Sobel(image, cv2.CV_64F, 1, 0, ksize=3)  # ksize=3 for a 3x3 Sobel kernel\n",
    "\n",
    "                # Apply Sobel filter in y-direction\n",
    "                sobel_y = cv2.Sobel(image, cv2.CV_64F, 0, 1, ksize=3)\n",
    "\n",
    "                # Convert the results back to uint8\n",
    "                sobel_x = np.uint8(np.absolute(sobel_x))\n",
    "                sobel_y = np.uint8(np.absolute(sobel_y))\n",
    "\n",
    "                # Combine the results to get the final edge-detected image\n",
    "                sobel_combined = cv2.bitwise_or(sobel_x, sobel_y)\n",
    "                self.X[i][j]=sobel_combined\n",
    "\n",
    "    def resize(self,percentage):\n",
    "        h=int(self.X.shape[2]*percentage)\n",
    "        w=int(self.X.shape[3]*percentage)\n",
    "        new_array=np.zeros((*self.X.shape[0:2],h,w))\n",
    "\n",
    "        for i in range(len(self.X)): #crop all images individually\n",
    "            for j in range(len(self.X[0])):\n",
    "                image=self.X[i][j]\n",
    "                iamge = cv2.resize(image,(w,h),interpolation=cv2.INTER_AREA)\n",
    "                new_array[i][j]=iamge\n",
    "        self.X=new_array.copy()\n",
    "#data=loaded(t=13)\n",
    "#data.applySobel()\n",
    "#data.augment()"
   ]
  },
  {
   "attachments": {},
   "cell_type": "markdown",
   "metadata": {},
   "source": [
    "# convert data labels to friction "
   ]
  },
  {
   "cell_type": "code",
   "execution_count": 80,
   "metadata": {},
   "outputs": [
    {
     "name": "stdout",
     "output_type": "stream",
     "text": [
      "Dataset size: 3000 \n",
      "Window size: 20 \n",
      "Image: (110, 120)\n",
      "Memory needed: 0.74 GB\n"
     ]
    }
   ],
   "source": [
    "data=loaded(t=4)\n",
    "data.applySobel()\n",
    "#data.augment()"
   ]
  },
  {
   "cell_type": "code",
   "execution_count": 17,
   "metadata": {},
   "outputs": [
    {
     "name": "stdout",
     "output_type": "stream",
     "text": [
      "(3000, 20, 16) (3000,)\n"
     ]
    }
   ],
   "source": [
    "data_ = np.load(datapath+\"X_data_presstip.npz\") #load data\n",
    "X=None\n",
    "for array_name in data_:\n",
    "    X=data_[array_name]\n",
    "X=(X* 3.3) / 65536 #convert to voltage\n",
    "data_ = np.load(datapath+\"y_data_presstip.npz\") #load data\n",
    "y=None\n",
    "for array_name in data_:\n",
    "    y=data_[array_name]\n",
    "print(X.shape,y.shape)\n"
   ]
  },
  {
   "cell_type": "code",
   "execution_count": 20,
   "metadata": {},
   "outputs": [],
   "source": [
    "def relabel(d):\n",
    "    global friction_dict\n",
    "    the_ys=d.copy().astype(np.float64)\n",
    "    labels = [\n",
    "        \"ffoam\", \"flat\", \"plastic\", \"leather\", \"cork\", \n",
    "        \"longcarpet\", \"carpet\", \"gfoam\", \"efoam\", \n",
    "        \"lacedmatt\", \"jeans\", \"wool\", \"bubble\", \"felt\", \"cotton\"\n",
    "    ]\n",
    "\n",
    "    # Corresponding friction values\n",
    "    values = [\n",
    "        0.923363636363636, 0.383908045977011, 0.354716981132075, \n",
    "        0.951428571428571, 0.642957746478873, 0.484507042253521, \n",
    "        0.323076923076923, 0.5125, 0.383787878787879, 0.37453125, \n",
    "        0.444262295081967, 0.2945, 0.484745762711864, 0.533898305084746, \n",
    "        0.6745\n",
    "    ]\n",
    "\n",
    "    # Creating the dictionary\n",
    "    friction_dict = dict(zip(labels, values))\n",
    "    friction_dict\n",
    "    keys=[x.lower() for x in data.keys]\n",
    "    for i in range(len(keys)):\n",
    "        friction=friction_dict[keys[i]]\n",
    "        the_ys[np.where(the_ys==i)[0]]=friction\n",
    "    return the_ys\n",
    "data.y=relabel(data.y)\n",
    "y=relabel(y)"
   ]
  },
  {
   "attachments": {},
   "cell_type": "markdown",
   "metadata": {},
   "source": [
    "# modelling\n",
    "\n",
    "## regression"
   ]
  },
  {
   "cell_type": "code",
   "execution_count": 28,
   "metadata": {},
   "outputs": [
    {
     "name": "stdout",
     "output_type": "stream",
     "text": [
      "Accuracy 42.833333333333336 %\n",
      "average loss 0.00795923870613888\n"
     ]
    }
   ],
   "source": [
    "#tactip\n",
    "alpha = 0.5  # Regularization parameter\n",
    "# Fit and transform the label data\n",
    "X_train, X_test, y_train, y_test = train_test_split(data.X.reshape((len(data.X),-1)),data.y, test_size=0.2, random_state=42)\n",
    "# Define the Ridge regression model\n",
    "ridge_model = Ridge(alpha=alpha)\n",
    "ridge_model.fit(X_train, y_train)\n",
    "predictions = ridge_model.predict(X_test)\n",
    "a=np.round(predictions,1)-np.round(y_test,1)\n",
    "correct=len(a[a==0])\n",
    "print(\"Accuracy\",correct/len(a)*100,\"%\")\n",
    "print(\"average loss\",np.sum(np.absolute(predictions-y_test))/len(predictions))\n"
   ]
  },
  {
   "cell_type": "code",
   "execution_count": 9,
   "metadata": {},
   "outputs": [
    {
     "name": "stdout",
     "output_type": "stream",
     "text": [
      "Dataset size: 3000 \n",
      "Window size: 20 \n",
      "Image: (110, 120)\n",
      "Memory needed: 0.74 GB\n",
      "Accuracy 52.416666666666664 %\n",
      "Dataset size: 3000 \n",
      "Window size: 20 \n",
      "Image: (110, 120)\n",
      "Memory needed: 0.74 GB\n",
      "Accuracy 79.25 %\n",
      "Dataset size: 3000 \n",
      "Window size: 20 \n",
      "Image: (110, 120)\n",
      "Memory needed: 0.74 GB\n",
      "Accuracy 87.29166666666667 %\n",
      "Dataset size: 3000 \n",
      "Window size: 20 \n",
      "Image: (110, 120)\n",
      "Memory needed: 0.74 GB\n",
      "Accuracy 93.66666666666667 %\n",
      "Dataset size: 3000 \n",
      "Window size: 20 \n",
      "Image: (110, 120)\n",
      "Memory needed: 0.74 GB\n",
      "Accuracy 100.0 %\n",
      "Dataset size: 3000 \n",
      "Window size: 20 \n",
      "Image: (110, 120)\n",
      "Memory needed: 0.74 GB\n",
      "Accuracy 100.0 %\n",
      "Dataset size: 3000 \n",
      "Window size: 20 \n",
      "Image: (110, 120)\n",
      "Memory needed: 0.74 GB\n",
      "Accuracy 100.0 %\n",
      "Dataset size: 3000 \n",
      "Window size: 20 \n",
      "Image: (110, 120)\n",
      "Memory needed: 0.74 GB\n",
      "Accuracy 100.0 %\n",
      "Dataset size: 3000 \n",
      "Window size: 20 \n",
      "Image: (110, 120)\n",
      "Memory needed: 0.74 GB\n",
      "Accuracy 100.0 %\n",
      "Dataset size: 3000 \n",
      "Window size: 20 \n",
      "Image: (110, 120)\n",
      "Memory needed: 0.74 GB\n",
      "Accuracy 100.0 %\n",
      "Dataset size: 3000 \n",
      "Window size: 20 \n",
      "Image: (110, 120)\n",
      "Memory needed: 0.74 GB\n",
      "Accuracy 100.0 %\n",
      "Dataset size: 3000 \n",
      "Window size: 20 \n",
      "Image: (110, 120)\n",
      "Memory needed: 0.74 GB\n",
      "Accuracy 100.0 %\n",
      "Dataset size: 3000 \n",
      "Window size: 20 \n",
      "Image: (110, 120)\n",
      "Memory needed: 0.74 GB\n",
      "Accuracy 100.0 %\n",
      "Dataset size: 3000 \n",
      "Window size: 20 \n",
      "Image: (110, 120)\n",
      "Memory needed: 0.74 GB\n",
      "Accuracy 100.0 %\n",
      "Dataset size: 3000 \n",
      "Window size: 20 \n",
      "Image: (110, 120)\n",
      "Memory needed: 0.74 GB\n",
      "Accuracy 100.0 %\n",
      "Dataset size: 3000 \n",
      "Window size: 20 \n",
      "Image: (110, 120)\n",
      "Memory needed: 0.74 GB\n",
      "Accuracy 100.0 %\n"
     ]
    }
   ],
   "source": [
    "#test res\n",
    "alpha=0.5\n",
    "resolutions=[0.05,0.1,0.15,0.2,0.25,0.3,0.35,0.4,0.45,0.5,0.55,0.6,0.7,0.8,0.9,1]\n",
    "acc_test=[]\n",
    "acc_train=[]\n",
    "loss_test=[]\n",
    "loss_train=[]\n",
    "\n",
    "for i, res in enumerate(resolutions):\n",
    "    #load data\n",
    "    data=loaded(t=4)\n",
    "    data.applySobel()\n",
    "    data.resize(res)\n",
    "    data.y=relabel(data.y)\n",
    "    X_train, X_test, y_train, y_test = train_test_split(data.X.reshape((len(data.X),-1)),data.y, test_size=0.2, random_state=42)\n",
    "    # Define the Ridge regression model\n",
    "    ridge_model = Ridge(alpha=alpha)\n",
    "    ridge_model.fit(X_train, y_train)\n",
    "    predictions = ridge_model.predict(X_test)\n",
    "    a=np.round(predictions,1)-np.round(y_test,1)\n",
    "    correct=len(a[a==0])\n",
    "    acc_test.append(correct/len(a)*100)\n",
    "    loss_test.append(np.sum(np.absolute(predictions-y_test))/len(predictions))\n",
    "    predictions = ridge_model.predict(X_train)\n",
    "    a=np.round(predictions,1)-np.round(y_train,1)\n",
    "    correct=len(a[a==0])\n",
    "    acc_train.append(correct/len(a)*100)\n",
    "    loss_train.append(np.sum(np.absolute(predictions-y_train))/len(predictions))\n",
    "\n",
    "    print(\"Accuracy\",correct/len(a)*100,\"%\")\n",
    "    \n",
    "    np.save(path+\"data/acc_test_regression_friction_\"+str(res).replace(\".\",\"-\"),np.array(acc_test))\n",
    "    np.save(path+\"data/acc_train_regression_friction_\"+str(res).replace(\".\",\"-\"),np.array(acc_train))\n",
    "    np.save(path+\"data/loss_test_regression_friction_\"+str(res).replace(\".\",\"-\"),np.array(loss_test))\n",
    "    np.save(path+\"data/loss_train_regression_friction_\"+str(res).replace(\".\",\"-\"),np.array(loss_train))\n"
   ]
  },
  {
   "cell_type": "code",
   "execution_count": 15,
   "metadata": {},
   "outputs": [
    {
     "data": {
      "image/png": "[encoded data removed]",
      "text/plain": [
       "<Figure size 640x480 with 1 Axes>"
      ]
     },
     "metadata": {},
     "output_type": "display_data"
    }
   ],
   "source": [
    "#plt.plot(acc_test,label=\"Test\")\n",
    "#plt.plot(acc_train,label=\"Train\")\n",
    "plt.plot(loss_test,label=\"Test\")\n",
    "plt.plot(loss_train,label=\"Train\")\n",
    "plt.legend()\n",
    "plt.grid(True)\n",
    "plt.title(\"Loss of classifier vs resolution\")\n",
    "plt.ylabel(\"Accuracy (%)\")\n",
    "plt.xlabel(\"Resolution\")\n",
    "plt.xticks([i for i in range(len(acc_train))],resolutions)\n",
    "plt.savefig(path+\"/images/resolutionfrictionloss.pdf\")\n",
    "plt.show()"
   ]
  },
  {
   "cell_type": "code",
   "execution_count": 26,
   "metadata": {},
   "outputs": [
    {
     "name": "stdout",
     "output_type": "stream",
     "text": [
      "Accuracy 23.166666666666664 %\n",
      "average loss 0.14115648097314656\n"
     ]
    }
   ],
   "source": [
    "# presstip\n",
    "alpha = 0.5  # Regularization parameter\n",
    "# Fit and transform the label data\n",
    "piezoeelectric=X[:,8]\n",
    "accelerometer=X[:,9:12]\n",
    "both=X[:,8:12]\n",
    "X_train, X_test, y_train, y_test = train_test_split(piezoeelectric.reshape((len(X),-1)),y, test_size=0.2, random_state=42)\n",
    "# Define the Ridge regression model\n",
    "ridge_model = Ridge(alpha=alpha)\n",
    "ridge_model.fit(X_train, y_train)\n",
    "predictions = ridge_model.predict(X_test)\n",
    "a=np.round(predictions,1)-np.round(y_test,1)\n",
    "correct=len(a[a==0])\n",
    "print(\"Accuracy\",correct/len(a)*100,\"%\")\n",
    "print(\"average loss\",np.sum(np.absolute(predictions-y_test))/len(predictions))\n"
   ]
  },
  {
   "cell_type": "code",
   "execution_count": 51,
   "metadata": {},
   "outputs": [
    {
     "name": "stderr",
     "output_type": "stream",
     "text": [
      "/tmp/ipykernel_3929/1392950122.py:2: MatplotlibDeprecationWarning: The get_cmap function was deprecated in Matplotlib 3.7 and will be removed in 3.11. Use ``matplotlib.colormaps[name]`` or ``matplotlib.colormaps.get_cmap()`` or ``pyplot.get_cmap()`` instead.\n",
      "  colours = plt.cm.get_cmap('tab20', 15).colors  # 15 distinct colors for the 15 materials\n",
      "/tmp/ipykernel_3929/1392950122.py:10: UserWarning: *c* argument looks like a single numeric RGB or RGBA sequence, which should be avoided as value-mapping will have precedence in case its length matches with *x* & *y*.  Please use the *color* keyword-argument or provide a 2D array with a single row if you intend to specify the same RGB or RGBA value for all points.\n",
      "  plt.scatter(predictions[i],y_test[i],c=colours[dict_[class_]],label=class_)\n",
      "/tmp/ipykernel_3929/1392950122.py:8: UserWarning: *c* argument looks like a single numeric RGB or RGBA sequence, which should be avoided as value-mapping will have precedence in case its length matches with *x* & *y*.  Please use the *color* keyword-argument or provide a 2D array with a single row if you intend to specify the same RGB or RGBA value for all points.\n",
      "  plt.scatter(predictions[i],y_test[i],c=colours[dict_[class_]])\n"
     ]
    },
    {
     "data": {
      "image/png": "[encoded data removed]",
      "text/plain": [
       "<Figure size 640x480 with 1 Axes>"
      ]
     },
     "metadata": {},
     "output_type": "display_data"
    }
   ],
   "source": [
    "\n",
    "reveresed={np.round(v,5): k for k, v in friction_dict.items()}\n",
    "colours = plt.cm.get_cmap('tab20', 15).colors  # 15 distinct colors for the 15 materials\n",
    "dict_={v[1]: i for i,v in enumerate(reveresed.items())}\n",
    "found=[]\n",
    "for i in range(len(y_test)):\n",
    "    class_=reveresed[np.round(y_test[i],5)]\n",
    "    if class_ in found:\n",
    "        plt.scatter(predictions[i],y_test[i],c=colours[dict_[class_]])\n",
    "    else:\n",
    "        plt.scatter(predictions[i],y_test[i],c=colours[dict_[class_]],label=class_)\n",
    "        found.append(class_)\n",
    "\n",
    "\n",
    "plt.legend(loc='center left', bbox_to_anchor=(1, 0.5))\n",
    "plt.title(\"Friction Regression Predictions (TacTip)\")\n",
    "plt.xlabel(\"Predicted friction coefficient\")\n",
    "plt.ylabel(\"Actual friction coefficient\")\n",
    "plt.xlim([0,1])\n",
    "plt.ylim([0,1])\n",
    "plt.tight_layout()  # Adds space on the right for the legend\n",
    "plt.savefig(path+\"/images/friction_optical_unseen.pdf\")\n",
    "plt.show()"
   ]
  },
  {
   "attachments": {},
   "cell_type": "markdown",
   "metadata": {},
   "source": [
    "### take out some textures"
   ]
  },
  {
   "cell_type": "code",
   "execution_count": 50,
   "metadata": {},
   "outputs": [
    {
     "name": "stdout",
     "output_type": "stream",
     "text": [
      "(800, 4, 110, 120) (2200, 4, 110, 120)\n",
      "Accuracy 25.0 %\n",
      "average loss 0.31186350046694505\n"
     ]
    }
   ],
   "source": [
    "#tactip\n",
    "alpha = 0.5  # Regularization parameter\n",
    "# Fit and transform the label data\n",
    "reveresed_segment={np.round(v,5): k for k, v in take(4,friction_dict.items())}\n",
    "new_dataX=[]\n",
    "old_dataX=[]\n",
    "new_datay=[]\n",
    "old_datay=[]\n",
    "for i in range(len(data.X)):\n",
    "    if np.round(data.y[i],5) in list(reveresed_segment.keys()):\n",
    "        new_datay.append(data.y[i])\n",
    "        new_dataX.append(data.X[i])\n",
    "\n",
    "    else:\n",
    "        old_datay.append(data.y[i])\n",
    "        old_dataX.append(data.X[i])\n",
    "\n",
    "new_dataX=np.array(new_dataX)\n",
    "new_datay=np.array(new_datay)\n",
    "old_dataX=np.array(old_dataX)\n",
    "old_datay=np.array(old_datay)\n",
    "print(new_dataX.shape,old_dataX.shape)\n",
    "new_dataX=new_dataX.reshape(len(new_dataX),-1)\n",
    "old_dataX=old_dataX.reshape(len(old_dataX),-1)\n",
    "# Define the Ridge regression model\n",
    "ridge_model = Ridge(alpha=alpha)\n",
    "ridge_model.fit(old_dataX, old_datay)\n",
    "predictions = ridge_model.predict(new_dataX)\n",
    "a=np.round(predictions,1)-np.round(new_datay,1)\n",
    "correct=len(a[a==0])\n",
    "print(\"Accuracy\",correct/len(a)*100,\"%\")\n",
    "print(\"average loss\",np.sum(np.absolute(predictions-new_datay))/len(predictions))\n",
    "y_test=new_datay"
   ]
  },
  {
   "attachments": {},
   "cell_type": "markdown",
   "metadata": {},
   "source": [
    "## neural"
   ]
  },
  {
   "cell_type": "code",
   "execution_count": 43,
   "metadata": {},
   "outputs": [
    {
     "name": "stdout",
     "output_type": "stream",
     "text": [
      "(800, 4, 110, 120) (2200, 4, 110, 120)\n"
     ]
    }
   ],
   "source": []
  }
 ],
 "metadata": {
  "kernelspec": {
   "display_name": "base",
   "language": "python",
   "name": "python3"
  },
  "language_info": {
   "codemirror_mode": {
    "name": "ipython",
    "version": 3
   },
   "file_extension": ".py",
   "mimetype": "text/x-python",
   "name": "python",
   "nbconvert_exporter": "python",
   "pygments_lexer": "ipython3",
   "version": "3.10.8"
  },
  "orig_nbformat": 4
 },
 "nbformat": 4,
 "nbformat_minor": 2
}
