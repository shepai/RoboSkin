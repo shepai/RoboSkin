{
 "cells": [
  {
   "cell_type": "markdown",
   "id": "3d5b452d",
   "metadata": {},
   "source": [
    "# Experiments for the marker morphologies"
   ]
  },
  {
   "cell_type": "markdown",
   "id": "ab4ae1d8",
   "metadata": {},
   "source": [
    "## dataset sorting\n",
    "### load in the data from kaggle"
   ]
  },
  {
   "cell_type": "code",
   "execution_count": 1,
   "id": "88bea2d7",
   "metadata": {},
   "outputs": [
    {
     "name": "stderr",
     "output_type": "stream",
     "text": [
      "/its/home/drs25/.local/lib/python3.10/site-packages/tqdm/auto.py:21: TqdmWarning: IProgress not found. Please update jupyter and ipywidgets. See https://ipywidgets.readthedocs.io/en/stable/user_install.html\n",
      "  from .autonotebook import tqdm as notebook_tqdm\n"
     ]
    },
    {
     "name": "stdout",
     "output_type": "stream",
     "text": [
      "Path to dataset files: /its/home/drs25/.cache/kagglehub/datasets/dextershepherd/tactip-alternative-morphology-b/versions/1\n"
     ]
    }
   ],
   "source": [
    "import kagglehub\n",
    "#to import the data we will use the open datasets library #we place the link copied from Kaggle into the parameter of the download function\n",
    "path = kagglehub.dataset_download(\"dextershepherd/tactip-alternative-morphology-b\")\n",
    "# Download latest version\n",
    "print(\"Path to dataset files:\", path)"
   ]
  },
  {
   "cell_type": "markdown",
   "id": "ee971348",
   "metadata": {},
   "source": [
    "### convert it all"
   ]
  },
  {
   "cell_type": "code",
   "execution_count": null,
   "id": "a71c7456",
   "metadata": {},
   "outputs": [
    {
     "name": "stdout",
     "output_type": "stream",
     "text": [
      "{'carpet': 0, 'lacedmatt': 1, 'wool': 2, 'cork': 3, 'felt': 4, 'longcarpet': 5, 'cotton': 6, 'plastic': 7, 'flat': 8, 'foamf': 9, 'foamg': 10, 'bubble': 11, 'foame': 12, 'jeans': 13, 'leather': 14, 'efoam': 15, 'gfoam': 16, 'ffoam': 17} ['/its/home/drs25/.cache/kagglehub/datasets/dextershepherd/tactip-alternative-morphology-b/versions/1/TTB_EFoam_P80.npy', '/its/home/drs25/.cache/kagglehub/datasets/dextershepherd/tactip-alternative-morphology-b/versions/1/TTB_Cork_P100.npy', '/its/home/drs25/.cache/kagglehub/datasets/dextershepherd/tactip-alternative-morphology-b/versions/1/TTB_bubble_P60.npy', '/its/home/drs25/.cache/kagglehub/datasets/dextershepherd/tactip-alternative-morphology-b/versions/1/TTB_Carpet_P80.npy', '/its/home/drs25/.cache/kagglehub/datasets/dextershepherd/tactip-alternative-morphology-b/versions/1/TTB_LongCarpet_P80.npy', '/its/home/drs25/.cache/kagglehub/datasets/dextershepherd/tactip-alternative-morphology-b/versions/1/TTB_flat_P100.npy', '/its/home/drs25/.cache/kagglehub/datasets/dextershepherd/tactip-alternative-morphology-b/versions/1/TTB_bubble_P100.npy', '/its/home/drs25/.cache/kagglehub/datasets/dextershepherd/tactip-alternative-morphology-b/versions/1/TTB_Jeans_P80.npy', '/its/home/drs25/.cache/kagglehub/datasets/dextershepherd/tactip-alternative-morphology-b/versions/1/TTB_Cotton_P60.npy', '/its/home/drs25/.cache/kagglehub/datasets/dextershepherd/tactip-alternative-morphology-b/versions/1/TTB_Jeans_P60.npy', '/its/home/drs25/.cache/kagglehub/datasets/dextershepherd/tactip-alternative-morphology-b/versions/1/TTB_Felt_P80.npy', '/its/home/drs25/.cache/kagglehub/datasets/dextershepherd/tactip-alternative-morphology-b/versions/1/TTB_LongCarpet_P100.npy', '/its/home/drs25/.cache/kagglehub/datasets/dextershepherd/tactip-alternative-morphology-b/versions/1/TTB_Leather_P80.npy', '/its/home/drs25/.cache/kagglehub/datasets/dextershepherd/tactip-alternative-morphology-b/versions/1/TTB_Felt_P100.npy', '/its/home/drs25/.cache/kagglehub/datasets/dextershepherd/tactip-alternative-morphology-b/versions/1/TTB_GFoam_P100.npy', '/its/home/drs25/.cache/kagglehub/datasets/dextershepherd/tactip-alternative-morphology-b/versions/1/TTB_LongCarpet_P60.npy', '/its/home/drs25/.cache/kagglehub/datasets/dextershepherd/tactip-alternative-morphology-b/versions/1/TTB_Cotton_P100.npy', '/its/home/drs25/.cache/kagglehub/datasets/dextershepherd/tactip-alternative-morphology-b/versions/1/TTB_Plastic_P80.npy', '/its/home/drs25/.cache/kagglehub/datasets/dextershepherd/tactip-alternative-morphology-b/versions/1/TTB_bubble_P80.npy', '/its/home/drs25/.cache/kagglehub/datasets/dextershepherd/tactip-alternative-morphology-b/versions/1/TTB_Jeans_P100.npy', '/its/home/drs25/.cache/kagglehub/datasets/dextershepherd/tactip-alternative-morphology-b/versions/1/TTB_Cork_P60.npy', '/its/home/drs25/.cache/kagglehub/datasets/dextershepherd/tactip-alternative-morphology-b/versions/1/TTB_flat_P60.npy', '/its/home/drs25/.cache/kagglehub/datasets/dextershepherd/tactip-alternative-morphology-b/versions/1/TTB_Cotton_P80.npy', '/its/home/drs25/.cache/kagglehub/datasets/dextershepherd/tactip-alternative-morphology-b/versions/1/TTB_LacedMatt_P60.npy', '/its/home/drs25/.cache/kagglehub/datasets/dextershepherd/tactip-alternative-morphology-b/versions/1/TTB_EFoam_P60.npy', '/its/home/drs25/.cache/kagglehub/datasets/dextershepherd/tactip-alternative-morphology-b/versions/1/TTB_GFoam_P60.npy', '/its/home/drs25/.cache/kagglehub/datasets/dextershepherd/tactip-alternative-morphology-b/versions/1/TTB_LacedMatt_P80.npy', '/its/home/drs25/.cache/kagglehub/datasets/dextershepherd/tactip-alternative-morphology-b/versions/1/TTB_EFoam_P100.npy', '/its/home/drs25/.cache/kagglehub/datasets/dextershepherd/tactip-alternative-morphology-b/versions/1/TTB_Carpet_P60.npy', '/its/home/drs25/.cache/kagglehub/datasets/dextershepherd/tactip-alternative-morphology-b/versions/1/TTB_FFoam_P60.npy', '/its/home/drs25/.cache/kagglehub/datasets/dextershepherd/tactip-alternative-morphology-b/versions/1/TTB_GFoam_P80.npy', '/its/home/drs25/.cache/kagglehub/datasets/dextershepherd/tactip-alternative-morphology-b/versions/1/TTB_Carpet_P100.npy', '/its/home/drs25/.cache/kagglehub/datasets/dextershepherd/tactip-alternative-morphology-b/versions/1/TTB_Felt_P60.npy', '/its/home/drs25/.cache/kagglehub/datasets/dextershepherd/tactip-alternative-morphology-b/versions/1/TTB_flat_P80.npy', '/its/home/drs25/.cache/kagglehub/datasets/dextershepherd/tactip-alternative-morphology-b/versions/1/TTB_FFoam_P100.npy', '/its/home/drs25/.cache/kagglehub/datasets/dextershepherd/tactip-alternative-morphology-b/versions/1/TTB_Leather_P100.npy', '/its/home/drs25/.cache/kagglehub/datasets/dextershepherd/tactip-alternative-morphology-b/versions/1/TTB_Leather_P60.npy', '/its/home/drs25/.cache/kagglehub/datasets/dextershepherd/tactip-alternative-morphology-b/versions/1/TTB_FFoam_P80.npy', '/its/home/drs25/.cache/kagglehub/datasets/dextershepherd/tactip-alternative-morphology-b/versions/1/TTB_Plastic_P100.npy', '/its/home/drs25/.cache/kagglehub/datasets/dextershepherd/tactip-alternative-morphology-b/versions/1/TTB_Cork_P80.npy', '/its/home/drs25/.cache/kagglehub/datasets/dextershepherd/tactip-alternative-morphology-b/versions/1/TTB_LacedMatt_P100.npy', '/its/home/drs25/.cache/kagglehub/datasets/dextershepherd/tactip-alternative-morphology-b/versions/1/TTB_Plastic_P60.npy']\n"
     ]
    },
    {
     "name": "stdout",
     "output_type": "stream",
     "text": [
      "expected shape (200, 20, 355, 328)\n",
      "issue with /its/home/drs25/.cache/kagglehub/datasets/dextershepherd/tactip-alternative-morphology-b/versions/1/TTB_GFoam_P100.npy\n",
      "required size: 19096160000\n",
      "processing... TTB_EFoam_P80.npy\n",
      "processing... TTB_Cork_P100.npy\n",
      "processing... TTB_bubble_P60.npy\n",
      "processing... TTB_Carpet_P80.npy\n",
      "processing... TTB_LongCarpet_P80.npy\n",
      "processing... TTB_flat_P100.npy\n",
      "processing... TTB_bubble_P100.npy\n",
      "processing... TTB_Jeans_P80.npy\n",
      "processing... TTB_Cotton_P60.npy\n",
      "processing... TTB_Jeans_P60.npy\n",
      "processing... TTB_Felt_P80.npy\n",
      "processing... TTB_LongCarpet_P100.npy\n",
      "processing... TTB_Leather_P80.npy\n",
      "processing... TTB_Felt_P100.npy\n",
      "processing... TTB_LongCarpet_P60.npy\n",
      "processing... TTB_Cotton_P100.npy\n",
      "processing... TTB_Plastic_P80.npy\n",
      "processing... TTB_bubble_P80.npy\n",
      "processing... TTB_Jeans_P100.npy\n",
      "processing... TTB_Cork_P60.npy\n",
      "processing... TTB_flat_P60.npy\n",
      "processing... TTB_Cotton_P80.npy\n",
      "processing... TTB_LacedMatt_P60.npy\n",
      "processing... TTB_EFoam_P60.npy\n",
      "processing... TTB_GFoam_P60.npy\n",
      "processing... TTB_LacedMatt_P80.npy\n",
      "processing... TTB_EFoam_P100.npy\n",
      "processing... TTB_Carpet_P60.npy\n",
      "processing... TTB_FFoam_P60.npy\n",
      "processing... TTB_GFoam_P80.npy\n",
      "processing... TTB_Carpet_P100.npy\n",
      "processing... TTB_Felt_P60.npy\n",
      "processing... TTB_flat_P80.npy\n",
      "processing... TTB_FFoam_P100.npy\n",
      "processing... TTB_Leather_P100.npy\n",
      "processing... TTB_Leather_P60.npy\n",
      "processing... TTB_FFoam_P80.npy\n",
      "processing... TTB_Plastic_P100.npy\n",
      "processing... TTB_Cork_P80.npy\n",
      "processing... TTB_LacedMatt_P100.npy\n",
      "processing... TTB_Plastic_P60.npy\n"
     ]
    }
   ],
   "source": [
    "from convert.convert_data import *\n",
    "save_path=\"/its/home/drs25/RoboSkin/Code/NewRigExperiments/optical-tactile-dataset-for-textures/\"\n",
    "final_data,final_labels=load_files_memory_efficient(path+\"/\")\n",
    "import numpy as np\n",
    "np.save(save_path+\"X_data_morphoholyB\",final_data)\n",
    "np.save(save_path+\"y_data_morphoholyB\",final_labels)"
   ]
  },
  {
   "cell_type": "markdown",
   "id": "747a4b35",
   "metadata": {},
   "source": [
    "### Load"
   ]
  },
  {
   "cell_type": "code",
   "execution_count": 1,
   "id": "9eba73e9",
   "metadata": {},
   "outputs": [
    {
     "name": "stdout",
     "output_type": "stream",
     "text": [
      "(8200, 20, 355, 328)\n"
     ]
    }
   ],
   "source": [
    "import numpy as np\n",
    "save_path=\"/its/home/drs25/RoboSkin/Code/NewRigExperiments/optical-tactile-dataset-for-textures/\"\n",
    "\n",
    "XB=np.load(save_path+\"X_data_morphoholyB.npy\").reshape((41*200,20,355,328))\n",
    "yB=np.load(save_path+\"y_data_morphoholyB.npy\")\n",
    "print(XB.shape)"
   ]
  },
  {
   "cell_type": "markdown",
   "id": "8c46744d",
   "metadata": {},
   "source": [
    "## modelling"
   ]
  },
  {
   "cell_type": "code",
   "execution_count": null,
   "id": "117381e6",
   "metadata": {},
   "outputs": [
    {
     "name": "stdout",
     "output_type": "stream",
     "text": [
      "Using device: cuda\n",
      "Using device: cuda\n",
      "(8200, 7, 355, 328)\n",
      "LOADED DATASET...\n",
      "Memory left 23.59 GB\n",
      "(8200, 7, 355, 328) (8200, 1, 2485, 328)\n",
      "Using 49.8 GB\n",
      "torch.Size([8200, 1, 2485, 328])\n",
      "torch.Size([8200, 1])\n"
     ]
    },
    {
     "name": "stderr",
     "output_type": "stream",
     "text": [
      "/its/home/drs25/RoboSkin/Code/NewRigExperiments/data_format.py:96: UserWarning: To copy construct from a tensor, it is recommended to use sourceTensor.clone().detach() or sourceTensor.clone().detach().requires_grad_(True), rather than torch.tensor(sourceTensor).\n",
      "  train_labels_tensor = torch.tensor(one_hot_labels, dtype=torch.float32)#.to(device)\n"
     ]
    },
    {
     "name": "stdout",
     "output_type": "stream",
     "text": [
      "Epoch [1/100], Step [164/164], Loss: 0.0000\n"
     ]
    }
   ],
   "source": [
    "import torch\n",
    "from models import *\n",
    "from data_loader import * \n",
    "from data_format import *\n",
    "from datapath import *\n",
    "\n",
    "class data_example(loaded):\n",
    "    def __init__(self,x,y):\n",
    "        self.X=x\n",
    "        self.y=y\n",
    "data=data_example(XB[:,:7,:,:],yB)\n",
    "print(data.X.shape)\n",
    "torch.cuda.empty_cache()\n",
    "train_loader,test_loader=org_data(data,(len(data.X),1,7*355,328))\n",
    "model,history=run(train_loader,0,4,num_epochs = 100)"
   ]
  },
  {
   "cell_type": "code",
   "execution_count": null,
   "id": "010842f3",
   "metadata": {},
   "outputs": [],
   "source": [
    "XB_accuracy=[]\n",
    "for i in range(20):\n",
    "    del train_loader,test_loader\n",
    "    train_loader,test_loader=org_data(data,data.X.shape,2000)\n",
    "    model,history=run(train_loader,0,4,num_epochs = 100)\n",
    "    XB_accuracy.append([])"
   ]
  }
 ],
 "metadata": {
  "kernelspec": {
   "display_name": "Python 3",
   "language": "python",
   "name": "python3"
  },
  "language_info": {
   "codemirror_mode": {
    "name": "ipython",
    "version": 3
   },
   "file_extension": ".py",
   "mimetype": "text/x-python",
   "name": "python",
   "nbconvert_exporter": "python",
   "pygments_lexer": "ipython3",
   "version": "3.10.12"
  }
 },
 "nbformat": 4,
 "nbformat_minor": 5
}
