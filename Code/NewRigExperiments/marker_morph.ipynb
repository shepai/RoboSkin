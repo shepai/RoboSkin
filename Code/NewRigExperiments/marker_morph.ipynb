{
 "cells": [
  {
   "cell_type": "markdown",
   "id": "3d5b452d",
   "metadata": {},
   "source": [
    "# Experiments for the marker morphologies"
   ]
  },
  {
   "cell_type": "markdown",
   "id": "ab4ae1d8",
   "metadata": {},
   "source": [
    "## dataset sorting\n",
    "### load in the data from kaggle"
   ]
  },
  {
   "cell_type": "code",
   "execution_count": 1,
   "id": "88bea2d7",
   "metadata": {},
   "outputs": [
    {
     "name": "stderr",
     "output_type": "stream",
     "text": [
      "/its/home/drs25/.local/lib/python3.10/site-packages/tqdm/auto.py:21: TqdmWarning: IProgress not found. Please update jupyter and ipywidgets. See https://ipywidgets.readthedocs.io/en/stable/user_install.html\n",
      "  from .autonotebook import tqdm as notebook_tqdm\n"
     ]
    },
    {
     "ename": "KaggleApiHTTPError",
     "evalue": "400 Client Error: Bad Request for url: https://www.kaggle.com/api/v1/datasets/download/dextershepherd/tactip-morphology-a-texture?dataset_version_number=3&file_name=/mnt/data0/drs25/data/",
     "output_type": "error",
     "traceback": [
      "\u001b[0;31m---------------------------------------------------------------------------\u001b[0m",
      "\u001b[0;31mHTTPError\u001b[0m                                 Traceback (most recent call last)",
      "File \u001b[0;32m~/.local/lib/python3.10/site-packages/kagglehub/exceptions.py:66\u001b[0m, in \u001b[0;36mkaggle_api_raise_for_status\u001b[0;34m(response, resource_handle)\u001b[0m\n\u001b[1;32m     65\u001b[0m \u001b[39mtry\u001b[39;00m:\n\u001b[0;32m---> 66\u001b[0m     response\u001b[39m.\u001b[39;49mraise_for_status()\n\u001b[1;32m     67\u001b[0m \u001b[39mexcept\u001b[39;00m requests\u001b[39m.\u001b[39mHTTPError \u001b[39mas\u001b[39;00m e:\n",
      "File \u001b[0;32m/usr/lib/python3/dist-packages/requests/models.py:943\u001b[0m, in \u001b[0;36mResponse.raise_for_status\u001b[0;34m(self)\u001b[0m\n\u001b[1;32m    942\u001b[0m \u001b[39mif\u001b[39;00m http_error_msg:\n\u001b[0;32m--> 943\u001b[0m     \u001b[39mraise\u001b[39;00m HTTPError(http_error_msg, response\u001b[39m=\u001b[39m\u001b[39mself\u001b[39m)\n",
      "\u001b[0;31mHTTPError\u001b[0m: 400 Client Error: Bad Request for url: https://www.kaggle.com/api/v1/datasets/download/dextershepherd/tactip-morphology-a-texture?dataset_version_number=3&file_name=/mnt/data0/drs25/data/",
      "\nThe above exception was the direct cause of the following exception:\n",
      "\u001b[0;31mKaggleApiHTTPError\u001b[0m                        Traceback (most recent call last)",
      "Cell \u001b[0;32mIn[1], line 5\u001b[0m\n\u001b[1;32m      1\u001b[0m \u001b[39mimport\u001b[39;00m \u001b[39mkagglehub\u001b[39;00m\n\u001b[1;32m      2\u001b[0m \u001b[39m#to import the data we will use the open datasets library #we place the link copied from Kaggle into the parameter of the download function\u001b[39;00m\n\u001b[1;32m      3\u001b[0m \u001b[39m#pathB = kagglehub.dataset_download(\"dextershepherd/tactip-alternative-morphology-b\")\u001b[39;00m\n\u001b[1;32m      4\u001b[0m \u001b[39m#pathnm = kagglehub.dataset_download(\"dextershepherd/no-marker-tactip-only-glare\")\u001b[39;00m\n\u001b[0;32m----> 5\u001b[0m pathA \u001b[39m=\u001b[39m kagglehub\u001b[39m.\u001b[39;49mdataset_download(\u001b[39m\"\u001b[39;49m\u001b[39mdextershepherd/tactip-morphology-a-texture\u001b[39;49m\u001b[39m\"\u001b[39;49m,path\u001b[39m=\u001b[39;49m\u001b[39m\"\u001b[39;49m\u001b[39m/mnt/data0/drs25/data/\u001b[39;49m\u001b[39m\"\u001b[39;49m)\n\u001b[1;32m      6\u001b[0m \u001b[39m# Download latest version\u001b[39;00m\n\u001b[1;32m      7\u001b[0m \u001b[39mprint\u001b[39m(\u001b[39m\"\u001b[39m\u001b[39mPath to dataset files:\u001b[39m\u001b[39m\"\u001b[39m, path)\n",
      "File \u001b[0;32m~/.local/lib/python3.10/site-packages/kagglehub/datasets.py:43\u001b[0m, in \u001b[0;36mdataset_download\u001b[0;34m(handle, path, force_download)\u001b[0m\n\u001b[1;32m     41\u001b[0m h \u001b[39m=\u001b[39m parse_dataset_handle(handle)\n\u001b[1;32m     42\u001b[0m logger\u001b[39m.\u001b[39minfo(\u001b[39mf\u001b[39m\u001b[39m\"\u001b[39m\u001b[39mDownloading Dataset: \u001b[39m\u001b[39m{\u001b[39;00mh\u001b[39m.\u001b[39mto_url()\u001b[39m}\u001b[39;00m\u001b[39m ...\u001b[39m\u001b[39m\"\u001b[39m, extra\u001b[39m=\u001b[39m{\u001b[39m*\u001b[39m\u001b[39m*\u001b[39mEXTRA_CONSOLE_BLOCK})\n\u001b[0;32m---> 43\u001b[0m path, _ \u001b[39m=\u001b[39m registry\u001b[39m.\u001b[39;49mdataset_resolver(h, path, force_download\u001b[39m=\u001b[39;49mforce_download)\n\u001b[1;32m     44\u001b[0m \u001b[39mreturn\u001b[39;00m path\n",
      "File \u001b[0;32m~/.local/lib/python3.10/site-packages/kagglehub/registry.py:28\u001b[0m, in \u001b[0;36mMultiImplRegistry.__call__\u001b[0;34m(self, *args, **kwargs)\u001b[0m\n\u001b[1;32m     26\u001b[0m \u001b[39mfor\u001b[39;00m impl \u001b[39min\u001b[39;00m \u001b[39mreversed\u001b[39m(\u001b[39mself\u001b[39m\u001b[39m.\u001b[39m_impls):\n\u001b[1;32m     27\u001b[0m     \u001b[39mif\u001b[39;00m impl\u001b[39m.\u001b[39mis_supported(\u001b[39m*\u001b[39margs, \u001b[39m*\u001b[39m\u001b[39m*\u001b[39mkwargs):\n\u001b[0;32m---> 28\u001b[0m         \u001b[39mreturn\u001b[39;00m impl(\u001b[39m*\u001b[39;49margs, \u001b[39m*\u001b[39;49m\u001b[39m*\u001b[39;49mkwargs)\n\u001b[1;32m     29\u001b[0m     \u001b[39melse\u001b[39;00m:\n\u001b[1;32m     30\u001b[0m         fails\u001b[39m.\u001b[39mappend(\u001b[39mtype\u001b[39m(impl)\u001b[39m.\u001b[39m\u001b[39m__name__\u001b[39m)\n",
      "File \u001b[0;32m~/.local/lib/python3.10/site-packages/kagglehub/resolver.py:29\u001b[0m, in \u001b[0;36mResolver.__call__\u001b[0;34m(self, handle, path, force_download)\u001b[0m\n\u001b[1;32m     15\u001b[0m \u001b[39mdef\u001b[39;00m \u001b[39m__call__\u001b[39m(\n\u001b[1;32m     16\u001b[0m     \u001b[39mself\u001b[39m, handle: T, path: Optional[\u001b[39mstr\u001b[39m] \u001b[39m=\u001b[39m \u001b[39mNone\u001b[39;00m, \u001b[39m*\u001b[39m, force_download: Optional[\u001b[39mbool\u001b[39m] \u001b[39m=\u001b[39m \u001b[39mFalse\u001b[39;00m\n\u001b[1;32m     17\u001b[0m ) \u001b[39m-\u001b[39m\u001b[39m>\u001b[39m \u001b[39mtuple\u001b[39m[\u001b[39mstr\u001b[39m, Optional[\u001b[39mint\u001b[39m]]:\n\u001b[1;32m     18\u001b[0m \u001b[39m    \u001b[39m\u001b[39m\"\"\"Resolves a handle into a path with the requested file(s) and the resource's version number.\u001b[39;00m\n\u001b[1;32m     19\u001b[0m \n\u001b[1;32m     20\u001b[0m \u001b[39m    Args:\u001b[39;00m\n\u001b[0;32m   (...)\u001b[0m\n\u001b[1;32m     27\u001b[0m \u001b[39m        Some cases where version number might be missing: Competition datasource, API-based models.\u001b[39;00m\n\u001b[1;32m     28\u001b[0m \u001b[39m    \"\"\"\u001b[39;00m\n\u001b[0;32m---> 29\u001b[0m     path, version \u001b[39m=\u001b[39m \u001b[39mself\u001b[39;49m\u001b[39m.\u001b[39;49m_resolve(handle, path, force_download\u001b[39m=\u001b[39;49mforce_download)\n\u001b[1;32m     31\u001b[0m     \u001b[39m# Note handles are immutable, so _resolve() could not have altered our reference\u001b[39;00m\n\u001b[1;32m     32\u001b[0m     register_datasource_access(handle, version)\n",
      "File \u001b[0;32m~/.local/lib/python3.10/site-packages/kagglehub/http_resolver.py:122\u001b[0m, in \u001b[0;36mDatasetHttpResolver._resolve\u001b[0;34m(self, h, path, force_download)\u001b[0m\n\u001b[1;32m    119\u001b[0m \u001b[39mif\u001b[39;00m path:\n\u001b[1;32m    120\u001b[0m     \u001b[39m# Downloading a single file.\u001b[39;00m\n\u001b[1;32m    121\u001b[0m     os\u001b[39m.\u001b[39mmakedirs(os\u001b[39m.\u001b[39mpath\u001b[39m.\u001b[39mdirname(out_path), exist_ok\u001b[39m=\u001b[39m\u001b[39mTrue\u001b[39;00m)\n\u001b[0;32m--> 122\u001b[0m     api_client\u001b[39m.\u001b[39;49mdownload_file(url_path, out_path, h, extract_auto_compressed_file\u001b[39m=\u001b[39;49m\u001b[39mTrue\u001b[39;49;00m)\n\u001b[1;32m    123\u001b[0m \u001b[39melse\u001b[39;00m:\n\u001b[1;32m    124\u001b[0m     \u001b[39m# TODO(b/345800027) Implement parallel download when < 25 files in databundle.\u001b[39;00m\n\u001b[1;32m    125\u001b[0m     \u001b[39m# Downloading the full archived bundle.\u001b[39;00m\n\u001b[1;32m    126\u001b[0m     archive_path \u001b[39m=\u001b[39m get_cached_archive_path(h)\n",
      "File \u001b[0;32m~/.local/lib/python3.10/site-packages/kagglehub/clients.py:182\u001b[0m, in \u001b[0;36mKaggleApiV1Client.download_file\u001b[0;34m(self, path, out_file, resource_handle, cached_path, extract_auto_compressed_file)\u001b[0m\n\u001b[1;32m    174\u001b[0m url \u001b[39m=\u001b[39m \u001b[39mself\u001b[39m\u001b[39m.\u001b[39m_build_url(path)\n\u001b[1;32m    175\u001b[0m \u001b[39mwith\u001b[39;00m requests\u001b[39m.\u001b[39mget(\n\u001b[1;32m    176\u001b[0m     url,\n\u001b[1;32m    177\u001b[0m     headers\u001b[39m=\u001b[39m{\u001b[39m\"\u001b[39m\u001b[39mUser-Agent\u001b[39m\u001b[39m\"\u001b[39m: get_user_agent()},\n\u001b[0;32m   (...)\u001b[0m\n\u001b[1;32m    180\u001b[0m     timeout\u001b[39m=\u001b[39m(DEFAULT_CONNECT_TIMEOUT, DEFAULT_READ_TIMEOUT),\n\u001b[1;32m    181\u001b[0m ) \u001b[39mas\u001b[39;00m response:\n\u001b[0;32m--> 182\u001b[0m     kaggle_api_raise_for_status(response, resource_handle)\n\u001b[1;32m    184\u001b[0m     total_size \u001b[39m=\u001b[39m \u001b[39mint\u001b[39m(response\u001b[39m.\u001b[39mheaders[\u001b[39m\"\u001b[39m\u001b[39mContent-Length\u001b[39m\u001b[39m\"\u001b[39m]) \u001b[39mif\u001b[39;00m \u001b[39m\"\u001b[39m\u001b[39mContent-Length\u001b[39m\u001b[39m\"\u001b[39m \u001b[39min\u001b[39;00m response\u001b[39m.\u001b[39mheaders \u001b[39melse\u001b[39;00m \u001b[39mNone\u001b[39;00m\n\u001b[1;32m    185\u001b[0m     size_read \u001b[39m=\u001b[39m \u001b[39m0\u001b[39m\n",
      "File \u001b[0;32m~/.local/lib/python3.10/site-packages/kagglehub/exceptions.py:106\u001b[0m, in \u001b[0;36mkaggle_api_raise_for_status\u001b[0;34m(response, resource_handle)\u001b[0m\n\u001b[1;32m     97\u001b[0m     message \u001b[39m=\u001b[39m (\n\u001b[1;32m     98\u001b[0m         \u001b[39mf\u001b[39m\u001b[39m\"\u001b[39m\u001b[39m{\u001b[39;00mresponse\u001b[39m.\u001b[39mstatus_code\u001b[39m}\u001b[39;00m\u001b[39m Client Error.\u001b[39m\u001b[39m\"\u001b[39m\n\u001b[1;32m     99\u001b[0m         \u001b[39m\"\u001b[39m\u001b[39m\\n\u001b[39;00m\u001b[39m\\n\u001b[39;00m\u001b[39m\"\u001b[39m\n\u001b[0;32m   (...)\u001b[0m\n\u001b[1;32m    102\u001b[0m         \u001b[39m\"\u001b[39m\u001b[39mPlease make sure you specified the correct resource identifiers.\u001b[39m\u001b[39m\"\u001b[39m\n\u001b[1;32m    103\u001b[0m     )\n\u001b[1;32m    105\u001b[0m \u001b[39m# Default handling\u001b[39;00m\n\u001b[0;32m--> 106\u001b[0m \u001b[39mraise\u001b[39;00m KaggleApiHTTPError(message, response\u001b[39m=\u001b[39mresponse) \u001b[39mfrom\u001b[39;00m \u001b[39me\u001b[39;00m\n",
      "\u001b[0;31mKaggleApiHTTPError\u001b[0m: 400 Client Error: Bad Request for url: https://www.kaggle.com/api/v1/datasets/download/dextershepherd/tactip-morphology-a-texture?dataset_version_number=3&file_name=/mnt/data0/drs25/data/"
     ]
    }
   ],
   "source": [
    "import kagglehub\n",
    "#to import the data we will use the open datasets library #we place the link copied from Kaggle into the parameter of the download function\n",
    "#pathB = kagglehub.dataset_download(\"dextershepherd/tactip-alternative-morphology-b\")\n",
    "#pathnm = kagglehub.dataset_download(\"dextershepherd/no-marker-tactip-only-glare\")\n",
    "pathA = kagglehub.dataset_download(\"dextershepherd/tactip-morphology-a-texture\",path=\"/mnt/data0/drs25/data/\")\n",
    "# Download latest version\n",
    "print(\"Path to dataset files:\", path)"
   ]
  },
  {
   "cell_type": "markdown",
   "id": "ee971348",
   "metadata": {},
   "source": [
    "### convert it all"
   ]
  },
  {
   "cell_type": "code",
   "execution_count": 10,
   "id": "a71c7456",
   "metadata": {},
   "outputs": [],
   "source": [
    "from convert.convert_data import *\n",
    "save_path=\"/mnt/data0/drs25/data/optical-tactile-dataset-for-textures/\"\n",
    "final_data,final_labels=load_files_memory_efficient(pathA+\"/\")\n",
    "#final_data=np.load(pathnm+\"/X_data_nomarker.npz\")['arr_0']\n",
    "#final_labels=np.load(pathnm+\"/y_data_nomarker.npz\")['arr_0']\n",
    "import numpy as np\n",
    "np.save(save_path+\"X_data_morphoholyA\",final_data)\n",
    "np.save(save_path+\"y_data_morphoholyA\",final_labels)"
   ]
  },
  {
   "cell_type": "markdown",
   "id": "747a4b35",
   "metadata": {},
   "source": [
    "### Load"
   ]
  },
  {
   "cell_type": "code",
   "execution_count": 2,
   "id": "9eba73e9",
   "metadata": {},
   "outputs": [],
   "source": [
    "import numpy as np\n",
    "save_path=\"/mnt/data0/drs25/data/optical-tactile-dataset-for-textures/\"\n",
    "\n",
    "XB=np.load(save_path+\"X_data_morphoholyA.npy\").astype(np.uint8)#.reshape((41*200,20,355,328))\n",
    "yB=np.load(save_path+\"y_data_morphoholyA.npy\").astype(np.uint8)#.reshape((-1,1))\n"
   ]
  },
  {
   "cell_type": "code",
   "execution_count": 15,
   "id": "2516442e",
   "metadata": {},
   "outputs": [
    {
     "name": "stdout",
     "output_type": "stream",
     "text": [
      "(3000, 20, 110, 120) (3000,)\n"
     ]
    }
   ],
   "source": [
    "print(XB.shape,yB.shape)"
   ]
  },
  {
   "cell_type": "markdown",
   "id": "5a34cec6",
   "metadata": {},
   "source": [
    "### Validate "
   ]
  },
  {
   "cell_type": "code",
   "execution_count": 16,
   "id": "6b5de935",
   "metadata": {},
   "outputs": [
    {
     "data": {
      "image/png": "[encoded data removed]",
      "text/plain": [
       "<Figure size 640x480 with 1 Axes>"
      ]
     },
     "metadata": {},
     "output_type": "display_data"
    },
    {
     "name": "stdout",
     "output_type": "stream",
     "text": [
      "[5 5 5 ... 9 9 9]\n"
     ]
    }
   ],
   "source": [
    "import matplotlib.pyplot as plt\n",
    "\n",
    "plt.imshow(XB[0][0],cmap=\"gray\")\n",
    "plt.show()\n",
    "print(yB)"
   ]
  },
  {
   "cell_type": "markdown",
   "id": "8c46744d",
   "metadata": {},
   "source": [
    "## modelling"
   ]
  },
  {
   "cell_type": "code",
   "execution_count": 18,
   "id": "117381e6",
   "metadata": {},
   "outputs": [
    {
     "name": "stdout",
     "output_type": "stream",
     "text": [
      "(3000, 7, 110, 120)\n",
      "LOADED DATASET...\n",
      "Memory left 23.59 GB\n",
      "(3000, 7, 110, 120) (3000, 1, 770, 120)\n",
      "Using 2.07 GB\n",
      "torch.Size([3000, 1, 770, 120])\n",
      "torch.Size([3000, 15])\n"
     ]
    },
    {
     "name": "stderr",
     "output_type": "stream",
     "text": [
      "/its/home/drs25/RoboSkin/Code/NewRigExperiments/data_format.py:96: UserWarning: To copy construct from a tensor, it is recommended to use sourceTensor.clone().detach() or sourceTensor.clone().detach().requires_grad_(True), rather than torch.tensor(sourceTensor).\n",
      "  train_labels_tensor = torch.tensor(one_hot_labels, dtype=torch.float32)#.to(device)\n"
     ]
    },
    {
     "name": "stdout",
     "output_type": "stream",
     "text": [
      "Epoch [1/100], Step [48/48], Loss: 129.8846\n",
      "Epoch [11/100], Step [48/48], Loss: 49.0626\n",
      "Epoch [21/100], Step [48/48], Loss: 13.4811\n",
      "Epoch [31/100], Step [48/48], Loss: 5.2277\n",
      "Epoch [41/100], Step [48/48], Loss: 1.6250\n",
      "Epoch [51/100], Step [48/48], Loss: 0.4331\n",
      "Epoch [61/100], Step [48/48], Loss: 0.1948\n",
      "Epoch [71/100], Step [48/48], Loss: 0.1241\n",
      "Epoch [81/100], Step [48/48], Loss: 0.0968\n",
      "Epoch [91/100], Step [48/48], Loss: 0.0719\n",
      "Finished Training\n",
      "Accuracy: 99.98333611064822 %\n",
      "0.9998333611064822\n",
      "Accuracy: 99.99583350693722 %\n",
      "0.9999583350693722\n"
     ]
    }
   ],
   "source": [
    "import torch\n",
    "from models import *\n",
    "from data_loader import * \n",
    "from data_format import *\n",
    "from datapath import *\n",
    "\n",
    "class data_example(loaded):\n",
    "    def __init__(self,x,y):\n",
    "        self.X=x\n",
    "        self.y=y\n",
    "data=data_example(XB[:,:7,:,:],yB)\n",
    "data.applySobel()\n",
    "print(data.X.shape)\n",
    "torch.cuda.empty_cache()\n",
    "train_loader,test_loader=org_data(data,(len(data.X),1,7*data.X.shape[-2],data.X.shape[-1]))\n",
    "model,history=run(train_loader,0,4,num_epochs = 100)\n",
    "print(calc(model,test_loader))\n",
    "print(calc(model,train_loader))"
   ]
  },
  {
   "cell_type": "code",
   "execution_count": 3,
   "id": "010842f3",
   "metadata": {},
   "outputs": [
    {
     "name": "stdout",
     "output_type": "stream",
     "text": [
      "Using device: cuda\n",
      "Using device: cuda\n",
      "---- 10\n"
     ]
    }
   ],
   "source": [
    "import torch\n",
    "torch.cuda.empty_cache()\n",
    "from models import *\n",
    "from data_loader import * \n",
    "from data_format import *\n",
    "from datapath import *\n",
    "class data_example(loaded):\n",
    "    def __init__(self,x,y):\n",
    "        self.X=x\n",
    "        self.y=y\n",
    "XB_accuracy=[]\n",
    "\n",
    "data=data_example(XB[0:3000,:7,:,:],yB)\n",
    "data.applySobel()\n",
    "try:\n",
    "    XB_accuracy=list(np.asarray(np.load(\"/its/home/drs25/RoboSkin/Code/NewRigExperiments/data/XA_accuracy_10.npy\")))\n",
    "    last_point=len(XB_accuracy)\n",
    "except:\n",
    "    last_point=0\n",
    "print(\"----\",last_point)\n",
    "for i in range(last_point,10):\n",
    "    try:\n",
    "        del train_loader,test_loader #housekeeping\n",
    "    except:\n",
    "        pass\n",
    "    torch.cuda.empty_cache()\n",
    "    train_loader,test_loader=org_data(data,(len(data.X),1,7*data.X.shape[-2],data.X.shape[-1]))\n",
    "    model,history=run(train_loader,0,4,num_epochs = 100)\n",
    "    XB_accuracy.append([calc(model,test_loader),calc(model,train_loader)])\n",
    "    np.save(\"/its/home/drs25/RoboSkin/Code/NewRigExperiments/data/XA_accuracy_10\",np.array(XB_accuracy))\n",
    "\n",
    "XB_accuracy=np.array(XB_accuracy)\n",
    "\n",
    "np.save(\"/its/home/drs25/RoboSkin/Code/NewRigExperiments/data/X0_accuracy_10\",XB_accuracy)"
   ]
  },
  {
   "cell_type": "markdown",
   "id": "6bd6f87b",
   "metadata": {},
   "source": [
    "## evaluation"
   ]
  },
  {
   "cell_type": "code",
   "execution_count": 7,
   "id": "2f0e1e6f",
   "metadata": {},
   "outputs": [
    {
     "name": "stdout",
     "output_type": "stream",
     "text": [
      "[[0.99983336 0.99995834]\n",
      " [0.99316781 0.99995834]\n",
      " [0.99150142 0.99995834]\n",
      " [0.99316781 0.99995834]\n",
      " [0.99650058 0.99995834]\n",
      " [0.99316781 0.99995834]\n",
      " [0.99483419 0.99995834]\n",
      " [0.99650058 0.99995834]\n",
      " [0.98983503 0.99995834]\n",
      " [0.99983336 0.99995834]]\n",
      "Average XB test: 0.9948341943009498\n",
      "Average XB train: 0.9999583350693724\n",
      "std XB test: 0.003161750701718097\n"
     ]
    }
   ],
   "source": [
    "XB=np.load(\"/its/home/drs25/RoboSkin/Code/NewRigExperiments/data/XA_accuracy_10.npy\")\n",
    "print(XB)\n",
    "Av_XB_test=np.average(XB,axis=0)[0]\n",
    "Av_XB_train=np.average(XB,axis=0)[1]\n",
    "std_XB_test=np.std(XB[:,0])\n",
    "print(\"Average XA test:\",Av_XB_test)\n",
    "print(\"Average XA train:\",Av_XB_train)\n",
    "print(\"std XB test:\",std_XB_test)\n"
   ]
  },
  {
   "attachments": {},
   "cell_type": "markdown",
   "id": "82e9264d",
   "metadata": {},
   "source": [
    "## Map"
   ]
  },
  {
   "cell_type": "code",
   "execution_count": null,
   "id": "f3fbe3b1",
   "metadata": {},
   "outputs": [],
   "source": [
    "data=data_example(XB[0:3000,:7,:,:],yB)\n",
    "data.applySobel()\n",
    "images = data.X.reshape((len(data.X),1,7*data.X.shape[-2],data.X.shape[-1]))\n",
    "\n",
    "input_tensor = torch.tensor(images).clone().detach()\n",
    "input_tensor.requires_grad = True\n",
    "\n",
    "output = model(input_tensor)\n",
    "target_class = output.argmax(dim=1).item() \n",
    "\n",
    "model.zero_grad()\n",
    "output[0, target_class].backward()\n",
    "saliency = input_tensor.grad.data.abs()\n",
    "\n",
    "import matplotlib.pyplot as plt\n",
    "\n",
    "saliency_map = saliency.squeeze().max(dim=0)[0].numpy()  # collapse RGB\n",
    "plt.imshow(saliency_map, cmap='hot')\n",
    "plt.axis('off')\n",
    "plt.title('Saliency Map')\n",
    "plt.show()"
   ]
  }
 ],
 "metadata": {
  "kernelspec": {
   "display_name": "Python 3",
   "language": "python",
   "name": "python3"
  },
  "language_info": {
   "codemirror_mode": {
    "name": "ipython",
    "version": 3
   },
   "file_extension": ".py",
   "mimetype": "text/x-python",
   "name": "python",
   "nbconvert_exporter": "python",
   "pygments_lexer": "ipython3",
   "version": "3.10.12"
  }
 },
 "nbformat": 4,
 "nbformat_minor": 5
}
