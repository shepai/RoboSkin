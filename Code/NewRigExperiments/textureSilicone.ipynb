{
 "cells": [
  {
   "attachments": {},
   "cell_type": "markdown",
   "metadata": {},
   "source": [
    "# Code for loading in the datasets and modelling"
   ]
  },
  {
   "cell_type": "code",
   "execution_count": 1,
   "metadata": {},
   "outputs": [],
   "source": [
    "from loader import list_files, Files, Folders  #precalculate what we are loading in\n",
    "import numpy as np\n",
    "import cv2\n"
   ]
  },
  {
   "attachments": {},
   "cell_type": "markdown",
   "metadata": {},
   "source": [
    "## Load in data"
   ]
  },
  {
   "cell_type": "code",
   "execution_count": null,
   "metadata": {},
   "outputs": [],
   "source": [
    "#load the file version\n",
    "class dataset:\n",
    "    def __init__(self,pathways,temporal_window,delay=0,compression_dim()):\n",
    "        self.pathways=pathways\n",
    "        self.T=temporal_window\n",
    "        self.X=[]\n",
    "        self.y=[]\n",
    "        for i,path in enumerate(self.pathways): #loop through paths\n",
    "            files=list_files(path)\n",
    "            for file in files: #loop through files\n",
    "                if \".npz\" in file: #is numpy\n",
    "                    data = np.load(path+\"/\"+file) #load data\n",
    "                    for array_name in data:\n",
    "                        data=data[array_name].reshape(100,480,640,3)\n",
    "                        window=data[delay:delay+temporal_window]\n",
    "                        self.X.append(window)\n",
    "                        self.y.append(i)\n",
    "                exit\n",
    "                \n",
    "        self.X=np.array(self.X)\n",
    "        self.y=np.array(self.y)\n",
    "        print(\"Dataset size:\",self.X.shape[0],\"\\nWindow size:\",self.X.shape[1],\"\\nImage:\",self.X.shape[2:])\n",
    "\n",
    "data=dataset(Folders,10)"
   ]
  }
 ],
 "metadata": {
  "kernelspec": {
   "display_name": "base",
   "language": "python",
   "name": "python3"
  },
  "language_info": {
   "codemirror_mode": {
    "name": "ipython",
    "version": 3
   },
   "file_extension": ".py",
   "mimetype": "text/x-python",
   "name": "python",
   "nbconvert_exporter": "python",
   "pygments_lexer": "ipython3",
   "version": "3.10.8"
  },
  "orig_nbformat": 4
 },
 "nbformat": 4,
 "nbformat_minor": 2
}
