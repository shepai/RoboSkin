{
 "cells": [
  {
   "attachments": {},
   "cell_type": "markdown",
   "metadata": {},
   "source": [
    "# Code for loading in the datasets and modelling"
   ]
  },
  {
   "cell_type": "code",
   "execution_count": 15,
   "metadata": {},
   "outputs": [],
   "source": [
    "from loader import list_files, Files, Folders  #precalculate what we are loading in\n",
    "import numpy as np\n",
    "import cv2\n",
    "import matplotlib.pyplot as plt"
   ]
  },
  {
   "attachments": {},
   "cell_type": "markdown",
   "metadata": {},
   "source": [
    "## Load in data"
   ]
  },
  {
   "cell_type": "code",
   "execution_count": 24,
   "metadata": {},
   "outputs": [],
   "source": [
    "#load the file version\n",
    "class dataset:\n",
    "    def __init__(self,pathways,temporal_window,delay=0,compression_dim=1):\n",
    "        self.pathways=pathways\n",
    "        self.T=temporal_window\n",
    "        self.X=[]\n",
    "        self.y=[]\n",
    "        new_dim=(int(640*compression_dim),int(480*compression_dim))\n",
    "        self.keys={}\n",
    "        for i,path in enumerate(self.pathways): #loop through paths\n",
    "            self.keys[i]=path\n",
    "            files=list_files(path)\n",
    "            for file in files: #loop through files\n",
    "                if \".npz\" in file: #is numpy\n",
    "                    data = np.load(path+\"/\"+file) #load data\n",
    "                    for array_name in data:\n",
    "                        data=data[array_name].reshape(100,480,640,3)\n",
    "                        window=data[delay:delay+temporal_window]\n",
    "                        a=np.zeros((len(window),new_dim[1],new_dim[0],3))\n",
    "                        if compression_dim<1:\n",
    "                            for j,frame in enumerate(window):\n",
    "                                a[j]=cv2.resize(frame,new_dim,interpolation=cv2.INTER_AREA)\n",
    "                        window=a.copy()\n",
    "                        self.X.append(window)\n",
    "                        self.y.append(i)\n",
    "        self.X=np.array(self.X)\n",
    "        self.y=np.array(self.y)\n",
    "        print(\"Dataset size:\",self.X.shape[0],\"\\nWindow size:\",self.X.shape[1],\"\\nImage:\",self.X.shape[2:])\n",
    "        #randomize order\n",
    "        n_samples = data.shape[0]\n",
    "        indices = np.random.permutation(n_samples)\n",
    "        shuffled_data = self.X[indices]\n",
    "        shuffled_labels = self.y[indices]\n",
    "        self.X=shuffled_data\n",
    "        self.y=shuffled_labels\n",
    "\n",
    "data=dataset(Folders,10,compression_dim=0.5)\n",
    "plt.imshow(data.X[0][0].astype(int))\n",
    "plt.title(data.keys[data.y[0]])\n",
    "plt.show()"
   ]
  },
  {
   "cell_type": "code",
   "execution_count": 23,
   "metadata": {},
   "outputs": [
    {
     "data": {
      "text/plain": [
       "(7, 10, 240, 320, 3)"
      ]
     },
     "execution_count": 23,
     "metadata": {},
     "output_type": "execute_result"
    }
   ],
   "source": [
    "data.X.shape"
   ]
  }
 ],
 "metadata": {
  "kernelspec": {
   "display_name": "base",
   "language": "python",
   "name": "python3"
  },
  "language_info": {
   "codemirror_mode": {
    "name": "ipython",
    "version": 3
   },
   "file_extension": ".py",
   "mimetype": "text/x-python",
   "name": "python",
   "nbconvert_exporter": "python",
   "pygments_lexer": "ipython3",
   "version": "3.10.8"
  },
  "orig_nbformat": 4
 },
 "nbformat": 4,
 "nbformat_minor": 2
}
