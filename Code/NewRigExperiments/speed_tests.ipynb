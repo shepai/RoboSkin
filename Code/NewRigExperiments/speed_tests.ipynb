{
 "cells": [
  {
   "attachments": {},
   "cell_type": "markdown",
   "metadata": {},
   "source": [
    "# SPEED\n",
    "## speed tests"
   ]
  },
  {
   "cell_type": "code",
   "execution_count": 1,
   "metadata": {},
   "outputs": [
    {
     "name": "stdout",
     "output_type": "stream",
     "text": [
      "Using device: cuda\n",
      "Using device: cuda\n",
      "Using device: cuda\n"
     ]
    }
   ],
   "source": [
    "import numpy as np\n",
    "import matplotlib.pyplot as plt\n",
    "import cv2\n",
    "import torch\n",
    "import torch.nn as nn\n",
    "import torch.optim as optim\n",
    "from torch.utils.data import DataLoader, TensorDataset, random_split, Subset\n",
    "from sklearn.preprocessing import LabelEncoder\n",
    "from IPython.display import clear_output\n",
    "import os\n",
    "import time\n",
    "import random\n",
    "from sklearn.model_selection import train_test_split\n",
    "from sklearn.decomposition import PCA\n",
    "from models import *\n",
    "from data_loader import *\n",
    "from data_format import *\n",
    "from datapath import *\n",
    "from IPython.display import clear_output\n",
    "#os.environ[\"PYTORCH_CUDA_ALLOC_CONF\"] = \"max_split_size_mb:18230\"\n",
    "\n",
    "device = torch.device(\"cuda\" if torch.cuda.is_available() else \"cpu\")\n",
    "#device=torch.device(\"cpu\")\n",
    "print(f\"Using device: {device}\")\n",
    "csfont = {'fontname':'Times New Roman'}\n",
    "os.environ[\"PYTORCH_CUDA_ALLOC_CONF\"] = \"expandable_segments:True\"\n",
    "#\n"
   ]
  },
  {
   "attachments": {},
   "cell_type": "markdown",
   "metadata": {},
   "source": [
    "## create dataset"
   ]
  },
  {
   "cell_type": "code",
   "execution_count": 8,
   "metadata": {},
   "outputs": [
    {
     "data": {
      "text/plain": [
       "'data=loaded(t=-1,filename=\"X_data_15.npz\")\\ndata.applySobel()\\ndata.orientation_augment()\\ndata.speed_augment(4,speeds=3)\\ndata.zoom_augment([10,20,30,40])'"
      ]
     },
     "execution_count": 8,
     "metadata": {},
     "output_type": "execute_result"
    }
   ],
   "source": [
    "#get varying sizes of the dataset\n",
    "\"\"\"data=loaded(t=-1,filename=\"X_data_15.npz\")\n",
    "data.applySobel()\n",
    "data.orientation_augment()\n",
    "data.speed_augment(4,speeds=3)\n",
    "data.zoom_augment([10,20,30,40])\"\"\""
   ]
  },
  {
   "attachments": {},
   "cell_type": "markdown",
   "metadata": {},
   "source": [
    "## experiments"
   ]
  },
  {
   "cell_type": "code",
   "execution_count": 2,
   "metadata": {},
   "outputs": [
    {
     "name": "stdout",
     "output_type": "stream",
     "text": [
      "(50, 4, 110, 120)\n",
      "(50, 1, 440, 120)\n"
     ]
    }
   ],
   "source": [
    "#global parameters\n",
    "test_data=np.load(\"/its/home/drs25/RoboSkin/Code/NewRigExperiments/texture-tactip/concatenated_data_handheld.npy\").astype(np.uint8)\n",
    "labels=np.load(\"/its/home/drs25/RoboSkin/Code/NewRigExperiments/texture-tactip/concatenated_labels_handheld.npy\").astype(np.uint8)\n",
    "test_data_sliced=test_data[:,::4,:,:]\n",
    "test_data_sliced=test_data_sliced[:,10:10+4,:,:]\n",
    "crop=[60,180,40,150]\n",
    "im=test_data_sliced[:,:,crop[2]:crop[3],crop[0]:crop[1]]\n",
    "new=np.zeros((im.shape[0],im.shape[1],im.shape[2],im.shape[3]))\n",
    "for i in range(len(test_data_sliced)): #crop all images individually\n",
    "    for j in range(len(test_data_sliced[0])):\n",
    "        image=cv2.resize(test_data_sliced[i][j],(int(640*0.4),int(480*0.4)),interpolation=cv2.INTER_AREA)\n",
    "        image=cv2.cvtColor(image[crop[2]:crop[3],crop[0]:crop[1]], cv2.COLOR_BGR2GRAY)\n",
    "        # Apply Sobel filter in x-direction\n",
    "        sobel_x = cv2.Sobel(image, cv2.CV_64F, 1, 0, ksize=3)  # ksize=3 for a 3x3 Sobel kernel\n",
    "\n",
    "        # Apply Sobel filter in y-direction\n",
    "        sobel_y = cv2.Sobel(image, cv2.CV_64F, 0, 1, ksize=3)\n",
    "\n",
    "        # Convert the results back to uint8\n",
    "        sobel_x = np.uint8(np.absolute(sobel_x))\n",
    "        sobel_y = np.uint8(np.absolute(sobel_y))\n",
    "\n",
    "        # Combine the results to get the final edge-detected image\n",
    "        sobel_combined = cv2.bitwise_or(sobel_x, sobel_y)\n",
    "        new[i][j]=sobel_combined\n",
    "print(new.shape)\n",
    "new=new.reshape(new.shape[0],1,4*new.shape[2],new.shape[3])\n",
    "print(new.shape)\n",
    "new=(new-np.mean(new))/(np.max(new)-np.min(new))\n",
    "test_data_sliced_tensor=torch.tensor(new,dtype=torch.float64).float().to(device)\n",
    "\n",
    "\n",
    "def calc_noisy(preds,labels):\n",
    "    names=['Carpet', 'LacedMatt', 'wool', 'Cork', 'Felt', 'LongCarpet', 'cotton', 'Plastic', 'Flat', 'Ffoam', 'Gfoam', 'bubble', 'Efoam', 'jeans', 'Leather']\n",
    "    the_other_labels=['Cork','FoamF','FoamG','LacedMatt','Leather','LongCarpet','Plastic','ShortCarpet','Bubble','FoamE']\n",
    "    mapping={0:7,1:3,3:0,5:5,7:6,9:1,10:2,11:8,12:9,14:4}\n",
    "    classes=torch.argmax(preds,axis=1)\n",
    "    correct=0\n",
    "    for i in range(len(classes)):\n",
    "        if mapping.get(classes[i],-1) >0:\n",
    "            if mapping[classes[i]]==labels[i]: correct+=1\n",
    "    return correct/len(classes) *100\n",
    "\n",
    "num_trials=20\n",
    "T_SIZE=4\n",
    "EPOCHS=100"
   ]
  },
  {
   "attachments": {},
   "cell_type": "markdown",
   "metadata": {},
   "source": [
    "### experiment with different zooms"
   ]
  },
  {
   "cell_type": "code",
   "execution_count": 10,
   "metadata": {},
   "outputs": [
    {
     "name": "stdout",
     "output_type": "stream",
     "text": [
      "Dataset size: 3000 \n",
      "Window size: 20 \n",
      "Image: (110, 120)\n",
      "Memory needed: 0.74 GB\n",
      "LOADED DATASET...\n",
      "Memory left 23.59 GB\n",
      "(12000, 4, 110, 120) (12000, 1, 440, 120)\n",
      "Using 4.72 GB\n",
      "torch.Size([12000, 1, 440, 120])\n",
      "torch.Size([12000, 15])\n"
     ]
    },
    {
     "name": "stderr",
     "output_type": "stream",
     "text": [
      "/its/home/drs25/RoboSkin/Code/NewRigExperiments/data_format.py:90: UserWarning: To copy construct from a tensor, it is recommended to use sourceTensor.clone().detach() or sourceTensor.clone().detach().requires_grad_(True), rather than torch.tensor(sourceTensor).\n",
      "  train_labels_tensor = torch.tensor(one_hot_labels, dtype=torch.float32).to(device)\n"
     ]
    },
    {
     "name": "stdout",
     "output_type": "stream",
     "text": [
      "Epoch [1/100], Step [240/240], Loss: 649.4830\n",
      "Epoch [11/100], Step [240/240], Loss: 58.8220\n",
      "Epoch [21/100], Step [240/240], Loss: 8.1832\n",
      "Epoch [31/100], Step [240/240], Loss: 1.1230\n",
      "Epoch [41/100], Step [240/240], Loss: 0.4444\n",
      "Epoch [51/100], Step [240/240], Loss: 0.2812\n",
      "Epoch [61/100], Step [240/240], Loss: 0.1829\n",
      "Epoch [71/100], Step [240/240], Loss: 0.1387\n",
      "Epoch [81/100], Step [240/240], Loss: 0.1139\n",
      "Epoch [91/100], Step [240/240], Loss: 0.0922\n",
      "Finished Training\n",
      "Commence calculations...\n",
      "Accuracy: 99.9989583441839 %\n",
      "Accuracy: 99.99583350693722 %\n",
      "Results: [0.99998958 0.99995834 0.        ]\n",
      "Dataset size: 3000 \n",
      "Window size: 20 \n",
      "Image: (110, 120)\n",
      "Memory needed: 0.74 GB\n",
      "LOADED DATASET...\n",
      "Memory left 23.59 GB\n",
      "(12000, 4, 110, 120) (12000, 1, 440, 120)\n",
      "Using 4.72 GB\n",
      "torch.Size([12000, 1, 440, 120])\n",
      "torch.Size([12000, 15])\n"
     ]
    },
    {
     "name": "stderr",
     "output_type": "stream",
     "text": [
      "/its/home/drs25/RoboSkin/Code/NewRigExperiments/data_format.py:90: UserWarning: To copy construct from a tensor, it is recommended to use sourceTensor.clone().detach() or sourceTensor.clone().detach().requires_grad_(True), rather than torch.tensor(sourceTensor).\n",
      "  train_labels_tensor = torch.tensor(one_hot_labels, dtype=torch.float32).to(device)\n"
     ]
    },
    {
     "name": "stdout",
     "output_type": "stream",
     "text": [
      "Epoch [1/100], Step [240/240], Loss: 649.7297\n",
      "Epoch [11/100], Step [240/240], Loss: 69.6712\n",
      "Epoch [21/100], Step [240/240], Loss: 8.3316\n",
      "Epoch [31/100], Step [240/240], Loss: 1.5385\n",
      "Epoch [41/100], Step [240/240], Loss: 0.7060\n",
      "Epoch [51/100], Step [240/240], Loss: 0.3964\n",
      "Epoch [61/100], Step [240/240], Loss: 0.1987\n",
      "Epoch [71/100], Step [240/240], Loss: 0.1486\n",
      "Epoch [81/100], Step [240/240], Loss: 0.1174\n",
      "Epoch [91/100], Step [240/240], Loss: 0.0998\n",
      "Finished Training\n",
      "Commence calculations...\n",
      "Accuracy: 99.9989583441839 %\n",
      "Accuracy: 99.99583350693722 %\n",
      "Results: [0.99998958 0.99995834 0.        ]\n",
      "Dataset size: 3000 \n",
      "Window size: 20 \n",
      "Image: (110, 120)\n",
      "Memory needed: 0.74 GB\n",
      "LOADED DATASET...\n",
      "Memory left 23.59 GB\n",
      "(12000, 4, 110, 120) (12000, 1, 440, 120)\n",
      "Using 4.72 GB\n",
      "torch.Size([12000, 1, 440, 120])\n",
      "torch.Size([12000, 15])\n"
     ]
    },
    {
     "name": "stderr",
     "output_type": "stream",
     "text": [
      "/its/home/drs25/RoboSkin/Code/NewRigExperiments/data_format.py:90: UserWarning: To copy construct from a tensor, it is recommended to use sourceTensor.clone().detach() or sourceTensor.clone().detach().requires_grad_(True), rather than torch.tensor(sourceTensor).\n",
      "  train_labels_tensor = torch.tensor(one_hot_labels, dtype=torch.float32).to(device)\n"
     ]
    },
    {
     "name": "stdout",
     "output_type": "stream",
     "text": [
      "Epoch [1/100], Step [240/240], Loss: 649.8129\n",
      "Epoch [11/100], Step [240/240], Loss: 95.8572\n",
      "Epoch [21/100], Step [240/240], Loss: 10.4934\n",
      "Epoch [31/100], Step [240/240], Loss: 2.2074\n",
      "Epoch [41/100], Step [240/240], Loss: 0.7366\n",
      "Epoch [51/100], Step [240/240], Loss: 0.2949\n",
      "Epoch [61/100], Step [240/240], Loss: 0.1955\n",
      "Epoch [71/100], Step [240/240], Loss: 0.1462\n",
      "Epoch [81/100], Step [240/240], Loss: 0.1193\n",
      "Epoch [91/100], Step [240/240], Loss: 0.1003\n",
      "Finished Training\n",
      "Commence calculations...\n",
      "Accuracy: 99.9989583441839 %\n",
      "Accuracy: 99.99583350693722 %\n",
      "Results: [0.99998958 0.99995834 0.        ]\n",
      "Dataset size: 3000 \n",
      "Window size: 20 \n",
      "Image: (110, 120)\n",
      "Memory needed: 0.74 GB\n",
      "LOADED DATASET...\n",
      "Memory left 23.59 GB\n",
      "(12000, 4, 110, 120) (12000, 1, 440, 120)\n",
      "Using 4.72 GB\n",
      "torch.Size([12000, 1, 440, 120])\n",
      "torch.Size([12000, 15])\n"
     ]
    },
    {
     "name": "stderr",
     "output_type": "stream",
     "text": [
      "/its/home/drs25/RoboSkin/Code/NewRigExperiments/data_format.py:90: UserWarning: To copy construct from a tensor, it is recommended to use sourceTensor.clone().detach() or sourceTensor.clone().detach().requires_grad_(True), rather than torch.tensor(sourceTensor).\n",
      "  train_labels_tensor = torch.tensor(one_hot_labels, dtype=torch.float32).to(device)\n"
     ]
    },
    {
     "name": "stdout",
     "output_type": "stream",
     "text": [
      "Epoch [1/100], Step [240/240], Loss: 649.7288\n",
      "Epoch [11/100], Step [240/240], Loss: 65.8900\n",
      "Epoch [21/100], Step [240/240], Loss: 8.4095\n",
      "Epoch [31/100], Step [240/240], Loss: 1.6037\n",
      "Epoch [41/100], Step [240/240], Loss: 0.4867\n",
      "Epoch [51/100], Step [240/240], Loss: 0.3041\n",
      "Epoch [61/100], Step [240/240], Loss: 0.2122\n",
      "Epoch [71/100], Step [240/240], Loss: 0.1552\n",
      "Epoch [81/100], Step [240/240], Loss: 0.1204\n",
      "Epoch [91/100], Step [240/240], Loss: 0.1005\n",
      "Finished Training\n",
      "Commence calculations...\n",
      "Accuracy: 99.9989583441839 %\n",
      "Accuracy: 99.99583350693722 %\n",
      "Results: [0.99998958 0.99995834 0.        ]\n",
      "Dataset size: 3000 \n",
      "Window size: 20 \n",
      "Image: (110, 120)\n",
      "Memory needed: 0.74 GB\n",
      "LOADED DATASET...\n",
      "Memory left 23.59 GB\n",
      "(12000, 4, 110, 120) (12000, 1, 440, 120)\n",
      "Using 4.72 GB\n",
      "torch.Size([12000, 1, 440, 120])\n",
      "torch.Size([12000, 15])\n"
     ]
    },
    {
     "name": "stderr",
     "output_type": "stream",
     "text": [
      "/its/home/drs25/RoboSkin/Code/NewRigExperiments/data_format.py:90: UserWarning: To copy construct from a tensor, it is recommended to use sourceTensor.clone().detach() or sourceTensor.clone().detach().requires_grad_(True), rather than torch.tensor(sourceTensor).\n",
      "  train_labels_tensor = torch.tensor(one_hot_labels, dtype=torch.float32).to(device)\n"
     ]
    },
    {
     "name": "stdout",
     "output_type": "stream",
     "text": [
      "Epoch [1/100], Step [240/240], Loss: 649.3938\n",
      "Epoch [11/100], Step [240/240], Loss: 51.5780\n",
      "Epoch [21/100], Step [240/240], Loss: 7.2505\n",
      "Epoch [31/100], Step [240/240], Loss: 1.0780\n",
      "Epoch [41/100], Step [240/240], Loss: 0.6207\n",
      "Epoch [51/100], Step [240/240], Loss: 0.2774\n",
      "Epoch [61/100], Step [240/240], Loss: 0.1863\n",
      "Epoch [71/100], Step [240/240], Loss: 0.1421\n",
      "Epoch [81/100], Step [240/240], Loss: 0.1160\n",
      "Epoch [91/100], Step [240/240], Loss: 0.0952\n",
      "Finished Training\n",
      "Commence calculations...\n",
      "Accuracy: 99.9989583441839 %\n",
      "Accuracy: 99.99583350693722 %\n",
      "Results: [0.99998958 0.99995834 0.        ]\n",
      "Dataset size: 3000 \n",
      "Window size: 20 \n",
      "Image: (110, 120)\n",
      "Memory needed: 0.74 GB\n",
      "LOADED DATASET...\n",
      "Memory left 23.59 GB\n",
      "(12000, 4, 110, 120) (12000, 1, 440, 120)\n",
      "Using 4.72 GB\n",
      "torch.Size([12000, 1, 440, 120])\n",
      "torch.Size([12000, 15])\n"
     ]
    },
    {
     "name": "stderr",
     "output_type": "stream",
     "text": [
      "/its/home/drs25/RoboSkin/Code/NewRigExperiments/data_format.py:90: UserWarning: To copy construct from a tensor, it is recommended to use sourceTensor.clone().detach() or sourceTensor.clone().detach().requires_grad_(True), rather than torch.tensor(sourceTensor).\n",
      "  train_labels_tensor = torch.tensor(one_hot_labels, dtype=torch.float32).to(device)\n"
     ]
    },
    {
     "name": "stdout",
     "output_type": "stream",
     "text": [
      "Epoch [1/100], Step [240/240], Loss: 649.7807\n",
      "Epoch [11/100], Step [240/240], Loss: 64.0453\n",
      "Epoch [21/100], Step [240/240], Loss: 8.1377\n",
      "Epoch [31/100], Step [240/240], Loss: 1.5302\n",
      "Epoch [41/100], Step [240/240], Loss: 0.4819\n",
      "Epoch [51/100], Step [240/240], Loss: 0.3527\n",
      "Epoch [61/100], Step [240/240], Loss: 0.1974\n",
      "Epoch [71/100], Step [240/240], Loss: 0.1519\n",
      "Epoch [81/100], Step [240/240], Loss: 0.1270\n",
      "Epoch [91/100], Step [240/240], Loss: 0.1024\n",
      "Finished Training\n",
      "Commence calculations...\n",
      "Accuracy: 99.9989583441839 %\n",
      "Accuracy: 99.99583350693722 %\n",
      "Results: [0.99998958 0.99995834 0.        ]\n",
      "Dataset size: 3000 \n",
      "Window size: 20 \n",
      "Image: (110, 120)\n",
      "Memory needed: 0.74 GB\n",
      "LOADED DATASET...\n",
      "Memory left 23.59 GB\n",
      "(12000, 4, 110, 120) (12000, 1, 440, 120)\n",
      "Using 4.72 GB\n",
      "torch.Size([12000, 1, 440, 120])\n",
      "torch.Size([12000, 15])\n"
     ]
    },
    {
     "name": "stderr",
     "output_type": "stream",
     "text": [
      "/its/home/drs25/RoboSkin/Code/NewRigExperiments/data_format.py:90: UserWarning: To copy construct from a tensor, it is recommended to use sourceTensor.clone().detach() or sourceTensor.clone().detach().requires_grad_(True), rather than torch.tensor(sourceTensor).\n",
      "  train_labels_tensor = torch.tensor(one_hot_labels, dtype=torch.float32).to(device)\n"
     ]
    },
    {
     "name": "stdout",
     "output_type": "stream",
     "text": [
      "Epoch [1/100], Step [240/240], Loss: 649.0168\n",
      "Epoch [11/100], Step [240/240], Loss: 46.3889\n",
      "Epoch [21/100], Step [240/240], Loss: 5.4470\n",
      "Epoch [31/100], Step [240/240], Loss: 1.0661\n",
      "Epoch [41/100], Step [240/240], Loss: 0.4236\n",
      "Epoch [51/100], Step [240/240], Loss: 0.2517\n",
      "Epoch [61/100], Step [240/240], Loss: 0.1816\n",
      "Epoch [71/100], Step [240/240], Loss: 0.1415\n",
      "Epoch [81/100], Step [240/240], Loss: 0.1100\n",
      "Epoch [91/100], Step [240/240], Loss: 0.0937\n",
      "Finished Training\n",
      "Commence calculations...\n",
      "Accuracy: 99.9989583441839 %\n",
      "Accuracy: 99.99583350693722 %\n",
      "Results: [0.99998958 0.99995834 0.        ]\n",
      "Dataset size: 3000 \n",
      "Window size: 20 \n",
      "Image: (110, 120)\n",
      "Memory needed: 0.74 GB\n",
      "LOADED DATASET...\n",
      "Memory left 23.59 GB\n",
      "(12000, 4, 110, 120) (12000, 1, 440, 120)\n",
      "Using 4.72 GB\n",
      "torch.Size([12000, 1, 440, 120])\n",
      "torch.Size([12000, 15])\n"
     ]
    },
    {
     "name": "stderr",
     "output_type": "stream",
     "text": [
      "/its/home/drs25/RoboSkin/Code/NewRigExperiments/data_format.py:90: UserWarning: To copy construct from a tensor, it is recommended to use sourceTensor.clone().detach() or sourceTensor.clone().detach().requires_grad_(True), rather than torch.tensor(sourceTensor).\n",
      "  train_labels_tensor = torch.tensor(one_hot_labels, dtype=torch.float32).to(device)\n"
     ]
    },
    {
     "name": "stdout",
     "output_type": "stream",
     "text": [
      "Epoch [1/100], Step [240/240], Loss: 649.9398\n",
      "Epoch [11/100], Step [240/240], Loss: 64.0628\n",
      "Epoch [21/100], Step [240/240], Loss: 8.3109\n",
      "Epoch [31/100], Step [240/240], Loss: 1.6152\n",
      "Epoch [41/100], Step [240/240], Loss: 0.4734\n",
      "Epoch [51/100], Step [240/240], Loss: 0.3249\n",
      "Epoch [61/100], Step [240/240], Loss: 0.1886\n",
      "Epoch [71/100], Step [240/240], Loss: 0.1474\n",
      "Epoch [81/100], Step [240/240], Loss: 0.1179\n",
      "Epoch [91/100], Step [240/240], Loss: 0.0955\n",
      "Finished Training\n",
      "Commence calculations...\n",
      "Accuracy: 99.9989583441839 %\n",
      "Accuracy: 99.99583350693722 %\n",
      "Results: [0.99998958 0.99995834 0.        ]\n",
      "Dataset size: 3000 \n",
      "Window size: 20 \n",
      "Image: (110, 120)\n",
      "Memory needed: 0.74 GB\n",
      "LOADED DATASET...\n",
      "Memory left 23.59 GB\n",
      "(12000, 4, 110, 120) (12000, 1, 440, 120)\n",
      "Using 4.72 GB\n",
      "torch.Size([12000, 1, 440, 120])\n",
      "torch.Size([12000, 15])\n"
     ]
    },
    {
     "name": "stderr",
     "output_type": "stream",
     "text": [
      "/its/home/drs25/RoboSkin/Code/NewRigExperiments/data_format.py:90: UserWarning: To copy construct from a tensor, it is recommended to use sourceTensor.clone().detach() or sourceTensor.clone().detach().requires_grad_(True), rather than torch.tensor(sourceTensor).\n",
      "  train_labels_tensor = torch.tensor(one_hot_labels, dtype=torch.float32).to(device)\n"
     ]
    },
    {
     "name": "stdout",
     "output_type": "stream",
     "text": [
      "Epoch [1/100], Step [240/240], Loss: 649.9668\n",
      "Epoch [11/100], Step [240/240], Loss: 79.8213\n",
      "Epoch [21/100], Step [240/240], Loss: 11.2288\n",
      "Epoch [31/100], Step [240/240], Loss: 2.1058\n",
      "Epoch [41/100], Step [240/240], Loss: 0.5759\n",
      "Epoch [51/100], Step [240/240], Loss: 0.2998\n",
      "Epoch [61/100], Step [240/240], Loss: 0.2081\n",
      "Epoch [71/100], Step [240/240], Loss: 0.1538\n",
      "Epoch [81/100], Step [240/240], Loss: 0.1241\n",
      "Epoch [91/100], Step [240/240], Loss: 0.1016\n",
      "Finished Training\n",
      "Commence calculations...\n",
      "Accuracy: 99.9989583441839 %\n",
      "Accuracy: 99.99583350693722 %\n",
      "Results: [0.99998958 0.99995834 0.        ]\n",
      "Dataset size: 3000 \n",
      "Window size: 20 \n",
      "Image: (110, 120)\n",
      "Memory needed: 0.74 GB\n",
      "LOADED DATASET...\n",
      "Memory left 23.59 GB\n",
      "(12000, 4, 110, 120) (12000, 1, 440, 120)\n",
      "Using 4.72 GB\n",
      "torch.Size([12000, 1, 440, 120])\n",
      "torch.Size([12000, 15])\n"
     ]
    },
    {
     "name": "stderr",
     "output_type": "stream",
     "text": [
      "/its/home/drs25/RoboSkin/Code/NewRigExperiments/data_format.py:90: UserWarning: To copy construct from a tensor, it is recommended to use sourceTensor.clone().detach() or sourceTensor.clone().detach().requires_grad_(True), rather than torch.tensor(sourceTensor).\n",
      "  train_labels_tensor = torch.tensor(one_hot_labels, dtype=torch.float32).to(device)\n"
     ]
    },
    {
     "name": "stdout",
     "output_type": "stream",
     "text": [
      "Epoch [1/100], Step [240/240], Loss: 649.4103\n",
      "Epoch [11/100], Step [240/240], Loss: 44.5293\n",
      "Epoch [21/100], Step [240/240], Loss: 6.0714\n",
      "Epoch [31/100], Step [240/240], Loss: 1.1576\n",
      "Epoch [41/100], Step [240/240], Loss: 0.3971\n",
      "Epoch [51/100], Step [240/240], Loss: 0.2514\n",
      "Epoch [61/100], Step [240/240], Loss: 0.1809\n",
      "Epoch [71/100], Step [240/240], Loss: 0.1393\n",
      "Epoch [81/100], Step [240/240], Loss: 0.1122\n",
      "Epoch [91/100], Step [240/240], Loss: 0.0921\n",
      "Finished Training\n",
      "Commence calculations...\n",
      "Accuracy: 99.9989583441839 %\n",
      "Accuracy: 99.99583350693722 %\n",
      "Results: [0.99998958 0.99995834 0.        ]\n",
      "Dataset size: 3000 \n",
      "Window size: 20 \n",
      "Image: (110, 120)\n",
      "Memory needed: 0.74 GB\n",
      "LOADED DATASET...\n",
      "Memory left 23.59 GB\n",
      "(12000, 4, 110, 120) (12000, 1, 440, 120)\n",
      "Using 4.72 GB\n",
      "torch.Size([12000, 1, 440, 120])\n",
      "torch.Size([12000, 15])\n"
     ]
    },
    {
     "name": "stderr",
     "output_type": "stream",
     "text": [
      "/its/home/drs25/RoboSkin/Code/NewRigExperiments/data_format.py:90: UserWarning: To copy construct from a tensor, it is recommended to use sourceTensor.clone().detach() or sourceTensor.clone().detach().requires_grad_(True), rather than torch.tensor(sourceTensor).\n",
      "  train_labels_tensor = torch.tensor(one_hot_labels, dtype=torch.float32).to(device)\n"
     ]
    },
    {
     "name": "stdout",
     "output_type": "stream",
     "text": [
      "Epoch [1/100], Step [240/240], Loss: 649.8595\n",
      "Epoch [11/100], Step [240/240], Loss: 65.9380\n",
      "Epoch [21/100], Step [240/240], Loss: 8.4024\n",
      "Epoch [31/100], Step [240/240], Loss: 1.9295\n",
      "Epoch [41/100], Step [240/240], Loss: 0.8366\n",
      "Epoch [51/100], Step [240/240], Loss: 0.2790\n",
      "Epoch [61/100], Step [240/240], Loss: 0.2018\n",
      "Epoch [71/100], Step [240/240], Loss: 0.1479\n",
      "Epoch [81/100], Step [240/240], Loss: 0.1188\n",
      "Epoch [91/100], Step [240/240], Loss: 0.1007\n",
      "Finished Training\n",
      "Commence calculations...\n",
      "Accuracy: 99.9989583441839 %\n",
      "Accuracy: 99.99583350693722 %\n",
      "Results: [0.99998958 0.99995834 0.        ]\n",
      "Dataset size: 3000 \n",
      "Window size: 20 \n",
      "Image: (110, 120)\n",
      "Memory needed: 0.74 GB\n",
      "LOADED DATASET...\n",
      "Memory left 23.59 GB\n",
      "(12000, 4, 110, 120) (12000, 1, 440, 120)\n",
      "Using 4.72 GB\n",
      "torch.Size([12000, 1, 440, 120])\n",
      "torch.Size([12000, 15])\n"
     ]
    },
    {
     "name": "stderr",
     "output_type": "stream",
     "text": [
      "/its/home/drs25/RoboSkin/Code/NewRigExperiments/data_format.py:90: UserWarning: To copy construct from a tensor, it is recommended to use sourceTensor.clone().detach() or sourceTensor.clone().detach().requires_grad_(True), rather than torch.tensor(sourceTensor).\n",
      "  train_labels_tensor = torch.tensor(one_hot_labels, dtype=torch.float32).to(device)\n"
     ]
    },
    {
     "name": "stdout",
     "output_type": "stream",
     "text": [
      "Epoch [1/100], Step [240/240], Loss: 649.8508\n",
      "Epoch [11/100], Step [240/240], Loss: 78.1987\n",
      "Epoch [21/100], Step [240/240], Loss: 9.3571\n",
      "Epoch [31/100], Step [240/240], Loss: 2.0168\n",
      "Epoch [41/100], Step [240/240], Loss: 0.6259\n",
      "Epoch [51/100], Step [240/240], Loss: 0.3778\n",
      "Epoch [61/100], Step [240/240], Loss: 0.1979\n",
      "Epoch [71/100], Step [240/240], Loss: 0.1552\n",
      "Epoch [81/100], Step [240/240], Loss: 0.1192\n",
      "Epoch [91/100], Step [240/240], Loss: 0.0984\n",
      "Finished Training\n",
      "Commence calculations...\n",
      "Accuracy: 99.9989583441839 %\n",
      "Accuracy: 99.99583350693722 %\n",
      "Results: [0.99998958 0.99995834 0.        ]\n",
      "Dataset size: 3000 \n",
      "Window size: 20 \n",
      "Image: (110, 120)\n",
      "Memory needed: 0.74 GB\n",
      "LOADED DATASET...\n",
      "Memory left 23.59 GB\n",
      "(12000, 4, 110, 120) (12000, 1, 440, 120)\n",
      "Using 4.72 GB\n",
      "torch.Size([12000, 1, 440, 120])\n",
      "torch.Size([12000, 15])\n"
     ]
    },
    {
     "name": "stderr",
     "output_type": "stream",
     "text": [
      "/its/home/drs25/RoboSkin/Code/NewRigExperiments/data_format.py:90: UserWarning: To copy construct from a tensor, it is recommended to use sourceTensor.clone().detach() or sourceTensor.clone().detach().requires_grad_(True), rather than torch.tensor(sourceTensor).\n",
      "  train_labels_tensor = torch.tensor(one_hot_labels, dtype=torch.float32).to(device)\n"
     ]
    },
    {
     "name": "stdout",
     "output_type": "stream",
     "text": [
      "Epoch [1/100], Step [240/240], Loss: 649.7331\n",
      "Epoch [11/100], Step [240/240], Loss: 59.2466\n",
      "Epoch [21/100], Step [240/240], Loss: 7.8540\n",
      "Epoch [31/100], Step [240/240], Loss: 1.5924\n",
      "Epoch [41/100], Step [240/240], Loss: 0.6791\n",
      "Epoch [51/100], Step [240/240], Loss: 0.2763\n",
      "Epoch [61/100], Step [240/240], Loss: 0.1986\n",
      "Epoch [71/100], Step [240/240], Loss: 0.1472\n",
      "Epoch [81/100], Step [240/240], Loss: 0.1148\n",
      "Epoch [91/100], Step [240/240], Loss: 0.0956\n",
      "Finished Training\n",
      "Commence calculations...\n",
      "Accuracy: 99.9989583441839 %\n",
      "Accuracy: 99.99583350693722 %\n",
      "Results: [0.99998958 0.99995834 0.        ]\n",
      "Dataset size: 3000 \n",
      "Window size: 20 \n",
      "Image: (110, 120)\n",
      "Memory needed: 0.74 GB\n",
      "LOADED DATASET...\n",
      "Memory left 23.59 GB\n",
      "(12000, 4, 110, 120) (12000, 1, 440, 120)\n",
      "Using 4.72 GB\n",
      "torch.Size([12000, 1, 440, 120])\n",
      "torch.Size([12000, 15])\n"
     ]
    },
    {
     "name": "stderr",
     "output_type": "stream",
     "text": [
      "/its/home/drs25/RoboSkin/Code/NewRigExperiments/data_format.py:90: UserWarning: To copy construct from a tensor, it is recommended to use sourceTensor.clone().detach() or sourceTensor.clone().detach().requires_grad_(True), rather than torch.tensor(sourceTensor).\n",
      "  train_labels_tensor = torch.tensor(one_hot_labels, dtype=torch.float32).to(device)\n"
     ]
    },
    {
     "name": "stdout",
     "output_type": "stream",
     "text": [
      "Epoch [1/100], Step [240/240], Loss: 648.8618\n",
      "Epoch [11/100], Step [240/240], Loss: 48.9844\n",
      "Epoch [21/100], Step [240/240], Loss: 7.0568\n",
      "Epoch [31/100], Step [240/240], Loss: 1.5071\n",
      "Epoch [41/100], Step [240/240], Loss: 0.5133\n",
      "Epoch [51/100], Step [240/240], Loss: 0.2766\n",
      "Epoch [61/100], Step [240/240], Loss: 0.2034\n",
      "Epoch [71/100], Step [240/240], Loss: 0.1453\n",
      "Epoch [81/100], Step [240/240], Loss: 0.1148\n",
      "Epoch [91/100], Step [240/240], Loss: 0.0944\n",
      "Finished Training\n",
      "Commence calculations...\n",
      "Accuracy: 99.9989583441839 %\n",
      "Accuracy: 99.99583350693722 %\n",
      "Results: [0.99998958 0.99995834 0.        ]\n",
      "Dataset size: 3000 \n",
      "Window size: 20 \n",
      "Image: (110, 120)\n",
      "Memory needed: 0.74 GB\n",
      "LOADED DATASET...\n",
      "Memory left 23.59 GB\n",
      "(12000, 4, 110, 120) (12000, 1, 440, 120)\n",
      "Using 4.72 GB\n",
      "torch.Size([12000, 1, 440, 120])\n",
      "torch.Size([12000, 15])\n"
     ]
    },
    {
     "name": "stderr",
     "output_type": "stream",
     "text": [
      "/its/home/drs25/RoboSkin/Code/NewRigExperiments/data_format.py:90: UserWarning: To copy construct from a tensor, it is recommended to use sourceTensor.clone().detach() or sourceTensor.clone().detach().requires_grad_(True), rather than torch.tensor(sourceTensor).\n",
      "  train_labels_tensor = torch.tensor(one_hot_labels, dtype=torch.float32).to(device)\n"
     ]
    },
    {
     "name": "stdout",
     "output_type": "stream",
     "text": [
      "Epoch [1/100], Step [240/240], Loss: 649.3287\n",
      "Epoch [11/100], Step [240/240], Loss: 64.3745\n",
      "Epoch [21/100], Step [240/240], Loss: 9.5353\n",
      "Epoch [31/100], Step [240/240], Loss: 1.7114\n",
      "Epoch [41/100], Step [240/240], Loss: 0.4719\n",
      "Epoch [51/100], Step [240/240], Loss: 0.2728\n",
      "Epoch [61/100], Step [240/240], Loss: 0.1903\n",
      "Epoch [71/100], Step [240/240], Loss: 0.1427\n",
      "Epoch [81/100], Step [240/240], Loss: 0.1132\n",
      "Epoch [91/100], Step [240/240], Loss: 0.0938\n",
      "Finished Training\n",
      "Commence calculations...\n",
      "Accuracy: 99.9989583441839 %\n",
      "Accuracy: 99.99583350693722 %\n",
      "Results: [0.99998958 0.99995834 0.        ]\n",
      "Dataset size: 3000 \n",
      "Window size: 20 \n",
      "Image: (110, 120)\n",
      "Memory needed: 0.74 GB\n",
      "LOADED DATASET...\n",
      "Memory left 23.59 GB\n",
      "(12000, 4, 110, 120) (12000, 1, 440, 120)\n",
      "Using 4.72 GB\n",
      "torch.Size([12000, 1, 440, 120])\n",
      "torch.Size([12000, 15])\n"
     ]
    },
    {
     "name": "stderr",
     "output_type": "stream",
     "text": [
      "/its/home/drs25/RoboSkin/Code/NewRigExperiments/data_format.py:90: UserWarning: To copy construct from a tensor, it is recommended to use sourceTensor.clone().detach() or sourceTensor.clone().detach().requires_grad_(True), rather than torch.tensor(sourceTensor).\n",
      "  train_labels_tensor = torch.tensor(one_hot_labels, dtype=torch.float32).to(device)\n"
     ]
    },
    {
     "name": "stdout",
     "output_type": "stream",
     "text": [
      "Epoch [1/100], Step [240/240], Loss: 649.1670\n",
      "Epoch [11/100], Step [240/240], Loss: 94.8296\n",
      "Epoch [21/100], Step [240/240], Loss: 19.5037\n",
      "Epoch [31/100], Step [240/240], Loss: 3.2807\n",
      "Epoch [41/100], Step [240/240], Loss: 0.7833\n",
      "Epoch [51/100], Step [240/240], Loss: 0.4411\n",
      "Epoch [61/100], Step [240/240], Loss: 0.2295\n",
      "Epoch [71/100], Step [240/240], Loss: 0.1760\n",
      "Epoch [81/100], Step [240/240], Loss: 0.1347\n",
      "Epoch [91/100], Step [240/240], Loss: 0.1124\n",
      "Finished Training\n",
      "Commence calculations...\n",
      "Accuracy: 99.9989583441839 %\n",
      "Accuracy: 99.99583350693722 %\n",
      "Results: [0.99998958 0.99995834 0.        ]\n",
      "Dataset size: 3000 \n",
      "Window size: 20 \n",
      "Image: (110, 120)\n",
      "Memory needed: 0.74 GB\n",
      "LOADED DATASET...\n",
      "Memory left 23.59 GB\n",
      "(12000, 4, 110, 120) (12000, 1, 440, 120)\n",
      "Using 4.72 GB\n",
      "torch.Size([12000, 1, 440, 120])\n",
      "torch.Size([12000, 15])\n"
     ]
    },
    {
     "name": "stderr",
     "output_type": "stream",
     "text": [
      "/its/home/drs25/RoboSkin/Code/NewRigExperiments/data_format.py:90: UserWarning: To copy construct from a tensor, it is recommended to use sourceTensor.clone().detach() or sourceTensor.clone().detach().requires_grad_(True), rather than torch.tensor(sourceTensor).\n",
      "  train_labels_tensor = torch.tensor(one_hot_labels, dtype=torch.float32).to(device)\n"
     ]
    },
    {
     "name": "stdout",
     "output_type": "stream",
     "text": [
      "Epoch [1/100], Step [240/240], Loss: 648.5303\n",
      "Epoch [11/100], Step [240/240], Loss: 42.4211\n",
      "Epoch [21/100], Step [240/240], Loss: 5.5908\n",
      "Epoch [31/100], Step [240/240], Loss: 1.3067\n",
      "Epoch [41/100], Step [240/240], Loss: 0.4386\n",
      "Epoch [51/100], Step [240/240], Loss: 0.2693\n",
      "Epoch [61/100], Step [240/240], Loss: 0.1786\n",
      "Epoch [71/100], Step [240/240], Loss: 0.1364\n",
      "Epoch [81/100], Step [240/240], Loss: 0.1117\n",
      "Epoch [91/100], Step [240/240], Loss: 0.0935\n",
      "Finished Training\n",
      "Commence calculations...\n",
      "Accuracy: 99.9989583441839 %\n",
      "Accuracy: 99.99583350693722 %\n",
      "Results: [0.99998958 0.99995834 0.        ]\n",
      "Dataset size: 3000 \n",
      "Window size: 20 \n",
      "Image: (110, 120)\n",
      "Memory needed: 0.74 GB\n",
      "LOADED DATASET...\n",
      "Memory left 23.59 GB\n",
      "(12000, 4, 110, 120) (12000, 1, 440, 120)\n",
      "Using 4.72 GB\n",
      "torch.Size([12000, 1, 440, 120])\n",
      "torch.Size([12000, 15])\n"
     ]
    },
    {
     "name": "stderr",
     "output_type": "stream",
     "text": [
      "/its/home/drs25/RoboSkin/Code/NewRigExperiments/data_format.py:90: UserWarning: To copy construct from a tensor, it is recommended to use sourceTensor.clone().detach() or sourceTensor.clone().detach().requires_grad_(True), rather than torch.tensor(sourceTensor).\n",
      "  train_labels_tensor = torch.tensor(one_hot_labels, dtype=torch.float32).to(device)\n"
     ]
    },
    {
     "name": "stdout",
     "output_type": "stream",
     "text": [
      "Epoch [1/100], Step [240/240], Loss: 649.7232\n",
      "Epoch [11/100], Step [240/240], Loss: 54.1726\n",
      "Epoch [21/100], Step [240/240], Loss: 7.5074\n",
      "Epoch [31/100], Step [240/240], Loss: 1.4484\n",
      "Epoch [41/100], Step [240/240], Loss: 0.4229\n",
      "Epoch [51/100], Step [240/240], Loss: 0.2665\n",
      "Epoch [61/100], Step [240/240], Loss: 0.1881\n",
      "Epoch [71/100], Step [240/240], Loss: 0.1438\n",
      "Epoch [81/100], Step [240/240], Loss: 0.1162\n",
      "Epoch [91/100], Step [240/240], Loss: 0.0941\n",
      "Finished Training\n",
      "Commence calculations...\n",
      "Accuracy: 99.9989583441839 %\n",
      "Accuracy: 99.99583350693722 %\n",
      "Results: [0.99998958 0.99995834 0.        ]\n",
      "Dataset size: 3000 \n",
      "Window size: 20 \n",
      "Image: (110, 120)\n",
      "Memory needed: 0.74 GB\n",
      "LOADED DATASET...\n",
      "Memory left 23.59 GB\n",
      "(12000, 4, 110, 120) (12000, 1, 440, 120)\n",
      "Using 4.72 GB\n",
      "torch.Size([12000, 1, 440, 120])\n",
      "torch.Size([12000, 15])\n"
     ]
    },
    {
     "name": "stderr",
     "output_type": "stream",
     "text": [
      "/its/home/drs25/RoboSkin/Code/NewRigExperiments/data_format.py:90: UserWarning: To copy construct from a tensor, it is recommended to use sourceTensor.clone().detach() or sourceTensor.clone().detach().requires_grad_(True), rather than torch.tensor(sourceTensor).\n",
      "  train_labels_tensor = torch.tensor(one_hot_labels, dtype=torch.float32).to(device)\n"
     ]
    },
    {
     "name": "stdout",
     "output_type": "stream",
     "text": [
      "Epoch [1/100], Step [240/240], Loss: 649.9055\n",
      "Epoch [11/100], Step [240/240], Loss: 67.1395\n",
      "Epoch [21/100], Step [240/240], Loss: 8.2876\n",
      "Epoch [31/100], Step [240/240], Loss: 1.4156\n",
      "Epoch [41/100], Step [240/240], Loss: 0.5564\n",
      "Epoch [51/100], Step [240/240], Loss: 0.3391\n",
      "Epoch [61/100], Step [240/240], Loss: 0.1871\n",
      "Epoch [71/100], Step [240/240], Loss: 0.1509\n",
      "Epoch [81/100], Step [240/240], Loss: 0.1167\n",
      "Epoch [91/100], Step [240/240], Loss: 0.0976\n",
      "Finished Training\n",
      "Commence calculations...\n",
      "Accuracy: 99.9989583441839 %\n",
      "Accuracy: 99.99583350693722 %\n",
      "Results: [0.99998958 0.99995834 0.        ]\n",
      "Dataset size: 3000 \n",
      "Window size: 20 \n",
      "Image: (110, 120)\n",
      "Memory needed: 0.74 GB\n",
      "LOADED DATASET...\n",
      "Memory left 23.59 GB\n",
      "(12000, 4, 110, 120) (12000, 1, 440, 120)\n",
      "Using 4.72 GB\n",
      "torch.Size([12000, 1, 440, 120])\n",
      "torch.Size([12000, 15])\n"
     ]
    },
    {
     "name": "stderr",
     "output_type": "stream",
     "text": [
      "/its/home/drs25/RoboSkin/Code/NewRigExperiments/data_format.py:90: UserWarning: To copy construct from a tensor, it is recommended to use sourceTensor.clone().detach() or sourceTensor.clone().detach().requires_grad_(True), rather than torch.tensor(sourceTensor).\n",
      "  train_labels_tensor = torch.tensor(one_hot_labels, dtype=torch.float32).to(device)\n"
     ]
    },
    {
     "name": "stdout",
     "output_type": "stream",
     "text": [
      "Epoch [1/100], Step [240/240], Loss: 650.2483\n",
      "Epoch [11/100], Step [240/240], Loss: 105.0007\n",
      "Epoch [21/100], Step [240/240], Loss: 12.7099\n",
      "Epoch [31/100], Step [240/240], Loss: 2.6175\n",
      "Epoch [41/100], Step [240/240], Loss: 0.8251\n",
      "Epoch [51/100], Step [240/240], Loss: 0.3645\n",
      "Epoch [61/100], Step [240/240], Loss: 0.2476\n",
      "Epoch [71/100], Step [240/240], Loss: 0.1649\n",
      "Epoch [81/100], Step [240/240], Loss: 0.1242\n",
      "Epoch [91/100], Step [240/240], Loss: 0.1019\n",
      "Finished Training\n",
      "Commence calculations...\n",
      "Accuracy: 99.9989583441839 %\n",
      "Accuracy: 99.99583350693722 %\n",
      "Results: [0.99998958 0.99995834 0.        ]\n"
     ]
    }
   ],
   "source": [
    "## zoom experiments\n",
    "acc=np.zeros((num_trials,3)) #train,test,noisy\n",
    "\n",
    "for i in range(num_trials):\n",
    "    data=loaded(t=T_SIZE,filename=\"X_data_15.npz\")\n",
    "    data.applySobel()\n",
    "    data.zoom_augment([10,20,30,40])\n",
    "    train_loader,test_loader=org_data(data,(len(data.X),1,T_SIZE*data.X.shape[2],data.X.shape[3]))\n",
    "    model,history=run(train_loader,0,4,num_epochs = EPOCHS)\n",
    "    print(\"Commence calculations...\")\n",
    "    acc[i][0]=calc(model,train_loader)\n",
    "    acc[i][1]=calc(model,test_loader)\n",
    "    preds=model(test_data_sliced_tensor)\n",
    "    acc[i][2]=calc_noisy(preds,labels)\n",
    "    print(\"Results:\",acc[i])\n",
    "np.save(path+\"/data/20_TRIALS_CNN_ZOOM_AUGMENTATION\",acc)"
   ]
  },
  {
   "attachments": {},
   "cell_type": "markdown",
   "metadata": {},
   "source": [
    "### experiment with different speeds"
   ]
  },
  {
   "cell_type": "code",
   "execution_count": 11,
   "metadata": {},
   "outputs": [
    {
     "name": "stdout",
     "output_type": "stream",
     "text": [
      "Dataset size: 3000 \n",
      "Window size: 20 \n",
      "Image: (110, 120)\n",
      "Memory needed: 0.74 GB\n",
      "LOADED DATASET...\n",
      "Memory left 23.59 GB\n",
      "(9000, 4, 110, 120) (9000, 1, 440, 120)\n",
      "Using 3.54 GB\n",
      "torch.Size([9000, 1, 440, 120])\n",
      "torch.Size([9000, 15])\n"
     ]
    },
    {
     "name": "stderr",
     "output_type": "stream",
     "text": [
      "/its/home/drs25/RoboSkin/Code/NewRigExperiments/data_format.py:90: UserWarning: To copy construct from a tensor, it is recommended to use sourceTensor.clone().detach() or sourceTensor.clone().detach().requires_grad_(True), rather than torch.tensor(sourceTensor).\n",
      "  train_labels_tensor = torch.tensor(one_hot_labels, dtype=torch.float32).to(device)\n"
     ]
    },
    {
     "name": "stdout",
     "output_type": "stream",
     "text": [
      "Epoch [1/100], Step [180/180], Loss: 485.3604\n",
      "Epoch [11/100], Step [180/180], Loss: 25.1672\n",
      "Epoch [21/100], Step [180/180], Loss: 0.9273\n",
      "Epoch [31/100], Step [180/180], Loss: 0.3135\n",
      "Epoch [41/100], Step [180/180], Loss: 0.1763\n",
      "Epoch [51/100], Step [180/180], Loss: 0.1189\n",
      "Epoch [61/100], Step [180/180], Loss: 0.0875\n",
      "Epoch [71/100], Step [180/180], Loss: 0.0688\n",
      "Epoch [81/100], Step [180/180], Loss: 0.0566\n",
      "Epoch [91/100], Step [180/180], Loss: 0.0475\n",
      "Finished Training\n",
      "Commence calculations...\n",
      "Accuracy: 99.99861113040096 %\n",
      "Accuracy: 99.99444475306927 %\n",
      "Results: [0.99998611 0.99994445 0.        ]\n",
      "Dataset size: 3000 \n",
      "Window size: 20 \n",
      "Image: (110, 120)\n",
      "Memory needed: 0.74 GB\n",
      "LOADED DATASET...\n",
      "Memory left 23.59 GB\n",
      "(9000, 4, 110, 120) (9000, 1, 440, 120)\n",
      "Using 3.54 GB\n",
      "torch.Size([9000, 1, 440, 120])\n",
      "torch.Size([9000, 15])\n"
     ]
    },
    {
     "name": "stderr",
     "output_type": "stream",
     "text": [
      "/its/home/drs25/RoboSkin/Code/NewRigExperiments/data_format.py:90: UserWarning: To copy construct from a tensor, it is recommended to use sourceTensor.clone().detach() or sourceTensor.clone().detach().requires_grad_(True), rather than torch.tensor(sourceTensor).\n",
      "  train_labels_tensor = torch.tensor(one_hot_labels, dtype=torch.float32).to(device)\n"
     ]
    },
    {
     "name": "stdout",
     "output_type": "stream",
     "text": [
      "Epoch [1/100], Step [180/180], Loss: 485.0128\n",
      "Epoch [11/100], Step [180/180], Loss: 17.4700\n",
      "Epoch [21/100], Step [180/180], Loss: 0.6779\n",
      "Epoch [31/100], Step [180/180], Loss: 0.2675\n",
      "Epoch [41/100], Step [180/180], Loss: 0.1579\n",
      "Epoch [51/100], Step [180/180], Loss: 0.1093\n",
      "Epoch [61/100], Step [180/180], Loss: 0.0818\n",
      "Epoch [71/100], Step [180/180], Loss: 0.0646\n",
      "Epoch [81/100], Step [180/180], Loss: 0.0536\n",
      "Epoch [91/100], Step [180/180], Loss: 0.0454\n",
      "Finished Training\n",
      "Commence calculations...\n",
      "Accuracy: 99.99861113040096 %\n",
      "Accuracy: 99.99444475306927 %\n",
      "Results: [0.99998611 0.99994445 0.        ]\n",
      "Dataset size: 3000 \n",
      "Window size: 20 \n",
      "Image: (110, 120)\n",
      "Memory needed: 0.74 GB\n",
      "LOADED DATASET...\n",
      "Memory left 23.59 GB\n",
      "(9000, 4, 110, 120) (9000, 1, 440, 120)\n",
      "Using 3.54 GB\n",
      "torch.Size([9000, 1, 440, 120])\n",
      "torch.Size([9000, 15])\n"
     ]
    },
    {
     "name": "stderr",
     "output_type": "stream",
     "text": [
      "/its/home/drs25/RoboSkin/Code/NewRigExperiments/data_format.py:90: UserWarning: To copy construct from a tensor, it is recommended to use sourceTensor.clone().detach() or sourceTensor.clone().detach().requires_grad_(True), rather than torch.tensor(sourceTensor).\n",
      "  train_labels_tensor = torch.tensor(one_hot_labels, dtype=torch.float32).to(device)\n"
     ]
    },
    {
     "name": "stdout",
     "output_type": "stream",
     "text": [
      "Epoch [1/100], Step [180/180], Loss: 485.1195\n",
      "Epoch [11/100], Step [180/180], Loss: 15.7127\n",
      "Epoch [21/100], Step [180/180], Loss: 0.6618\n",
      "Epoch [31/100], Step [180/180], Loss: 0.2695\n",
      "Epoch [41/100], Step [180/180], Loss: 0.1615\n",
      "Epoch [51/100], Step [180/180], Loss: 0.1099\n",
      "Epoch [61/100], Step [180/180], Loss: 0.0827\n",
      "Epoch [71/100], Step [180/180], Loss: 0.0656\n",
      "Epoch [81/100], Step [180/180], Loss: 0.0542\n",
      "Epoch [91/100], Step [180/180], Loss: 0.0462\n",
      "Finished Training\n",
      "Commence calculations...\n",
      "Accuracy: 99.99861113040096 %\n",
      "Accuracy: 99.99444475306927 %\n",
      "Results: [0.99998611 0.99994445 0.        ]\n",
      "Dataset size: 3000 \n",
      "Window size: 20 \n",
      "Image: (110, 120)\n",
      "Memory needed: 0.74 GB\n",
      "LOADED DATASET...\n",
      "Memory left 23.59 GB\n",
      "(9000, 4, 110, 120) (9000, 1, 440, 120)\n",
      "Using 3.54 GB\n",
      "torch.Size([9000, 1, 440, 120])\n",
      "torch.Size([9000, 15])\n"
     ]
    },
    {
     "name": "stderr",
     "output_type": "stream",
     "text": [
      "/its/home/drs25/RoboSkin/Code/NewRigExperiments/data_format.py:90: UserWarning: To copy construct from a tensor, it is recommended to use sourceTensor.clone().detach() or sourceTensor.clone().detach().requires_grad_(True), rather than torch.tensor(sourceTensor).\n",
      "  train_labels_tensor = torch.tensor(one_hot_labels, dtype=torch.float32).to(device)\n"
     ]
    },
    {
     "name": "stdout",
     "output_type": "stream",
     "text": [
      "Epoch [1/100], Step [180/180], Loss: 484.2601\n",
      "Epoch [11/100], Step [180/180], Loss: 22.1516\n",
      "Epoch [21/100], Step [180/180], Loss: 1.0359\n",
      "Epoch [31/100], Step [180/180], Loss: 0.3199\n",
      "Epoch [41/100], Step [180/180], Loss: 0.1724\n",
      "Epoch [51/100], Step [180/180], Loss: 0.1180\n",
      "Epoch [61/100], Step [180/180], Loss: 0.0877\n",
      "Epoch [71/100], Step [180/180], Loss: 0.0695\n",
      "Epoch [81/100], Step [180/180], Loss: 0.0567\n",
      "Epoch [91/100], Step [180/180], Loss: 0.0479\n",
      "Finished Training\n",
      "Commence calculations...\n",
      "Accuracy: 99.99861113040096 %\n",
      "Accuracy: 99.99444475306927 %\n",
      "Results: [0.99998611 0.99994445 0.        ]\n",
      "Dataset size: 3000 \n",
      "Window size: 20 \n",
      "Image: (110, 120)\n",
      "Memory needed: 0.74 GB\n",
      "LOADED DATASET...\n",
      "Memory left 23.59 GB\n",
      "(9000, 4, 110, 120) (9000, 1, 440, 120)\n",
      "Using 3.54 GB\n",
      "torch.Size([9000, 1, 440, 120])\n",
      "torch.Size([9000, 15])\n"
     ]
    },
    {
     "name": "stderr",
     "output_type": "stream",
     "text": [
      "/its/home/drs25/RoboSkin/Code/NewRigExperiments/data_format.py:90: UserWarning: To copy construct from a tensor, it is recommended to use sourceTensor.clone().detach() or sourceTensor.clone().detach().requires_grad_(True), rather than torch.tensor(sourceTensor).\n",
      "  train_labels_tensor = torch.tensor(one_hot_labels, dtype=torch.float32).to(device)\n"
     ]
    },
    {
     "name": "stdout",
     "output_type": "stream",
     "text": [
      "Epoch [1/100], Step [180/180], Loss: 486.1118\n",
      "Epoch [11/100], Step [180/180], Loss: 19.7760\n",
      "Epoch [21/100], Step [180/180], Loss: 1.0940\n",
      "Epoch [31/100], Step [180/180], Loss: 0.2877\n",
      "Epoch [41/100], Step [180/180], Loss: 0.1738\n",
      "Epoch [51/100], Step [180/180], Loss: 0.1136\n",
      "Epoch [61/100], Step [180/180], Loss: 0.0851\n",
      "Epoch [71/100], Step [180/180], Loss: 0.0672\n",
      "Epoch [81/100], Step [180/180], Loss: 0.0547\n",
      "Epoch [91/100], Step [180/180], Loss: 0.0465\n",
      "Finished Training\n",
      "Commence calculations...\n",
      "Accuracy: 99.99861113040096 %\n",
      "Accuracy: 99.99444475306927 %\n",
      "Results: [0.99998611 0.99994445 0.        ]\n",
      "Dataset size: 3000 \n",
      "Window size: 20 \n",
      "Image: (110, 120)\n",
      "Memory needed: 0.74 GB\n",
      "LOADED DATASET...\n",
      "Memory left 23.59 GB\n",
      "(9000, 4, 110, 120) (9000, 1, 440, 120)\n",
      "Using 3.54 GB\n",
      "torch.Size([9000, 1, 440, 120])\n",
      "torch.Size([9000, 15])\n"
     ]
    },
    {
     "name": "stderr",
     "output_type": "stream",
     "text": [
      "/its/home/drs25/RoboSkin/Code/NewRigExperiments/data_format.py:90: UserWarning: To copy construct from a tensor, it is recommended to use sourceTensor.clone().detach() or sourceTensor.clone().detach().requires_grad_(True), rather than torch.tensor(sourceTensor).\n",
      "  train_labels_tensor = torch.tensor(one_hot_labels, dtype=torch.float32).to(device)\n"
     ]
    },
    {
     "name": "stdout",
     "output_type": "stream",
     "text": [
      "Epoch [1/100], Step [180/180], Loss: 483.7385\n",
      "Epoch [11/100], Step [180/180], Loss: 17.7720\n",
      "Epoch [21/100], Step [180/180], Loss: 0.6800\n",
      "Epoch [31/100], Step [180/180], Loss: 0.2648\n",
      "Epoch [41/100], Step [180/180], Loss: 0.1587\n",
      "Epoch [51/100], Step [180/180], Loss: 0.1119\n",
      "Epoch [61/100], Step [180/180], Loss: 0.0824\n",
      "Epoch [71/100], Step [180/180], Loss: 0.0644\n",
      "Epoch [81/100], Step [180/180], Loss: 0.0539\n",
      "Epoch [91/100], Step [180/180], Loss: 0.0456\n",
      "Finished Training\n",
      "Commence calculations...\n",
      "Accuracy: 99.99861113040096 %\n",
      "Accuracy: 99.99444475306927 %\n",
      "Results: [0.99998611 0.99994445 0.        ]\n",
      "Dataset size: 3000 \n",
      "Window size: 20 \n",
      "Image: (110, 120)\n",
      "Memory needed: 0.74 GB\n",
      "LOADED DATASET...\n",
      "Memory left 23.59 GB\n",
      "(9000, 4, 110, 120) (9000, 1, 440, 120)\n",
      "Using 3.54 GB\n",
      "torch.Size([9000, 1, 440, 120])\n",
      "torch.Size([9000, 15])\n"
     ]
    },
    {
     "name": "stderr",
     "output_type": "stream",
     "text": [
      "/its/home/drs25/RoboSkin/Code/NewRigExperiments/data_format.py:90: UserWarning: To copy construct from a tensor, it is recommended to use sourceTensor.clone().detach() or sourceTensor.clone().detach().requires_grad_(True), rather than torch.tensor(sourceTensor).\n",
      "  train_labels_tensor = torch.tensor(one_hot_labels, dtype=torch.float32).to(device)\n"
     ]
    },
    {
     "name": "stdout",
     "output_type": "stream",
     "text": [
      "Epoch [1/100], Step [180/180], Loss: 485.5065\n",
      "Epoch [11/100], Step [180/180], Loss: 19.8122\n",
      "Epoch [21/100], Step [180/180], Loss: 0.7842\n",
      "Epoch [31/100], Step [180/180], Loss: 0.2838\n",
      "Epoch [41/100], Step [180/180], Loss: 0.1639\n",
      "Epoch [51/100], Step [180/180], Loss: 0.1120\n",
      "Epoch [61/100], Step [180/180], Loss: 0.0846\n",
      "Epoch [71/100], Step [180/180], Loss: 0.0669\n",
      "Epoch [81/100], Step [180/180], Loss: 0.0550\n",
      "Epoch [91/100], Step [180/180], Loss: 0.0466\n",
      "Finished Training\n",
      "Commence calculations...\n",
      "Accuracy: 99.99861113040096 %\n",
      "Accuracy: 99.99444475306927 %\n",
      "Results: [0.99998611 0.99994445 0.        ]\n",
      "Dataset size: 3000 \n",
      "Window size: 20 \n",
      "Image: (110, 120)\n",
      "Memory needed: 0.74 GB\n",
      "LOADED DATASET...\n",
      "Memory left 23.59 GB\n",
      "(9000, 4, 110, 120) (9000, 1, 440, 120)\n",
      "Using 3.54 GB\n",
      "torch.Size([9000, 1, 440, 120])\n",
      "torch.Size([9000, 15])\n"
     ]
    },
    {
     "name": "stderr",
     "output_type": "stream",
     "text": [
      "/its/home/drs25/RoboSkin/Code/NewRigExperiments/data_format.py:90: UserWarning: To copy construct from a tensor, it is recommended to use sourceTensor.clone().detach() or sourceTensor.clone().detach().requires_grad_(True), rather than torch.tensor(sourceTensor).\n",
      "  train_labels_tensor = torch.tensor(one_hot_labels, dtype=torch.float32).to(device)\n"
     ]
    },
    {
     "name": "stdout",
     "output_type": "stream",
     "text": [
      "Epoch [1/100], Step [180/180], Loss: 484.9041\n",
      "Epoch [11/100], Step [180/180], Loss: 20.0081\n",
      "Epoch [21/100], Step [180/180], Loss: 0.9228\n",
      "Epoch [31/100], Step [180/180], Loss: 0.2878\n",
      "Epoch [41/100], Step [180/180], Loss: 0.1650\n",
      "Epoch [51/100], Step [180/180], Loss: 0.1151\n",
      "Epoch [61/100], Step [180/180], Loss: 0.0854\n",
      "Epoch [71/100], Step [180/180], Loss: 0.0669\n",
      "Epoch [81/100], Step [180/180], Loss: 0.0551\n",
      "Epoch [91/100], Step [180/180], Loss: 0.0462\n",
      "Finished Training\n",
      "Commence calculations...\n",
      "Accuracy: 99.99861113040096 %\n",
      "Accuracy: 99.99444475306927 %\n",
      "Results: [0.99998611 0.99994445 0.        ]\n",
      "Dataset size: 3000 \n",
      "Window size: 20 \n",
      "Image: (110, 120)\n",
      "Memory needed: 0.74 GB\n",
      "LOADED DATASET...\n",
      "Memory left 23.59 GB\n",
      "(9000, 4, 110, 120) (9000, 1, 440, 120)\n",
      "Using 3.54 GB\n",
      "torch.Size([9000, 1, 440, 120])\n",
      "torch.Size([9000, 15])\n"
     ]
    },
    {
     "name": "stderr",
     "output_type": "stream",
     "text": [
      "/its/home/drs25/RoboSkin/Code/NewRigExperiments/data_format.py:90: UserWarning: To copy construct from a tensor, it is recommended to use sourceTensor.clone().detach() or sourceTensor.clone().detach().requires_grad_(True), rather than torch.tensor(sourceTensor).\n",
      "  train_labels_tensor = torch.tensor(one_hot_labels, dtype=torch.float32).to(device)\n"
     ]
    },
    {
     "name": "stdout",
     "output_type": "stream",
     "text": [
      "Epoch [1/100], Step [180/180], Loss: 484.7203\n",
      "Epoch [11/100], Step [180/180], Loss: 20.6192\n",
      "Epoch [21/100], Step [180/180], Loss: 0.7522\n",
      "Epoch [31/100], Step [180/180], Loss: 0.2903\n",
      "Epoch [41/100], Step [180/180], Loss: 0.1687\n",
      "Epoch [51/100], Step [180/180], Loss: 0.1126\n",
      "Epoch [61/100], Step [180/180], Loss: 0.0841\n",
      "Epoch [71/100], Step [180/180], Loss: 0.0679\n",
      "Epoch [81/100], Step [180/180], Loss: 0.0552\n",
      "Epoch [91/100], Step [180/180], Loss: 0.0467\n",
      "Finished Training\n",
      "Commence calculations...\n",
      "Accuracy: 99.99861113040096 %\n",
      "Accuracy: 99.99444475306927 %\n",
      "Results: [0.99998611 0.99994445 0.        ]\n",
      "Dataset size: 3000 \n",
      "Window size: 20 \n",
      "Image: (110, 120)\n",
      "Memory needed: 0.74 GB\n",
      "LOADED DATASET...\n",
      "Memory left 23.59 GB\n",
      "(9000, 4, 110, 120) (9000, 1, 440, 120)\n",
      "Using 3.54 GB\n",
      "torch.Size([9000, 1, 440, 120])\n",
      "torch.Size([9000, 15])\n"
     ]
    },
    {
     "name": "stderr",
     "output_type": "stream",
     "text": [
      "/its/home/drs25/RoboSkin/Code/NewRigExperiments/data_format.py:90: UserWarning: To copy construct from a tensor, it is recommended to use sourceTensor.clone().detach() or sourceTensor.clone().detach().requires_grad_(True), rather than torch.tensor(sourceTensor).\n",
      "  train_labels_tensor = torch.tensor(one_hot_labels, dtype=torch.float32).to(device)\n"
     ]
    },
    {
     "name": "stdout",
     "output_type": "stream",
     "text": [
      "Epoch [1/100], Step [180/180], Loss: 478.3356\n",
      "Epoch [11/100], Step [180/180], Loss: 18.2836\n",
      "Epoch [21/100], Step [180/180], Loss: 0.9747\n",
      "Epoch [31/100], Step [180/180], Loss: 0.2848\n",
      "Epoch [41/100], Step [180/180], Loss: 0.1621\n",
      "Epoch [51/100], Step [180/180], Loss: 0.1111\n",
      "Epoch [61/100], Step [180/180], Loss: 0.0827\n",
      "Epoch [71/100], Step [180/180], Loss: 0.0659\n",
      "Epoch [81/100], Step [180/180], Loss: 0.0546\n",
      "Epoch [91/100], Step [180/180], Loss: 0.0458\n",
      "Finished Training\n",
      "Commence calculations...\n",
      "Accuracy: 99.99861113040096 %\n",
      "Accuracy: 99.99444475306927 %\n",
      "Results: [0.99998611 0.99994445 0.        ]\n",
      "Dataset size: 3000 \n",
      "Window size: 20 \n",
      "Image: (110, 120)\n",
      "Memory needed: 0.74 GB\n",
      "LOADED DATASET...\n",
      "Memory left 23.59 GB\n",
      "(9000, 4, 110, 120) (9000, 1, 440, 120)\n",
      "Using 3.54 GB\n",
      "torch.Size([9000, 1, 440, 120])\n",
      "torch.Size([9000, 15])\n"
     ]
    },
    {
     "name": "stderr",
     "output_type": "stream",
     "text": [
      "/its/home/drs25/RoboSkin/Code/NewRigExperiments/data_format.py:90: UserWarning: To copy construct from a tensor, it is recommended to use sourceTensor.clone().detach() or sourceTensor.clone().detach().requires_grad_(True), rather than torch.tensor(sourceTensor).\n",
      "  train_labels_tensor = torch.tensor(one_hot_labels, dtype=torch.float32).to(device)\n"
     ]
    },
    {
     "name": "stdout",
     "output_type": "stream",
     "text": [
      "Epoch [1/100], Step [180/180], Loss: 484.4912\n",
      "Epoch [11/100], Step [180/180], Loss: 24.5143\n",
      "Epoch [21/100], Step [180/180], Loss: 1.2768\n",
      "Epoch [31/100], Step [180/180], Loss: 0.3110\n",
      "Epoch [41/100], Step [180/180], Loss: 0.1717\n",
      "Epoch [51/100], Step [180/180], Loss: 0.1170\n",
      "Epoch [61/100], Step [180/180], Loss: 0.0872\n",
      "Epoch [71/100], Step [180/180], Loss: 0.0690\n",
      "Epoch [81/100], Step [180/180], Loss: 0.0564\n",
      "Epoch [91/100], Step [180/180], Loss: 0.0472\n",
      "Finished Training\n",
      "Commence calculations...\n",
      "Accuracy: 99.99861113040096 %\n",
      "Accuracy: 99.99444475306927 %\n",
      "Results: [0.99998611 0.99994445 0.        ]\n",
      "Dataset size: 3000 \n",
      "Window size: 20 \n",
      "Image: (110, 120)\n",
      "Memory needed: 0.74 GB\n",
      "LOADED DATASET...\n",
      "Memory left 23.59 GB\n",
      "(9000, 4, 110, 120) (9000, 1, 440, 120)\n",
      "Using 3.54 GB\n",
      "torch.Size([9000, 1, 440, 120])\n",
      "torch.Size([9000, 15])\n"
     ]
    },
    {
     "name": "stderr",
     "output_type": "stream",
     "text": [
      "/its/home/drs25/RoboSkin/Code/NewRigExperiments/data_format.py:90: UserWarning: To copy construct from a tensor, it is recommended to use sourceTensor.clone().detach() or sourceTensor.clone().detach().requires_grad_(True), rather than torch.tensor(sourceTensor).\n",
      "  train_labels_tensor = torch.tensor(one_hot_labels, dtype=torch.float32).to(device)\n"
     ]
    },
    {
     "name": "stdout",
     "output_type": "stream",
     "text": [
      "Epoch [1/100], Step [180/180], Loss: 485.7463\n",
      "Epoch [11/100], Step [180/180], Loss: 20.0450\n",
      "Epoch [21/100], Step [180/180], Loss: 0.9487\n",
      "Epoch [31/100], Step [180/180], Loss: 0.3021\n",
      "Epoch [41/100], Step [180/180], Loss: 0.1709\n",
      "Epoch [51/100], Step [180/180], Loss: 0.1167\n",
      "Epoch [61/100], Step [180/180], Loss: 0.0869\n",
      "Epoch [71/100], Step [180/180], Loss: 0.0694\n",
      "Epoch [81/100], Step [180/180], Loss: 0.0562\n",
      "Epoch [91/100], Step [180/180], Loss: 0.0477\n",
      "Finished Training\n",
      "Commence calculations...\n",
      "Accuracy: 99.99861113040096 %\n",
      "Accuracy: 99.99444475306927 %\n",
      "Results: [0.99998611 0.99994445 0.        ]\n",
      "Dataset size: 3000 \n",
      "Window size: 20 \n",
      "Image: (110, 120)\n",
      "Memory needed: 0.74 GB\n",
      "LOADED DATASET...\n",
      "Memory left 23.59 GB\n",
      "(9000, 4, 110, 120) (9000, 1, 440, 120)\n",
      "Using 3.54 GB\n",
      "torch.Size([9000, 1, 440, 120])\n",
      "torch.Size([9000, 15])\n"
     ]
    },
    {
     "name": "stderr",
     "output_type": "stream",
     "text": [
      "/its/home/drs25/RoboSkin/Code/NewRigExperiments/data_format.py:90: UserWarning: To copy construct from a tensor, it is recommended to use sourceTensor.clone().detach() or sourceTensor.clone().detach().requires_grad_(True), rather than torch.tensor(sourceTensor).\n",
      "  train_labels_tensor = torch.tensor(one_hot_labels, dtype=torch.float32).to(device)\n"
     ]
    },
    {
     "name": "stdout",
     "output_type": "stream",
     "text": [
      "Epoch [1/100], Step [180/180], Loss: 475.1182\n",
      "Epoch [11/100], Step [180/180], Loss: 18.1963\n",
      "Epoch [21/100], Step [180/180], Loss: 0.8819\n",
      "Epoch [31/100], Step [180/180], Loss: 0.2651\n",
      "Epoch [41/100], Step [180/180], Loss: 0.1563\n",
      "Epoch [51/100], Step [180/180], Loss: 0.1082\n",
      "Epoch [61/100], Step [180/180], Loss: 0.0810\n",
      "Epoch [71/100], Step [180/180], Loss: 0.0638\n",
      "Epoch [81/100], Step [180/180], Loss: 0.0528\n",
      "Epoch [91/100], Step [180/180], Loss: 0.0449\n",
      "Finished Training\n",
      "Commence calculations...\n",
      "Accuracy: 99.99861113040096 %\n",
      "Accuracy: 99.99444475306927 %\n",
      "Results: [0.99998611 0.99994445 0.        ]\n",
      "Dataset size: 3000 \n",
      "Window size: 20 \n",
      "Image: (110, 120)\n",
      "Memory needed: 0.74 GB\n",
      "LOADED DATASET...\n",
      "Memory left 23.59 GB\n",
      "(9000, 4, 110, 120) (9000, 1, 440, 120)\n",
      "Using 3.54 GB\n",
      "torch.Size([9000, 1, 440, 120])\n",
      "torch.Size([9000, 15])\n"
     ]
    },
    {
     "name": "stderr",
     "output_type": "stream",
     "text": [
      "/its/home/drs25/RoboSkin/Code/NewRigExperiments/data_format.py:90: UserWarning: To copy construct from a tensor, it is recommended to use sourceTensor.clone().detach() or sourceTensor.clone().detach().requires_grad_(True), rather than torch.tensor(sourceTensor).\n",
      "  train_labels_tensor = torch.tensor(one_hot_labels, dtype=torch.float32).to(device)\n"
     ]
    },
    {
     "name": "stdout",
     "output_type": "stream",
     "text": [
      "Epoch [1/100], Step [180/180], Loss: 485.4209\n",
      "Epoch [11/100], Step [180/180], Loss: 17.6467\n",
      "Epoch [21/100], Step [180/180], Loss: 1.1896\n",
      "Epoch [31/100], Step [180/180], Loss: 0.2913\n",
      "Epoch [41/100], Step [180/180], Loss: 0.1688\n",
      "Epoch [51/100], Step [180/180], Loss: 0.1145\n",
      "Epoch [61/100], Step [180/180], Loss: 0.0874\n",
      "Epoch [71/100], Step [180/180], Loss: 0.0687\n",
      "Epoch [81/100], Step [180/180], Loss: 0.0558\n",
      "Epoch [91/100], Step [180/180], Loss: 0.0473\n",
      "Finished Training\n",
      "Commence calculations...\n",
      "Accuracy: 99.99861113040096 %\n",
      "Accuracy: 99.99444475306927 %\n",
      "Results: [0.99998611 0.99994445 0.        ]\n",
      "Dataset size: 3000 \n",
      "Window size: 20 \n",
      "Image: (110, 120)\n",
      "Memory needed: 0.74 GB\n",
      "LOADED DATASET...\n",
      "Memory left 23.59 GB\n",
      "(9000, 4, 110, 120) (9000, 1, 440, 120)\n",
      "Using 3.54 GB\n",
      "torch.Size([9000, 1, 440, 120])\n",
      "torch.Size([9000, 15])\n"
     ]
    },
    {
     "name": "stderr",
     "output_type": "stream",
     "text": [
      "/its/home/drs25/RoboSkin/Code/NewRigExperiments/data_format.py:90: UserWarning: To copy construct from a tensor, it is recommended to use sourceTensor.clone().detach() or sourceTensor.clone().detach().requires_grad_(True), rather than torch.tensor(sourceTensor).\n",
      "  train_labels_tensor = torch.tensor(one_hot_labels, dtype=torch.float32).to(device)\n"
     ]
    },
    {
     "name": "stdout",
     "output_type": "stream",
     "text": [
      "Epoch [1/100], Step [180/180], Loss: 485.4393\n",
      "Epoch [11/100], Step [180/180], Loss: 20.2466\n",
      "Epoch [21/100], Step [180/180], Loss: 0.8339\n",
      "Epoch [31/100], Step [180/180], Loss: 0.2933\n",
      "Epoch [41/100], Step [180/180], Loss: 0.1704\n",
      "Epoch [51/100], Step [180/180], Loss: 0.1161\n",
      "Epoch [61/100], Step [180/180], Loss: 0.0868\n",
      "Epoch [71/100], Step [180/180], Loss: 0.0676\n",
      "Epoch [81/100], Step [180/180], Loss: 0.0558\n",
      "Epoch [91/100], Step [180/180], Loss: 0.0466\n",
      "Finished Training\n",
      "Commence calculations...\n",
      "Accuracy: 99.99861113040096 %\n",
      "Accuracy: 99.99444475306927 %\n",
      "Results: [0.99998611 0.99994445 0.        ]\n",
      "Dataset size: 3000 \n",
      "Window size: 20 \n",
      "Image: (110, 120)\n",
      "Memory needed: 0.74 GB\n",
      "LOADED DATASET...\n",
      "Memory left 23.59 GB\n",
      "(9000, 4, 110, 120) (9000, 1, 440, 120)\n",
      "Using 3.54 GB\n",
      "torch.Size([9000, 1, 440, 120])\n",
      "torch.Size([9000, 15])\n"
     ]
    },
    {
     "name": "stderr",
     "output_type": "stream",
     "text": [
      "/its/home/drs25/RoboSkin/Code/NewRigExperiments/data_format.py:90: UserWarning: To copy construct from a tensor, it is recommended to use sourceTensor.clone().detach() or sourceTensor.clone().detach().requires_grad_(True), rather than torch.tensor(sourceTensor).\n",
      "  train_labels_tensor = torch.tensor(one_hot_labels, dtype=torch.float32).to(device)\n"
     ]
    },
    {
     "name": "stdout",
     "output_type": "stream",
     "text": [
      "Epoch [1/100], Step [180/180], Loss: 483.9444\n",
      "Epoch [11/100], Step [180/180], Loss: 19.8154\n",
      "Epoch [21/100], Step [180/180], Loss: 1.0471\n",
      "Epoch [31/100], Step [180/180], Loss: 0.2790\n",
      "Epoch [41/100], Step [180/180], Loss: 0.1632\n",
      "Epoch [51/100], Step [180/180], Loss: 0.1157\n",
      "Epoch [61/100], Step [180/180], Loss: 0.0846\n",
      "Epoch [71/100], Step [180/180], Loss: 0.0675\n",
      "Epoch [81/100], Step [180/180], Loss: 0.0550\n",
      "Epoch [91/100], Step [180/180], Loss: 0.0461\n",
      "Finished Training\n",
      "Commence calculations...\n",
      "Accuracy: 99.99861113040096 %\n",
      "Accuracy: 99.99444475306927 %\n",
      "Results: [0.99998611 0.99994445 0.        ]\n",
      "Dataset size: 3000 \n",
      "Window size: 20 \n",
      "Image: (110, 120)\n",
      "Memory needed: 0.74 GB\n",
      "LOADED DATASET...\n",
      "Memory left 23.59 GB\n",
      "(9000, 4, 110, 120) (9000, 1, 440, 120)\n",
      "Using 3.54 GB\n",
      "torch.Size([9000, 1, 440, 120])\n",
      "torch.Size([9000, 15])\n"
     ]
    },
    {
     "name": "stderr",
     "output_type": "stream",
     "text": [
      "/its/home/drs25/RoboSkin/Code/NewRigExperiments/data_format.py:90: UserWarning: To copy construct from a tensor, it is recommended to use sourceTensor.clone().detach() or sourceTensor.clone().detach().requires_grad_(True), rather than torch.tensor(sourceTensor).\n",
      "  train_labels_tensor = torch.tensor(one_hot_labels, dtype=torch.float32).to(device)\n"
     ]
    },
    {
     "name": "stdout",
     "output_type": "stream",
     "text": [
      "Epoch [1/100], Step [180/180], Loss: 484.5196\n",
      "Epoch [11/100], Step [180/180], Loss: 19.7298\n",
      "Epoch [21/100], Step [180/180], Loss: 0.7568\n",
      "Epoch [31/100], Step [180/180], Loss: 0.2816\n",
      "Epoch [41/100], Step [180/180], Loss: 0.1680\n",
      "Epoch [51/100], Step [180/180], Loss: 0.1115\n",
      "Epoch [61/100], Step [180/180], Loss: 0.0839\n",
      "Epoch [71/100], Step [180/180], Loss: 0.0670\n",
      "Epoch [81/100], Step [180/180], Loss: 0.0541\n",
      "Epoch [91/100], Step [180/180], Loss: 0.0465\n",
      "Finished Training\n",
      "Commence calculations...\n",
      "Accuracy: 99.99861113040096 %\n",
      "Accuracy: 99.99444475306927 %\n",
      "Results: [0.99998611 0.99994445 0.        ]\n",
      "Dataset size: 3000 \n",
      "Window size: 20 \n",
      "Image: (110, 120)\n",
      "Memory needed: 0.74 GB\n",
      "LOADED DATASET...\n",
      "Memory left 23.59 GB\n",
      "(9000, 4, 110, 120) (9000, 1, 440, 120)\n",
      "Using 3.54 GB\n",
      "torch.Size([9000, 1, 440, 120])\n",
      "torch.Size([9000, 15])\n"
     ]
    },
    {
     "name": "stderr",
     "output_type": "stream",
     "text": [
      "/its/home/drs25/RoboSkin/Code/NewRigExperiments/data_format.py:90: UserWarning: To copy construct from a tensor, it is recommended to use sourceTensor.clone().detach() or sourceTensor.clone().detach().requires_grad_(True), rather than torch.tensor(sourceTensor).\n",
      "  train_labels_tensor = torch.tensor(one_hot_labels, dtype=torch.float32).to(device)\n"
     ]
    },
    {
     "name": "stdout",
     "output_type": "stream",
     "text": [
      "Epoch [1/100], Step [180/180], Loss: 484.6801\n",
      "Epoch [11/100], Step [180/180], Loss: 16.3481\n",
      "Epoch [21/100], Step [180/180], Loss: 0.6829\n",
      "Epoch [31/100], Step [180/180], Loss: 0.2830\n",
      "Epoch [41/100], Step [180/180], Loss: 0.1626\n",
      "Epoch [51/100], Step [180/180], Loss: 0.1134\n",
      "Epoch [61/100], Step [180/180], Loss: 0.0859\n",
      "Epoch [71/100], Step [180/180], Loss: 0.0671\n",
      "Epoch [81/100], Step [180/180], Loss: 0.0548\n",
      "Epoch [91/100], Step [180/180], Loss: 0.0470\n",
      "Finished Training\n",
      "Commence calculations...\n",
      "Accuracy: 99.99861113040096 %\n",
      "Accuracy: 99.99444475306927 %\n",
      "Results: [0.99998611 0.99994445 0.        ]\n",
      "Dataset size: 3000 \n",
      "Window size: 20 \n",
      "Image: (110, 120)\n",
      "Memory needed: 0.74 GB\n",
      "LOADED DATASET...\n",
      "Memory left 23.59 GB\n",
      "(9000, 4, 110, 120) (9000, 1, 440, 120)\n",
      "Using 3.54 GB\n",
      "torch.Size([9000, 1, 440, 120])\n",
      "torch.Size([9000, 15])\n"
     ]
    },
    {
     "name": "stderr",
     "output_type": "stream",
     "text": [
      "/its/home/drs25/RoboSkin/Code/NewRigExperiments/data_format.py:90: UserWarning: To copy construct from a tensor, it is recommended to use sourceTensor.clone().detach() or sourceTensor.clone().detach().requires_grad_(True), rather than torch.tensor(sourceTensor).\n",
      "  train_labels_tensor = torch.tensor(one_hot_labels, dtype=torch.float32).to(device)\n"
     ]
    },
    {
     "name": "stdout",
     "output_type": "stream",
     "text": [
      "Epoch [1/100], Step [180/180], Loss: 481.2628\n",
      "Epoch [11/100], Step [180/180], Loss: 21.2275\n",
      "Epoch [21/100], Step [180/180], Loss: 0.9144\n",
      "Epoch [31/100], Step [180/180], Loss: 0.2971\n",
      "Epoch [41/100], Step [180/180], Loss: 0.1666\n",
      "Epoch [51/100], Step [180/180], Loss: 0.1146\n",
      "Epoch [61/100], Step [180/180], Loss: 0.0853\n",
      "Epoch [71/100], Step [180/180], Loss: 0.0677\n",
      "Epoch [81/100], Step [180/180], Loss: 0.0546\n",
      "Epoch [91/100], Step [180/180], Loss: 0.0462\n",
      "Finished Training\n",
      "Commence calculations...\n",
      "Accuracy: 99.99861113040096 %\n",
      "Accuracy: 99.99444475306927 %\n",
      "Results: [0.99998611 0.99994445 0.        ]\n",
      "Dataset size: 3000 \n",
      "Window size: 20 \n",
      "Image: (110, 120)\n",
      "Memory needed: 0.74 GB\n",
      "LOADED DATASET...\n",
      "Memory left 23.59 GB\n",
      "(9000, 4, 110, 120) (9000, 1, 440, 120)\n",
      "Using 3.54 GB\n",
      "torch.Size([9000, 1, 440, 120])\n",
      "torch.Size([9000, 15])\n"
     ]
    },
    {
     "name": "stderr",
     "output_type": "stream",
     "text": [
      "/its/home/drs25/RoboSkin/Code/NewRigExperiments/data_format.py:90: UserWarning: To copy construct from a tensor, it is recommended to use sourceTensor.clone().detach() or sourceTensor.clone().detach().requires_grad_(True), rather than torch.tensor(sourceTensor).\n",
      "  train_labels_tensor = torch.tensor(one_hot_labels, dtype=torch.float32).to(device)\n"
     ]
    },
    {
     "name": "stdout",
     "output_type": "stream",
     "text": [
      "Epoch [1/100], Step [180/180], Loss: 485.0050\n",
      "Epoch [11/100], Step [180/180], Loss: 19.0047\n",
      "Epoch [21/100], Step [180/180], Loss: 0.8216\n",
      "Epoch [31/100], Step [180/180], Loss: 0.3436\n",
      "Epoch [41/100], Step [180/180], Loss: 0.1634\n",
      "Epoch [51/100], Step [180/180], Loss: 0.1120\n",
      "Epoch [61/100], Step [180/180], Loss: 0.0838\n",
      "Epoch [71/100], Step [180/180], Loss: 0.0663\n",
      "Epoch [81/100], Step [180/180], Loss: 0.0545\n",
      "Epoch [91/100], Step [180/180], Loss: 0.0459\n",
      "Finished Training\n",
      "Commence calculations...\n",
      "Accuracy: 99.99861113040096 %\n",
      "Accuracy: 99.99444475306927 %\n",
      "Results: [0.99998611 0.99994445 0.        ]\n"
     ]
    }
   ],
   "source": [
    "acc=np.zeros((num_trials,3)) #train,test,noisy\n",
    "\n",
    "for i in range(num_trials):\n",
    "    data=loaded(t=-1,filename=\"X_data_15.npz\")\n",
    "    data.applySobel()\n",
    "    data.speed_augment(t=4)\n",
    "    train_loader,test_loader=org_data(data,(len(data.X),1,T_SIZE*data.X.shape[2],data.X.shape[3]))\n",
    "    model,history=run(train_loader,0,4,num_epochs = EPOCHS)\n",
    "    print(\"Commence calculations...\")\n",
    "    acc[i][0]=calc(model,train_loader)\n",
    "    acc[i][1]=calc(model,test_loader)\n",
    "    preds=model(test_data_sliced_tensor)\n",
    "    acc[i][2]=calc_noisy(preds,labels)\n",
    "    print(\"Results:\",acc[i])\n",
    "np.save(path+\"/data/20_TRIALS_CNN_SPEED_AUGMENTATION\",acc)"
   ]
  },
  {
   "attachments": {},
   "cell_type": "markdown",
   "metadata": {},
   "source": [
    "### orientation augment"
   ]
  },
  {
   "cell_type": "code",
   "execution_count": 12,
   "metadata": {},
   "outputs": [
    {
     "name": "stdout",
     "output_type": "stream",
     "text": [
      "Dataset size: 3000 \n",
      "Window size: 20 \n",
      "Image: (110, 120)\n",
      "Memory needed: 0.74 GB\n",
      "Dataset size: 9000 \n",
      "Window size: 4 \n",
      "Image: (110, 120)\n",
      "Memory needed: 0.44 GB\n",
      "LOADED DATASET...\n",
      "Memory left 23.59 GB\n",
      "(9000, 4, 110, 120) (9000, 1, 440, 120)\n",
      "Using 3.54 GB\n",
      "torch.Size([9000, 1, 440, 120])\n",
      "torch.Size([9000, 15])\n"
     ]
    },
    {
     "name": "stderr",
     "output_type": "stream",
     "text": [
      "/its/home/drs25/RoboSkin/Code/NewRigExperiments/data_format.py:90: UserWarning: To copy construct from a tensor, it is recommended to use sourceTensor.clone().detach() or sourceTensor.clone().detach().requires_grad_(True), rather than torch.tensor(sourceTensor).\n",
      "  train_labels_tensor = torch.tensor(one_hot_labels, dtype=torch.float32).to(device)\n"
     ]
    },
    {
     "name": "stdout",
     "output_type": "stream",
     "text": [
      "Epoch [1/100], Step [180/180], Loss: 487.4223\n",
      "Epoch [11/100], Step [180/180], Loss: 131.3247\n",
      "Epoch [21/100], Step [180/180], Loss: 27.2487\n",
      "Epoch [31/100], Step [180/180], Loss: 8.5030\n",
      "Epoch [41/100], Step [180/180], Loss: 2.7641\n",
      "Epoch [51/100], Step [180/180], Loss: 1.1623\n",
      "Epoch [61/100], Step [180/180], Loss: 0.2506\n",
      "Epoch [71/100], Step [180/180], Loss: 0.1479\n",
      "Epoch [81/100], Step [180/180], Loss: 0.1103\n",
      "Epoch [91/100], Step [180/180], Loss: 0.0853\n",
      "Finished Training\n",
      "Commence calculations...\n",
      "Accuracy: 99.99861113040096 %\n",
      "Accuracy: 99.93889228376202 %\n",
      "Results: [0.99998611 0.99938892 0.        ]\n",
      "Dataset size: 3000 \n",
      "Window size: 20 \n",
      "Image: (110, 120)\n",
      "Memory needed: 0.74 GB\n",
      "Dataset size: 9000 \n",
      "Window size: 4 \n",
      "Image: (110, 120)\n",
      "Memory needed: 0.44 GB\n",
      "LOADED DATASET...\n",
      "Memory left 23.59 GB\n",
      "(9000, 4, 110, 120) (9000, 1, 440, 120)\n",
      "Using 3.54 GB\n",
      "torch.Size([9000, 1, 440, 120])\n",
      "torch.Size([9000, 15])\n"
     ]
    },
    {
     "name": "stderr",
     "output_type": "stream",
     "text": [
      "/its/home/drs25/RoboSkin/Code/NewRigExperiments/data_format.py:90: UserWarning: To copy construct from a tensor, it is recommended to use sourceTensor.clone().detach() or sourceTensor.clone().detach().requires_grad_(True), rather than torch.tensor(sourceTensor).\n",
      "  train_labels_tensor = torch.tensor(one_hot_labels, dtype=torch.float32).to(device)\n"
     ]
    },
    {
     "name": "stdout",
     "output_type": "stream",
     "text": [
      "Epoch [1/100], Step [180/180], Loss: 486.2532\n",
      "Epoch [11/100], Step [180/180], Loss: 76.7832\n",
      "Epoch [21/100], Step [180/180], Loss: 23.8296\n",
      "Epoch [31/100], Step [180/180], Loss: 7.9138\n",
      "Epoch [41/100], Step [180/180], Loss: 1.5108\n",
      "Epoch [51/100], Step [180/180], Loss: 0.5081\n",
      "Epoch [61/100], Step [180/180], Loss: 0.1975\n",
      "Epoch [71/100], Step [180/180], Loss: 0.1265\n",
      "Epoch [81/100], Step [180/180], Loss: 0.1008\n",
      "Epoch [91/100], Step [180/180], Loss: 0.0795\n",
      "Finished Training\n",
      "Commence calculations...\n",
      "Accuracy: 99.99861113040096 %\n",
      "Accuracy: 99.99444475306927 %\n",
      "Results: [0.99998611 0.99994445 0.        ]\n",
      "Dataset size: 3000 \n",
      "Window size: 20 \n",
      "Image: (110, 120)\n",
      "Memory needed: 0.74 GB\n",
      "Dataset size: 9000 \n",
      "Window size: 4 \n",
      "Image: (110, 120)\n",
      "Memory needed: 0.44 GB\n",
      "LOADED DATASET...\n",
      "Memory left 23.59 GB\n",
      "(9000, 4, 110, 120) (9000, 1, 440, 120)\n",
      "Using 3.54 GB\n",
      "torch.Size([9000, 1, 440, 120])\n",
      "torch.Size([9000, 15])\n"
     ]
    },
    {
     "name": "stderr",
     "output_type": "stream",
     "text": [
      "/its/home/drs25/RoboSkin/Code/NewRigExperiments/data_format.py:90: UserWarning: To copy construct from a tensor, it is recommended to use sourceTensor.clone().detach() or sourceTensor.clone().detach().requires_grad_(True), rather than torch.tensor(sourceTensor).\n",
      "  train_labels_tensor = torch.tensor(one_hot_labels, dtype=torch.float32).to(device)\n"
     ]
    },
    {
     "name": "stdout",
     "output_type": "stream",
     "text": [
      "Epoch [1/100], Step [180/180], Loss: 486.3710\n",
      "Epoch [11/100], Step [180/180], Loss: 65.6846\n",
      "Epoch [21/100], Step [180/180], Loss: 19.3932\n",
      "Epoch [31/100], Step [180/180], Loss: 4.6804\n",
      "Epoch [41/100], Step [180/180], Loss: 1.2141\n",
      "Epoch [51/100], Step [180/180], Loss: 0.4065\n",
      "Epoch [61/100], Step [180/180], Loss: 0.1582\n",
      "Epoch [71/100], Step [180/180], Loss: 0.1176\n",
      "Epoch [81/100], Step [180/180], Loss: 0.0980\n",
      "Epoch [91/100], Step [180/180], Loss: 0.0762\n",
      "Finished Training\n",
      "Commence calculations...\n",
      "Accuracy: 99.99861113040096 %\n",
      "Accuracy: 99.99444475306927 %\n",
      "Results: [0.99998611 0.99994445 0.        ]\n",
      "Dataset size: 3000 \n",
      "Window size: 20 \n",
      "Image: (110, 120)\n",
      "Memory needed: 0.74 GB\n",
      "Dataset size: 9000 \n",
      "Window size: 4 \n",
      "Image: (110, 120)\n",
      "Memory needed: 0.44 GB\n",
      "LOADED DATASET...\n",
      "Memory left 23.59 GB\n",
      "(9000, 4, 110, 120) (9000, 1, 440, 120)\n",
      "Using 3.54 GB\n",
      "torch.Size([9000, 1, 440, 120])\n",
      "torch.Size([9000, 15])\n"
     ]
    },
    {
     "name": "stderr",
     "output_type": "stream",
     "text": [
      "/its/home/drs25/RoboSkin/Code/NewRigExperiments/data_format.py:90: UserWarning: To copy construct from a tensor, it is recommended to use sourceTensor.clone().detach() or sourceTensor.clone().detach().requires_grad_(True), rather than torch.tensor(sourceTensor).\n",
      "  train_labels_tensor = torch.tensor(one_hot_labels, dtype=torch.float32).to(device)\n"
     ]
    },
    {
     "name": "stdout",
     "output_type": "stream",
     "text": [
      "Epoch [1/100], Step [180/180], Loss: 486.7079\n",
      "Epoch [11/100], Step [180/180], Loss: 77.9052\n",
      "Epoch [21/100], Step [180/180], Loss: 24.0095\n",
      "Epoch [31/100], Step [180/180], Loss: 8.5912\n",
      "Epoch [41/100], Step [180/180], Loss: 1.4290\n",
      "Epoch [51/100], Step [180/180], Loss: 0.4122\n",
      "Epoch [61/100], Step [180/180], Loss: 0.1861\n",
      "Epoch [71/100], Step [180/180], Loss: 0.1256\n",
      "Epoch [81/100], Step [180/180], Loss: 0.0984\n",
      "Epoch [91/100], Step [180/180], Loss: 0.0799\n",
      "Finished Training\n",
      "Commence calculations...\n",
      "Accuracy: 99.99861113040096 %\n",
      "Accuracy: 99.99444475306927 %\n",
      "Results: [0.99998611 0.99994445 0.        ]\n",
      "Dataset size: 3000 \n",
      "Window size: 20 \n",
      "Image: (110, 120)\n",
      "Memory needed: 0.74 GB\n",
      "Dataset size: 9000 \n",
      "Window size: 4 \n",
      "Image: (110, 120)\n",
      "Memory needed: 0.44 GB\n",
      "LOADED DATASET...\n",
      "Memory left 23.59 GB\n",
      "(9000, 4, 110, 120) (9000, 1, 440, 120)\n",
      "Using 3.54 GB\n",
      "torch.Size([9000, 1, 440, 120])\n",
      "torch.Size([9000, 15])\n"
     ]
    },
    {
     "name": "stderr",
     "output_type": "stream",
     "text": [
      "/its/home/drs25/RoboSkin/Code/NewRigExperiments/data_format.py:90: UserWarning: To copy construct from a tensor, it is recommended to use sourceTensor.clone().detach() or sourceTensor.clone().detach().requires_grad_(True), rather than torch.tensor(sourceTensor).\n",
      "  train_labels_tensor = torch.tensor(one_hot_labels, dtype=torch.float32).to(device)\n"
     ]
    },
    {
     "name": "stdout",
     "output_type": "stream",
     "text": [
      "Epoch [1/100], Step [180/180], Loss: 487.1255\n",
      "Epoch [11/100], Step [180/180], Loss: 93.9151\n",
      "Epoch [21/100], Step [180/180], Loss: 25.9567\n",
      "Epoch [31/100], Step [180/180], Loss: 8.0195\n",
      "Epoch [41/100], Step [180/180], Loss: 1.4373\n",
      "Epoch [51/100], Step [180/180], Loss: 0.4268\n",
      "Epoch [61/100], Step [180/180], Loss: 0.3219\n",
      "Epoch [71/100], Step [180/180], Loss: 0.1235\n",
      "Epoch [81/100], Step [180/180], Loss: 0.0997\n",
      "Epoch [91/100], Step [180/180], Loss: 0.0782\n",
      "Finished Training\n",
      "Commence calculations...\n",
      "Accuracy: 99.99861113040096 %\n",
      "Accuracy: 99.93889228376202 %\n",
      "Results: [0.99998611 0.99938892 0.        ]\n",
      "Dataset size: 3000 \n",
      "Window size: 20 \n",
      "Image: (110, 120)\n",
      "Memory needed: 0.74 GB\n",
      "Dataset size: 9000 \n",
      "Window size: 4 \n",
      "Image: (110, 120)\n",
      "Memory needed: 0.44 GB\n",
      "LOADED DATASET...\n",
      "Memory left 23.59 GB\n",
      "(9000, 4, 110, 120) (9000, 1, 440, 120)\n",
      "Using 3.54 GB\n",
      "torch.Size([9000, 1, 440, 120])\n",
      "torch.Size([9000, 15])\n"
     ]
    },
    {
     "name": "stderr",
     "output_type": "stream",
     "text": [
      "/its/home/drs25/RoboSkin/Code/NewRigExperiments/data_format.py:90: UserWarning: To copy construct from a tensor, it is recommended to use sourceTensor.clone().detach() or sourceTensor.clone().detach().requires_grad_(True), rather than torch.tensor(sourceTensor).\n",
      "  train_labels_tensor = torch.tensor(one_hot_labels, dtype=torch.float32).to(device)\n"
     ]
    },
    {
     "name": "stdout",
     "output_type": "stream",
     "text": [
      "Epoch [1/100], Step [180/180], Loss: 487.0414\n",
      "Epoch [11/100], Step [180/180], Loss: 82.6435\n",
      "Epoch [21/100], Step [180/180], Loss: 24.1579\n",
      "Epoch [31/100], Step [180/180], Loss: 7.0513\n",
      "Epoch [41/100], Step [180/180], Loss: 1.5428\n",
      "Epoch [51/100], Step [180/180], Loss: 0.4345\n",
      "Epoch [61/100], Step [180/180], Loss: 0.1829\n",
      "Epoch [71/100], Step [180/180], Loss: 0.1273\n",
      "Epoch [81/100], Step [180/180], Loss: 0.0996\n",
      "Epoch [91/100], Step [180/180], Loss: 0.0793\n",
      "Finished Training\n",
      "Commence calculations...\n",
      "Accuracy: 99.99861113040096 %\n",
      "Accuracy: 99.99444475306927 %\n",
      "Results: [0.99998611 0.99994445 0.        ]\n",
      "Dataset size: 3000 \n",
      "Window size: 20 \n",
      "Image: (110, 120)\n",
      "Memory needed: 0.74 GB\n",
      "Dataset size: 9000 \n",
      "Window size: 4 \n",
      "Image: (110, 120)\n",
      "Memory needed: 0.44 GB\n",
      "LOADED DATASET...\n",
      "Memory left 23.59 GB\n",
      "(9000, 4, 110, 120) (9000, 1, 440, 120)\n",
      "Using 3.54 GB\n",
      "torch.Size([9000, 1, 440, 120])\n",
      "torch.Size([9000, 15])\n"
     ]
    },
    {
     "name": "stderr",
     "output_type": "stream",
     "text": [
      "/its/home/drs25/RoboSkin/Code/NewRigExperiments/data_format.py:90: UserWarning: To copy construct from a tensor, it is recommended to use sourceTensor.clone().detach() or sourceTensor.clone().detach().requires_grad_(True), rather than torch.tensor(sourceTensor).\n",
      "  train_labels_tensor = torch.tensor(one_hot_labels, dtype=torch.float32).to(device)\n"
     ]
    },
    {
     "name": "stdout",
     "output_type": "stream",
     "text": [
      "Epoch [1/100], Step [180/180], Loss: 487.0908\n",
      "Epoch [11/100], Step [180/180], Loss: 86.6987\n",
      "Epoch [21/100], Step [180/180], Loss: 23.2000\n",
      "Epoch [31/100], Step [180/180], Loss: 6.6529\n",
      "Epoch [41/100], Step [180/180], Loss: 1.4563\n",
      "Epoch [51/100], Step [180/180], Loss: 0.4380\n",
      "Epoch [61/100], Step [180/180], Loss: 0.1763\n",
      "Epoch [71/100], Step [180/180], Loss: 0.1198\n",
      "Epoch [81/100], Step [180/180], Loss: 0.0946\n",
      "Epoch [91/100], Step [180/180], Loss: 0.0762\n",
      "Finished Training\n",
      "Commence calculations...\n",
      "Accuracy: 99.99861113040096 %\n",
      "Accuracy: 99.99444475306927 %\n",
      "Results: [0.99998611 0.99994445 0.        ]\n",
      "Dataset size: 3000 \n",
      "Window size: 20 \n",
      "Image: (110, 120)\n",
      "Memory needed: 0.74 GB\n",
      "Dataset size: 9000 \n",
      "Window size: 4 \n",
      "Image: (110, 120)\n",
      "Memory needed: 0.44 GB\n",
      "LOADED DATASET...\n",
      "Memory left 23.59 GB\n",
      "(9000, 4, 110, 120) (9000, 1, 440, 120)\n",
      "Using 3.54 GB\n",
      "torch.Size([9000, 1, 440, 120])\n",
      "torch.Size([9000, 15])\n"
     ]
    },
    {
     "name": "stderr",
     "output_type": "stream",
     "text": [
      "/its/home/drs25/RoboSkin/Code/NewRigExperiments/data_format.py:90: UserWarning: To copy construct from a tensor, it is recommended to use sourceTensor.clone().detach() or sourceTensor.clone().detach().requires_grad_(True), rather than torch.tensor(sourceTensor).\n",
      "  train_labels_tensor = torch.tensor(one_hot_labels, dtype=torch.float32).to(device)\n"
     ]
    },
    {
     "name": "stdout",
     "output_type": "stream",
     "text": [
      "Epoch [1/100], Step [180/180], Loss: 486.9921\n",
      "Epoch [11/100], Step [180/180], Loss: 80.6344\n",
      "Epoch [21/100], Step [180/180], Loss: 22.3292\n",
      "Epoch [31/100], Step [180/180], Loss: 6.2268\n",
      "Epoch [41/100], Step [180/180], Loss: 0.9495\n",
      "Epoch [51/100], Step [180/180], Loss: 0.3820\n",
      "Epoch [61/100], Step [180/180], Loss: 0.1678\n",
      "Epoch [71/100], Step [180/180], Loss: 0.1179\n",
      "Epoch [81/100], Step [180/180], Loss: 0.0912\n",
      "Epoch [91/100], Step [180/180], Loss: 0.0743\n",
      "Finished Training\n",
      "Commence calculations...\n",
      "Accuracy: 99.99861113040096 %\n",
      "Accuracy: 99.99444475306927 %\n",
      "Results: [0.99998611 0.99994445 0.        ]\n",
      "Dataset size: 3000 \n",
      "Window size: 20 \n",
      "Image: (110, 120)\n",
      "Memory needed: 0.74 GB\n",
      "Dataset size: 9000 \n",
      "Window size: 4 \n",
      "Image: (110, 120)\n",
      "Memory needed: 0.44 GB\n",
      "LOADED DATASET...\n",
      "Memory left 23.59 GB\n",
      "(9000, 4, 110, 120) (9000, 1, 440, 120)\n",
      "Using 3.54 GB\n",
      "torch.Size([9000, 1, 440, 120])\n",
      "torch.Size([9000, 15])\n"
     ]
    },
    {
     "name": "stderr",
     "output_type": "stream",
     "text": [
      "/its/home/drs25/RoboSkin/Code/NewRigExperiments/data_format.py:90: UserWarning: To copy construct from a tensor, it is recommended to use sourceTensor.clone().detach() or sourceTensor.clone().detach().requires_grad_(True), rather than torch.tensor(sourceTensor).\n",
      "  train_labels_tensor = torch.tensor(one_hot_labels, dtype=torch.float32).to(device)\n"
     ]
    },
    {
     "name": "stdout",
     "output_type": "stream",
     "text": [
      "Epoch [1/100], Step [180/180], Loss: 487.4264\n",
      "Epoch [11/100], Step [180/180], Loss: 107.3097\n",
      "Epoch [21/100], Step [180/180], Loss: 28.4183\n",
      "Epoch [31/100], Step [180/180], Loss: 9.7247\n",
      "Epoch [41/100], Step [180/180], Loss: 2.2391\n",
      "Epoch [51/100], Step [180/180], Loss: 0.5215\n",
      "Epoch [61/100], Step [180/180], Loss: 0.1854\n",
      "Epoch [71/100], Step [180/180], Loss: 0.1289\n",
      "Epoch [81/100], Step [180/180], Loss: 0.0973\n",
      "Epoch [91/100], Step [180/180], Loss: 0.0768\n",
      "Finished Training\n",
      "Commence calculations...\n",
      "Accuracy: 99.99861113040096 %\n",
      "Accuracy: 99.93889228376202 %\n",
      "Results: [0.99998611 0.99938892 0.        ]\n",
      "Dataset size: 3000 \n",
      "Window size: 20 \n",
      "Image: (110, 120)\n",
      "Memory needed: 0.74 GB\n",
      "Dataset size: 9000 \n",
      "Window size: 4 \n",
      "Image: (110, 120)\n",
      "Memory needed: 0.44 GB\n",
      "LOADED DATASET...\n",
      "Memory left 23.59 GB\n",
      "(9000, 4, 110, 120) (9000, 1, 440, 120)\n",
      "Using 3.54 GB\n",
      "torch.Size([9000, 1, 440, 120])\n",
      "torch.Size([9000, 15])\n"
     ]
    },
    {
     "name": "stderr",
     "output_type": "stream",
     "text": [
      "/its/home/drs25/RoboSkin/Code/NewRigExperiments/data_format.py:90: UserWarning: To copy construct from a tensor, it is recommended to use sourceTensor.clone().detach() or sourceTensor.clone().detach().requires_grad_(True), rather than torch.tensor(sourceTensor).\n",
      "  train_labels_tensor = torch.tensor(one_hot_labels, dtype=torch.float32).to(device)\n"
     ]
    },
    {
     "name": "stdout",
     "output_type": "stream",
     "text": [
      "Epoch [1/100], Step [180/180], Loss: 486.9859\n",
      "Epoch [11/100], Step [180/180], Loss: 87.2341\n",
      "Epoch [21/100], Step [180/180], Loss: 27.6409\n",
      "Epoch [31/100], Step [180/180], Loss: 10.4192\n",
      "Epoch [41/100], Step [180/180], Loss: 1.6918\n",
      "Epoch [51/100], Step [180/180], Loss: 0.4020\n",
      "Epoch [61/100], Step [180/180], Loss: 0.1719\n",
      "Epoch [71/100], Step [180/180], Loss: 0.1308\n",
      "Epoch [81/100], Step [180/180], Loss: 0.1001\n",
      "Epoch [91/100], Step [180/180], Loss: 0.0787\n",
      "Finished Training\n",
      "Commence calculations...\n",
      "Accuracy: 99.99861113040096 %\n",
      "Accuracy: 99.99444475306927 %\n",
      "Results: [0.99998611 0.99994445 0.        ]\n",
      "Dataset size: 3000 \n",
      "Window size: 20 \n",
      "Image: (110, 120)\n",
      "Memory needed: 0.74 GB\n",
      "Dataset size: 9000 \n",
      "Window size: 4 \n",
      "Image: (110, 120)\n",
      "Memory needed: 0.44 GB\n",
      "LOADED DATASET...\n",
      "Memory left 23.59 GB\n",
      "(9000, 4, 110, 120) (9000, 1, 440, 120)\n",
      "Using 3.54 GB\n",
      "torch.Size([9000, 1, 440, 120])\n",
      "torch.Size([9000, 15])\n"
     ]
    },
    {
     "name": "stderr",
     "output_type": "stream",
     "text": [
      "/its/home/drs25/RoboSkin/Code/NewRigExperiments/data_format.py:90: UserWarning: To copy construct from a tensor, it is recommended to use sourceTensor.clone().detach() or sourceTensor.clone().detach().requires_grad_(True), rather than torch.tensor(sourceTensor).\n",
      "  train_labels_tensor = torch.tensor(one_hot_labels, dtype=torch.float32).to(device)\n"
     ]
    },
    {
     "name": "stdout",
     "output_type": "stream",
     "text": [
      "Epoch [1/100], Step [180/180], Loss: 486.6981\n",
      "Epoch [11/100], Step [180/180], Loss: 78.0214\n",
      "Epoch [21/100], Step [180/180], Loss: 22.3627\n",
      "Epoch [31/100], Step [180/180], Loss: 7.7918\n",
      "Epoch [41/100], Step [180/180], Loss: 1.5595\n",
      "Epoch [51/100], Step [180/180], Loss: 0.3675\n",
      "Epoch [61/100], Step [180/180], Loss: 0.1651\n",
      "Epoch [71/100], Step [180/180], Loss: 0.1229\n",
      "Epoch [81/100], Step [180/180], Loss: 0.0914\n",
      "Epoch [91/100], Step [180/180], Loss: 0.0763\n",
      "Finished Training\n",
      "Commence calculations...\n",
      "Accuracy: 99.99861113040096 %\n",
      "Accuracy: 99.99444475306927 %\n",
      "Results: [0.99998611 0.99994445 0.        ]\n",
      "Dataset size: 3000 \n",
      "Window size: 20 \n",
      "Image: (110, 120)\n",
      "Memory needed: 0.74 GB\n",
      "Dataset size: 9000 \n",
      "Window size: 4 \n",
      "Image: (110, 120)\n",
      "Memory needed: 0.44 GB\n",
      "LOADED DATASET...\n",
      "Memory left 23.59 GB\n",
      "(9000, 4, 110, 120) (9000, 1, 440, 120)\n",
      "Using 3.54 GB\n",
      "torch.Size([9000, 1, 440, 120])\n",
      "torch.Size([9000, 15])\n"
     ]
    },
    {
     "name": "stderr",
     "output_type": "stream",
     "text": [
      "/its/home/drs25/RoboSkin/Code/NewRigExperiments/data_format.py:90: UserWarning: To copy construct from a tensor, it is recommended to use sourceTensor.clone().detach() or sourceTensor.clone().detach().requires_grad_(True), rather than torch.tensor(sourceTensor).\n",
      "  train_labels_tensor = torch.tensor(one_hot_labels, dtype=torch.float32).to(device)\n"
     ]
    },
    {
     "name": "stdout",
     "output_type": "stream",
     "text": [
      "Epoch [1/100], Step [180/180], Loss: 486.5649\n",
      "Epoch [11/100], Step [180/180], Loss: 71.4491\n",
      "Epoch [21/100], Step [180/180], Loss: 23.4462\n",
      "Epoch [31/100], Step [180/180], Loss: 6.3815\n",
      "Epoch [41/100], Step [180/180], Loss: 1.8094\n",
      "Epoch [51/100], Step [180/180], Loss: 0.2681\n",
      "Epoch [61/100], Step [180/180], Loss: 0.1668\n",
      "Epoch [71/100], Step [180/180], Loss: 0.1179\n",
      "Epoch [81/100], Step [180/180], Loss: 0.0901\n",
      "Epoch [91/100], Step [180/180], Loss: 0.0742\n",
      "Finished Training\n",
      "Commence calculations...\n",
      "Accuracy: 99.99861113040096 %\n",
      "Accuracy: 99.99444475306927 %\n",
      "Results: [0.99998611 0.99994445 0.        ]\n",
      "Dataset size: 3000 \n",
      "Window size: 20 \n",
      "Image: (110, 120)\n",
      "Memory needed: 0.74 GB\n",
      "Dataset size: 9000 \n",
      "Window size: 4 \n",
      "Image: (110, 120)\n",
      "Memory needed: 0.44 GB\n",
      "LOADED DATASET...\n",
      "Memory left 23.59 GB\n",
      "(9000, 4, 110, 120) (9000, 1, 440, 120)\n",
      "Using 3.54 GB\n",
      "torch.Size([9000, 1, 440, 120])\n",
      "torch.Size([9000, 15])\n"
     ]
    },
    {
     "name": "stderr",
     "output_type": "stream",
     "text": [
      "/its/home/drs25/RoboSkin/Code/NewRigExperiments/data_format.py:90: UserWarning: To copy construct from a tensor, it is recommended to use sourceTensor.clone().detach() or sourceTensor.clone().detach().requires_grad_(True), rather than torch.tensor(sourceTensor).\n",
      "  train_labels_tensor = torch.tensor(one_hot_labels, dtype=torch.float32).to(device)\n"
     ]
    },
    {
     "name": "stdout",
     "output_type": "stream",
     "text": [
      "Epoch [1/100], Step [180/180], Loss: 486.6934\n",
      "Epoch [11/100], Step [180/180], Loss: 83.5691\n",
      "Epoch [21/100], Step [180/180], Loss: 22.9008\n",
      "Epoch [31/100], Step [180/180], Loss: 5.8093\n",
      "Epoch [41/100], Step [180/180], Loss: 1.2491\n",
      "Epoch [51/100], Step [180/180], Loss: 0.4477\n",
      "Epoch [61/100], Step [180/180], Loss: 0.1887\n",
      "Epoch [71/100], Step [180/180], Loss: 0.1277\n",
      "Epoch [81/100], Step [180/180], Loss: 0.1003\n",
      "Epoch [91/100], Step [180/180], Loss: 0.0780\n",
      "Finished Training\n",
      "Commence calculations...\n",
      "Accuracy: 99.99861113040096 %\n",
      "Accuracy: 99.99444475306927 %\n",
      "Results: [0.99998611 0.99994445 0.        ]\n",
      "Dataset size: 3000 \n",
      "Window size: 20 \n",
      "Image: (110, 120)\n",
      "Memory needed: 0.74 GB\n",
      "Dataset size: 9000 \n",
      "Window size: 4 \n",
      "Image: (110, 120)\n",
      "Memory needed: 0.44 GB\n",
      "LOADED DATASET...\n",
      "Memory left 23.59 GB\n",
      "(9000, 4, 110, 120) (9000, 1, 440, 120)\n",
      "Using 3.54 GB\n",
      "torch.Size([9000, 1, 440, 120])\n",
      "torch.Size([9000, 15])\n"
     ]
    },
    {
     "name": "stderr",
     "output_type": "stream",
     "text": [
      "/its/home/drs25/RoboSkin/Code/NewRigExperiments/data_format.py:90: UserWarning: To copy construct from a tensor, it is recommended to use sourceTensor.clone().detach() or sourceTensor.clone().detach().requires_grad_(True), rather than torch.tensor(sourceTensor).\n",
      "  train_labels_tensor = torch.tensor(one_hot_labels, dtype=torch.float32).to(device)\n"
     ]
    },
    {
     "name": "stdout",
     "output_type": "stream",
     "text": [
      "Epoch [1/100], Step [180/180], Loss: 486.8459\n",
      "Epoch [11/100], Step [180/180], Loss: 95.3059\n",
      "Epoch [21/100], Step [180/180], Loss: 26.9699\n",
      "Epoch [31/100], Step [180/180], Loss: 10.8043\n",
      "Epoch [41/100], Step [180/180], Loss: 2.0643\n",
      "Epoch [51/100], Step [180/180], Loss: 0.5066\n",
      "Epoch [61/100], Step [180/180], Loss: 0.1826\n",
      "Epoch [71/100], Step [180/180], Loss: 0.1302\n",
      "Epoch [81/100], Step [180/180], Loss: 0.0981\n",
      "Epoch [91/100], Step [180/180], Loss: 0.0784\n",
      "Finished Training\n",
      "Commence calculations...\n",
      "Accuracy: 99.99861113040096 %\n",
      "Accuracy: 99.99444475306927 %\n",
      "Results: [0.99998611 0.99994445 0.        ]\n",
      "Dataset size: 3000 \n",
      "Window size: 20 \n",
      "Image: (110, 120)\n",
      "Memory needed: 0.74 GB\n",
      "Dataset size: 9000 \n",
      "Window size: 4 \n",
      "Image: (110, 120)\n",
      "Memory needed: 0.44 GB\n",
      "LOADED DATASET...\n",
      "Memory left 23.59 GB\n",
      "(9000, 4, 110, 120) (9000, 1, 440, 120)\n",
      "Using 3.54 GB\n",
      "torch.Size([9000, 1, 440, 120])\n",
      "torch.Size([9000, 15])\n"
     ]
    },
    {
     "name": "stderr",
     "output_type": "stream",
     "text": [
      "/its/home/drs25/RoboSkin/Code/NewRigExperiments/data_format.py:90: UserWarning: To copy construct from a tensor, it is recommended to use sourceTensor.clone().detach() or sourceTensor.clone().detach().requires_grad_(True), rather than torch.tensor(sourceTensor).\n",
      "  train_labels_tensor = torch.tensor(one_hot_labels, dtype=torch.float32).to(device)\n"
     ]
    },
    {
     "name": "stdout",
     "output_type": "stream",
     "text": [
      "Epoch [1/100], Step [180/180], Loss: 487.4370\n",
      "Epoch [11/100], Step [180/180], Loss: 84.8361\n",
      "Epoch [21/100], Step [180/180], Loss: 21.1265\n",
      "Epoch [31/100], Step [180/180], Loss: 5.6990\n",
      "Epoch [41/100], Step [180/180], Loss: 1.0844\n",
      "Epoch [51/100], Step [180/180], Loss: 0.3414\n",
      "Epoch [61/100], Step [180/180], Loss: 0.1746\n",
      "Epoch [71/100], Step [180/180], Loss: 0.1229\n",
      "Epoch [81/100], Step [180/180], Loss: 0.0935\n",
      "Epoch [91/100], Step [180/180], Loss: 0.0775\n",
      "Finished Training\n",
      "Commence calculations...\n",
      "Accuracy: 99.99861113040096 %\n",
      "Accuracy: 99.93889228376202 %\n",
      "Results: [0.99998611 0.99938892 0.        ]\n",
      "Dataset size: 3000 \n",
      "Window size: 20 \n",
      "Image: (110, 120)\n",
      "Memory needed: 0.74 GB\n",
      "Dataset size: 9000 \n",
      "Window size: 4 \n",
      "Image: (110, 120)\n",
      "Memory needed: 0.44 GB\n",
      "LOADED DATASET...\n",
      "Memory left 23.59 GB\n",
      "(9000, 4, 110, 120) (9000, 1, 440, 120)\n",
      "Using 3.54 GB\n",
      "torch.Size([9000, 1, 440, 120])\n",
      "torch.Size([9000, 15])\n"
     ]
    },
    {
     "name": "stderr",
     "output_type": "stream",
     "text": [
      "/its/home/drs25/RoboSkin/Code/NewRigExperiments/data_format.py:90: UserWarning: To copy construct from a tensor, it is recommended to use sourceTensor.clone().detach() or sourceTensor.clone().detach().requires_grad_(True), rather than torch.tensor(sourceTensor).\n",
      "  train_labels_tensor = torch.tensor(one_hot_labels, dtype=torch.float32).to(device)\n"
     ]
    },
    {
     "name": "stdout",
     "output_type": "stream",
     "text": [
      "Epoch [1/100], Step [180/180], Loss: 485.1759\n",
      "Epoch [11/100], Step [180/180], Loss: 69.9613\n",
      "Epoch [21/100], Step [180/180], Loss: 22.3662\n",
      "Epoch [31/100], Step [180/180], Loss: 8.0236\n",
      "Epoch [41/100], Step [180/180], Loss: 2.2581\n",
      "Epoch [51/100], Step [180/180], Loss: 0.8219\n",
      "Epoch [61/100], Step [180/180], Loss: 0.1820\n",
      "Epoch [71/100], Step [180/180], Loss: 0.1170\n",
      "Epoch [81/100], Step [180/180], Loss: 0.0949\n",
      "Epoch [91/100], Step [180/180], Loss: 0.0750\n",
      "Finished Training\n",
      "Commence calculations...\n",
      "Accuracy: 99.99861113040096 %\n",
      "Accuracy: 99.99444475306927 %\n",
      "Results: [0.99998611 0.99994445 0.        ]\n",
      "Dataset size: 3000 \n",
      "Window size: 20 \n",
      "Image: (110, 120)\n",
      "Memory needed: 0.74 GB\n",
      "Dataset size: 9000 \n",
      "Window size: 4 \n",
      "Image: (110, 120)\n",
      "Memory needed: 0.44 GB\n",
      "LOADED DATASET...\n",
      "Memory left 23.59 GB\n",
      "(9000, 4, 110, 120) (9000, 1, 440, 120)\n",
      "Using 3.54 GB\n",
      "torch.Size([9000, 1, 440, 120])\n",
      "torch.Size([9000, 15])\n"
     ]
    },
    {
     "name": "stderr",
     "output_type": "stream",
     "text": [
      "/its/home/drs25/RoboSkin/Code/NewRigExperiments/data_format.py:90: UserWarning: To copy construct from a tensor, it is recommended to use sourceTensor.clone().detach() or sourceTensor.clone().detach().requires_grad_(True), rather than torch.tensor(sourceTensor).\n",
      "  train_labels_tensor = torch.tensor(one_hot_labels, dtype=torch.float32).to(device)\n"
     ]
    },
    {
     "name": "stdout",
     "output_type": "stream",
     "text": [
      "Epoch [1/100], Step [180/180], Loss: 486.6068\n",
      "Epoch [11/100], Step [180/180], Loss: 76.3242\n",
      "Epoch [21/100], Step [180/180], Loss: 21.9457\n",
      "Epoch [31/100], Step [180/180], Loss: 5.4213\n",
      "Epoch [41/100], Step [180/180], Loss: 1.6636\n",
      "Epoch [51/100], Step [180/180], Loss: 0.4589\n",
      "Epoch [61/100], Step [180/180], Loss: 0.1696\n",
      "Epoch [71/100], Step [180/180], Loss: 0.1208\n",
      "Epoch [81/100], Step [180/180], Loss: 0.0935\n",
      "Epoch [91/100], Step [180/180], Loss: 0.0771\n",
      "Finished Training\n",
      "Commence calculations...\n",
      "Accuracy: 99.99861113040096 %\n",
      "Accuracy: 99.93889228376202 %\n",
      "Results: [0.99998611 0.99938892 0.        ]\n",
      "Dataset size: 3000 \n",
      "Window size: 20 \n",
      "Image: (110, 120)\n",
      "Memory needed: 0.74 GB\n",
      "Dataset size: 9000 \n",
      "Window size: 4 \n",
      "Image: (110, 120)\n",
      "Memory needed: 0.44 GB\n",
      "LOADED DATASET...\n",
      "Memory left 23.59 GB\n",
      "(9000, 4, 110, 120) (9000, 1, 440, 120)\n",
      "Using 3.54 GB\n",
      "torch.Size([9000, 1, 440, 120])\n",
      "torch.Size([9000, 15])\n"
     ]
    },
    {
     "name": "stderr",
     "output_type": "stream",
     "text": [
      "/its/home/drs25/RoboSkin/Code/NewRigExperiments/data_format.py:90: UserWarning: To copy construct from a tensor, it is recommended to use sourceTensor.clone().detach() or sourceTensor.clone().detach().requires_grad_(True), rather than torch.tensor(sourceTensor).\n",
      "  train_labels_tensor = torch.tensor(one_hot_labels, dtype=torch.float32).to(device)\n"
     ]
    },
    {
     "name": "stdout",
     "output_type": "stream",
     "text": [
      "Epoch [1/100], Step [180/180], Loss: 487.2269\n",
      "Epoch [11/100], Step [180/180], Loss: 83.9666\n",
      "Epoch [21/100], Step [180/180], Loss: 21.5326\n",
      "Epoch [31/100], Step [180/180], Loss: 5.5495\n",
      "Epoch [41/100], Step [180/180], Loss: 1.6127\n",
      "Epoch [51/100], Step [180/180], Loss: 0.3744\n",
      "Epoch [61/100], Step [180/180], Loss: 0.1763\n",
      "Epoch [71/100], Step [180/180], Loss: 0.1255\n",
      "Epoch [81/100], Step [180/180], Loss: 0.0968\n",
      "Epoch [91/100], Step [180/180], Loss: 0.0778\n",
      "Finished Training\n",
      "Commence calculations...\n",
      "Accuracy: 99.99861113040096 %\n",
      "Accuracy: 99.99444475306927 %\n",
      "Results: [0.99998611 0.99994445 0.        ]\n",
      "Dataset size: 3000 \n",
      "Window size: 20 \n",
      "Image: (110, 120)\n",
      "Memory needed: 0.74 GB\n",
      "Dataset size: 9000 \n",
      "Window size: 4 \n",
      "Image: (110, 120)\n",
      "Memory needed: 0.44 GB\n",
      "LOADED DATASET...\n",
      "Memory left 23.59 GB\n",
      "(9000, 4, 110, 120) (9000, 1, 440, 120)\n",
      "Using 3.54 GB\n",
      "torch.Size([9000, 1, 440, 120])\n",
      "torch.Size([9000, 15])\n"
     ]
    },
    {
     "name": "stderr",
     "output_type": "stream",
     "text": [
      "/its/home/drs25/RoboSkin/Code/NewRigExperiments/data_format.py:90: UserWarning: To copy construct from a tensor, it is recommended to use sourceTensor.clone().detach() or sourceTensor.clone().detach().requires_grad_(True), rather than torch.tensor(sourceTensor).\n",
      "  train_labels_tensor = torch.tensor(one_hot_labels, dtype=torch.float32).to(device)\n"
     ]
    },
    {
     "name": "stdout",
     "output_type": "stream",
     "text": [
      "Epoch [1/100], Step [180/180], Loss: 485.3154\n",
      "Epoch [11/100], Step [180/180], Loss: 64.0228\n",
      "Epoch [21/100], Step [180/180], Loss: 20.1430\n",
      "Epoch [31/100], Step [180/180], Loss: 5.2083\n",
      "Epoch [41/100], Step [180/180], Loss: 0.7104\n",
      "Epoch [51/100], Step [180/180], Loss: 0.2334\n",
      "Epoch [61/100], Step [180/180], Loss: 0.1594\n",
      "Epoch [71/100], Step [180/180], Loss: 0.1136\n",
      "Epoch [81/100], Step [180/180], Loss: 0.0893\n",
      "Epoch [91/100], Step [180/180], Loss: 0.0732\n",
      "Finished Training\n",
      "Commence calculations...\n",
      "Accuracy: 99.99861113040096 %\n",
      "Accuracy: 99.93889228376202 %\n",
      "Results: [0.99998611 0.99938892 0.        ]\n",
      "Dataset size: 3000 \n",
      "Window size: 20 \n",
      "Image: (110, 120)\n",
      "Memory needed: 0.74 GB\n",
      "Dataset size: 9000 \n",
      "Window size: 4 \n",
      "Image: (110, 120)\n",
      "Memory needed: 0.44 GB\n",
      "LOADED DATASET...\n",
      "Memory left 23.59 GB\n",
      "(9000, 4, 110, 120) (9000, 1, 440, 120)\n",
      "Using 3.54 GB\n",
      "torch.Size([9000, 1, 440, 120])\n",
      "torch.Size([9000, 15])\n"
     ]
    },
    {
     "name": "stderr",
     "output_type": "stream",
     "text": [
      "/its/home/drs25/RoboSkin/Code/NewRigExperiments/data_format.py:90: UserWarning: To copy construct from a tensor, it is recommended to use sourceTensor.clone().detach() or sourceTensor.clone().detach().requires_grad_(True), rather than torch.tensor(sourceTensor).\n",
      "  train_labels_tensor = torch.tensor(one_hot_labels, dtype=torch.float32).to(device)\n"
     ]
    },
    {
     "name": "stdout",
     "output_type": "stream",
     "text": [
      "Epoch [1/100], Step [180/180], Loss: 484.9257\n",
      "Epoch [11/100], Step [180/180], Loss: 66.1417\n",
      "Epoch [21/100], Step [180/180], Loss: 19.7765\n",
      "Epoch [31/100], Step [180/180], Loss: 6.5871\n",
      "Epoch [41/100], Step [180/180], Loss: 1.4695\n",
      "Epoch [51/100], Step [180/180], Loss: 0.5205\n",
      "Epoch [61/100], Step [180/180], Loss: 0.1618\n",
      "Epoch [71/100], Step [180/180], Loss: 0.1187\n",
      "Epoch [81/100], Step [180/180], Loss: 0.0909\n",
      "Epoch [91/100], Step [180/180], Loss: 0.0742\n",
      "Finished Training\n",
      "Commence calculations...\n",
      "Accuracy: 99.99861113040096 %\n",
      "Accuracy: 99.99444475306927 %\n",
      "Results: [0.99998611 0.99994445 0.        ]\n"
     ]
    }
   ],
   "source": [
    "acc=np.zeros((num_trials,3)) #train,test,noisy\n",
    "\n",
    "for i in range(num_trials):\n",
    "    data=loaded(t=T_SIZE,filename=\"X_data_15.npz\")\n",
    "    data.applySobel()\n",
    "    data.orientation_augment()\n",
    "    train_loader,test_loader=org_data(data,(len(data.X),1,T_SIZE*data.X.shape[2],data.X.shape[3]))\n",
    "    model,history=run(train_loader,0,4,num_epochs = EPOCHS)\n",
    "    print(\"Commence calculations...\")\n",
    "    acc[i][0]=calc(model,train_loader)\n",
    "    acc[i][1]=calc(model,test_loader)\n",
    "    preds=model(test_data_sliced_tensor)\n",
    "    acc[i][2]=calc_noisy(preds,labels)\n",
    "    print(\"Results:\",acc[i])\n",
    "np.save(path+\"/data/20_TRIALS_CNN_ORIENTATION_AUGMENTATION\",acc)"
   ]
  },
  {
   "attachments": {},
   "cell_type": "markdown",
   "metadata": {},
   "source": [
    "### no augmentation"
   ]
  },
  {
   "cell_type": "code",
   "execution_count": 16,
   "metadata": {},
   "outputs": [
    {
     "name": "stdout",
     "output_type": "stream",
     "text": [
      "Dataset size: 3000 \n",
      "Window size: 20 \n",
      "Image: (110, 120)\n",
      "Memory needed: 0.74 GB\n",
      "LOADED DATASET...\n",
      "Memory left 23.59 GB\n",
      "(3000, 4, 110, 120) (3000, 1, 440, 120)\n",
      "Using 1.18 GB\n",
      "torch.Size([3000, 1, 440, 120])\n",
      "torch.Size([3000, 15])\n"
     ]
    },
    {
     "name": "stderr",
     "output_type": "stream",
     "text": [
      "/its/home/drs25/RoboSkin/Code/NewRigExperiments/data_format.py:90: UserWarning: To copy construct from a tensor, it is recommended to use sourceTensor.clone().detach() or sourceTensor.clone().detach().requires_grad_(True), rather than torch.tensor(sourceTensor).\n",
      "  train_labels_tensor = torch.tensor(one_hot_labels, dtype=torch.float32).to(device)\n"
     ]
    },
    {
     "name": "stdout",
     "output_type": "stream",
     "text": [
      "Epoch [1/100], Step [60/60], Loss: 162.3671\n",
      "Epoch [11/100], Step [60/60], Loss: 72.5590\n",
      "Epoch [21/100], Step [60/60], Loss: 18.6926\n",
      "Epoch [31/100], Step [60/60], Loss: 6.5712\n",
      "Epoch [41/100], Step [60/60], Loss: 2.7608\n",
      "Epoch [51/100], Step [60/60], Loss: 0.7963\n",
      "Epoch [61/100], Step [60/60], Loss: 0.2581\n",
      "Epoch [71/100], Step [60/60], Loss: 0.1674\n",
      "Epoch [81/100], Step [60/60], Loss: 0.1189\n",
      "Epoch [91/100], Step [60/60], Loss: 0.0927\n",
      "Finished Training\n",
      "Commence calculations...\n",
      "Accuracy: 99.99583350693722 %\n",
      "Accuracy: 99.98333611064822 %\n",
      "Results: [0.99995834 0.99983336 0.        ]\n",
      "Dataset size: 3000 \n",
      "Window size: 20 \n",
      "Image: (110, 120)\n",
      "Memory needed: 0.74 GB\n",
      "LOADED DATASET...\n",
      "Memory left 23.59 GB\n",
      "(3000, 4, 110, 120) (3000, 1, 440, 120)\n",
      "Using 1.18 GB\n",
      "torch.Size([3000, 1, 440, 120])\n",
      "torch.Size([3000, 15])\n"
     ]
    },
    {
     "name": "stderr",
     "output_type": "stream",
     "text": [
      "/its/home/drs25/RoboSkin/Code/NewRigExperiments/data_format.py:90: UserWarning: To copy construct from a tensor, it is recommended to use sourceTensor.clone().detach() or sourceTensor.clone().detach().requires_grad_(True), rather than torch.tensor(sourceTensor).\n",
      "  train_labels_tensor = torch.tensor(one_hot_labels, dtype=torch.float32).to(device)\n"
     ]
    },
    {
     "name": "stdout",
     "output_type": "stream",
     "text": [
      "Epoch [1/100], Step [60/60], Loss: 162.3850\n",
      "Epoch [11/100], Step [60/60], Loss: 72.8448\n",
      "Epoch [21/100], Step [60/60], Loss: 18.6390\n",
      "Epoch [31/100], Step [60/60], Loss: 7.0444\n",
      "Epoch [41/100], Step [60/60], Loss: 1.9303\n",
      "Epoch [51/100], Step [60/60], Loss: 0.6517\n",
      "Epoch [61/100], Step [60/60], Loss: 0.2138\n",
      "Epoch [71/100], Step [60/60], Loss: 0.1473\n",
      "Epoch [81/100], Step [60/60], Loss: 0.1084\n",
      "Epoch [91/100], Step [60/60], Loss: 0.0859\n",
      "Finished Training\n",
      "Commence calculations...\n",
      "Accuracy: 99.99583350693722 %\n",
      "Accuracy: 99.98333611064822 %\n",
      "Results: [0.99995834 0.99983336 0.        ]\n",
      "Dataset size: 3000 \n",
      "Window size: 20 \n",
      "Image: (110, 120)\n",
      "Memory needed: 0.74 GB\n",
      "LOADED DATASET...\n",
      "Memory left 23.59 GB\n",
      "(3000, 4, 110, 120) (3000, 1, 440, 120)\n",
      "Using 1.18 GB\n",
      "torch.Size([3000, 1, 440, 120])\n",
      "torch.Size([3000, 15])\n"
     ]
    },
    {
     "name": "stderr",
     "output_type": "stream",
     "text": [
      "/its/home/drs25/RoboSkin/Code/NewRigExperiments/data_format.py:90: UserWarning: To copy construct from a tensor, it is recommended to use sourceTensor.clone().detach() or sourceTensor.clone().detach().requires_grad_(True), rather than torch.tensor(sourceTensor).\n",
      "  train_labels_tensor = torch.tensor(one_hot_labels, dtype=torch.float32).to(device)\n"
     ]
    },
    {
     "name": "stdout",
     "output_type": "stream",
     "text": [
      "Epoch [1/100], Step [60/60], Loss: 162.2491\n",
      "Epoch [11/100], Step [60/60], Loss: 60.3300\n",
      "Epoch [21/100], Step [60/60], Loss: 16.9753\n",
      "Epoch [31/100], Step [60/60], Loss: 6.8123\n",
      "Epoch [41/100], Step [60/60], Loss: 2.4194\n",
      "Epoch [51/100], Step [60/60], Loss: 0.6976\n",
      "Epoch [61/100], Step [60/60], Loss: 0.2526\n",
      "Epoch [71/100], Step [60/60], Loss: 0.1524\n",
      "Epoch [81/100], Step [60/60], Loss: 0.1081\n",
      "Epoch [91/100], Step [60/60], Loss: 0.0857\n",
      "Finished Training\n",
      "Commence calculations...\n",
      "Accuracy: 99.99583350693722 %\n",
      "Accuracy: 99.98333611064822 %\n",
      "Results: [0.99995834 0.99983336 0.        ]\n",
      "Dataset size: 3000 \n",
      "Window size: 20 \n",
      "Image: (110, 120)\n",
      "Memory needed: 0.74 GB\n",
      "LOADED DATASET...\n",
      "Memory left 23.59 GB\n",
      "(3000, 4, 110, 120) (3000, 1, 440, 120)\n",
      "Using 1.18 GB\n",
      "torch.Size([3000, 1, 440, 120])\n",
      "torch.Size([3000, 15])\n"
     ]
    },
    {
     "name": "stderr",
     "output_type": "stream",
     "text": [
      "/its/home/drs25/RoboSkin/Code/NewRigExperiments/data_format.py:90: UserWarning: To copy construct from a tensor, it is recommended to use sourceTensor.clone().detach() or sourceTensor.clone().detach().requires_grad_(True), rather than torch.tensor(sourceTensor).\n",
      "  train_labels_tensor = torch.tensor(one_hot_labels, dtype=torch.float32).to(device)\n"
     ]
    },
    {
     "name": "stdout",
     "output_type": "stream",
     "text": [
      "Epoch [1/100], Step [60/60], Loss: 162.4666\n",
      "Epoch [11/100], Step [60/60], Loss: 81.1596\n",
      "Epoch [21/100], Step [60/60], Loss: 23.7790\n",
      "Epoch [31/100], Step [60/60], Loss: 8.2714\n",
      "Epoch [41/100], Step [60/60], Loss: 3.5247\n",
      "Epoch [51/100], Step [60/60], Loss: 0.5598\n",
      "Epoch [61/100], Step [60/60], Loss: 0.2723\n",
      "Epoch [71/100], Step [60/60], Loss: 0.1658\n",
      "Epoch [81/100], Step [60/60], Loss: 0.1247\n",
      "Epoch [91/100], Step [60/60], Loss: 0.0931\n",
      "Finished Training\n",
      "Commence calculations...\n",
      "Accuracy: 99.99583350693722 %\n",
      "Accuracy: 99.98333611064822 %\n",
      "Results: [0.99995834 0.99983336 0.        ]\n",
      "Dataset size: 3000 \n",
      "Window size: 20 \n",
      "Image: (110, 120)\n",
      "Memory needed: 0.74 GB\n",
      "LOADED DATASET...\n",
      "Memory left 23.59 GB\n",
      "(3000, 4, 110, 120) (3000, 1, 440, 120)\n",
      "Using 1.18 GB\n",
      "torch.Size([3000, 1, 440, 120])\n",
      "torch.Size([3000, 15])\n"
     ]
    },
    {
     "name": "stderr",
     "output_type": "stream",
     "text": [
      "/its/home/drs25/RoboSkin/Code/NewRigExperiments/data_format.py:90: UserWarning: To copy construct from a tensor, it is recommended to use sourceTensor.clone().detach() or sourceTensor.clone().detach().requires_grad_(True), rather than torch.tensor(sourceTensor).\n",
      "  train_labels_tensor = torch.tensor(one_hot_labels, dtype=torch.float32).to(device)\n"
     ]
    },
    {
     "name": "stdout",
     "output_type": "stream",
     "text": [
      "Epoch [1/100], Step [60/60], Loss: 162.3491\n",
      "Epoch [11/100], Step [60/60], Loss: 74.6094\n",
      "Epoch [21/100], Step [60/60], Loss: 20.7764\n",
      "Epoch [31/100], Step [60/60], Loss: 7.3043\n",
      "Epoch [41/100], Step [60/60], Loss: 3.8418\n",
      "Epoch [51/100], Step [60/60], Loss: 0.6833\n",
      "Epoch [61/100], Step [60/60], Loss: 0.2744\n",
      "Epoch [71/100], Step [60/60], Loss: 0.1672\n",
      "Epoch [81/100], Step [60/60], Loss: 0.1179\n",
      "Epoch [91/100], Step [60/60], Loss: 0.0965\n",
      "Finished Training\n",
      "Commence calculations...\n",
      "Accuracy: 99.99583350693722 %\n",
      "Accuracy: 99.98333611064822 %\n",
      "Results: [0.99995834 0.99983336 0.        ]\n",
      "Dataset size: 3000 \n",
      "Window size: 20 \n",
      "Image: (110, 120)\n",
      "Memory needed: 0.74 GB\n",
      "LOADED DATASET...\n",
      "Memory left 23.59 GB\n",
      "(3000, 4, 110, 120) (3000, 1, 440, 120)\n",
      "Using 1.18 GB\n",
      "torch.Size([3000, 1, 440, 120])\n",
      "torch.Size([3000, 15])\n"
     ]
    },
    {
     "name": "stderr",
     "output_type": "stream",
     "text": [
      "/its/home/drs25/RoboSkin/Code/NewRigExperiments/data_format.py:90: UserWarning: To copy construct from a tensor, it is recommended to use sourceTensor.clone().detach() or sourceTensor.clone().detach().requires_grad_(True), rather than torch.tensor(sourceTensor).\n",
      "  train_labels_tensor = torch.tensor(one_hot_labels, dtype=torch.float32).to(device)\n"
     ]
    },
    {
     "name": "stdout",
     "output_type": "stream",
     "text": [
      "Epoch [1/100], Step [60/60], Loss: 162.3756\n",
      "Epoch [11/100], Step [60/60], Loss: 71.1958\n",
      "Epoch [21/100], Step [60/60], Loss: 18.1104\n",
      "Epoch [31/100], Step [60/60], Loss: 6.7946\n",
      "Epoch [41/100], Step [60/60], Loss: 1.9789\n",
      "Epoch [51/100], Step [60/60], Loss: 0.5520\n",
      "Epoch [61/100], Step [60/60], Loss: 0.2309\n",
      "Epoch [71/100], Step [60/60], Loss: 0.1504\n",
      "Epoch [81/100], Step [60/60], Loss: 0.1153\n",
      "Epoch [91/100], Step [60/60], Loss: 0.0883\n",
      "Finished Training\n",
      "Commence calculations...\n",
      "Accuracy: 99.99583350693722 %\n",
      "Accuracy: 99.98333611064822 %\n",
      "Results: [0.99995834 0.99983336 0.        ]\n",
      "Dataset size: 3000 \n",
      "Window size: 20 \n",
      "Image: (110, 120)\n",
      "Memory needed: 0.74 GB\n",
      "LOADED DATASET...\n",
      "Memory left 23.59 GB\n",
      "(3000, 4, 110, 120) (3000, 1, 440, 120)\n",
      "Using 1.18 GB\n",
      "torch.Size([3000, 1, 440, 120])\n",
      "torch.Size([3000, 15])\n"
     ]
    },
    {
     "name": "stderr",
     "output_type": "stream",
     "text": [
      "/its/home/drs25/RoboSkin/Code/NewRigExperiments/data_format.py:90: UserWarning: To copy construct from a tensor, it is recommended to use sourceTensor.clone().detach() or sourceTensor.clone().detach().requires_grad_(True), rather than torch.tensor(sourceTensor).\n",
      "  train_labels_tensor = torch.tensor(one_hot_labels, dtype=torch.float32).to(device)\n"
     ]
    },
    {
     "name": "stdout",
     "output_type": "stream",
     "text": [
      "Epoch [1/100], Step [60/60], Loss: 162.1459\n",
      "Epoch [11/100], Step [60/60], Loss: 63.1734\n",
      "Epoch [21/100], Step [60/60], Loss: 14.5268\n",
      "Epoch [31/100], Step [60/60], Loss: 5.5217\n",
      "Epoch [41/100], Step [60/60], Loss: 2.0056\n",
      "Epoch [51/100], Step [60/60], Loss: 0.3374\n",
      "Epoch [61/100], Step [60/60], Loss: 0.1978\n",
      "Epoch [71/100], Step [60/60], Loss: 0.1358\n",
      "Epoch [81/100], Step [60/60], Loss: 0.1019\n",
      "Epoch [91/100], Step [60/60], Loss: 0.0807\n",
      "Finished Training\n",
      "Commence calculations...\n",
      "Accuracy: 99.99583350693722 %\n",
      "Accuracy: 99.98333611064822 %\n",
      "Results: [0.99995834 0.99983336 0.        ]\n",
      "Dataset size: 3000 \n",
      "Window size: 20 \n",
      "Image: (110, 120)\n",
      "Memory needed: 0.74 GB\n",
      "LOADED DATASET...\n",
      "Memory left 23.59 GB\n",
      "(3000, 4, 110, 120) (3000, 1, 440, 120)\n",
      "Using 1.18 GB\n",
      "torch.Size([3000, 1, 440, 120])\n",
      "torch.Size([3000, 15])\n"
     ]
    },
    {
     "name": "stderr",
     "output_type": "stream",
     "text": [
      "/its/home/drs25/RoboSkin/Code/NewRigExperiments/data_format.py:90: UserWarning: To copy construct from a tensor, it is recommended to use sourceTensor.clone().detach() or sourceTensor.clone().detach().requires_grad_(True), rather than torch.tensor(sourceTensor).\n",
      "  train_labels_tensor = torch.tensor(one_hot_labels, dtype=torch.float32).to(device)\n"
     ]
    },
    {
     "name": "stdout",
     "output_type": "stream",
     "text": [
      "Epoch [1/100], Step [60/60], Loss: 162.0205\n",
      "Epoch [11/100], Step [60/60], Loss: 52.9466\n",
      "Epoch [21/100], Step [60/60], Loss: 13.8835\n",
      "Epoch [31/100], Step [60/60], Loss: 5.0192\n",
      "Epoch [41/100], Step [60/60], Loss: 1.2840\n",
      "Epoch [51/100], Step [60/60], Loss: 0.5007\n",
      "Epoch [61/100], Step [60/60], Loss: 0.2902\n",
      "Epoch [71/100], Step [60/60], Loss: 0.1404\n",
      "Epoch [81/100], Step [60/60], Loss: 0.1049\n",
      "Epoch [91/100], Step [60/60], Loss: 0.0826\n",
      "Finished Training\n",
      "Commence calculations...\n",
      "Accuracy: 99.99583350693722 %\n",
      "Accuracy: 99.98333611064822 %\n",
      "Results: [0.99995834 0.99983336 0.        ]\n",
      "Dataset size: 3000 \n",
      "Window size: 20 \n",
      "Image: (110, 120)\n",
      "Memory needed: 0.74 GB\n",
      "LOADED DATASET...\n",
      "Memory left 23.59 GB\n",
      "(3000, 4, 110, 120) (3000, 1, 440, 120)\n",
      "Using 1.18 GB\n",
      "torch.Size([3000, 1, 440, 120])\n",
      "torch.Size([3000, 15])\n"
     ]
    },
    {
     "name": "stderr",
     "output_type": "stream",
     "text": [
      "/its/home/drs25/RoboSkin/Code/NewRigExperiments/data_format.py:90: UserWarning: To copy construct from a tensor, it is recommended to use sourceTensor.clone().detach() or sourceTensor.clone().detach().requires_grad_(True), rather than torch.tensor(sourceTensor).\n",
      "  train_labels_tensor = torch.tensor(one_hot_labels, dtype=torch.float32).to(device)\n"
     ]
    },
    {
     "name": "stdout",
     "output_type": "stream",
     "text": [
      "Epoch [1/100], Step [60/60], Loss: 162.4895\n",
      "Epoch [11/100], Step [60/60], Loss: 96.3973\n",
      "Epoch [21/100], Step [60/60], Loss: 29.6450\n",
      "Epoch [31/100], Step [60/60], Loss: 8.8095\n",
      "Epoch [41/100], Step [60/60], Loss: 2.6890\n",
      "Epoch [51/100], Step [60/60], Loss: 0.5851\n",
      "Epoch [61/100], Step [60/60], Loss: 0.2515\n",
      "Epoch [71/100], Step [60/60], Loss: 0.1623\n",
      "Epoch [81/100], Step [60/60], Loss: 0.1171\n",
      "Epoch [91/100], Step [60/60], Loss: 0.0912\n",
      "Finished Training\n",
      "Commence calculations...\n",
      "Accuracy: 99.99583350693722 %\n",
      "Accuracy: 99.98333611064822 %\n",
      "Results: [0.99995834 0.99983336 0.        ]\n",
      "Dataset size: 3000 \n",
      "Window size: 20 \n",
      "Image: (110, 120)\n",
      "Memory needed: 0.74 GB\n",
      "LOADED DATASET...\n",
      "Memory left 23.59 GB\n",
      "(3000, 4, 110, 120) (3000, 1, 440, 120)\n",
      "Using 1.18 GB\n",
      "torch.Size([3000, 1, 440, 120])\n",
      "torch.Size([3000, 15])\n"
     ]
    },
    {
     "name": "stderr",
     "output_type": "stream",
     "text": [
      "/its/home/drs25/RoboSkin/Code/NewRigExperiments/data_format.py:90: UserWarning: To copy construct from a tensor, it is recommended to use sourceTensor.clone().detach() or sourceTensor.clone().detach().requires_grad_(True), rather than torch.tensor(sourceTensor).\n",
      "  train_labels_tensor = torch.tensor(one_hot_labels, dtype=torch.float32).to(device)\n"
     ]
    },
    {
     "name": "stdout",
     "output_type": "stream",
     "text": [
      "Epoch [1/100], Step [60/60], Loss: 161.7577\n",
      "Epoch [11/100], Step [60/60], Loss: 49.8912\n",
      "Epoch [21/100], Step [60/60], Loss: 11.3870\n",
      "Epoch [31/100], Step [60/60], Loss: 4.0165\n",
      "Epoch [41/100], Step [60/60], Loss: 1.7129\n",
      "Epoch [51/100], Step [60/60], Loss: 0.3029\n",
      "Epoch [61/100], Step [60/60], Loss: 0.1831\n",
      "Epoch [71/100], Step [60/60], Loss: 0.1291\n",
      "Epoch [81/100], Step [60/60], Loss: 0.0938\n",
      "Epoch [91/100], Step [60/60], Loss: 0.0784\n",
      "Finished Training\n",
      "Commence calculations...\n",
      "Accuracy: 99.99583350693722 %\n",
      "Accuracy: 99.98333611064822 %\n",
      "Results: [0.99995834 0.99983336 0.        ]\n",
      "Dataset size: 3000 \n",
      "Window size: 20 \n",
      "Image: (110, 120)\n",
      "Memory needed: 0.74 GB\n",
      "LOADED DATASET...\n",
      "Memory left 23.59 GB\n",
      "(3000, 4, 110, 120) (3000, 1, 440, 120)\n",
      "Using 1.18 GB\n",
      "torch.Size([3000, 1, 440, 120])\n",
      "torch.Size([3000, 15])\n"
     ]
    },
    {
     "name": "stderr",
     "output_type": "stream",
     "text": [
      "/its/home/drs25/RoboSkin/Code/NewRigExperiments/data_format.py:90: UserWarning: To copy construct from a tensor, it is recommended to use sourceTensor.clone().detach() or sourceTensor.clone().detach().requires_grad_(True), rather than torch.tensor(sourceTensor).\n",
      "  train_labels_tensor = torch.tensor(one_hot_labels, dtype=torch.float32).to(device)\n"
     ]
    },
    {
     "name": "stdout",
     "output_type": "stream",
     "text": [
      "Epoch [1/100], Step [60/60], Loss: 162.1167\n",
      "Epoch [11/100], Step [60/60], Loss: 56.8149\n",
      "Epoch [21/100], Step [60/60], Loss: 12.3708\n",
      "Epoch [31/100], Step [60/60], Loss: 4.0424\n",
      "Epoch [41/100], Step [60/60], Loss: 1.3694\n",
      "Epoch [51/100], Step [60/60], Loss: 0.3930\n",
      "Epoch [61/100], Step [60/60], Loss: 0.2030\n",
      "Epoch [71/100], Step [60/60], Loss: 0.1470\n",
      "Epoch [81/100], Step [60/60], Loss: 0.1055\n",
      "Epoch [91/100], Step [60/60], Loss: 0.0787\n",
      "Finished Training\n",
      "Commence calculations...\n",
      "Accuracy: 99.99583350693722 %\n",
      "Accuracy: 99.98333611064822 %\n",
      "Results: [0.99995834 0.99983336 0.        ]\n",
      "Dataset size: 3000 \n",
      "Window size: 20 \n",
      "Image: (110, 120)\n",
      "Memory needed: 0.74 GB\n",
      "LOADED DATASET...\n",
      "Memory left 23.59 GB\n",
      "(3000, 4, 110, 120) (3000, 1, 440, 120)\n",
      "Using 1.18 GB\n",
      "torch.Size([3000, 1, 440, 120])\n",
      "torch.Size([3000, 15])\n"
     ]
    },
    {
     "name": "stderr",
     "output_type": "stream",
     "text": [
      "/its/home/drs25/RoboSkin/Code/NewRigExperiments/data_format.py:90: UserWarning: To copy construct from a tensor, it is recommended to use sourceTensor.clone().detach() or sourceTensor.clone().detach().requires_grad_(True), rather than torch.tensor(sourceTensor).\n",
      "  train_labels_tensor = torch.tensor(one_hot_labels, dtype=torch.float32).to(device)\n"
     ]
    },
    {
     "name": "stdout",
     "output_type": "stream",
     "text": [
      "Epoch [1/100], Step [60/60], Loss: 162.2770\n",
      "Epoch [11/100], Step [60/60], Loss: 74.5746\n",
      "Epoch [21/100], Step [60/60], Loss: 18.6548\n",
      "Epoch [31/100], Step [60/60], Loss: 6.3170\n",
      "Epoch [41/100], Step [60/60], Loss: 1.4633\n",
      "Epoch [51/100], Step [60/60], Loss: 0.3691\n",
      "Epoch [61/100], Step [60/60], Loss: 0.2160\n",
      "Epoch [71/100], Step [60/60], Loss: 0.1494\n",
      "Epoch [81/100], Step [60/60], Loss: 0.1099\n",
      "Epoch [91/100], Step [60/60], Loss: 0.0867\n",
      "Finished Training\n",
      "Commence calculations...\n",
      "Accuracy: 99.99583350693722 %\n",
      "Accuracy: 99.98333611064822 %\n",
      "Results: [0.99995834 0.99983336 0.        ]\n",
      "Dataset size: 3000 \n",
      "Window size: 20 \n",
      "Image: (110, 120)\n",
      "Memory needed: 0.74 GB\n",
      "LOADED DATASET...\n",
      "Memory left 23.59 GB\n",
      "(3000, 4, 110, 120) (3000, 1, 440, 120)\n",
      "Using 1.18 GB\n",
      "torch.Size([3000, 1, 440, 120])\n",
      "torch.Size([3000, 15])\n"
     ]
    },
    {
     "name": "stderr",
     "output_type": "stream",
     "text": [
      "/its/home/drs25/RoboSkin/Code/NewRigExperiments/data_format.py:90: UserWarning: To copy construct from a tensor, it is recommended to use sourceTensor.clone().detach() or sourceTensor.clone().detach().requires_grad_(True), rather than torch.tensor(sourceTensor).\n",
      "  train_labels_tensor = torch.tensor(one_hot_labels, dtype=torch.float32).to(device)\n"
     ]
    },
    {
     "name": "stdout",
     "output_type": "stream",
     "text": [
      "Epoch [1/100], Step [60/60], Loss: 162.2499\n",
      "Epoch [11/100], Step [60/60], Loss: 62.5390\n",
      "Epoch [21/100], Step [60/60], Loss: 18.8342\n",
      "Epoch [31/100], Step [60/60], Loss: 7.5551\n",
      "Epoch [41/100], Step [60/60], Loss: 3.3584\n",
      "Epoch [51/100], Step [60/60], Loss: 0.4006\n",
      "Epoch [61/100], Step [60/60], Loss: 0.2201\n",
      "Epoch [71/100], Step [60/60], Loss: 0.1457\n",
      "Epoch [81/100], Step [60/60], Loss: 0.1069\n",
      "Epoch [91/100], Step [60/60], Loss: 0.0833\n",
      "Finished Training\n",
      "Commence calculations...\n",
      "Accuracy: 99.99583350693722 %\n",
      "Accuracy: 99.98333611064822 %\n",
      "Results: [0.99995834 0.99983336 0.        ]\n",
      "Dataset size: 3000 \n",
      "Window size: 20 \n",
      "Image: (110, 120)\n",
      "Memory needed: 0.74 GB\n",
      "LOADED DATASET...\n",
      "Memory left 23.59 GB\n",
      "(3000, 4, 110, 120) (3000, 1, 440, 120)\n",
      "Using 1.18 GB\n",
      "torch.Size([3000, 1, 440, 120])\n",
      "torch.Size([3000, 15])\n"
     ]
    },
    {
     "name": "stderr",
     "output_type": "stream",
     "text": [
      "/its/home/drs25/RoboSkin/Code/NewRigExperiments/data_format.py:90: UserWarning: To copy construct from a tensor, it is recommended to use sourceTensor.clone().detach() or sourceTensor.clone().detach().requires_grad_(True), rather than torch.tensor(sourceTensor).\n",
      "  train_labels_tensor = torch.tensor(one_hot_labels, dtype=torch.float32).to(device)\n"
     ]
    },
    {
     "name": "stdout",
     "output_type": "stream",
     "text": [
      "Epoch [1/100], Step [60/60], Loss: 162.2968\n",
      "Epoch [11/100], Step [60/60], Loss: 71.3452\n",
      "Epoch [21/100], Step [60/60], Loss: 19.2192\n",
      "Epoch [31/100], Step [60/60], Loss: 6.6118\n",
      "Epoch [41/100], Step [60/60], Loss: 2.4898\n",
      "Epoch [51/100], Step [60/60], Loss: 0.4882\n",
      "Epoch [61/100], Step [60/60], Loss: 0.2888\n",
      "Epoch [71/100], Step [60/60], Loss: 0.1635\n",
      "Epoch [81/100], Step [60/60], Loss: 0.1155\n",
      "Epoch [91/100], Step [60/60], Loss: 0.0903\n",
      "Finished Training\n",
      "Commence calculations...\n",
      "Accuracy: 99.99583350693722 %\n",
      "Accuracy: 99.98333611064822 %\n",
      "Results: [0.99995834 0.99983336 0.        ]\n",
      "Dataset size: 3000 \n",
      "Window size: 20 \n",
      "Image: (110, 120)\n",
      "Memory needed: 0.74 GB\n",
      "LOADED DATASET...\n",
      "Memory left 23.59 GB\n",
      "(3000, 4, 110, 120) (3000, 1, 440, 120)\n",
      "Using 1.18 GB\n",
      "torch.Size([3000, 1, 440, 120])\n",
      "torch.Size([3000, 15])\n"
     ]
    },
    {
     "name": "stderr",
     "output_type": "stream",
     "text": [
      "/its/home/drs25/RoboSkin/Code/NewRigExperiments/data_format.py:90: UserWarning: To copy construct from a tensor, it is recommended to use sourceTensor.clone().detach() or sourceTensor.clone().detach().requires_grad_(True), rather than torch.tensor(sourceTensor).\n",
      "  train_labels_tensor = torch.tensor(one_hot_labels, dtype=torch.float32).to(device)\n"
     ]
    },
    {
     "name": "stdout",
     "output_type": "stream",
     "text": [
      "Epoch [1/100], Step [60/60], Loss: 162.4314\n",
      "Epoch [11/100], Step [60/60], Loss: 87.5800\n",
      "Epoch [21/100], Step [60/60], Loss: 25.1139\n",
      "Epoch [31/100], Step [60/60], Loss: 8.0855\n",
      "Epoch [41/100], Step [60/60], Loss: 3.8913\n",
      "Epoch [51/100], Step [60/60], Loss: 0.9084\n",
      "Epoch [61/100], Step [60/60], Loss: 0.2481\n",
      "Epoch [71/100], Step [60/60], Loss: 0.1654\n",
      "Epoch [81/100], Step [60/60], Loss: 0.1162\n",
      "Epoch [91/100], Step [60/60], Loss: 0.0897\n",
      "Finished Training\n",
      "Commence calculations...\n",
      "Accuracy: 99.99583350693722 %\n",
      "Accuracy: 99.98333611064822 %\n",
      "Results: [0.99995834 0.99983336 0.        ]\n",
      "Dataset size: 3000 \n",
      "Window size: 20 \n",
      "Image: (110, 120)\n",
      "Memory needed: 0.74 GB\n",
      "LOADED DATASET...\n",
      "Memory left 23.59 GB\n",
      "(3000, 4, 110, 120) (3000, 1, 440, 120)\n",
      "Using 1.18 GB\n",
      "torch.Size([3000, 1, 440, 120])\n",
      "torch.Size([3000, 15])\n"
     ]
    },
    {
     "name": "stderr",
     "output_type": "stream",
     "text": [
      "/its/home/drs25/RoboSkin/Code/NewRigExperiments/data_format.py:90: UserWarning: To copy construct from a tensor, it is recommended to use sourceTensor.clone().detach() or sourceTensor.clone().detach().requires_grad_(True), rather than torch.tensor(sourceTensor).\n",
      "  train_labels_tensor = torch.tensor(one_hot_labels, dtype=torch.float32).to(device)\n"
     ]
    },
    {
     "name": "stdout",
     "output_type": "stream",
     "text": [
      "Epoch [1/100], Step [60/60], Loss: 162.3802\n",
      "Epoch [11/100], Step [60/60], Loss: 83.4431\n",
      "Epoch [21/100], Step [60/60], Loss: 19.6756\n",
      "Epoch [31/100], Step [60/60], Loss: 5.9463\n",
      "Epoch [41/100], Step [60/60], Loss: 2.2156\n",
      "Epoch [51/100], Step [60/60], Loss: 0.4523\n",
      "Epoch [61/100], Step [60/60], Loss: 0.2409\n",
      "Epoch [71/100], Step [60/60], Loss: 0.1605\n",
      "Epoch [81/100], Step [60/60], Loss: 0.1131\n",
      "Epoch [91/100], Step [60/60], Loss: 0.0902\n",
      "Finished Training\n",
      "Commence calculations...\n",
      "Accuracy: 99.99583350693722 %\n",
      "Accuracy: 99.98333611064822 %\n",
      "Results: [0.99995834 0.99983336 0.        ]\n",
      "Dataset size: 3000 \n",
      "Window size: 20 \n",
      "Image: (110, 120)\n",
      "Memory needed: 0.74 GB\n",
      "LOADED DATASET...\n",
      "Memory left 23.59 GB\n",
      "(3000, 4, 110, 120) (3000, 1, 440, 120)\n",
      "Using 1.18 GB\n",
      "torch.Size([3000, 1, 440, 120])\n",
      "torch.Size([3000, 15])\n"
     ]
    },
    {
     "name": "stderr",
     "output_type": "stream",
     "text": [
      "/its/home/drs25/RoboSkin/Code/NewRigExperiments/data_format.py:90: UserWarning: To copy construct from a tensor, it is recommended to use sourceTensor.clone().detach() or sourceTensor.clone().detach().requires_grad_(True), rather than torch.tensor(sourceTensor).\n",
      "  train_labels_tensor = torch.tensor(one_hot_labels, dtype=torch.float32).to(device)\n"
     ]
    },
    {
     "name": "stdout",
     "output_type": "stream",
     "text": [
      "Epoch [1/100], Step [60/60], Loss: 162.2787\n",
      "Epoch [11/100], Step [60/60], Loss: 59.0616\n",
      "Epoch [21/100], Step [60/60], Loss: 16.0942\n",
      "Epoch [31/100], Step [60/60], Loss: 6.3275\n",
      "Epoch [41/100], Step [60/60], Loss: 2.3970\n",
      "Epoch [51/100], Step [60/60], Loss: 0.3634\n",
      "Epoch [61/100], Step [60/60], Loss: 0.2047\n",
      "Epoch [71/100], Step [60/60], Loss: 0.1380\n",
      "Epoch [81/100], Step [60/60], Loss: 0.1025\n",
      "Epoch [91/100], Step [60/60], Loss: 0.0820\n",
      "Finished Training\n",
      "Commence calculations...\n",
      "Accuracy: 99.99583350693722 %\n",
      "Accuracy: 99.98333611064822 %\n",
      "Results: [0.99995834 0.99983336 0.        ]\n",
      "Dataset size: 3000 \n",
      "Window size: 20 \n",
      "Image: (110, 120)\n",
      "Memory needed: 0.74 GB\n",
      "LOADED DATASET...\n",
      "Memory left 23.59 GB\n",
      "(3000, 4, 110, 120) (3000, 1, 440, 120)\n",
      "Using 1.18 GB\n",
      "torch.Size([3000, 1, 440, 120])\n",
      "torch.Size([3000, 15])\n"
     ]
    },
    {
     "name": "stderr",
     "output_type": "stream",
     "text": [
      "/its/home/drs25/RoboSkin/Code/NewRigExperiments/data_format.py:90: UserWarning: To copy construct from a tensor, it is recommended to use sourceTensor.clone().detach() or sourceTensor.clone().detach().requires_grad_(True), rather than torch.tensor(sourceTensor).\n",
      "  train_labels_tensor = torch.tensor(one_hot_labels, dtype=torch.float32).to(device)\n"
     ]
    },
    {
     "name": "stdout",
     "output_type": "stream",
     "text": [
      "Epoch [1/100], Step [60/60], Loss: 162.3417\n",
      "Epoch [11/100], Step [60/60], Loss: 67.4426\n",
      "Epoch [21/100], Step [60/60], Loss: 15.3256\n",
      "Epoch [31/100], Step [60/60], Loss: 5.8447\n",
      "Epoch [41/100], Step [60/60], Loss: 1.5009\n",
      "Epoch [51/100], Step [60/60], Loss: 0.4387\n",
      "Epoch [61/100], Step [60/60], Loss: 0.2114\n",
      "Epoch [71/100], Step [60/60], Loss: 0.1482\n",
      "Epoch [81/100], Step [60/60], Loss: 0.1090\n",
      "Epoch [91/100], Step [60/60], Loss: 0.0841\n",
      "Finished Training\n",
      "Commence calculations...\n",
      "Accuracy: 99.99583350693722 %\n",
      "Accuracy: 99.98333611064822 %\n",
      "Results: [0.99995834 0.99983336 0.        ]\n",
      "Dataset size: 3000 \n",
      "Window size: 20 \n",
      "Image: (110, 120)\n",
      "Memory needed: 0.74 GB\n",
      "LOADED DATASET...\n",
      "Memory left 23.59 GB\n",
      "(3000, 4, 110, 120) (3000, 1, 440, 120)\n",
      "Using 1.18 GB\n",
      "torch.Size([3000, 1, 440, 120])\n",
      "torch.Size([3000, 15])\n"
     ]
    },
    {
     "name": "stderr",
     "output_type": "stream",
     "text": [
      "/its/home/drs25/RoboSkin/Code/NewRigExperiments/data_format.py:90: UserWarning: To copy construct from a tensor, it is recommended to use sourceTensor.clone().detach() or sourceTensor.clone().detach().requires_grad_(True), rather than torch.tensor(sourceTensor).\n",
      "  train_labels_tensor = torch.tensor(one_hot_labels, dtype=torch.float32).to(device)\n"
     ]
    },
    {
     "name": "stdout",
     "output_type": "stream",
     "text": [
      "Epoch [1/100], Step [60/60], Loss: 162.5104\n",
      "Epoch [11/100], Step [60/60], Loss: 103.7294\n",
      "Epoch [21/100], Step [60/60], Loss: 29.0256\n",
      "Epoch [31/100], Step [60/60], Loss: 7.7605\n",
      "Epoch [41/100], Step [60/60], Loss: 2.6867\n",
      "Epoch [51/100], Step [60/60], Loss: 0.5039\n",
      "Epoch [61/100], Step [60/60], Loss: 0.3178\n",
      "Epoch [71/100], Step [60/60], Loss: 0.1688\n",
      "Epoch [81/100], Step [60/60], Loss: 0.1212\n",
      "Epoch [91/100], Step [60/60], Loss: 0.0937\n",
      "Finished Training\n",
      "Commence calculations...\n",
      "Accuracy: 99.99583350693722 %\n",
      "Accuracy: 99.98333611064822 %\n",
      "Results: [0.99995834 0.99983336 0.        ]\n",
      "Dataset size: 3000 \n",
      "Window size: 20 \n",
      "Image: (110, 120)\n",
      "Memory needed: 0.74 GB\n",
      "LOADED DATASET...\n",
      "Memory left 23.59 GB\n",
      "(3000, 4, 110, 120) (3000, 1, 440, 120)\n",
      "Using 1.18 GB\n",
      "torch.Size([3000, 1, 440, 120])\n",
      "torch.Size([3000, 15])\n"
     ]
    },
    {
     "name": "stderr",
     "output_type": "stream",
     "text": [
      "/its/home/drs25/RoboSkin/Code/NewRigExperiments/data_format.py:90: UserWarning: To copy construct from a tensor, it is recommended to use sourceTensor.clone().detach() or sourceTensor.clone().detach().requires_grad_(True), rather than torch.tensor(sourceTensor).\n",
      "  train_labels_tensor = torch.tensor(one_hot_labels, dtype=torch.float32).to(device)\n"
     ]
    },
    {
     "name": "stdout",
     "output_type": "stream",
     "text": [
      "Epoch [1/100], Step [60/60], Loss: 162.4538\n",
      "Epoch [11/100], Step [60/60], Loss: 109.2902\n",
      "Epoch [21/100], Step [60/60], Loss: 34.7730\n",
      "Epoch [31/100], Step [60/60], Loss: 10.8624\n",
      "Epoch [41/100], Step [60/60], Loss: 4.7431\n",
      "Epoch [51/100], Step [60/60], Loss: 1.1891\n",
      "Epoch [61/100], Step [60/60], Loss: 0.4153\n",
      "Epoch [71/100], Step [60/60], Loss: 0.1897\n",
      "Epoch [81/100], Step [60/60], Loss: 0.1392\n",
      "Epoch [91/100], Step [60/60], Loss: 0.1066\n",
      "Finished Training\n",
      "Commence calculations...\n",
      "Accuracy: 99.99583350693722 %\n",
      "Accuracy: 99.98333611064822 %\n",
      "Results: [0.99995834 0.99983336 0.        ]\n"
     ]
    }
   ],
   "source": [
    "acc=np.zeros((num_trials,3)) #train,test,noisy\n",
    "\n",
    "for i in range(num_trials):\n",
    "    data=loaded(t=T_SIZE,filename=\"X_data_15.npz\")\n",
    "    data.applySobel()\n",
    "    train_loader,test_loader=org_data(data,(len(data.X),1,T_SIZE*data.X.shape[2],data.X.shape[3]))\n",
    "    model,history=run(train_loader,0,4,num_epochs = EPOCHS)\n",
    "    print(\"Commence calculations...\")\n",
    "    acc[i][0]=calc(model,train_loader)\n",
    "    acc[i][1]=calc(model,test_loader)\n",
    "    preds=model(test_data_sliced_tensor)\n",
    "    acc[i][2]=calc_noisy(preds,labels)\n",
    "    print(\"Results:\",acc[i])\n",
    "np.save(path+\"/data/20_TRIALS_CNN_NO_AUGMENTATION\",acc)"
   ]
  },
  {
   "attachments": {},
   "cell_type": "markdown",
   "metadata": {},
   "source": [
    "### different starts"
   ]
  },
  {
   "cell_type": "code",
   "execution_count": 4,
   "metadata": {},
   "outputs": [
    {
     "name": "stdout",
     "output_type": "stream",
     "text": [
      "Dataset size: 3000 \n",
      "Window size: 20 \n",
      "Image: (110, 120)\n",
      "Memory needed: 0.74 GB\n",
      "LOADED DATASET...\n",
      "Memory left 23.59 GB\n",
      "(15000, 4, 110, 120) (15000, 1, 440, 120)\n",
      "Using 5.9 GB\n",
      "torch.Size([15000, 1, 440, 120])\n",
      "torch.Size([15000, 15])\n"
     ]
    },
    {
     "name": "stderr",
     "output_type": "stream",
     "text": [
      "/its/home/drs25/RoboSkin/Code/NewRigExperiments/data_format.py:90: UserWarning: To copy construct from a tensor, it is recommended to use sourceTensor.clone().detach() or sourceTensor.clone().detach().requires_grad_(True), rather than torch.tensor(sourceTensor).\n",
      "  train_labels_tensor = torch.tensor(one_hot_labels, dtype=torch.float32).to(device)\n"
     ]
    },
    {
     "name": "stdout",
     "output_type": "stream",
     "text": [
      "Epoch [1/100], Step [300/300], Loss: 230.2119\n",
      "Epoch [11/100], Step [300/300], Loss: 44.6303\n",
      "Epoch [21/100], Step [300/300], Loss: 7.3972\n",
      "Epoch [31/100], Step [300/300], Loss: 2.7725\n",
      "Epoch [41/100], Step [300/300], Loss: 1.1971\n",
      "Epoch [51/100], Step [300/300], Loss: 0.5400\n",
      "Epoch [61/100], Step [300/300], Loss: 0.3863\n",
      "Epoch [71/100], Step [300/300], Loss: 0.1959\n",
      "Epoch [81/100], Step [300/300], Loss: 0.1334\n",
      "Epoch [91/100], Step [300/300], Loss: 0.1124\n",
      "Finished Training\n",
      "Commence calculations...\n",
      "Accuracy: 99.99916667361106 %\n",
      "Accuracy: 99.99666677777408 %\n",
      "Results: [0.99999167 0.99996667 0.        ]\n",
      "Dataset size: 3000 \n",
      "Window size: 20 \n",
      "Image: (110, 120)\n",
      "Memory needed: 0.74 GB\n",
      "LOADED DATASET...\n",
      "Memory left 23.59 GB\n",
      "(15000, 4, 110, 120) (15000, 1, 440, 120)\n",
      "Using 5.9 GB\n",
      "torch.Size([15000, 1, 440, 120])\n",
      "torch.Size([15000, 15])\n"
     ]
    },
    {
     "name": "stderr",
     "output_type": "stream",
     "text": [
      "/its/home/drs25/RoboSkin/Code/NewRigExperiments/data_format.py:90: UserWarning: To copy construct from a tensor, it is recommended to use sourceTensor.clone().detach() or sourceTensor.clone().detach().requires_grad_(True), rather than torch.tensor(sourceTensor).\n",
      "  train_labels_tensor = torch.tensor(one_hot_labels, dtype=torch.float32).to(device)\n"
     ]
    },
    {
     "name": "stdout",
     "output_type": "stream",
     "text": [
      "Epoch [1/100], Step [300/300], Loss: 279.8280\n",
      "Epoch [11/100], Step [300/300], Loss: 48.4789\n",
      "Epoch [21/100], Step [300/300], Loss: 6.7618\n",
      "Epoch [31/100], Step [300/300], Loss: 2.3716\n",
      "Epoch [41/100], Step [300/300], Loss: 1.0184\n",
      "Epoch [51/100], Step [300/300], Loss: 0.4988\n",
      "Epoch [61/100], Step [300/300], Loss: 0.2857\n",
      "Epoch [71/100], Step [300/300], Loss: 0.1807\n",
      "Epoch [81/100], Step [300/300], Loss: 0.1918\n",
      "Epoch [91/100], Step [300/300], Loss: 0.0998\n",
      "Finished Training\n",
      "Commence calculations...\n",
      "Accuracy: 99.99916667361106 %\n",
      "Accuracy: 99.99666677777408 %\n",
      "Results: [0.99999167 0.99996667 0.        ]\n",
      "Dataset size: 3000 \n",
      "Window size: 20 \n",
      "Image: (110, 120)\n",
      "Memory needed: 0.74 GB\n",
      "LOADED DATASET...\n",
      "Memory left 23.59 GB\n",
      "(15000, 4, 110, 120) (15000, 1, 440, 120)\n",
      "Using 5.9 GB\n",
      "torch.Size([15000, 1, 440, 120])\n",
      "torch.Size([15000, 15])\n"
     ]
    },
    {
     "name": "stderr",
     "output_type": "stream",
     "text": [
      "/its/home/drs25/RoboSkin/Code/NewRigExperiments/data_format.py:90: UserWarning: To copy construct from a tensor, it is recommended to use sourceTensor.clone().detach() or sourceTensor.clone().detach().requires_grad_(True), rather than torch.tensor(sourceTensor).\n",
      "  train_labels_tensor = torch.tensor(one_hot_labels, dtype=torch.float32).to(device)\n"
     ]
    },
    {
     "name": "stdout",
     "output_type": "stream",
     "text": [
      "Epoch [1/100], Step [300/300], Loss: 271.0111\n",
      "Epoch [11/100], Step [300/300], Loss: 49.9909\n",
      "Epoch [21/100], Step [300/300], Loss: 7.0461\n",
      "Epoch [31/100], Step [300/300], Loss: 2.4427\n",
      "Epoch [41/100], Step [300/300], Loss: 0.8588\n",
      "Epoch [51/100], Step [300/300], Loss: 0.3669\n",
      "Epoch [61/100], Step [300/300], Loss: 0.2478\n",
      "Epoch [71/100], Step [300/300], Loss: 0.1858\n",
      "Epoch [81/100], Step [300/300], Loss: 0.1342\n",
      "Epoch [91/100], Step [300/300], Loss: 0.1240\n",
      "Finished Training\n",
      "Commence calculations...\n",
      "Accuracy: 99.99916667361106 %\n",
      "Accuracy: 99.99666677777408 %\n",
      "Results: [0.99999167 0.99996667 0.        ]\n",
      "Dataset size: 3000 \n",
      "Window size: 20 \n",
      "Image: (110, 120)\n",
      "Memory needed: 0.74 GB\n",
      "LOADED DATASET...\n",
      "Memory left 23.59 GB\n",
      "(15000, 4, 110, 120) (15000, 1, 440, 120)\n",
      "Using 5.9 GB\n",
      "torch.Size([15000, 1, 440, 120])\n",
      "torch.Size([15000, 15])\n"
     ]
    },
    {
     "name": "stderr",
     "output_type": "stream",
     "text": [
      "/its/home/drs25/RoboSkin/Code/NewRigExperiments/data_format.py:90: UserWarning: To copy construct from a tensor, it is recommended to use sourceTensor.clone().detach() or sourceTensor.clone().detach().requires_grad_(True), rather than torch.tensor(sourceTensor).\n",
      "  train_labels_tensor = torch.tensor(one_hot_labels, dtype=torch.float32).to(device)\n"
     ]
    },
    {
     "name": "stdout",
     "output_type": "stream",
     "text": [
      "Epoch [1/100], Step [300/300], Loss: 250.3452\n",
      "Epoch [11/100], Step [300/300], Loss: 35.7227\n",
      "Epoch [21/100], Step [300/300], Loss: 6.9496\n",
      "Epoch [31/100], Step [300/300], Loss: 2.6310\n",
      "Epoch [41/100], Step [300/300], Loss: 0.8905\n",
      "Epoch [51/100], Step [300/300], Loss: 0.6915\n",
      "Epoch [61/100], Step [300/300], Loss: 0.3308\n",
      "Epoch [71/100], Step [300/300], Loss: 0.2469\n",
      "Epoch [81/100], Step [300/300], Loss: 0.2277\n",
      "Epoch [91/100], Step [300/300], Loss: 0.1044\n",
      "Finished Training\n",
      "Commence calculations...\n",
      "Accuracy: 99.99916667361106 %\n",
      "Accuracy: 99.99666677777408 %\n",
      "Results: [0.99999167 0.99996667 0.        ]\n",
      "Dataset size: 3000 \n",
      "Window size: 20 \n",
      "Image: (110, 120)\n",
      "Memory needed: 0.74 GB\n",
      "LOADED DATASET...\n",
      "Memory left 23.59 GB\n",
      "(15000, 4, 110, 120) (15000, 1, 440, 120)\n",
      "Using 5.9 GB\n",
      "torch.Size([15000, 1, 440, 120])\n",
      "torch.Size([15000, 15])\n"
     ]
    },
    {
     "name": "stderr",
     "output_type": "stream",
     "text": [
      "/its/home/drs25/RoboSkin/Code/NewRigExperiments/data_format.py:90: UserWarning: To copy construct from a tensor, it is recommended to use sourceTensor.clone().detach() or sourceTensor.clone().detach().requires_grad_(True), rather than torch.tensor(sourceTensor).\n",
      "  train_labels_tensor = torch.tensor(one_hot_labels, dtype=torch.float32).to(device)\n"
     ]
    },
    {
     "name": "stdout",
     "output_type": "stream",
     "text": [
      "Epoch [1/100], Step [300/300], Loss: 250.6941\n",
      "Epoch [11/100], Step [300/300], Loss: 45.2795\n",
      "Epoch [21/100], Step [300/300], Loss: 6.5699\n",
      "Epoch [31/100], Step [300/300], Loss: 2.1321\n",
      "Epoch [41/100], Step [300/300], Loss: 1.1278\n",
      "Epoch [51/100], Step [300/300], Loss: 0.5177\n",
      "Epoch [61/100], Step [300/300], Loss: 0.3025\n",
      "Epoch [71/100], Step [300/300], Loss: 0.2470\n",
      "Epoch [81/100], Step [300/300], Loss: 0.1304\n",
      "Epoch [91/100], Step [300/300], Loss: 0.1482\n",
      "Finished Training\n",
      "Commence calculations...\n",
      "Accuracy: 99.99916667361106 %\n",
      "Accuracy: 99.99666677777408 %\n",
      "Results: [0.99999167 0.99996667 0.        ]\n",
      "Dataset size: 3000 \n",
      "Window size: 20 \n",
      "Image: (110, 120)\n",
      "Memory needed: 0.74 GB\n",
      "LOADED DATASET...\n",
      "Memory left 23.59 GB\n",
      "(15000, 4, 110, 120) (15000, 1, 440, 120)\n",
      "Using 5.9 GB\n",
      "torch.Size([15000, 1, 440, 120])\n",
      "torch.Size([15000, 15])\n"
     ]
    },
    {
     "name": "stderr",
     "output_type": "stream",
     "text": [
      "/its/home/drs25/RoboSkin/Code/NewRigExperiments/data_format.py:90: UserWarning: To copy construct from a tensor, it is recommended to use sourceTensor.clone().detach() or sourceTensor.clone().detach().requires_grad_(True), rather than torch.tensor(sourceTensor).\n",
      "  train_labels_tensor = torch.tensor(one_hot_labels, dtype=torch.float32).to(device)\n"
     ]
    },
    {
     "name": "stdout",
     "output_type": "stream",
     "text": [
      "Epoch [1/100], Step [300/300], Loss: 262.0893\n",
      "Epoch [11/100], Step [300/300], Loss: 48.0052\n",
      "Epoch [21/100], Step [300/300], Loss: 7.0368\n",
      "Epoch [31/100], Step [300/300], Loss: 2.4658\n",
      "Epoch [41/100], Step [300/300], Loss: 1.0217\n",
      "Epoch [51/100], Step [300/300], Loss: 0.4820\n",
      "Epoch [61/100], Step [300/300], Loss: 0.2700\n",
      "Epoch [71/100], Step [300/300], Loss: 0.1796\n",
      "Epoch [81/100], Step [300/300], Loss: 0.1402\n",
      "Epoch [91/100], Step [300/300], Loss: 0.1081\n",
      "Finished Training\n",
      "Commence calculations...\n",
      "Accuracy: 99.99916667361106 %\n",
      "Accuracy: 99.99666677777408 %\n",
      "Results: [0.99999167 0.99996667 0.        ]\n",
      "Dataset size: 3000 \n",
      "Window size: 20 \n",
      "Image: (110, 120)\n",
      "Memory needed: 0.74 GB\n",
      "LOADED DATASET...\n",
      "Memory left 23.59 GB\n",
      "(15000, 4, 110, 120) (15000, 1, 440, 120)\n",
      "Using 5.9 GB\n",
      "torch.Size([15000, 1, 440, 120])\n",
      "torch.Size([15000, 15])\n"
     ]
    },
    {
     "name": "stderr",
     "output_type": "stream",
     "text": [
      "/its/home/drs25/RoboSkin/Code/NewRigExperiments/data_format.py:90: UserWarning: To copy construct from a tensor, it is recommended to use sourceTensor.clone().detach() or sourceTensor.clone().detach().requires_grad_(True), rather than torch.tensor(sourceTensor).\n",
      "  train_labels_tensor = torch.tensor(one_hot_labels, dtype=torch.float32).to(device)\n"
     ]
    },
    {
     "name": "stdout",
     "output_type": "stream",
     "text": [
      "Epoch [1/100], Step [300/300], Loss: 274.8993\n",
      "Epoch [11/100], Step [300/300], Loss: 46.9988\n",
      "Epoch [21/100], Step [300/300], Loss: 8.3624\n",
      "Epoch [31/100], Step [300/300], Loss: 2.8849\n",
      "Epoch [41/100], Step [300/300], Loss: 1.5179\n",
      "Epoch [51/100], Step [300/300], Loss: 0.8114\n",
      "Epoch [61/100], Step [300/300], Loss: 0.3745\n",
      "Epoch [71/100], Step [300/300], Loss: 0.2793\n",
      "Epoch [81/100], Step [300/300], Loss: 0.1279\n",
      "Epoch [91/100], Step [300/300], Loss: 0.1378\n",
      "Finished Training\n",
      "Commence calculations...\n",
      "Accuracy: 99.99916667361106 %\n",
      "Accuracy: 99.99666677777408 %\n",
      "Results: [0.99999167 0.99996667 0.        ]\n",
      "Dataset size: 3000 \n",
      "Window size: 20 \n",
      "Image: (110, 120)\n",
      "Memory needed: 0.74 GB\n",
      "LOADED DATASET...\n",
      "Memory left 23.59 GB\n",
      "(15000, 4, 110, 120) (15000, 1, 440, 120)\n",
      "Using 5.9 GB\n",
      "torch.Size([15000, 1, 440, 120])\n",
      "torch.Size([15000, 15])\n"
     ]
    },
    {
     "name": "stderr",
     "output_type": "stream",
     "text": [
      "/its/home/drs25/RoboSkin/Code/NewRigExperiments/data_format.py:90: UserWarning: To copy construct from a tensor, it is recommended to use sourceTensor.clone().detach() or sourceTensor.clone().detach().requires_grad_(True), rather than torch.tensor(sourceTensor).\n",
      "  train_labels_tensor = torch.tensor(one_hot_labels, dtype=torch.float32).to(device)\n"
     ]
    },
    {
     "name": "stdout",
     "output_type": "stream",
     "text": [
      "Epoch [1/100], Step [300/300], Loss: 253.8823\n",
      "Epoch [11/100], Step [300/300], Loss: 42.1856\n",
      "Epoch [21/100], Step [300/300], Loss: 5.9167\n",
      "Epoch [31/100], Step [300/300], Loss: 2.0349\n",
      "Epoch [41/100], Step [300/300], Loss: 0.7600\n",
      "Epoch [51/100], Step [300/300], Loss: 0.3356\n",
      "Epoch [61/100], Step [300/300], Loss: 0.1986\n",
      "Epoch [71/100], Step [300/300], Loss: 0.1525\n",
      "Epoch [81/100], Step [300/300], Loss: 0.1102\n",
      "Epoch [91/100], Step [300/300], Loss: 0.0909\n",
      "Finished Training\n",
      "Commence calculations...\n",
      "Accuracy: 99.99916667361106 %\n",
      "Accuracy: 99.99666677777408 %\n",
      "Results: [0.99999167 0.99996667 0.        ]\n",
      "Dataset size: 3000 \n",
      "Window size: 20 \n",
      "Image: (110, 120)\n",
      "Memory needed: 0.74 GB\n",
      "LOADED DATASET...\n",
      "Memory left 23.59 GB\n",
      "(15000, 4, 110, 120) (15000, 1, 440, 120)\n",
      "Using 5.9 GB\n",
      "torch.Size([15000, 1, 440, 120])\n",
      "torch.Size([15000, 15])\n"
     ]
    },
    {
     "name": "stderr",
     "output_type": "stream",
     "text": [
      "/its/home/drs25/RoboSkin/Code/NewRigExperiments/data_format.py:90: UserWarning: To copy construct from a tensor, it is recommended to use sourceTensor.clone().detach() or sourceTensor.clone().detach().requires_grad_(True), rather than torch.tensor(sourceTensor).\n",
      "  train_labels_tensor = torch.tensor(one_hot_labels, dtype=torch.float32).to(device)\n"
     ]
    },
    {
     "name": "stdout",
     "output_type": "stream",
     "text": [
      "Epoch [1/100], Step [300/300], Loss: 277.4302\n",
      "Epoch [11/100], Step [300/300], Loss: 35.7551\n",
      "Epoch [21/100], Step [300/300], Loss: 6.7467\n",
      "Epoch [31/100], Step [300/300], Loss: 2.5438\n",
      "Epoch [41/100], Step [300/300], Loss: 0.9373\n",
      "Epoch [51/100], Step [300/300], Loss: 0.5598\n",
      "Epoch [61/100], Step [300/300], Loss: 0.2663\n",
      "Epoch [71/100], Step [300/300], Loss: 0.1895\n",
      "Epoch [81/100], Step [300/300], Loss: 0.1402\n",
      "Epoch [91/100], Step [300/300], Loss: 0.1048\n",
      "Finished Training\n",
      "Commence calculations...\n",
      "Accuracy: 99.99916667361106 %\n",
      "Accuracy: 99.99666677777408 %\n",
      "Results: [0.99999167 0.99996667 0.        ]\n",
      "Dataset size: 3000 \n",
      "Window size: 20 \n",
      "Image: (110, 120)\n",
      "Memory needed: 0.74 GB\n",
      "LOADED DATASET...\n",
      "Memory left 23.59 GB\n",
      "(15000, 4, 110, 120) (15000, 1, 440, 120)\n",
      "Using 5.9 GB\n",
      "torch.Size([15000, 1, 440, 120])\n",
      "torch.Size([15000, 15])\n"
     ]
    },
    {
     "name": "stderr",
     "output_type": "stream",
     "text": [
      "/its/home/drs25/RoboSkin/Code/NewRigExperiments/data_format.py:90: UserWarning: To copy construct from a tensor, it is recommended to use sourceTensor.clone().detach() or sourceTensor.clone().detach().requires_grad_(True), rather than torch.tensor(sourceTensor).\n",
      "  train_labels_tensor = torch.tensor(one_hot_labels, dtype=torch.float32).to(device)\n"
     ]
    },
    {
     "name": "stdout",
     "output_type": "stream",
     "text": [
      "Epoch [1/100], Step [300/300], Loss: 295.9452\n",
      "Epoch [11/100], Step [300/300], Loss: 53.1789\n",
      "Epoch [21/100], Step [300/300], Loss: 7.5437\n",
      "Epoch [31/100], Step [300/300], Loss: 2.6360\n",
      "Epoch [41/100], Step [300/300], Loss: 0.8923\n",
      "Epoch [51/100], Step [300/300], Loss: 0.5881\n",
      "Epoch [61/100], Step [300/300], Loss: 0.2317\n",
      "Epoch [71/100], Step [300/300], Loss: 0.1739\n",
      "Epoch [81/100], Step [300/300], Loss: 0.1380\n",
      "Epoch [91/100], Step [300/300], Loss: 0.1070\n",
      "Finished Training\n",
      "Commence calculations...\n",
      "Accuracy: 99.99916667361106 %\n",
      "Accuracy: 99.99666677777408 %\n",
      "Results: [0.99999167 0.99996667 0.        ]\n",
      "Dataset size: 3000 \n",
      "Window size: 20 \n",
      "Image: (110, 120)\n",
      "Memory needed: 0.74 GB\n",
      "LOADED DATASET...\n",
      "Memory left 23.59 GB\n",
      "(15000, 4, 110, 120) (15000, 1, 440, 120)\n",
      "Using 5.9 GB\n",
      "torch.Size([15000, 1, 440, 120])\n",
      "torch.Size([15000, 15])\n"
     ]
    },
    {
     "name": "stderr",
     "output_type": "stream",
     "text": [
      "/its/home/drs25/RoboSkin/Code/NewRigExperiments/data_format.py:90: UserWarning: To copy construct from a tensor, it is recommended to use sourceTensor.clone().detach() or sourceTensor.clone().detach().requires_grad_(True), rather than torch.tensor(sourceTensor).\n",
      "  train_labels_tensor = torch.tensor(one_hot_labels, dtype=torch.float32).to(device)\n"
     ]
    },
    {
     "name": "stdout",
     "output_type": "stream",
     "text": [
      "Epoch [1/100], Step [300/300], Loss: 294.3497\n",
      "Epoch [11/100], Step [300/300], Loss: 67.4623\n",
      "Epoch [21/100], Step [300/300], Loss: 10.0652\n",
      "Epoch [31/100], Step [300/300], Loss: 3.5238\n",
      "Epoch [41/100], Step [300/300], Loss: 1.1094\n",
      "Epoch [51/100], Step [300/300], Loss: 0.5030\n",
      "Epoch [61/100], Step [300/300], Loss: 0.4409\n",
      "Epoch [71/100], Step [300/300], Loss: 0.1951\n",
      "Epoch [81/100], Step [300/300], Loss: 0.1566\n",
      "Epoch [91/100], Step [300/300], Loss: 0.1194\n",
      "Finished Training\n",
      "Commence calculations...\n",
      "Accuracy: 99.99916667361106 %\n",
      "Accuracy: 99.99666677777408 %\n",
      "Results: [0.99999167 0.99996667 0.        ]\n",
      "Dataset size: 3000 \n",
      "Window size: 20 \n",
      "Image: (110, 120)\n",
      "Memory needed: 0.74 GB\n",
      "LOADED DATASET...\n",
      "Memory left 23.59 GB\n",
      "(15000, 4, 110, 120) (15000, 1, 440, 120)\n",
      "Using 5.9 GB\n",
      "torch.Size([15000, 1, 440, 120])\n",
      "torch.Size([15000, 15])\n"
     ]
    },
    {
     "name": "stderr",
     "output_type": "stream",
     "text": [
      "/its/home/drs25/RoboSkin/Code/NewRigExperiments/data_format.py:90: UserWarning: To copy construct from a tensor, it is recommended to use sourceTensor.clone().detach() or sourceTensor.clone().detach().requires_grad_(True), rather than torch.tensor(sourceTensor).\n",
      "  train_labels_tensor = torch.tensor(one_hot_labels, dtype=torch.float32).to(device)\n"
     ]
    },
    {
     "name": "stdout",
     "output_type": "stream",
     "text": [
      "Epoch [1/100], Step [300/300], Loss: 259.0715\n",
      "Epoch [11/100], Step [300/300], Loss: 50.4615\n"
     ]
    }
   ],
   "source": [
    "acc=np.zeros((num_trials,3)) #train,test,noisy\n",
    "\n",
    "for i in range(num_trials):\n",
    "    data=loaded(t=20,filename=\"X_data_15.npz\")\n",
    "    data.applySobel()\n",
    "    data.different_starts(t=4)\n",
    "    train_loader,test_loader=org_data(data,(len(data.X),1,T_SIZE*data.X.shape[2],data.X.shape[3]))\n",
    "    model,history=run(train_loader,0,4,num_epochs = EPOCHS)\n",
    "    print(\"Commence calculations...\")\n",
    "    acc[i][0]=calc(model,train_loader)\n",
    "    acc[i][1]=calc(model,test_loader)\n",
    "    preds=model(test_data_sliced_tensor)\n",
    "    acc[i][2]=calc_noisy(preds,labels)\n",
    "    print(\"Results:\",acc[i])\n",
    "np.save(path+\"/data/20_TRIALS_CNN_DIFFERENT_AUGMENTATION\",acc)"
   ]
  },
  {
   "attachments": {},
   "cell_type": "markdown",
   "metadata": {},
   "source": [
    "### all augmentation"
   ]
  },
  {
   "cell_type": "code",
   "execution_count": null,
   "metadata": {},
   "outputs": [],
   "source": [
    "acc=np.zeros((num_trials,3)) #train,test,noisy\n",
    "\n",
    "for i in range(num_trials):\n",
    "    data=loaded(t=20,filename=\"X_data_15.npz\")\n",
    "    data.applySobel()\n",
    "    data.speed_augment(t=4)\n",
    "    data.zoom_augment([10,20,30,40])\n",
    "    data.orientation_augment()\n",
    "    train_loader,test_loader=org_data(data,(len(data.X),1,T_SIZE*data.X.shape[2],data.X.shape[3]))\n",
    "    model,history=run(train_loader,0,4,num_epochs = EPOCHS)\n",
    "    print(\"Commence calculations...\")\n",
    "    acc[i][0]=calc(model,train_loader)\n",
    "    acc[i][1]=calc(model,test_loader)\n",
    "    preds=model(test_data_sliced_tensor)\n",
    "    acc[i][2]=calc_noisy(preds,labels)\n",
    "    print(\"Results:\",acc[i])\n",
    "np.save(path+\"/data/20_TRIALS_CNN_ALL_AUGMENTATION\",acc)"
   ]
  },
  {
   "attachments": {},
   "cell_type": "markdown",
   "metadata": {},
   "source": [
    "## viewer"
   ]
  },
  {
   "cell_type": "code",
   "execution_count": null,
   "metadata": {},
   "outputs": [],
   "source": [
    "data=loaded(t=20,filename=\"X_data_15.npz\")\n",
    "data.applySobel()\n",
    "example_vid=data.X[0]\n",
    "\n",
    "#example_speed="
   ]
  },
  {
   "cell_type": "code",
   "execution_count": 19,
   "metadata": {},
   "outputs": [
    {
     "name": "stdout",
     "output_type": "stream",
     "text": [
      "                Train                               Test                      \\\n",
      "                 mean  std       min       max      mean       std       min   \n",
      "Dataset                                                                        \n",
      "None         0.999958  0.0  0.999958  0.999958  0.999833  0.000000  0.999833   \n",
      "Orientation  0.999986  0.0  0.999986  0.999986  0.999778  0.000261  0.999389   \n",
      "Speed        0.999986  0.0  0.999986  0.999986  0.999944  0.000000  0.999944   \n",
      "Zoom         0.999990  0.0  0.999990  0.999990  0.999958  0.000000  0.999958   \n",
      "\n",
      "                       New                 \n",
      "                  max mean  std  min  max  \n",
      "Dataset                                    \n",
      "None         0.999833  0.0  0.0  0.0  0.0  \n",
      "Orientation  0.999944  0.0  0.0  0.0  0.0  \n",
      "Speed        0.999944  0.0  0.0  0.0  0.0  \n",
      "Zoom         0.999958  0.0  0.0  0.0  0.0  \n"
     ]
    }
   ],
   "source": [
    "import pandas as pd\n",
    "orient=np.load(path+\"/data/20_TRIALS_CNN_ORIENTATION_AUGMENTATION.npy\")\n",
    "speeds=np.load(path+\"/data/20_TRIALS_CNN_SPEED_AUGMENTATION.npy\")\n",
    "zoom=np.load(path+\"/data/20_TRIALS_CNN_ZOOM_AUGMENTATION.npy\")\n",
    "none=np.load(path+\"/data/20_TRIALS_CNN_NO_AUGMENTATION.npy\")\n",
    "diff=np.load(path+\"/data/20_TRIALS_CNN_DIFFERENT_AUGMENTATION.npy\")\n",
    "#all_=np.load(path+\"/data/20_TRIALS_CNN_ALL_AUGMENTATION.npy\")\n",
    "\n",
    "df = pd.DataFrame(\n",
    "    np.vstack([orient, speeds, zoom, none, diff,]),  # Stack all datasets\n",
    "    columns=[\"Train\", \"Test\", \"New\"]\n",
    ")\n",
    "# Add a column indicating the dataset source\n",
    "df[\"Dataset\"] = np.repeat([\"Orientation\", \"Speed\", \"Zoom\",\"None\",\"All\"], 20)\n",
    "\n",
    "# Get summary statistics for each dataset separately\n",
    "summary = df.groupby(\"Dataset\")[[\"Train\", \"Test\", \"New\"]].agg([\"mean\", \"std\", \"min\", \"max\"])\n",
    "\n",
    "# Display summary\n",
    "print(summary)"
   ]
  },
  {
   "attachments": {},
   "cell_type": "markdown",
   "metadata": {},
   "source": [
    "## stats testing"
   ]
  },
  {
   "cell_type": "code",
   "execution_count": 20,
   "metadata": {},
   "outputs": [
    {
     "name": "stdout",
     "output_type": "stream",
     "text": [
      "\n",
      "=== Rank-Sum Test for Train Accuracy ===\n",
      "orient vs speeds: stat=0.000, p-value=1.000 → Not Significant\n",
      "orient vs zoom: stat=-5.410, p-value=0.000 → Statistically Significant\n",
      "orient vs none: stat=5.410, p-value=0.000 → Statistically Significant\n",
      "speeds vs zoom: stat=-5.410, p-value=0.000 → Statistically Significant\n",
      "speeds vs none: stat=5.410, p-value=0.000 → Statistically Significant\n",
      "zoom vs none: stat=5.410, p-value=0.000 → Statistically Significant\n",
      "\n",
      "=== Rank-Sum Test for Test Accuracy ===\n",
      "orient vs speeds: stat=-1.623, p-value=0.105 → Not Significant\n",
      "orient vs zoom: stat=-5.410, p-value=0.000 → Statistically Significant\n",
      "orient vs none: stat=2.164, p-value=0.030 → Statistically Significant\n",
      "speeds vs zoom: stat=-5.410, p-value=0.000 → Statistically Significant\n",
      "speeds vs none: stat=5.410, p-value=0.000 → Statistically Significant\n",
      "zoom vs none: stat=5.410, p-value=0.000 → Statistically Significant\n",
      "\n",
      "=== Rank-Sum Test for New Accuracy ===\n",
      "orient vs speeds: stat=0.000, p-value=1.000 → Not Significant\n",
      "orient vs zoom: stat=0.000, p-value=1.000 → Not Significant\n",
      "orient vs none: stat=0.000, p-value=1.000 → Not Significant\n",
      "speeds vs zoom: stat=0.000, p-value=1.000 → Not Significant\n",
      "speeds vs none: stat=0.000, p-value=1.000 → Not Significant\n",
      "zoom vs none: stat=0.000, p-value=1.000 → Not Significant\n"
     ]
    }
   ],
   "source": [
    "from scipy.stats import ranksums\n",
    "\n",
    "datasets = {\n",
    "    \"orient\": orient,\n",
    "    \"speeds\": speeds,\n",
    "    \"zoom\": zoom,\n",
    "    \"none\": none,\n",
    "    \"all\" : all_\n",
    "}\n",
    "\n",
    "# Compare datasets pairwise\n",
    "pairs = [\n",
    "    (\"orient\", \"speeds\"),\n",
    "    (\"orient\", \"zoom\"),\n",
    "    (\"orient\", \"none\"),\n",
    "    (\"orient\", \"all\"),\n",
    "    (\"speeds\", \"zoom\"),\n",
    "    (\"speeds\", \"none\"),\n",
    "    (\"speeds\", \"all\"),\n",
    "    (\"zoom\", \"none\"),\n",
    "    (\"zoom\", \"all\"),\n",
    "    (\"none\", \"all\")\n",
    "]\n",
    "alpha = 0.05\n",
    "\n",
    "for i, col in enumerate([\"Train\", \"Test\", \"New\"]):\n",
    "    print(f\"\\n=== Rank-Sum Test for {col} Accuracy ===\")\n",
    "    for d1, d2 in pairs:\n",
    "        stat, p_value = ranksums(datasets[d1][:, i], datasets[d2][:, i])  # Compare column i\n",
    "        significance = \"Statistically Significant\" if p_value < alpha else \"Not Significant\"\n",
    "        print(f\"{d1} vs {d2}: stat={stat:.3f}, p-value={p_value:.3f} → {significance}\")"
   ]
  }
 ],
 "metadata": {
  "kernelspec": {
   "display_name": "Python 3",
   "language": "python",
   "name": "python3"
  },
  "language_info": {
   "codemirror_mode": {
    "name": "ipython",
    "version": 3
   },
   "file_extension": ".py",
   "mimetype": "text/x-python",
   "name": "python",
   "nbconvert_exporter": "python",
   "pygments_lexer": "ipython3",
   "version": "3.10.12"
  },
  "orig_nbformat": 4
 },
 "nbformat": 4,
 "nbformat_minor": 2
}
