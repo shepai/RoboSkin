{
 "cells": [
  {
   "attachments": {},
   "cell_type": "markdown",
   "metadata": {},
   "source": [
    "# SPEED\n",
    "## speed tests"
   ]
  },
  {
   "cell_type": "code",
   "execution_count": 1,
   "metadata": {},
   "outputs": [
    {
     "name": "stdout",
     "output_type": "stream",
     "text": [
      "Using device: cuda\n",
      "Using device: cuda\n",
      "Using device: cuda\n"
     ]
    }
   ],
   "source": [
    "import numpy as np\n",
    "import matplotlib.pyplot as plt\n",
    "import cv2\n",
    "import torch\n",
    "import torch.nn as nn\n",
    "import torch.optim as optim\n",
    "from torch.utils.data import DataLoader, TensorDataset, random_split, Subset\n",
    "from sklearn.preprocessing import LabelEncoder\n",
    "from IPython.display import clear_output\n",
    "import os\n",
    "import time\n",
    "import random\n",
    "from sklearn.model_selection import train_test_split\n",
    "from sklearn.decomposition import PCA\n",
    "from models import *\n",
    "from data_loader import *\n",
    "from data_format import *\n",
    "from datapath import *\n",
    "from IPython.display import clear_output\n",
    "#os.environ[\"PYTORCH_CUDA_ALLOC_CONF\"] = \"max_split_size_mb:18230\"\n",
    "\n",
    "device = torch.device(\"cuda\" if torch.cuda.is_available() else \"cpu\")\n",
    "#device=torch.device(\"cpu\")\n",
    "print(f\"Using device: {device}\")\n",
    "csfont = {'fontname':'Times New Roman'}\n",
    "os.environ[\"PYTORCH_CUDA_ALLOC_CONF\"] = \"expandable_segments:True\"\n",
    "#\n"
   ]
  },
  {
   "attachments": {},
   "cell_type": "markdown",
   "metadata": {},
   "source": [
    "## create dataset"
   ]
  },
  {
   "cell_type": "code",
   "execution_count": 8,
   "metadata": {},
   "outputs": [
    {
     "data": {
      "text/plain": [
       "'data=loaded(t=-1,filename=\"X_data_15.npz\")\\ndata.applySobel()\\ndata.orientation_augment()\\ndata.speed_augment(4,speeds=3)\\ndata.zoom_augment([10,20,30,40])'"
      ]
     },
     "execution_count": 8,
     "metadata": {},
     "output_type": "execute_result"
    }
   ],
   "source": [
    "#get varying sizes of the dataset\n",
    "\"\"\"data=loaded(t=-1,filename=\"X_data_15.npz\")\n",
    "data.applySobel()\n",
    "data.orientation_augment()\n",
    "data.speed_augment(4,speeds=3)\n",
    "data.zoom_augment([10,20,30,40])\"\"\""
   ]
  },
  {
   "attachments": {},
   "cell_type": "markdown",
   "metadata": {},
   "source": [
    "## experiments"
   ]
  },
  {
   "cell_type": "code",
   "execution_count": 2,
   "metadata": {},
   "outputs": [
    {
     "name": "stdout",
     "output_type": "stream",
     "text": [
      "(50, 4, 110, 120)\n",
      "(50, 1, 440, 120)\n"
     ]
    }
   ],
   "source": [
    "#global parameters\n",
    "test_data=np.load(\"/its/home/drs25/RoboSkin/Code/NewRigExperiments/texture-tactip/concatenated_data_handheld.npy\").astype(np.uint8)\n",
    "labels=np.load(\"/its/home/drs25/RoboSkin/Code/NewRigExperiments/texture-tactip/concatenated_labels_handheld.npy\").astype(np.uint8)\n",
    "test_data_sliced=test_data[:,::4,:,:]\n",
    "test_data_sliced=test_data_sliced[:,10:10+4,:,:]\n",
    "crop=[60,180,40,150]\n",
    "im=test_data_sliced[:,:,crop[2]:crop[3],crop[0]:crop[1]]\n",
    "new=np.zeros((im.shape[0],im.shape[1],im.shape[2],im.shape[3]))\n",
    "for i in range(len(test_data_sliced)): #crop all images individually\n",
    "    for j in range(len(test_data_sliced[0])):\n",
    "        image=cv2.resize(test_data_sliced[i][j],(int(640*0.4),int(480*0.4)),interpolation=cv2.INTER_AREA)\n",
    "        image=cv2.cvtColor(image[crop[2]:crop[3],crop[0]:crop[1]], cv2.COLOR_BGR2GRAY)\n",
    "        # Apply Sobel filter in x-direction\n",
    "        sobel_x = cv2.Sobel(image, cv2.CV_64F, 1, 0, ksize=3)  # ksize=3 for a 3x3 Sobel kernel\n",
    "\n",
    "        # Apply Sobel filter in y-direction\n",
    "        sobel_y = cv2.Sobel(image, cv2.CV_64F, 0, 1, ksize=3)\n",
    "\n",
    "        # Convert the results back to uint8\n",
    "        sobel_x = np.uint8(np.absolute(sobel_x))\n",
    "        sobel_y = np.uint8(np.absolute(sobel_y))\n",
    "\n",
    "        # Combine the results to get the final edge-detected image\n",
    "        sobel_combined = cv2.bitwise_or(sobel_x, sobel_y)\n",
    "        new[i][j]=sobel_combined\n",
    "print(new.shape)\n",
    "new=new.reshape(new.shape[0],1,4*new.shape[2],new.shape[3])\n",
    "print(new.shape)\n",
    "new=(new-np.mean(new))/(np.max(new)-np.min(new))\n",
    "test_data_sliced_tensor=torch.tensor(new,dtype=torch.float64).float().to(device)\n",
    "\n",
    "\n",
    "def calc_noisy(preds,labels):\n",
    "    names=['Carpet', 'LacedMatt', 'wool', 'Cork', 'Felt', 'LongCarpet', 'cotton', 'Plastic', 'Flat', 'Ffoam', 'Gfoam', 'bubble', 'Efoam', 'jeans', 'Leather']\n",
    "    the_other_labels=['Cork','FoamF','FoamG','LacedMatt','Leather','LongCarpet','Plastic','ShortCarpet','Bubble','FoamE']\n",
    "    mapping={0:7,1:3,3:0,5:5,7:6,9:1,10:2,11:8,12:9,14:4}\n",
    "    classes=torch.argmax(preds,axis=1)\n",
    "    correct=0\n",
    "    for i in range(len(classes)):\n",
    "        if mapping.get(classes[i],-1) >0:\n",
    "            if mapping[classes[i]]==labels[i]: correct+=1\n",
    "    return correct/len(classes) *100\n",
    "\n",
    "num_trials=20\n",
    "T_SIZE=4\n",
    "EPOCHS=100"
   ]
  },
  {
   "attachments": {},
   "cell_type": "markdown",
   "metadata": {},
   "source": [
    "### experiment with different zooms"
   ]
  },
  {
   "cell_type": "code",
   "execution_count": 33,
   "metadata": {},
   "outputs": [
    {
     "name": "stdout",
     "output_type": "stream",
     "text": [
      "Dataset size: 3000 \n",
      "Window size: 20 \n",
      "Image: (110, 120)\n",
      "Memory needed: 0.74 GB\n",
      "LOADED DATASET...\n",
      "Memory left 23.59 GB\n",
      "(12000, 4, 110, 120) (12000, 1, 440, 120)\n",
      "Using 4.72 GB\n",
      "torch.Size([12000, 1, 440, 120])\n",
      "torch.Size([12000, 15])\n"
     ]
    },
    {
     "name": "stderr",
     "output_type": "stream",
     "text": [
      "/its/home/drs25/RoboSkin/Code/NewRigExperiments/data_format.py:90: UserWarning: To copy construct from a tensor, it is recommended to use sourceTensor.clone().detach() or sourceTensor.clone().detach().requires_grad_(True), rather than torch.tensor(sourceTensor).\n",
      "  train_labels_tensor = torch.tensor(one_hot_labels, dtype=torch.float32).to(device)\n"
     ]
    },
    {
     "name": "stdout",
     "output_type": "stream",
     "text": [
      "Epoch [1/100], Step [240/240], Loss: 649.6819\n",
      "Epoch [11/100], Step [240/240], Loss: 59.8269\n",
      "Epoch [21/100], Step [240/240], Loss: 8.3617\n",
      "Epoch [31/100], Step [240/240], Loss: 1.2514\n",
      "Epoch [41/100], Step [240/240], Loss: 0.4467\n",
      "Epoch [51/100], Step [240/240], Loss: 0.2775\n",
      "Epoch [61/100], Step [240/240], Loss: 0.1973\n",
      "Epoch [71/100], Step [240/240], Loss: 0.1437\n",
      "Epoch [81/100], Step [240/240], Loss: 0.1166\n",
      "Epoch [91/100], Step [240/240], Loss: 0.0974\n",
      "Finished Training\n",
      "Commence calculations...\n",
      "Accuracy: 99.9989583441839 %\n",
      "Accuracy: 99.99583350693722 %\n",
      "Results: [0.99998958 0.99995834 0.        ]\n",
      "Dataset size: 3000 \n",
      "Window size: 20 \n",
      "Image: (110, 120)\n",
      "Memory needed: 0.74 GB\n",
      "LOADED DATASET...\n",
      "Memory left 23.59 GB\n",
      "(12000, 4, 110, 120) (12000, 1, 440, 120)\n",
      "Using 4.72 GB\n",
      "torch.Size([12000, 1, 440, 120])\n",
      "torch.Size([12000, 15])\n"
     ]
    },
    {
     "name": "stderr",
     "output_type": "stream",
     "text": [
      "/its/home/drs25/RoboSkin/Code/NewRigExperiments/data_format.py:90: UserWarning: To copy construct from a tensor, it is recommended to use sourceTensor.clone().detach() or sourceTensor.clone().detach().requires_grad_(True), rather than torch.tensor(sourceTensor).\n",
      "  train_labels_tensor = torch.tensor(one_hot_labels, dtype=torch.float32).to(device)\n"
     ]
    },
    {
     "name": "stdout",
     "output_type": "stream",
     "text": [
      "Epoch [1/100], Step [240/240], Loss: 649.2054\n",
      "Epoch [11/100], Step [240/240], Loss: 45.1367\n",
      "Epoch [21/100], Step [240/240], Loss: 5.7885\n",
      "Epoch [31/100], Step [240/240], Loss: 0.9357\n",
      "Epoch [41/100], Step [240/240], Loss: 0.3970\n",
      "Epoch [51/100], Step [240/240], Loss: 0.4021\n",
      "Epoch [61/100], Step [240/240], Loss: 0.1803\n",
      "Epoch [71/100], Step [240/240], Loss: 0.1403\n",
      "Epoch [81/100], Step [240/240], Loss: 0.1107\n",
      "Epoch [91/100], Step [240/240], Loss: 0.0954\n",
      "Finished Training\n",
      "Commence calculations...\n",
      "Accuracy: 99.9989583441839 %\n",
      "Accuracy: 99.99583350693722 %\n",
      "Results: [0.99998958 0.99995834 0.        ]\n",
      "Dataset size: 3000 \n",
      "Window size: 20 \n",
      "Image: (110, 120)\n",
      "Memory needed: 0.74 GB\n",
      "LOADED DATASET...\n",
      "Memory left 23.59 GB\n",
      "(12000, 4, 110, 120) (12000, 1, 440, 120)\n",
      "Using 4.72 GB\n",
      "torch.Size([12000, 1, 440, 120])\n",
      "torch.Size([12000, 15])\n"
     ]
    },
    {
     "name": "stderr",
     "output_type": "stream",
     "text": [
      "/its/home/drs25/RoboSkin/Code/NewRigExperiments/data_format.py:90: UserWarning: To copy construct from a tensor, it is recommended to use sourceTensor.clone().detach() or sourceTensor.clone().detach().requires_grad_(True), rather than torch.tensor(sourceTensor).\n",
      "  train_labels_tensor = torch.tensor(one_hot_labels, dtype=torch.float32).to(device)\n"
     ]
    },
    {
     "name": "stdout",
     "output_type": "stream",
     "text": [
      "Epoch [1/100], Step [240/240], Loss: 649.1236\n",
      "Epoch [11/100], Step [240/240], Loss: 51.9659\n",
      "Epoch [21/100], Step [240/240], Loss: 5.9069\n",
      "Epoch [31/100], Step [240/240], Loss: 1.0731\n",
      "Epoch [41/100], Step [240/240], Loss: 0.4982\n",
      "Epoch [51/100], Step [240/240], Loss: 0.2706\n",
      "Epoch [61/100], Step [240/240], Loss: 0.1816\n",
      "Epoch [71/100], Step [240/240], Loss: 0.1390\n",
      "Epoch [81/100], Step [240/240], Loss: 0.1128\n",
      "Epoch [91/100], Step [240/240], Loss: 0.0945\n",
      "Finished Training\n",
      "Commence calculations...\n",
      "Accuracy: 99.9989583441839 %\n",
      "Accuracy: 99.99583350693722 %\n",
      "Results: [0.99998958 0.99995834 0.        ]\n",
      "Dataset size: 3000 \n",
      "Window size: 20 \n",
      "Image: (110, 120)\n",
      "Memory needed: 0.74 GB\n",
      "LOADED DATASET...\n",
      "Memory left 23.59 GB\n",
      "(12000, 4, 110, 120) (12000, 1, 440, 120)\n",
      "Using 4.72 GB\n",
      "torch.Size([12000, 1, 440, 120])\n",
      "torch.Size([12000, 15])\n"
     ]
    },
    {
     "name": "stderr",
     "output_type": "stream",
     "text": [
      "/its/home/drs25/RoboSkin/Code/NewRigExperiments/data_format.py:90: UserWarning: To copy construct from a tensor, it is recommended to use sourceTensor.clone().detach() or sourceTensor.clone().detach().requires_grad_(True), rather than torch.tensor(sourceTensor).\n",
      "  train_labels_tensor = torch.tensor(one_hot_labels, dtype=torch.float32).to(device)\n"
     ]
    },
    {
     "name": "stdout",
     "output_type": "stream",
     "text": [
      "Epoch [1/100], Step [240/240], Loss: 649.6384\n",
      "Epoch [11/100], Step [240/240], Loss: 52.1720\n",
      "Epoch [21/100], Step [240/240], Loss: 6.4097\n",
      "Epoch [31/100], Step [240/240], Loss: 1.5891\n",
      "Epoch [41/100], Step [240/240], Loss: 0.4893\n",
      "Epoch [51/100], Step [240/240], Loss: 0.2931\n",
      "Epoch [61/100], Step [240/240], Loss: 0.1967\n",
      "Epoch [71/100], Step [240/240], Loss: 0.1423\n",
      "Epoch [81/100], Step [240/240], Loss: 0.1168\n",
      "Epoch [91/100], Step [240/240], Loss: 0.0997\n",
      "Finished Training\n",
      "Commence calculations...\n",
      "Accuracy: 99.9989583441839 %\n",
      "Accuracy: 99.99583350693722 %\n",
      "Results: [0.99998958 0.99995834 0.        ]\n",
      "Dataset size: 3000 \n",
      "Window size: 20 \n",
      "Image: (110, 120)\n",
      "Memory needed: 0.74 GB\n",
      "LOADED DATASET...\n",
      "Memory left 23.59 GB\n",
      "(12000, 4, 110, 120) (12000, 1, 440, 120)\n",
      "Using 4.72 GB\n",
      "torch.Size([12000, 1, 440, 120])\n",
      "torch.Size([12000, 15])\n"
     ]
    },
    {
     "name": "stderr",
     "output_type": "stream",
     "text": [
      "/its/home/drs25/RoboSkin/Code/NewRigExperiments/data_format.py:90: UserWarning: To copy construct from a tensor, it is recommended to use sourceTensor.clone().detach() or sourceTensor.clone().detach().requires_grad_(True), rather than torch.tensor(sourceTensor).\n",
      "  train_labels_tensor = torch.tensor(one_hot_labels, dtype=torch.float32).to(device)\n"
     ]
    },
    {
     "name": "stdout",
     "output_type": "stream",
     "text": [
      "Epoch [1/100], Step [240/240], Loss: 648.9594\n",
      "Epoch [11/100], Step [240/240], Loss: 45.5458\n",
      "Epoch [21/100], Step [240/240], Loss: 5.5336\n",
      "Epoch [31/100], Step [240/240], Loss: 1.0707\n",
      "Epoch [41/100], Step [240/240], Loss: 0.5750\n",
      "Epoch [51/100], Step [240/240], Loss: 0.2591\n",
      "Epoch [61/100], Step [240/240], Loss: 0.1769\n",
      "Epoch [71/100], Step [240/240], Loss: 0.1341\n",
      "Epoch [81/100], Step [240/240], Loss: 0.1109\n",
      "Epoch [91/100], Step [240/240], Loss: 0.0912\n",
      "Finished Training\n",
      "Commence calculations...\n",
      "Accuracy: 99.9989583441839 %\n",
      "Accuracy: 99.99583350693722 %\n",
      "Results: [0.99998958 0.99995834 0.        ]\n",
      "Dataset size: 3000 \n",
      "Window size: 20 \n",
      "Image: (110, 120)\n",
      "Memory needed: 0.74 GB\n",
      "LOADED DATASET...\n",
      "Memory left 23.59 GB\n",
      "(12000, 4, 110, 120) (12000, 1, 440, 120)\n",
      "Using 4.72 GB\n",
      "torch.Size([12000, 1, 440, 120])\n",
      "torch.Size([12000, 15])\n"
     ]
    },
    {
     "name": "stderr",
     "output_type": "stream",
     "text": [
      "/its/home/drs25/RoboSkin/Code/NewRigExperiments/data_format.py:90: UserWarning: To copy construct from a tensor, it is recommended to use sourceTensor.clone().detach() or sourceTensor.clone().detach().requires_grad_(True), rather than torch.tensor(sourceTensor).\n",
      "  train_labels_tensor = torch.tensor(one_hot_labels, dtype=torch.float32).to(device)\n"
     ]
    },
    {
     "name": "stdout",
     "output_type": "stream",
     "text": [
      "Epoch [1/100], Step [240/240], Loss: 650.0478\n",
      "Epoch [11/100], Step [240/240], Loss: 158.9492\n",
      "Epoch [21/100], Step [240/240], Loss: 17.9433\n",
      "Epoch [31/100], Step [240/240], Loss: 2.2205\n",
      "Epoch [41/100], Step [240/240], Loss: 0.8953\n",
      "Epoch [51/100], Step [240/240], Loss: 0.3194\n",
      "Epoch [61/100], Step [240/240], Loss: 0.2306\n",
      "Epoch [71/100], Step [240/240], Loss: 0.1672\n",
      "Epoch [81/100], Step [240/240], Loss: 0.1254\n",
      "Epoch [91/100], Step [240/240], Loss: 0.1072\n",
      "Finished Training\n",
      "Commence calculations...\n",
      "Accuracy: 99.9989583441839 %\n",
      "Accuracy: 99.99583350693722 %\n",
      "Results: [0.99998958 0.99995834 0.        ]\n",
      "Dataset size: 3000 \n",
      "Window size: 20 \n",
      "Image: (110, 120)\n",
      "Memory needed: 0.74 GB\n",
      "LOADED DATASET...\n",
      "Memory left 23.59 GB\n",
      "(12000, 4, 110, 120) (12000, 1, 440, 120)\n",
      "Using 4.72 GB\n",
      "torch.Size([12000, 1, 440, 120])\n",
      "torch.Size([12000, 15])\n"
     ]
    },
    {
     "name": "stderr",
     "output_type": "stream",
     "text": [
      "/its/home/drs25/RoboSkin/Code/NewRigExperiments/data_format.py:90: UserWarning: To copy construct from a tensor, it is recommended to use sourceTensor.clone().detach() or sourceTensor.clone().detach().requires_grad_(True), rather than torch.tensor(sourceTensor).\n",
      "  train_labels_tensor = torch.tensor(one_hot_labels, dtype=torch.float32).to(device)\n"
     ]
    },
    {
     "name": "stdout",
     "output_type": "stream",
     "text": [
      "Epoch [1/100], Step [240/240], Loss: 649.7966\n",
      "Epoch [11/100], Step [240/240], Loss: 55.3954\n",
      "Epoch [21/100], Step [240/240], Loss: 6.9828\n",
      "Epoch [31/100], Step [240/240], Loss: 1.5502\n",
      "Epoch [41/100], Step [240/240], Loss: 0.4392\n",
      "Epoch [51/100], Step [240/240], Loss: 0.2677\n",
      "Epoch [61/100], Step [240/240], Loss: 0.3247\n",
      "Epoch [71/100], Step [240/240], Loss: 0.1504\n",
      "Epoch [81/100], Step [240/240], Loss: 0.1207\n",
      "Epoch [91/100], Step [240/240], Loss: 0.0990\n",
      "Finished Training\n",
      "Commence calculations...\n",
      "Accuracy: 99.9989583441839 %\n",
      "Accuracy: 99.99583350693722 %\n",
      "Results: [0.99998958 0.99995834 0.        ]\n",
      "Dataset size: 3000 \n",
      "Window size: 20 \n",
      "Image: (110, 120)\n",
      "Memory needed: 0.74 GB\n",
      "LOADED DATASET...\n",
      "Memory left 23.59 GB\n",
      "(12000, 4, 110, 120) (12000, 1, 440, 120)\n",
      "Using 4.72 GB\n",
      "torch.Size([12000, 1, 440, 120])\n",
      "torch.Size([12000, 15])\n"
     ]
    },
    {
     "name": "stderr",
     "output_type": "stream",
     "text": [
      "/its/home/drs25/RoboSkin/Code/NewRigExperiments/data_format.py:90: UserWarning: To copy construct from a tensor, it is recommended to use sourceTensor.clone().detach() or sourceTensor.clone().detach().requires_grad_(True), rather than torch.tensor(sourceTensor).\n",
      "  train_labels_tensor = torch.tensor(one_hot_labels, dtype=torch.float32).to(device)\n"
     ]
    },
    {
     "name": "stdout",
     "output_type": "stream",
     "text": [
      "Epoch [1/100], Step [240/240], Loss: 649.5968\n",
      "Epoch [11/100], Step [240/240], Loss: 58.7178\n",
      "Epoch [21/100], Step [240/240], Loss: 7.5321\n",
      "Epoch [31/100], Step [240/240], Loss: 2.1226\n",
      "Epoch [41/100], Step [240/240], Loss: 0.4870\n",
      "Epoch [51/100], Step [240/240], Loss: 0.2935\n",
      "Epoch [61/100], Step [240/240], Loss: 0.1896\n",
      "Epoch [71/100], Step [240/240], Loss: 0.1533\n",
      "Epoch [81/100], Step [240/240], Loss: 0.1147\n",
      "Epoch [91/100], Step [240/240], Loss: 0.0939\n",
      "Finished Training\n",
      "Commence calculations...\n",
      "Accuracy: 99.9989583441839 %\n",
      "Accuracy: 99.99583350693722 %\n",
      "Results: [0.99998958 0.99995834 0.        ]\n",
      "Dataset size: 3000 \n",
      "Window size: 20 \n",
      "Image: (110, 120)\n",
      "Memory needed: 0.74 GB\n",
      "LOADED DATASET...\n",
      "Memory left 23.59 GB\n",
      "(12000, 4, 110, 120) (12000, 1, 440, 120)\n",
      "Using 4.72 GB\n",
      "torch.Size([12000, 1, 440, 120])\n",
      "torch.Size([12000, 15])\n"
     ]
    },
    {
     "name": "stderr",
     "output_type": "stream",
     "text": [
      "/its/home/drs25/RoboSkin/Code/NewRigExperiments/data_format.py:90: UserWarning: To copy construct from a tensor, it is recommended to use sourceTensor.clone().detach() or sourceTensor.clone().detach().requires_grad_(True), rather than torch.tensor(sourceTensor).\n",
      "  train_labels_tensor = torch.tensor(one_hot_labels, dtype=torch.float32).to(device)\n"
     ]
    },
    {
     "name": "stdout",
     "output_type": "stream",
     "text": [
      "Epoch [1/100], Step [240/240], Loss: 649.5470\n",
      "Epoch [11/100], Step [240/240], Loss: 54.8962\n",
      "Epoch [21/100], Step [240/240], Loss: 7.0218\n",
      "Epoch [31/100], Step [240/240], Loss: 1.3944\n",
      "Epoch [41/100], Step [240/240], Loss: 0.4625\n",
      "Epoch [51/100], Step [240/240], Loss: 0.2529\n",
      "Epoch [61/100], Step [240/240], Loss: 0.1882\n",
      "Epoch [71/100], Step [240/240], Loss: 0.1370\n",
      "Epoch [81/100], Step [240/240], Loss: 0.1101\n",
      "Epoch [91/100], Step [240/240], Loss: 0.0917\n",
      "Finished Training\n",
      "Commence calculations...\n",
      "Accuracy: 99.9989583441839 %\n",
      "Accuracy: 99.91250364568144 %\n",
      "Results: [0.99998958 0.99912504 0.        ]\n",
      "Dataset size: 3000 \n",
      "Window size: 20 \n",
      "Image: (110, 120)\n",
      "Memory needed: 0.74 GB\n",
      "LOADED DATASET...\n",
      "Memory left 23.59 GB\n",
      "(12000, 4, 110, 120) (12000, 1, 440, 120)\n",
      "Using 4.72 GB\n",
      "torch.Size([12000, 1, 440, 120])\n",
      "torch.Size([12000, 15])\n"
     ]
    },
    {
     "name": "stderr",
     "output_type": "stream",
     "text": [
      "/its/home/drs25/RoboSkin/Code/NewRigExperiments/data_format.py:90: UserWarning: To copy construct from a tensor, it is recommended to use sourceTensor.clone().detach() or sourceTensor.clone().detach().requires_grad_(True), rather than torch.tensor(sourceTensor).\n",
      "  train_labels_tensor = torch.tensor(one_hot_labels, dtype=torch.float32).to(device)\n"
     ]
    },
    {
     "name": "stdout",
     "output_type": "stream",
     "text": [
      "Epoch [1/100], Step [240/240], Loss: 649.3295\n",
      "Epoch [11/100], Step [240/240], Loss: 85.9964\n",
      "Epoch [21/100], Step [240/240], Loss: 13.0380\n",
      "Epoch [31/100], Step [240/240], Loss: 2.0692\n",
      "Epoch [41/100], Step [240/240], Loss: 0.4991\n",
      "Epoch [51/100], Step [240/240], Loss: 0.2927\n",
      "Epoch [61/100], Step [240/240], Loss: 0.2048\n",
      "Epoch [71/100], Step [240/240], Loss: 0.1532\n",
      "Epoch [81/100], Step [240/240], Loss: 0.1189\n",
      "Epoch [91/100], Step [240/240], Loss: 0.1000\n",
      "Finished Training\n",
      "Commence calculations...\n",
      "Accuracy: 99.9989583441839 %\n",
      "Accuracy: 99.99583350693722 %\n",
      "Results: [0.99998958 0.99995834 0.        ]\n",
      "Dataset size: 3000 \n",
      "Window size: 20 \n",
      "Image: (110, 120)\n",
      "Memory needed: 0.74 GB\n",
      "LOADED DATASET...\n",
      "Memory left 23.59 GB\n",
      "(12000, 4, 110, 120) (12000, 1, 440, 120)\n",
      "Using 4.72 GB\n",
      "torch.Size([12000, 1, 440, 120])\n",
      "torch.Size([12000, 15])\n"
     ]
    },
    {
     "name": "stderr",
     "output_type": "stream",
     "text": [
      "/its/home/drs25/RoboSkin/Code/NewRigExperiments/data_format.py:90: UserWarning: To copy construct from a tensor, it is recommended to use sourceTensor.clone().detach() or sourceTensor.clone().detach().requires_grad_(True), rather than torch.tensor(sourceTensor).\n",
      "  train_labels_tensor = torch.tensor(one_hot_labels, dtype=torch.float32).to(device)\n"
     ]
    },
    {
     "name": "stdout",
     "output_type": "stream",
     "text": [
      "Epoch [1/100], Step [240/240], Loss: 650.0274\n",
      "Epoch [11/100], Step [240/240], Loss: 113.1840\n",
      "Epoch [21/100], Step [240/240], Loss: 13.5729\n",
      "Epoch [31/100], Step [240/240], Loss: 2.5065\n",
      "Epoch [41/100], Step [240/240], Loss: 0.7168\n",
      "Epoch [51/100], Step [240/240], Loss: 0.3602\n",
      "Epoch [61/100], Step [240/240], Loss: 0.2660\n",
      "Epoch [71/100], Step [240/240], Loss: 0.1637\n",
      "Epoch [81/100], Step [240/240], Loss: 0.1484\n",
      "Epoch [91/100], Step [240/240], Loss: 0.1024\n",
      "Finished Training\n",
      "Commence calculations...\n",
      "Accuracy: 99.9989583441839 %\n",
      "Accuracy: 99.99583350693722 %\n",
      "Results: [0.99998958 0.99995834 0.        ]\n",
      "Dataset size: 3000 \n",
      "Window size: 20 \n",
      "Image: (110, 120)\n",
      "Memory needed: 0.74 GB\n",
      "LOADED DATASET...\n",
      "Memory left 23.59 GB\n",
      "(12000, 4, 110, 120) (12000, 1, 440, 120)\n",
      "Using 4.72 GB\n",
      "torch.Size([12000, 1, 440, 120])\n",
      "torch.Size([12000, 15])\n"
     ]
    },
    {
     "name": "stderr",
     "output_type": "stream",
     "text": [
      "/its/home/drs25/RoboSkin/Code/NewRigExperiments/data_format.py:90: UserWarning: To copy construct from a tensor, it is recommended to use sourceTensor.clone().detach() or sourceTensor.clone().detach().requires_grad_(True), rather than torch.tensor(sourceTensor).\n",
      "  train_labels_tensor = torch.tensor(one_hot_labels, dtype=torch.float32).to(device)\n"
     ]
    },
    {
     "name": "stdout",
     "output_type": "stream",
     "text": [
      "Epoch [1/100], Step [240/240], Loss: 650.0117\n",
      "Epoch [11/100], Step [240/240], Loss: 84.1284\n",
      "Epoch [21/100], Step [240/240], Loss: 11.4754\n",
      "Epoch [31/100], Step [240/240], Loss: 1.6502\n",
      "Epoch [41/100], Step [240/240], Loss: 0.5540\n",
      "Epoch [51/100], Step [240/240], Loss: 0.2885\n",
      "Epoch [61/100], Step [240/240], Loss: 0.2026\n",
      "Epoch [71/100], Step [240/240], Loss: 0.1494\n",
      "Epoch [81/100], Step [240/240], Loss: 0.1220\n",
      "Epoch [91/100], Step [240/240], Loss: 0.0971\n",
      "Finished Training\n",
      "Commence calculations...\n",
      "Accuracy: 99.9989583441839 %\n",
      "Accuracy: 99.99583350693722 %\n",
      "Results: [0.99998958 0.99995834 0.        ]\n",
      "Dataset size: 3000 \n",
      "Window size: 20 \n",
      "Image: (110, 120)\n",
      "Memory needed: 0.74 GB\n",
      "LOADED DATASET...\n",
      "Memory left 23.59 GB\n",
      "(12000, 4, 110, 120) (12000, 1, 440, 120)\n",
      "Using 4.72 GB\n",
      "torch.Size([12000, 1, 440, 120])\n",
      "torch.Size([12000, 15])\n"
     ]
    },
    {
     "name": "stderr",
     "output_type": "stream",
     "text": [
      "/its/home/drs25/RoboSkin/Code/NewRigExperiments/data_format.py:90: UserWarning: To copy construct from a tensor, it is recommended to use sourceTensor.clone().detach() or sourceTensor.clone().detach().requires_grad_(True), rather than torch.tensor(sourceTensor).\n",
      "  train_labels_tensor = torch.tensor(one_hot_labels, dtype=torch.float32).to(device)\n"
     ]
    },
    {
     "name": "stdout",
     "output_type": "stream",
     "text": [
      "Epoch [1/100], Step [240/240], Loss: 649.4528\n",
      "Epoch [11/100], Step [240/240], Loss: 59.1085\n",
      "Epoch [21/100], Step [240/240], Loss: 7.8382\n",
      "Epoch [31/100], Step [240/240], Loss: 1.3677\n",
      "Epoch [41/100], Step [240/240], Loss: 0.4861\n",
      "Epoch [51/100], Step [240/240], Loss: 0.3125\n",
      "Epoch [61/100], Step [240/240], Loss: 0.2728\n",
      "Epoch [71/100], Step [240/240], Loss: 0.1445\n",
      "Epoch [81/100], Step [240/240], Loss: 0.1167\n",
      "Epoch [91/100], Step [240/240], Loss: 0.0970\n",
      "Finished Training\n",
      "Commence calculations...\n",
      "Accuracy: 99.9989583441839 %\n",
      "Accuracy: 99.99583350693722 %\n",
      "Results: [0.99998958 0.99995834 0.        ]\n",
      "Dataset size: 3000 \n",
      "Window size: 20 \n",
      "Image: (110, 120)\n",
      "Memory needed: 0.74 GB\n",
      "LOADED DATASET...\n",
      "Memory left 23.59 GB\n",
      "(12000, 4, 110, 120) (12000, 1, 440, 120)\n",
      "Using 4.72 GB\n",
      "torch.Size([12000, 1, 440, 120])\n",
      "torch.Size([12000, 15])\n"
     ]
    },
    {
     "name": "stderr",
     "output_type": "stream",
     "text": [
      "/its/home/drs25/RoboSkin/Code/NewRigExperiments/data_format.py:90: UserWarning: To copy construct from a tensor, it is recommended to use sourceTensor.clone().detach() or sourceTensor.clone().detach().requires_grad_(True), rather than torch.tensor(sourceTensor).\n",
      "  train_labels_tensor = torch.tensor(one_hot_labels, dtype=torch.float32).to(device)\n"
     ]
    },
    {
     "name": "stdout",
     "output_type": "stream",
     "text": [
      "Epoch [1/100], Step [240/240], Loss: 649.9914\n",
      "Epoch [11/100], Step [240/240], Loss: 78.0525\n",
      "Epoch [21/100], Step [240/240], Loss: 9.2075\n",
      "Epoch [31/100], Step [240/240], Loss: 1.7504\n",
      "Epoch [41/100], Step [240/240], Loss: 0.5884\n",
      "Epoch [51/100], Step [240/240], Loss: 0.3512\n",
      "Epoch [61/100], Step [240/240], Loss: 0.2022\n",
      "Epoch [71/100], Step [240/240], Loss: 0.1530\n",
      "Epoch [81/100], Step [240/240], Loss: 0.1229\n",
      "Epoch [91/100], Step [240/240], Loss: 0.0996\n",
      "Finished Training\n",
      "Commence calculations...\n",
      "Accuracy: 99.9989583441839 %\n",
      "Accuracy: 99.99583350693722 %\n",
      "Results: [0.99998958 0.99995834 0.        ]\n",
      "Dataset size: 3000 \n",
      "Window size: 20 \n",
      "Image: (110, 120)\n",
      "Memory needed: 0.74 GB\n",
      "LOADED DATASET...\n",
      "Memory left 23.59 GB\n",
      "(12000, 4, 110, 120) (12000, 1, 440, 120)\n",
      "Using 4.72 GB\n",
      "torch.Size([12000, 1, 440, 120])\n",
      "torch.Size([12000, 15])\n"
     ]
    },
    {
     "name": "stderr",
     "output_type": "stream",
     "text": [
      "/its/home/drs25/RoboSkin/Code/NewRigExperiments/data_format.py:90: UserWarning: To copy construct from a tensor, it is recommended to use sourceTensor.clone().detach() or sourceTensor.clone().detach().requires_grad_(True), rather than torch.tensor(sourceTensor).\n",
      "  train_labels_tensor = torch.tensor(one_hot_labels, dtype=torch.float32).to(device)\n"
     ]
    },
    {
     "name": "stdout",
     "output_type": "stream",
     "text": [
      "Epoch [1/100], Step [240/240], Loss: 649.8565\n",
      "Epoch [11/100], Step [240/240], Loss: 63.8338\n",
      "Epoch [21/100], Step [240/240], Loss: 7.9341\n",
      "Epoch [31/100], Step [240/240], Loss: 1.6508\n",
      "Epoch [41/100], Step [240/240], Loss: 0.4401\n",
      "Epoch [51/100], Step [240/240], Loss: 0.2665\n",
      "Epoch [61/100], Step [240/240], Loss: 0.1880\n",
      "Epoch [71/100], Step [240/240], Loss: 0.1458\n",
      "Epoch [81/100], Step [240/240], Loss: 0.1180\n",
      "Epoch [91/100], Step [240/240], Loss: 0.0959\n",
      "Finished Training\n",
      "Commence calculations...\n",
      "Accuracy: 99.9989583441839 %\n",
      "Accuracy: 99.99583350693722 %\n",
      "Results: [0.99998958 0.99995834 0.        ]\n",
      "Dataset size: 3000 \n",
      "Window size: 20 \n",
      "Image: (110, 120)\n",
      "Memory needed: 0.74 GB\n",
      "LOADED DATASET...\n",
      "Memory left 23.59 GB\n",
      "(12000, 4, 110, 120) (12000, 1, 440, 120)\n",
      "Using 4.72 GB\n",
      "torch.Size([12000, 1, 440, 120])\n",
      "torch.Size([12000, 15])\n"
     ]
    },
    {
     "name": "stderr",
     "output_type": "stream",
     "text": [
      "/its/home/drs25/RoboSkin/Code/NewRigExperiments/data_format.py:90: UserWarning: To copy construct from a tensor, it is recommended to use sourceTensor.clone().detach() or sourceTensor.clone().detach().requires_grad_(True), rather than torch.tensor(sourceTensor).\n",
      "  train_labels_tensor = torch.tensor(one_hot_labels, dtype=torch.float32).to(device)\n"
     ]
    },
    {
     "name": "stdout",
     "output_type": "stream",
     "text": [
      "Epoch [1/100], Step [240/240], Loss: 649.1767\n",
      "Epoch [11/100], Step [240/240], Loss: 52.9127\n",
      "Epoch [21/100], Step [240/240], Loss: 7.0230\n",
      "Epoch [31/100], Step [240/240], Loss: 1.4967\n",
      "Epoch [41/100], Step [240/240], Loss: 0.4656\n",
      "Epoch [51/100], Step [240/240], Loss: 0.2469\n",
      "Epoch [61/100], Step [240/240], Loss: 0.1804\n",
      "Epoch [71/100], Step [240/240], Loss: 0.1360\n",
      "Epoch [81/100], Step [240/240], Loss: 0.1103\n",
      "Epoch [91/100], Step [240/240], Loss: 0.0892\n",
      "Finished Training\n",
      "Commence calculations...\n",
      "Accuracy: 99.9989583441839 %\n",
      "Accuracy: 99.99583350693722 %\n",
      "Results: [0.99998958 0.99995834 0.        ]\n",
      "Dataset size: 3000 \n",
      "Window size: 20 \n",
      "Image: (110, 120)\n",
      "Memory needed: 0.74 GB\n",
      "LOADED DATASET...\n",
      "Memory left 23.59 GB\n",
      "(12000, 4, 110, 120) (12000, 1, 440, 120)\n",
      "Using 4.72 GB\n",
      "torch.Size([12000, 1, 440, 120])\n",
      "torch.Size([12000, 15])\n"
     ]
    },
    {
     "name": "stderr",
     "output_type": "stream",
     "text": [
      "/its/home/drs25/RoboSkin/Code/NewRigExperiments/data_format.py:90: UserWarning: To copy construct from a tensor, it is recommended to use sourceTensor.clone().detach() or sourceTensor.clone().detach().requires_grad_(True), rather than torch.tensor(sourceTensor).\n",
      "  train_labels_tensor = torch.tensor(one_hot_labels, dtype=torch.float32).to(device)\n"
     ]
    },
    {
     "name": "stdout",
     "output_type": "stream",
     "text": [
      "Epoch [1/100], Step [240/240], Loss: 649.5387\n",
      "Epoch [11/100], Step [240/240], Loss: 51.7895\n",
      "Epoch [21/100], Step [240/240], Loss: 6.3138\n",
      "Epoch [31/100], Step [240/240], Loss: 1.4068\n",
      "Epoch [41/100], Step [240/240], Loss: 0.5794\n",
      "Epoch [51/100], Step [240/240], Loss: 0.2729\n",
      "Epoch [61/100], Step [240/240], Loss: 0.1897\n",
      "Epoch [71/100], Step [240/240], Loss: 0.1446\n",
      "Epoch [81/100], Step [240/240], Loss: 0.1187\n",
      "Epoch [91/100], Step [240/240], Loss: 0.0942\n",
      "Finished Training\n",
      "Commence calculations...\n",
      "Accuracy: 99.9989583441839 %\n",
      "Accuracy: 99.99583350693722 %\n",
      "Results: [0.99998958 0.99995834 0.        ]\n",
      "Dataset size: 3000 \n",
      "Window size: 20 \n",
      "Image: (110, 120)\n",
      "Memory needed: 0.74 GB\n",
      "LOADED DATASET...\n",
      "Memory left 23.59 GB\n",
      "(12000, 4, 110, 120) (12000, 1, 440, 120)\n",
      "Using 4.72 GB\n",
      "torch.Size([12000, 1, 440, 120])\n",
      "torch.Size([12000, 15])\n"
     ]
    },
    {
     "name": "stderr",
     "output_type": "stream",
     "text": [
      "/its/home/drs25/RoboSkin/Code/NewRigExperiments/data_format.py:90: UserWarning: To copy construct from a tensor, it is recommended to use sourceTensor.clone().detach() or sourceTensor.clone().detach().requires_grad_(True), rather than torch.tensor(sourceTensor).\n",
      "  train_labels_tensor = torch.tensor(one_hot_labels, dtype=torch.float32).to(device)\n"
     ]
    },
    {
     "name": "stdout",
     "output_type": "stream",
     "text": [
      "Epoch [1/100], Step [240/240], Loss: 649.8307\n",
      "Epoch [11/100], Step [240/240], Loss: 72.6349\n",
      "Epoch [21/100], Step [240/240], Loss: 9.5912\n",
      "Epoch [31/100], Step [240/240], Loss: 1.8763\n",
      "Epoch [41/100], Step [240/240], Loss: 0.4753\n",
      "Epoch [51/100], Step [240/240], Loss: 0.2784\n",
      "Epoch [61/100], Step [240/240], Loss: 0.1996\n",
      "Epoch [71/100], Step [240/240], Loss: 0.1424\n",
      "Epoch [81/100], Step [240/240], Loss: 0.1143\n",
      "Epoch [91/100], Step [240/240], Loss: 0.0951\n",
      "Finished Training\n",
      "Commence calculations...\n",
      "Accuracy: 99.9989583441839 %\n",
      "Accuracy: 99.99583350693722 %\n",
      "Results: [0.99998958 0.99995834 0.        ]\n",
      "Dataset size: 3000 \n",
      "Window size: 20 \n",
      "Image: (110, 120)\n",
      "Memory needed: 0.74 GB\n",
      "LOADED DATASET...\n",
      "Memory left 23.59 GB\n",
      "(12000, 4, 110, 120) (12000, 1, 440, 120)\n",
      "Using 4.72 GB\n",
      "torch.Size([12000, 1, 440, 120])\n",
      "torch.Size([12000, 15])\n"
     ]
    },
    {
     "name": "stderr",
     "output_type": "stream",
     "text": [
      "/its/home/drs25/RoboSkin/Code/NewRigExperiments/data_format.py:90: UserWarning: To copy construct from a tensor, it is recommended to use sourceTensor.clone().detach() or sourceTensor.clone().detach().requires_grad_(True), rather than torch.tensor(sourceTensor).\n",
      "  train_labels_tensor = torch.tensor(one_hot_labels, dtype=torch.float32).to(device)\n"
     ]
    },
    {
     "name": "stdout",
     "output_type": "stream",
     "text": [
      "Epoch [1/100], Step [240/240], Loss: 649.0149\n",
      "Epoch [11/100], Step [240/240], Loss: 50.3929\n",
      "Epoch [21/100], Step [240/240], Loss: 6.4122\n",
      "Epoch [31/100], Step [240/240], Loss: 1.0203\n",
      "Epoch [41/100], Step [240/240], Loss: 0.5424\n",
      "Epoch [51/100], Step [240/240], Loss: 0.2784\n",
      "Epoch [61/100], Step [240/240], Loss: 0.1961\n",
      "Epoch [71/100], Step [240/240], Loss: 0.1393\n",
      "Epoch [81/100], Step [240/240], Loss: 0.1156\n",
      "Epoch [91/100], Step [240/240], Loss: 0.0930\n",
      "Finished Training\n",
      "Commence calculations...\n",
      "Accuracy: 99.9989583441839 %\n",
      "Accuracy: 99.99583350693722 %\n",
      "Results: [0.99998958 0.99995834 0.        ]\n",
      "Dataset size: 3000 \n",
      "Window size: 20 \n",
      "Image: (110, 120)\n",
      "Memory needed: 0.74 GB\n",
      "LOADED DATASET...\n",
      "Memory left 23.59 GB\n",
      "(12000, 4, 110, 120) (12000, 1, 440, 120)\n",
      "Using 4.72 GB\n",
      "torch.Size([12000, 1, 440, 120])\n",
      "torch.Size([12000, 15])\n"
     ]
    },
    {
     "name": "stderr",
     "output_type": "stream",
     "text": [
      "/its/home/drs25/RoboSkin/Code/NewRigExperiments/data_format.py:90: UserWarning: To copy construct from a tensor, it is recommended to use sourceTensor.clone().detach() or sourceTensor.clone().detach().requires_grad_(True), rather than torch.tensor(sourceTensor).\n",
      "  train_labels_tensor = torch.tensor(one_hot_labels, dtype=torch.float32).to(device)\n"
     ]
    },
    {
     "name": "stdout",
     "output_type": "stream",
     "text": [
      "Epoch [1/100], Step [240/240], Loss: 649.6578\n",
      "Epoch [11/100], Step [240/240], Loss: 61.2825\n",
      "Epoch [21/100], Step [240/240], Loss: 7.5931\n",
      "Epoch [31/100], Step [240/240], Loss: 1.4401\n",
      "Epoch [41/100], Step [240/240], Loss: 0.6029\n",
      "Epoch [51/100], Step [240/240], Loss: 0.3157\n",
      "Epoch [61/100], Step [240/240], Loss: 0.2003\n",
      "Epoch [71/100], Step [240/240], Loss: 0.1584\n",
      "Epoch [81/100], Step [240/240], Loss: 0.1175\n",
      "Epoch [91/100], Step [240/240], Loss: 0.0973\n",
      "Finished Training\n",
      "Commence calculations...\n",
      "Accuracy: 99.9989583441839 %\n",
      "Accuracy: 99.99583350693722 %\n",
      "Results: [0.99998958 0.99995834 0.        ]\n"
     ]
    }
   ],
   "source": [
    "## zoom experiments\n",
    "acc=np.zeros((num_trials,3)) #train,test,noisy\n",
    "\n",
    "for i in range(num_trials):\n",
    "    data=loaded(t=T_SIZE,filename=\"X_data_15.npz\")\n",
    "    data.applySobel()\n",
    "    data.zoom_augment([10,20,30,40])\n",
    "    data.shuffle()\n",
    "    data.X=data.X[0:15000]\n",
    "    data.y=data.y[0:15000]\n",
    "    train_loader,test_loader=org_data(data,(len(data.X),1,T_SIZE*data.X.shape[2],data.X.shape[3]))\n",
    "    model,history=run(train_loader,0,4,num_epochs = EPOCHS)\n",
    "    print(\"Commence calculations...\")\n",
    "    acc[i][0]=calc(model,train_loader)\n",
    "    acc[i][1]=calc(model,test_loader)\n",
    "    preds=model(test_data_sliced_tensor)\n",
    "    acc[i][2]=calc_noisy(preds,labels)\n",
    "    print(\"Results:\",acc[i])\n",
    "np.save(path+\"/data/20_TRIALS_CNN_ZOOM_AUGMENTATION\",acc)"
   ]
  },
  {
   "attachments": {},
   "cell_type": "markdown",
   "metadata": {},
   "source": [
    "### experiment with different speeds"
   ]
  },
  {
   "cell_type": "code",
   "execution_count": 34,
   "metadata": {},
   "outputs": [
    {
     "name": "stdout",
     "output_type": "stream",
     "text": [
      "Dataset size: 3000 \n",
      "Window size: 20 \n",
      "Image: (110, 120)\n",
      "Memory needed: 0.74 GB\n",
      "LOADED DATASET...\n",
      "Memory left 23.59 GB\n",
      "(9000, 4, 110, 120) (9000, 1, 440, 120)\n",
      "Using 3.54 GB\n",
      "torch.Size([9000, 1, 440, 120])\n",
      "torch.Size([9000, 15])\n"
     ]
    },
    {
     "name": "stderr",
     "output_type": "stream",
     "text": [
      "/its/home/drs25/RoboSkin/Code/NewRigExperiments/data_format.py:90: UserWarning: To copy construct from a tensor, it is recommended to use sourceTensor.clone().detach() or sourceTensor.clone().detach().requires_grad_(True), rather than torch.tensor(sourceTensor).\n",
      "  train_labels_tensor = torch.tensor(one_hot_labels, dtype=torch.float32).to(device)\n"
     ]
    },
    {
     "name": "stdout",
     "output_type": "stream",
     "text": [
      "Epoch [1/100], Step [180/180], Loss: 484.8174\n",
      "Epoch [11/100], Step [180/180], Loss: 21.6758\n",
      "Epoch [21/100], Step [180/180], Loss: 0.8357\n",
      "Epoch [31/100], Step [180/180], Loss: 0.3974\n",
      "Epoch [41/100], Step [180/180], Loss: 0.1601\n",
      "Epoch [51/100], Step [180/180], Loss: 0.1132\n",
      "Epoch [61/100], Step [180/180], Loss: 0.0844\n",
      "Epoch [71/100], Step [180/180], Loss: 0.0661\n",
      "Epoch [81/100], Step [180/180], Loss: 0.0539\n",
      "Epoch [91/100], Step [180/180], Loss: 0.0460\n",
      "Finished Training\n",
      "Commence calculations...\n",
      "Accuracy: 99.99861113040096 %\n",
      "Accuracy: 99.99444475306927 %\n",
      "Results: [0.99998611 0.99994445 0.        ]\n",
      "Dataset size: 3000 \n",
      "Window size: 20 \n",
      "Image: (110, 120)\n",
      "Memory needed: 0.74 GB\n",
      "LOADED DATASET...\n",
      "Memory left 23.59 GB\n",
      "(9000, 4, 110, 120) (9000, 1, 440, 120)\n",
      "Using 3.54 GB\n",
      "torch.Size([9000, 1, 440, 120])\n",
      "torch.Size([9000, 15])\n"
     ]
    },
    {
     "name": "stderr",
     "output_type": "stream",
     "text": [
      "/its/home/drs25/RoboSkin/Code/NewRigExperiments/data_format.py:90: UserWarning: To copy construct from a tensor, it is recommended to use sourceTensor.clone().detach() or sourceTensor.clone().detach().requires_grad_(True), rather than torch.tensor(sourceTensor).\n",
      "  train_labels_tensor = torch.tensor(one_hot_labels, dtype=torch.float32).to(device)\n"
     ]
    },
    {
     "name": "stdout",
     "output_type": "stream",
     "text": [
      "Epoch [1/100], Step [180/180], Loss: 484.7044\n",
      "Epoch [11/100], Step [180/180], Loss: 21.6222\n",
      "Epoch [21/100], Step [180/180], Loss: 0.8060\n",
      "Epoch [31/100], Step [180/180], Loss: 0.2877\n",
      "Epoch [41/100], Step [180/180], Loss: 0.1665\n",
      "Epoch [51/100], Step [180/180], Loss: 0.1149\n",
      "Epoch [61/100], Step [180/180], Loss: 0.0842\n",
      "Epoch [71/100], Step [180/180], Loss: 0.0671\n",
      "Epoch [81/100], Step [180/180], Loss: 0.0544\n",
      "Epoch [91/100], Step [180/180], Loss: 0.0457\n",
      "Finished Training\n",
      "Commence calculations...\n",
      "Accuracy: 99.99861113040096 %\n",
      "Accuracy: 99.99444475306927 %\n",
      "Results: [0.99998611 0.99994445 0.        ]\n",
      "Dataset size: 3000 \n",
      "Window size: 20 \n",
      "Image: (110, 120)\n",
      "Memory needed: 0.74 GB\n",
      "LOADED DATASET...\n",
      "Memory left 23.59 GB\n",
      "(9000, 4, 110, 120) (9000, 1, 440, 120)\n",
      "Using 3.54 GB\n",
      "torch.Size([9000, 1, 440, 120])\n",
      "torch.Size([9000, 15])\n"
     ]
    },
    {
     "name": "stderr",
     "output_type": "stream",
     "text": [
      "/its/home/drs25/RoboSkin/Code/NewRigExperiments/data_format.py:90: UserWarning: To copy construct from a tensor, it is recommended to use sourceTensor.clone().detach() or sourceTensor.clone().detach().requires_grad_(True), rather than torch.tensor(sourceTensor).\n",
      "  train_labels_tensor = torch.tensor(one_hot_labels, dtype=torch.float32).to(device)\n"
     ]
    },
    {
     "name": "stdout",
     "output_type": "stream",
     "text": [
      "Epoch [1/100], Step [180/180], Loss: 481.4828\n",
      "Epoch [11/100], Step [180/180], Loss: 17.0868\n",
      "Epoch [21/100], Step [180/180], Loss: 1.0621\n",
      "Epoch [31/100], Step [180/180], Loss: 0.2748\n",
      "Epoch [41/100], Step [180/180], Loss: 0.1650\n",
      "Epoch [51/100], Step [180/180], Loss: 0.1151\n",
      "Epoch [61/100], Step [180/180], Loss: 0.0865\n",
      "Epoch [71/100], Step [180/180], Loss: 0.0687\n",
      "Epoch [81/100], Step [180/180], Loss: 0.0562\n",
      "Epoch [91/100], Step [180/180], Loss: 0.0480\n",
      "Finished Training\n",
      "Commence calculations...\n",
      "Accuracy: 99.99861113040096 %\n",
      "Accuracy: 99.99444475306927 %\n",
      "Results: [0.99998611 0.99994445 0.        ]\n",
      "Dataset size: 3000 \n",
      "Window size: 20 \n",
      "Image: (110, 120)\n",
      "Memory needed: 0.74 GB\n",
      "LOADED DATASET...\n",
      "Memory left 23.59 GB\n",
      "(9000, 4, 110, 120) (9000, 1, 440, 120)\n",
      "Using 3.54 GB\n",
      "torch.Size([9000, 1, 440, 120])\n",
      "torch.Size([9000, 15])\n"
     ]
    },
    {
     "name": "stderr",
     "output_type": "stream",
     "text": [
      "/its/home/drs25/RoboSkin/Code/NewRigExperiments/data_format.py:90: UserWarning: To copy construct from a tensor, it is recommended to use sourceTensor.clone().detach() or sourceTensor.clone().detach().requires_grad_(True), rather than torch.tensor(sourceTensor).\n",
      "  train_labels_tensor = torch.tensor(one_hot_labels, dtype=torch.float32).to(device)\n"
     ]
    },
    {
     "name": "stdout",
     "output_type": "stream",
     "text": [
      "Epoch [1/100], Step [180/180], Loss: 485.2535\n",
      "Epoch [11/100], Step [180/180], Loss: 23.5172\n",
      "Epoch [21/100], Step [180/180], Loss: 1.0294\n",
      "Epoch [31/100], Step [180/180], Loss: 0.2941\n",
      "Epoch [41/100], Step [180/180], Loss: 0.1697\n",
      "Epoch [51/100], Step [180/180], Loss: 0.1162\n",
      "Epoch [61/100], Step [180/180], Loss: 0.0870\n",
      "Epoch [71/100], Step [180/180], Loss: 0.0684\n",
      "Epoch [81/100], Step [180/180], Loss: 0.0553\n",
      "Epoch [91/100], Step [180/180], Loss: 0.0467\n",
      "Finished Training\n",
      "Commence calculations...\n",
      "Accuracy: 99.99861113040096 %\n",
      "Accuracy: 99.99444475306927 %\n",
      "Results: [0.99998611 0.99994445 0.        ]\n",
      "Dataset size: 3000 \n",
      "Window size: 20 \n",
      "Image: (110, 120)\n",
      "Memory needed: 0.74 GB\n",
      "LOADED DATASET...\n",
      "Memory left 23.59 GB\n",
      "(9000, 4, 110, 120) (9000, 1, 440, 120)\n",
      "Using 3.54 GB\n",
      "torch.Size([9000, 1, 440, 120])\n",
      "torch.Size([9000, 15])\n"
     ]
    },
    {
     "name": "stderr",
     "output_type": "stream",
     "text": [
      "/its/home/drs25/RoboSkin/Code/NewRigExperiments/data_format.py:90: UserWarning: To copy construct from a tensor, it is recommended to use sourceTensor.clone().detach() or sourceTensor.clone().detach().requires_grad_(True), rather than torch.tensor(sourceTensor).\n",
      "  train_labels_tensor = torch.tensor(one_hot_labels, dtype=torch.float32).to(device)\n"
     ]
    },
    {
     "name": "stdout",
     "output_type": "stream",
     "text": [
      "Epoch [1/100], Step [180/180], Loss: 484.7550\n",
      "Epoch [11/100], Step [180/180], Loss: 21.0897\n",
      "Epoch [21/100], Step [180/180], Loss: 0.9017\n",
      "Epoch [31/100], Step [180/180], Loss: 0.2907\n",
      "Epoch [41/100], Step [180/180], Loss: 0.1656\n",
      "Epoch [51/100], Step [180/180], Loss: 0.1142\n",
      "Epoch [61/100], Step [180/180], Loss: 0.0852\n",
      "Epoch [71/100], Step [180/180], Loss: 0.0680\n",
      "Epoch [81/100], Step [180/180], Loss: 0.0557\n",
      "Epoch [91/100], Step [180/180], Loss: 0.0463\n",
      "Finished Training\n",
      "Commence calculations...\n",
      "Accuracy: 99.99861113040096 %\n",
      "Accuracy: 99.99444475306927 %\n",
      "Results: [0.99998611 0.99994445 0.        ]\n",
      "Dataset size: 3000 \n",
      "Window size: 20 \n",
      "Image: (110, 120)\n",
      "Memory needed: 0.74 GB\n",
      "LOADED DATASET...\n",
      "Memory left 23.59 GB\n",
      "(9000, 4, 110, 120) (9000, 1, 440, 120)\n",
      "Using 3.54 GB\n",
      "torch.Size([9000, 1, 440, 120])\n",
      "torch.Size([9000, 15])\n"
     ]
    },
    {
     "name": "stderr",
     "output_type": "stream",
     "text": [
      "/its/home/drs25/RoboSkin/Code/NewRigExperiments/data_format.py:90: UserWarning: To copy construct from a tensor, it is recommended to use sourceTensor.clone().detach() or sourceTensor.clone().detach().requires_grad_(True), rather than torch.tensor(sourceTensor).\n",
      "  train_labels_tensor = torch.tensor(one_hot_labels, dtype=torch.float32).to(device)\n"
     ]
    },
    {
     "name": "stdout",
     "output_type": "stream",
     "text": [
      "Epoch [1/100], Step [180/180], Loss: 482.3908\n",
      "Epoch [11/100], Step [180/180], Loss: 17.5255\n",
      "Epoch [21/100], Step [180/180], Loss: 0.7970\n",
      "Epoch [31/100], Step [180/180], Loss: 0.2800\n",
      "Epoch [41/100], Step [180/180], Loss: 0.1642\n",
      "Epoch [51/100], Step [180/180], Loss: 0.1132\n",
      "Epoch [61/100], Step [180/180], Loss: 0.0854\n",
      "Epoch [71/100], Step [180/180], Loss: 0.0673\n",
      "Epoch [81/100], Step [180/180], Loss: 0.0550\n",
      "Epoch [91/100], Step [180/180], Loss: 0.0468\n",
      "Finished Training\n",
      "Commence calculations...\n",
      "Accuracy: 99.99861113040096 %\n",
      "Accuracy: 99.99444475306927 %\n",
      "Results: [0.99998611 0.99994445 0.        ]\n",
      "Dataset size: 3000 \n",
      "Window size: 20 \n",
      "Image: (110, 120)\n",
      "Memory needed: 0.74 GB\n",
      "LOADED DATASET...\n",
      "Memory left 23.59 GB\n",
      "(9000, 4, 110, 120) (9000, 1, 440, 120)\n",
      "Using 3.54 GB\n",
      "torch.Size([9000, 1, 440, 120])\n",
      "torch.Size([9000, 15])\n"
     ]
    },
    {
     "name": "stderr",
     "output_type": "stream",
     "text": [
      "/its/home/drs25/RoboSkin/Code/NewRigExperiments/data_format.py:90: UserWarning: To copy construct from a tensor, it is recommended to use sourceTensor.clone().detach() or sourceTensor.clone().detach().requires_grad_(True), rather than torch.tensor(sourceTensor).\n",
      "  train_labels_tensor = torch.tensor(one_hot_labels, dtype=torch.float32).to(device)\n"
     ]
    },
    {
     "name": "stdout",
     "output_type": "stream",
     "text": [
      "Epoch [1/100], Step [180/180], Loss: 478.0914\n",
      "Epoch [11/100], Step [180/180], Loss: 13.2674\n",
      "Epoch [21/100], Step [180/180], Loss: 0.6587\n",
      "Epoch [31/100], Step [180/180], Loss: 0.2609\n",
      "Epoch [41/100], Step [180/180], Loss: 0.1533\n",
      "Epoch [51/100], Step [180/180], Loss: 0.1091\n",
      "Epoch [61/100], Step [180/180], Loss: 0.0813\n",
      "Epoch [71/100], Step [180/180], Loss: 0.0645\n",
      "Epoch [81/100], Step [180/180], Loss: 0.0536\n",
      "Epoch [91/100], Step [180/180], Loss: 0.0453\n",
      "Finished Training\n",
      "Commence calculations...\n",
      "Accuracy: 99.99861113040096 %\n",
      "Accuracy: 99.99444475306927 %\n",
      "Results: [0.99998611 0.99994445 0.        ]\n",
      "Dataset size: 3000 \n",
      "Window size: 20 \n",
      "Image: (110, 120)\n",
      "Memory needed: 0.74 GB\n",
      "LOADED DATASET...\n",
      "Memory left 23.59 GB\n",
      "(9000, 4, 110, 120) (9000, 1, 440, 120)\n",
      "Using 3.54 GB\n",
      "torch.Size([9000, 1, 440, 120])\n",
      "torch.Size([9000, 15])\n"
     ]
    },
    {
     "name": "stderr",
     "output_type": "stream",
     "text": [
      "/its/home/drs25/RoboSkin/Code/NewRigExperiments/data_format.py:90: UserWarning: To copy construct from a tensor, it is recommended to use sourceTensor.clone().detach() or sourceTensor.clone().detach().requires_grad_(True), rather than torch.tensor(sourceTensor).\n",
      "  train_labels_tensor = torch.tensor(one_hot_labels, dtype=torch.float32).to(device)\n"
     ]
    },
    {
     "name": "stdout",
     "output_type": "stream",
     "text": [
      "Epoch [1/100], Step [180/180], Loss: 485.0420\n",
      "Epoch [11/100], Step [180/180], Loss: 23.2780\n",
      "Epoch [21/100], Step [180/180], Loss: 0.9499\n",
      "Epoch [31/100], Step [180/180], Loss: 0.2991\n",
      "Epoch [41/100], Step [180/180], Loss: 0.1691\n",
      "Epoch [51/100], Step [180/180], Loss: 0.1156\n",
      "Epoch [61/100], Step [180/180], Loss: 0.0869\n",
      "Epoch [71/100], Step [180/180], Loss: 0.0679\n",
      "Epoch [81/100], Step [180/180], Loss: 0.0567\n",
      "Epoch [91/100], Step [180/180], Loss: 0.0475\n",
      "Finished Training\n",
      "Commence calculations...\n",
      "Accuracy: 99.99861113040096 %\n",
      "Accuracy: 99.99444475306927 %\n",
      "Results: [0.99998611 0.99994445 0.        ]\n",
      "Dataset size: 3000 \n",
      "Window size: 20 \n",
      "Image: (110, 120)\n",
      "Memory needed: 0.74 GB\n",
      "LOADED DATASET...\n",
      "Memory left 23.59 GB\n",
      "(9000, 4, 110, 120) (9000, 1, 440, 120)\n",
      "Using 3.54 GB\n",
      "torch.Size([9000, 1, 440, 120])\n",
      "torch.Size([9000, 15])\n"
     ]
    },
    {
     "name": "stderr",
     "output_type": "stream",
     "text": [
      "/its/home/drs25/RoboSkin/Code/NewRigExperiments/data_format.py:90: UserWarning: To copy construct from a tensor, it is recommended to use sourceTensor.clone().detach() or sourceTensor.clone().detach().requires_grad_(True), rather than torch.tensor(sourceTensor).\n",
      "  train_labels_tensor = torch.tensor(one_hot_labels, dtype=torch.float32).to(device)\n"
     ]
    },
    {
     "name": "stdout",
     "output_type": "stream",
     "text": [
      "Epoch [1/100], Step [180/180], Loss: 484.3364\n",
      "Epoch [11/100], Step [180/180], Loss: 18.7001\n",
      "Epoch [21/100], Step [180/180], Loss: 0.9906\n",
      "Epoch [31/100], Step [180/180], Loss: 0.2719\n",
      "Epoch [41/100], Step [180/180], Loss: 0.1640\n",
      "Epoch [51/100], Step [180/180], Loss: 0.1122\n",
      "Epoch [61/100], Step [180/180], Loss: 0.0831\n",
      "Epoch [71/100], Step [180/180], Loss: 0.0662\n",
      "Epoch [81/100], Step [180/180], Loss: 0.0544\n",
      "Epoch [91/100], Step [180/180], Loss: 0.0459\n",
      "Finished Training\n",
      "Commence calculations...\n",
      "Accuracy: 99.99861113040096 %\n",
      "Accuracy: 99.99444475306927 %\n",
      "Results: [0.99998611 0.99994445 0.        ]\n",
      "Dataset size: 3000 \n",
      "Window size: 20 \n",
      "Image: (110, 120)\n",
      "Memory needed: 0.74 GB\n",
      "LOADED DATASET...\n",
      "Memory left 23.59 GB\n",
      "(9000, 4, 110, 120) (9000, 1, 440, 120)\n",
      "Using 3.54 GB\n",
      "torch.Size([9000, 1, 440, 120])\n",
      "torch.Size([9000, 15])\n"
     ]
    },
    {
     "name": "stderr",
     "output_type": "stream",
     "text": [
      "/its/home/drs25/RoboSkin/Code/NewRigExperiments/data_format.py:90: UserWarning: To copy construct from a tensor, it is recommended to use sourceTensor.clone().detach() or sourceTensor.clone().detach().requires_grad_(True), rather than torch.tensor(sourceTensor).\n",
      "  train_labels_tensor = torch.tensor(one_hot_labels, dtype=torch.float32).to(device)\n"
     ]
    },
    {
     "name": "stdout",
     "output_type": "stream",
     "text": [
      "Epoch [1/100], Step [180/180], Loss: 483.2304\n",
      "Epoch [11/100], Step [180/180], Loss: 20.0169\n",
      "Epoch [21/100], Step [180/180], Loss: 0.7522\n",
      "Epoch [31/100], Step [180/180], Loss: 0.2821\n",
      "Epoch [41/100], Step [180/180], Loss: 0.1685\n",
      "Epoch [51/100], Step [180/180], Loss: 0.1146\n",
      "Epoch [61/100], Step [180/180], Loss: 0.0853\n",
      "Epoch [71/100], Step [180/180], Loss: 0.0684\n",
      "Epoch [81/100], Step [180/180], Loss: 0.0561\n",
      "Epoch [91/100], Step [180/180], Loss: 0.0470\n",
      "Finished Training\n",
      "Commence calculations...\n",
      "Accuracy: 99.99861113040096 %\n",
      "Accuracy: 99.99444475306927 %\n",
      "Results: [0.99998611 0.99994445 0.        ]\n",
      "Dataset size: 3000 \n",
      "Window size: 20 \n",
      "Image: (110, 120)\n",
      "Memory needed: 0.74 GB\n",
      "LOADED DATASET...\n",
      "Memory left 23.59 GB\n",
      "(9000, 4, 110, 120) (9000, 1, 440, 120)\n",
      "Using 3.54 GB\n",
      "torch.Size([9000, 1, 440, 120])\n",
      "torch.Size([9000, 15])\n"
     ]
    },
    {
     "name": "stderr",
     "output_type": "stream",
     "text": [
      "/its/home/drs25/RoboSkin/Code/NewRigExperiments/data_format.py:90: UserWarning: To copy construct from a tensor, it is recommended to use sourceTensor.clone().detach() or sourceTensor.clone().detach().requires_grad_(True), rather than torch.tensor(sourceTensor).\n",
      "  train_labels_tensor = torch.tensor(one_hot_labels, dtype=torch.float32).to(device)\n"
     ]
    },
    {
     "name": "stdout",
     "output_type": "stream",
     "text": [
      "Epoch [1/100], Step [180/180], Loss: 480.2541\n",
      "Epoch [11/100], Step [180/180], Loss: 17.7426\n",
      "Epoch [21/100], Step [180/180], Loss: 0.7502\n",
      "Epoch [31/100], Step [180/180], Loss: 0.2716\n",
      "Epoch [41/100], Step [180/180], Loss: 0.1586\n",
      "Epoch [51/100], Step [180/180], Loss: 0.1116\n",
      "Epoch [61/100], Step [180/180], Loss: 0.0839\n",
      "Epoch [71/100], Step [180/180], Loss: 0.0656\n",
      "Epoch [81/100], Step [180/180], Loss: 0.0546\n",
      "Epoch [91/100], Step [180/180], Loss: 0.0450\n",
      "Finished Training\n",
      "Commence calculations...\n",
      "Accuracy: 99.99861113040096 %\n",
      "Accuracy: 99.99444475306927 %\n",
      "Results: [0.99998611 0.99994445 0.        ]\n",
      "Dataset size: 3000 \n",
      "Window size: 20 \n",
      "Image: (110, 120)\n",
      "Memory needed: 0.74 GB\n",
      "LOADED DATASET...\n",
      "Memory left 23.59 GB\n",
      "(9000, 4, 110, 120) (9000, 1, 440, 120)\n",
      "Using 3.54 GB\n",
      "torch.Size([9000, 1, 440, 120])\n",
      "torch.Size([9000, 15])\n"
     ]
    },
    {
     "name": "stderr",
     "output_type": "stream",
     "text": [
      "/its/home/drs25/RoboSkin/Code/NewRigExperiments/data_format.py:90: UserWarning: To copy construct from a tensor, it is recommended to use sourceTensor.clone().detach() or sourceTensor.clone().detach().requires_grad_(True), rather than torch.tensor(sourceTensor).\n",
      "  train_labels_tensor = torch.tensor(one_hot_labels, dtype=torch.float32).to(device)\n"
     ]
    },
    {
     "name": "stdout",
     "output_type": "stream",
     "text": [
      "Epoch [1/100], Step [180/180], Loss: 482.8980\n",
      "Epoch [11/100], Step [180/180], Loss: 23.1070\n",
      "Epoch [21/100], Step [180/180], Loss: 1.2570\n",
      "Epoch [31/100], Step [180/180], Loss: 0.3083\n",
      "Epoch [41/100], Step [180/180], Loss: 0.1734\n",
      "Epoch [51/100], Step [180/180], Loss: 0.1166\n",
      "Epoch [61/100], Step [180/180], Loss: 0.0859\n",
      "Epoch [71/100], Step [180/180], Loss: 0.0674\n",
      "Epoch [81/100], Step [180/180], Loss: 0.0552\n",
      "Epoch [91/100], Step [180/180], Loss: 0.0469\n",
      "Finished Training\n",
      "Commence calculations...\n",
      "Accuracy: 99.99861113040096 %\n",
      "Accuracy: 99.99444475306927 %\n",
      "Results: [0.99998611 0.99994445 0.        ]\n",
      "Dataset size: 3000 \n",
      "Window size: 20 \n",
      "Image: (110, 120)\n",
      "Memory needed: 0.74 GB\n",
      "LOADED DATASET...\n",
      "Memory left 23.59 GB\n",
      "(9000, 4, 110, 120) (9000, 1, 440, 120)\n",
      "Using 3.54 GB\n",
      "torch.Size([9000, 1, 440, 120])\n",
      "torch.Size([9000, 15])\n"
     ]
    },
    {
     "name": "stderr",
     "output_type": "stream",
     "text": [
      "/its/home/drs25/RoboSkin/Code/NewRigExperiments/data_format.py:90: UserWarning: To copy construct from a tensor, it is recommended to use sourceTensor.clone().detach() or sourceTensor.clone().detach().requires_grad_(True), rather than torch.tensor(sourceTensor).\n",
      "  train_labels_tensor = torch.tensor(one_hot_labels, dtype=torch.float32).to(device)\n"
     ]
    },
    {
     "name": "stdout",
     "output_type": "stream",
     "text": [
      "Epoch [1/100], Step [180/180], Loss: 485.9488\n",
      "Epoch [11/100], Step [180/180], Loss: 20.1292\n",
      "Epoch [21/100], Step [180/180], Loss: 0.7768\n",
      "Epoch [31/100], Step [180/180], Loss: 0.2855\n",
      "Epoch [41/100], Step [180/180], Loss: 0.1652\n",
      "Epoch [51/100], Step [180/180], Loss: 0.1134\n",
      "Epoch [61/100], Step [180/180], Loss: 0.0851\n",
      "Epoch [71/100], Step [180/180], Loss: 0.0677\n",
      "Epoch [81/100], Step [180/180], Loss: 0.0555\n",
      "Epoch [91/100], Step [180/180], Loss: 0.0465\n",
      "Finished Training\n",
      "Commence calculations...\n",
      "Accuracy: 99.99861113040096 %\n",
      "Accuracy: 99.99444475306927 %\n",
      "Results: [0.99998611 0.99994445 0.        ]\n",
      "Dataset size: 3000 \n",
      "Window size: 20 \n",
      "Image: (110, 120)\n",
      "Memory needed: 0.74 GB\n",
      "LOADED DATASET...\n",
      "Memory left 23.59 GB\n",
      "(9000, 4, 110, 120) (9000, 1, 440, 120)\n",
      "Using 3.54 GB\n",
      "torch.Size([9000, 1, 440, 120])\n",
      "torch.Size([9000, 15])\n"
     ]
    },
    {
     "name": "stderr",
     "output_type": "stream",
     "text": [
      "/its/home/drs25/RoboSkin/Code/NewRigExperiments/data_format.py:90: UserWarning: To copy construct from a tensor, it is recommended to use sourceTensor.clone().detach() or sourceTensor.clone().detach().requires_grad_(True), rather than torch.tensor(sourceTensor).\n",
      "  train_labels_tensor = torch.tensor(one_hot_labels, dtype=torch.float32).to(device)\n"
     ]
    },
    {
     "name": "stdout",
     "output_type": "stream",
     "text": [
      "Epoch [1/100], Step [180/180], Loss: 482.5981\n",
      "Epoch [11/100], Step [180/180], Loss: 21.4459\n",
      "Epoch [21/100], Step [180/180], Loss: 1.0806\n",
      "Epoch [31/100], Step [180/180], Loss: 0.2878\n",
      "Epoch [41/100], Step [180/180], Loss: 0.1641\n",
      "Epoch [51/100], Step [180/180], Loss: 0.1125\n",
      "Epoch [61/100], Step [180/180], Loss: 0.0834\n",
      "Epoch [71/100], Step [180/180], Loss: 0.0666\n",
      "Epoch [81/100], Step [180/180], Loss: 0.0543\n",
      "Epoch [91/100], Step [180/180], Loss: 0.0456\n",
      "Finished Training\n",
      "Commence calculations...\n",
      "Accuracy: 99.99861113040096 %\n",
      "Accuracy: 99.99444475306927 %\n",
      "Results: [0.99998611 0.99994445 0.        ]\n",
      "Dataset size: 3000 \n",
      "Window size: 20 \n",
      "Image: (110, 120)\n",
      "Memory needed: 0.74 GB\n",
      "LOADED DATASET...\n",
      "Memory left 23.59 GB\n",
      "(9000, 4, 110, 120) (9000, 1, 440, 120)\n",
      "Using 3.54 GB\n",
      "torch.Size([9000, 1, 440, 120])\n",
      "torch.Size([9000, 15])\n"
     ]
    },
    {
     "name": "stderr",
     "output_type": "stream",
     "text": [
      "/its/home/drs25/RoboSkin/Code/NewRigExperiments/data_format.py:90: UserWarning: To copy construct from a tensor, it is recommended to use sourceTensor.clone().detach() or sourceTensor.clone().detach().requires_grad_(True), rather than torch.tensor(sourceTensor).\n",
      "  train_labels_tensor = torch.tensor(one_hot_labels, dtype=torch.float32).to(device)\n"
     ]
    },
    {
     "name": "stdout",
     "output_type": "stream",
     "text": [
      "Epoch [1/100], Step [180/180], Loss: 485.5712\n",
      "Epoch [11/100], Step [180/180], Loss: 19.4542\n",
      "Epoch [21/100], Step [180/180], Loss: 1.1460\n",
      "Epoch [31/100], Step [180/180], Loss: 0.2746\n",
      "Epoch [41/100], Step [180/180], Loss: 0.1603\n",
      "Epoch [51/100], Step [180/180], Loss: 0.1097\n",
      "Epoch [61/100], Step [180/180], Loss: 0.0825\n",
      "Epoch [71/100], Step [180/180], Loss: 0.0659\n",
      "Epoch [81/100], Step [180/180], Loss: 0.0539\n",
      "Epoch [91/100], Step [180/180], Loss: 0.0460\n",
      "Finished Training\n",
      "Commence calculations...\n",
      "Accuracy: 99.99861113040096 %\n",
      "Accuracy: 99.99444475306927 %\n",
      "Results: [0.99998611 0.99994445 0.        ]\n",
      "Dataset size: 3000 \n",
      "Window size: 20 \n",
      "Image: (110, 120)\n",
      "Memory needed: 0.74 GB\n",
      "LOADED DATASET...\n",
      "Memory left 23.59 GB\n",
      "(9000, 4, 110, 120) (9000, 1, 440, 120)\n",
      "Using 3.54 GB\n",
      "torch.Size([9000, 1, 440, 120])\n",
      "torch.Size([9000, 15])\n"
     ]
    },
    {
     "name": "stderr",
     "output_type": "stream",
     "text": [
      "/its/home/drs25/RoboSkin/Code/NewRigExperiments/data_format.py:90: UserWarning: To copy construct from a tensor, it is recommended to use sourceTensor.clone().detach() or sourceTensor.clone().detach().requires_grad_(True), rather than torch.tensor(sourceTensor).\n",
      "  train_labels_tensor = torch.tensor(one_hot_labels, dtype=torch.float32).to(device)\n"
     ]
    },
    {
     "name": "stdout",
     "output_type": "stream",
     "text": [
      "Epoch [1/100], Step [180/180], Loss: 483.1525\n",
      "Epoch [11/100], Step [180/180], Loss: 20.1786\n",
      "Epoch [21/100], Step [180/180], Loss: 1.4434\n",
      "Epoch [31/100], Step [180/180], Loss: 0.2799\n",
      "Epoch [41/100], Step [180/180], Loss: 0.1654\n",
      "Epoch [51/100], Step [180/180], Loss: 0.1096\n",
      "Epoch [61/100], Step [180/180], Loss: 0.0835\n",
      "Epoch [71/100], Step [180/180], Loss: 0.0664\n",
      "Epoch [81/100], Step [180/180], Loss: 0.0543\n",
      "Epoch [91/100], Step [180/180], Loss: 0.0458\n",
      "Finished Training\n",
      "Commence calculations...\n",
      "Accuracy: 99.99861113040096 %\n",
      "Accuracy: 99.99444475306927 %\n",
      "Results: [0.99998611 0.99994445 0.        ]\n",
      "Dataset size: 3000 \n",
      "Window size: 20 \n",
      "Image: (110, 120)\n",
      "Memory needed: 0.74 GB\n",
      "LOADED DATASET...\n",
      "Memory left 23.59 GB\n",
      "(9000, 4, 110, 120) (9000, 1, 440, 120)\n",
      "Using 3.54 GB\n",
      "torch.Size([9000, 1, 440, 120])\n",
      "torch.Size([9000, 15])\n"
     ]
    },
    {
     "name": "stderr",
     "output_type": "stream",
     "text": [
      "/its/home/drs25/RoboSkin/Code/NewRigExperiments/data_format.py:90: UserWarning: To copy construct from a tensor, it is recommended to use sourceTensor.clone().detach() or sourceTensor.clone().detach().requires_grad_(True), rather than torch.tensor(sourceTensor).\n",
      "  train_labels_tensor = torch.tensor(one_hot_labels, dtype=torch.float32).to(device)\n"
     ]
    },
    {
     "name": "stdout",
     "output_type": "stream",
     "text": [
      "Epoch [1/100], Step [180/180], Loss: 479.9876\n",
      "Epoch [11/100], Step [180/180], Loss: 19.4453\n",
      "Epoch [21/100], Step [180/180], Loss: 1.1091\n",
      "Epoch [31/100], Step [180/180], Loss: 0.2883\n",
      "Epoch [41/100], Step [180/180], Loss: 0.1677\n",
      "Epoch [51/100], Step [180/180], Loss: 0.1136\n",
      "Epoch [61/100], Step [180/180], Loss: 0.0842\n",
      "Epoch [71/100], Step [180/180], Loss: 0.0673\n",
      "Epoch [81/100], Step [180/180], Loss: 0.0551\n",
      "Epoch [91/100], Step [180/180], Loss: 0.0459\n",
      "Finished Training\n",
      "Commence calculations...\n",
      "Accuracy: 99.99861113040096 %\n",
      "Accuracy: 99.99444475306927 %\n",
      "Results: [0.99998611 0.99994445 0.        ]\n",
      "Dataset size: 3000 \n",
      "Window size: 20 \n",
      "Image: (110, 120)\n",
      "Memory needed: 0.74 GB\n",
      "LOADED DATASET...\n",
      "Memory left 23.59 GB\n",
      "(9000, 4, 110, 120) (9000, 1, 440, 120)\n",
      "Using 3.54 GB\n",
      "torch.Size([9000, 1, 440, 120])\n",
      "torch.Size([9000, 15])\n"
     ]
    },
    {
     "name": "stderr",
     "output_type": "stream",
     "text": [
      "/its/home/drs25/RoboSkin/Code/NewRigExperiments/data_format.py:90: UserWarning: To copy construct from a tensor, it is recommended to use sourceTensor.clone().detach() or sourceTensor.clone().detach().requires_grad_(True), rather than torch.tensor(sourceTensor).\n",
      "  train_labels_tensor = torch.tensor(one_hot_labels, dtype=torch.float32).to(device)\n"
     ]
    },
    {
     "name": "stdout",
     "output_type": "stream",
     "text": [
      "Epoch [1/100], Step [180/180], Loss: 484.0479\n",
      "Epoch [11/100], Step [180/180], Loss: 18.8798\n",
      "Epoch [21/100], Step [180/180], Loss: 0.7507\n",
      "Epoch [31/100], Step [180/180], Loss: 0.2790\n",
      "Epoch [41/100], Step [180/180], Loss: 0.1623\n",
      "Epoch [51/100], Step [180/180], Loss: 0.1114\n",
      "Epoch [61/100], Step [180/180], Loss: 0.0834\n",
      "Epoch [71/100], Step [180/180], Loss: 0.0660\n",
      "Epoch [81/100], Step [180/180], Loss: 0.0534\n",
      "Epoch [91/100], Step [180/180], Loss: 0.0459\n",
      "Finished Training\n",
      "Commence calculations...\n",
      "Accuracy: 99.99861113040096 %\n",
      "Accuracy: 99.99444475306927 %\n",
      "Results: [0.99998611 0.99994445 0.        ]\n",
      "Dataset size: 3000 \n",
      "Window size: 20 \n",
      "Image: (110, 120)\n",
      "Memory needed: 0.74 GB\n",
      "LOADED DATASET...\n",
      "Memory left 23.59 GB\n",
      "(9000, 4, 110, 120) (9000, 1, 440, 120)\n",
      "Using 3.54 GB\n",
      "torch.Size([9000, 1, 440, 120])\n",
      "torch.Size([9000, 15])\n"
     ]
    },
    {
     "name": "stderr",
     "output_type": "stream",
     "text": [
      "/its/home/drs25/RoboSkin/Code/NewRigExperiments/data_format.py:90: UserWarning: To copy construct from a tensor, it is recommended to use sourceTensor.clone().detach() or sourceTensor.clone().detach().requires_grad_(True), rather than torch.tensor(sourceTensor).\n",
      "  train_labels_tensor = torch.tensor(one_hot_labels, dtype=torch.float32).to(device)\n"
     ]
    },
    {
     "name": "stdout",
     "output_type": "stream",
     "text": [
      "Epoch [1/100], Step [180/180], Loss: 482.5832\n",
      "Epoch [11/100], Step [180/180], Loss: 14.8216\n",
      "Epoch [21/100], Step [180/180], Loss: 0.7285\n",
      "Epoch [31/100], Step [180/180], Loss: 0.2812\n",
      "Epoch [41/100], Step [180/180], Loss: 0.1635\n",
      "Epoch [51/100], Step [180/180], Loss: 0.1149\n",
      "Epoch [61/100], Step [180/180], Loss: 0.0873\n",
      "Epoch [71/100], Step [180/180], Loss: 0.0696\n",
      "Epoch [81/100], Step [180/180], Loss: 0.0563\n",
      "Epoch [91/100], Step [180/180], Loss: 0.0481\n",
      "Finished Training\n",
      "Commence calculations...\n",
      "Accuracy: 99.99861113040096 %\n",
      "Accuracy: 99.99444475306927 %\n",
      "Results: [0.99998611 0.99994445 0.        ]\n",
      "Dataset size: 3000 \n",
      "Window size: 20 \n",
      "Image: (110, 120)\n",
      "Memory needed: 0.74 GB\n",
      "LOADED DATASET...\n",
      "Memory left 23.59 GB\n",
      "(9000, 4, 110, 120) (9000, 1, 440, 120)\n",
      "Using 3.54 GB\n",
      "torch.Size([9000, 1, 440, 120])\n",
      "torch.Size([9000, 15])\n"
     ]
    },
    {
     "name": "stderr",
     "output_type": "stream",
     "text": [
      "/its/home/drs25/RoboSkin/Code/NewRigExperiments/data_format.py:90: UserWarning: To copy construct from a tensor, it is recommended to use sourceTensor.clone().detach() or sourceTensor.clone().detach().requires_grad_(True), rather than torch.tensor(sourceTensor).\n",
      "  train_labels_tensor = torch.tensor(one_hot_labels, dtype=torch.float32).to(device)\n"
     ]
    },
    {
     "name": "stdout",
     "output_type": "stream",
     "text": [
      "Epoch [1/100], Step [180/180], Loss: 485.3085\n",
      "Epoch [11/100], Step [180/180], Loss: 22.3345\n",
      "Epoch [21/100], Step [180/180], Loss: 1.0248\n",
      "Epoch [31/100], Step [180/180], Loss: 0.2992\n",
      "Epoch [41/100], Step [180/180], Loss: 0.1711\n",
      "Epoch [51/100], Step [180/180], Loss: 0.1142\n",
      "Epoch [61/100], Step [180/180], Loss: 0.0875\n",
      "Epoch [71/100], Step [180/180], Loss: 0.0684\n",
      "Epoch [81/100], Step [180/180], Loss: 0.0558\n",
      "Epoch [91/100], Step [180/180], Loss: 0.0473\n",
      "Finished Training\n",
      "Commence calculations...\n",
      "Accuracy: 99.99861113040096 %\n",
      "Accuracy: 99.99444475306927 %\n",
      "Results: [0.99998611 0.99994445 0.        ]\n"
     ]
    }
   ],
   "source": [
    "acc=np.zeros((num_trials,3)) #train,test,noisy\n",
    "\n",
    "for i in range(num_trials):\n",
    "    data=loaded(t=-1,filename=\"X_data_15.npz\")\n",
    "    data.applySobel()\n",
    "    data.speed_augment(t=4)\n",
    "    data.shuffle()\n",
    "    data.X=data.X[0:15000]\n",
    "    data.y=data.y[0:15000]\n",
    "    train_loader,test_loader=org_data(data,(len(data.X),1,T_SIZE*data.X.shape[2],data.X.shape[3]))\n",
    "    model,history=run(train_loader,0,4,num_epochs = EPOCHS)\n",
    "    print(\"Commence calculations...\")\n",
    "    acc[i][0]=calc(model,train_loader)\n",
    "    acc[i][1]=calc(model,test_loader)\n",
    "    preds=model(test_data_sliced_tensor)\n",
    "    acc[i][2]=calc_noisy(preds,labels)\n",
    "    print(\"Results:\",acc[i])\n",
    "np.save(path+\"/data/20_TRIALS_CNN_SPEED_AUGMENTATION\",acc)"
   ]
  },
  {
   "attachments": {},
   "cell_type": "markdown",
   "metadata": {},
   "source": [
    "### orientation augment"
   ]
  },
  {
   "cell_type": "code",
   "execution_count": 35,
   "metadata": {},
   "outputs": [
    {
     "name": "stdout",
     "output_type": "stream",
     "text": [
      "Dataset size: 3000 \n",
      "Window size: 20 \n",
      "Image: (110, 120)\n",
      "Memory needed: 0.74 GB\n",
      "Dataset size: 9000 \n",
      "Window size: 4 \n",
      "Image: (110, 120)\n",
      "Memory needed: 0.44 GB\n",
      "LOADED DATASET...\n",
      "Memory left 23.59 GB\n",
      "(9000, 4, 110, 120) (9000, 1, 440, 120)\n",
      "Using 3.54 GB\n",
      "torch.Size([9000, 1, 440, 120])\n",
      "torch.Size([9000, 15])\n"
     ]
    },
    {
     "name": "stderr",
     "output_type": "stream",
     "text": [
      "/its/home/drs25/RoboSkin/Code/NewRigExperiments/data_format.py:90: UserWarning: To copy construct from a tensor, it is recommended to use sourceTensor.clone().detach() or sourceTensor.clone().detach().requires_grad_(True), rather than torch.tensor(sourceTensor).\n",
      "  train_labels_tensor = torch.tensor(one_hot_labels, dtype=torch.float32).to(device)\n"
     ]
    },
    {
     "name": "stdout",
     "output_type": "stream",
     "text": [
      "Epoch [1/100], Step [180/180], Loss: 487.0839\n",
      "Epoch [11/100], Step [180/180], Loss: 91.8348\n",
      "Epoch [21/100], Step [180/180], Loss: 25.3555\n",
      "Epoch [31/100], Step [180/180], Loss: 9.0112\n",
      "Epoch [41/100], Step [180/180], Loss: 1.1415\n",
      "Epoch [51/100], Step [180/180], Loss: 0.4179\n",
      "Epoch [61/100], Step [180/180], Loss: 0.1716\n",
      "Epoch [71/100], Step [180/180], Loss: 0.1213\n",
      "Epoch [81/100], Step [180/180], Loss: 0.0936\n",
      "Epoch [91/100], Step [180/180], Loss: 0.0774\n",
      "Finished Training\n",
      "Commence calculations...\n",
      "Accuracy: 99.99861113040096 %\n",
      "Accuracy: 99.93889228376202 %\n",
      "Results: [0.99998611 0.99938892 0.        ]\n",
      "Dataset size: 3000 \n",
      "Window size: 20 \n",
      "Image: (110, 120)\n",
      "Memory needed: 0.74 GB\n",
      "Dataset size: 9000 \n",
      "Window size: 4 \n",
      "Image: (110, 120)\n",
      "Memory needed: 0.44 GB\n",
      "LOADED DATASET...\n",
      "Memory left 23.59 GB\n",
      "(9000, 4, 110, 120) (9000, 1, 440, 120)\n",
      "Using 3.54 GB\n",
      "torch.Size([9000, 1, 440, 120])\n",
      "torch.Size([9000, 15])\n"
     ]
    },
    {
     "name": "stderr",
     "output_type": "stream",
     "text": [
      "/its/home/drs25/RoboSkin/Code/NewRigExperiments/data_format.py:90: UserWarning: To copy construct from a tensor, it is recommended to use sourceTensor.clone().detach() or sourceTensor.clone().detach().requires_grad_(True), rather than torch.tensor(sourceTensor).\n",
      "  train_labels_tensor = torch.tensor(one_hot_labels, dtype=torch.float32).to(device)\n"
     ]
    },
    {
     "name": "stdout",
     "output_type": "stream",
     "text": [
      "Epoch [1/100], Step [180/180], Loss: 486.9933\n",
      "Epoch [11/100], Step [180/180], Loss: 95.8828\n",
      "Epoch [21/100], Step [180/180], Loss: 24.9805\n",
      "Epoch [31/100], Step [180/180], Loss: 9.0756\n",
      "Epoch [41/100], Step [180/180], Loss: 1.7844\n",
      "Epoch [51/100], Step [180/180], Loss: 0.5182\n",
      "Epoch [61/100], Step [180/180], Loss: 0.2018\n",
      "Epoch [71/100], Step [180/180], Loss: 0.1309\n",
      "Epoch [81/100], Step [180/180], Loss: 0.0983\n",
      "Epoch [91/100], Step [180/180], Loss: 0.0810\n",
      "Finished Training\n",
      "Commence calculations...\n",
      "Accuracy: 99.99861113040096 %\n",
      "Accuracy: 99.99444475306927 %\n",
      "Results: [0.99998611 0.99994445 0.        ]\n",
      "Dataset size: 3000 \n",
      "Window size: 20 \n",
      "Image: (110, 120)\n",
      "Memory needed: 0.74 GB\n",
      "Dataset size: 9000 \n",
      "Window size: 4 \n",
      "Image: (110, 120)\n",
      "Memory needed: 0.44 GB\n",
      "LOADED DATASET...\n",
      "Memory left 23.59 GB\n",
      "(9000, 4, 110, 120) (9000, 1, 440, 120)\n",
      "Using 3.54 GB\n",
      "torch.Size([9000, 1, 440, 120])\n",
      "torch.Size([9000, 15])\n"
     ]
    },
    {
     "name": "stderr",
     "output_type": "stream",
     "text": [
      "/its/home/drs25/RoboSkin/Code/NewRigExperiments/data_format.py:90: UserWarning: To copy construct from a tensor, it is recommended to use sourceTensor.clone().detach() or sourceTensor.clone().detach().requires_grad_(True), rather than torch.tensor(sourceTensor).\n",
      "  train_labels_tensor = torch.tensor(one_hot_labels, dtype=torch.float32).to(device)\n"
     ]
    },
    {
     "name": "stdout",
     "output_type": "stream",
     "text": [
      "Epoch [1/100], Step [180/180], Loss: 486.8522\n",
      "Epoch [11/100], Step [180/180], Loss: 80.7841\n",
      "Epoch [21/100], Step [180/180], Loss: 23.6039\n",
      "Epoch [31/100], Step [180/180], Loss: 7.7707\n",
      "Epoch [41/100], Step [180/180], Loss: 1.6540\n",
      "Epoch [51/100], Step [180/180], Loss: 0.5324\n",
      "Epoch [61/100], Step [180/180], Loss: 0.1961\n",
      "Epoch [71/100], Step [180/180], Loss: 0.1280\n",
      "Epoch [81/100], Step [180/180], Loss: 0.0965\n",
      "Epoch [91/100], Step [180/180], Loss: 0.0778\n",
      "Finished Training\n",
      "Commence calculations...\n",
      "Accuracy: 99.99861113040096 %\n",
      "Accuracy: 99.99444475306927 %\n",
      "Results: [0.99998611 0.99994445 0.        ]\n",
      "Dataset size: 3000 \n",
      "Window size: 20 \n",
      "Image: (110, 120)\n",
      "Memory needed: 0.74 GB\n",
      "Dataset size: 9000 \n",
      "Window size: 4 \n",
      "Image: (110, 120)\n",
      "Memory needed: 0.44 GB\n",
      "LOADED DATASET...\n",
      "Memory left 23.59 GB\n",
      "(9000, 4, 110, 120) (9000, 1, 440, 120)\n",
      "Using 3.54 GB\n",
      "torch.Size([9000, 1, 440, 120])\n",
      "torch.Size([9000, 15])\n"
     ]
    },
    {
     "name": "stderr",
     "output_type": "stream",
     "text": [
      "/its/home/drs25/RoboSkin/Code/NewRigExperiments/data_format.py:90: UserWarning: To copy construct from a tensor, it is recommended to use sourceTensor.clone().detach() or sourceTensor.clone().detach().requires_grad_(True), rather than torch.tensor(sourceTensor).\n",
      "  train_labels_tensor = torch.tensor(one_hot_labels, dtype=torch.float32).to(device)\n"
     ]
    },
    {
     "name": "stdout",
     "output_type": "stream",
     "text": [
      "Epoch [1/100], Step [180/180], Loss: 486.4456\n",
      "Epoch [11/100], Step [180/180], Loss: 73.7182\n",
      "Epoch [21/100], Step [180/180], Loss: 23.1706\n",
      "Epoch [31/100], Step [180/180], Loss: 7.4115\n",
      "Epoch [41/100], Step [180/180], Loss: 1.8276\n",
      "Epoch [51/100], Step [180/180], Loss: 0.5578\n",
      "Epoch [61/100], Step [180/180], Loss: 0.1668\n",
      "Epoch [71/100], Step [180/180], Loss: 0.1188\n",
      "Epoch [81/100], Step [180/180], Loss: 0.0914\n",
      "Epoch [91/100], Step [180/180], Loss: 0.0734\n",
      "Finished Training\n",
      "Commence calculations...\n",
      "Accuracy: 99.99861113040096 %\n",
      "Accuracy: 99.93889228376202 %\n",
      "Results: [0.99998611 0.99938892 0.        ]\n",
      "Dataset size: 3000 \n",
      "Window size: 20 \n",
      "Image: (110, 120)\n",
      "Memory needed: 0.74 GB\n",
      "Dataset size: 9000 \n",
      "Window size: 4 \n",
      "Image: (110, 120)\n",
      "Memory needed: 0.44 GB\n",
      "LOADED DATASET...\n",
      "Memory left 23.59 GB\n",
      "(9000, 4, 110, 120) (9000, 1, 440, 120)\n",
      "Using 3.54 GB\n",
      "torch.Size([9000, 1, 440, 120])\n",
      "torch.Size([9000, 15])\n"
     ]
    },
    {
     "name": "stderr",
     "output_type": "stream",
     "text": [
      "/its/home/drs25/RoboSkin/Code/NewRigExperiments/data_format.py:90: UserWarning: To copy construct from a tensor, it is recommended to use sourceTensor.clone().detach() or sourceTensor.clone().detach().requires_grad_(True), rather than torch.tensor(sourceTensor).\n",
      "  train_labels_tensor = torch.tensor(one_hot_labels, dtype=torch.float32).to(device)\n"
     ]
    },
    {
     "name": "stdout",
     "output_type": "stream",
     "text": [
      "Epoch [1/100], Step [180/180], Loss: 486.4170\n",
      "Epoch [11/100], Step [180/180], Loss: 83.4817\n",
      "Epoch [21/100], Step [180/180], Loss: 23.8150\n",
      "Epoch [31/100], Step [180/180], Loss: 7.8778\n",
      "Epoch [41/100], Step [180/180], Loss: 1.7830\n",
      "Epoch [51/100], Step [180/180], Loss: 0.5521\n",
      "Epoch [61/100], Step [180/180], Loss: 0.1717\n",
      "Epoch [71/100], Step [180/180], Loss: 0.1184\n",
      "Epoch [81/100], Step [180/180], Loss: 0.0960\n",
      "Epoch [91/100], Step [180/180], Loss: 0.0758\n",
      "Finished Training\n",
      "Commence calculations...\n",
      "Accuracy: 99.99861113040096 %\n",
      "Accuracy: 99.99444475306927 %\n",
      "Results: [0.99998611 0.99994445 0.        ]\n",
      "Dataset size: 3000 \n",
      "Window size: 20 \n",
      "Image: (110, 120)\n",
      "Memory needed: 0.74 GB\n",
      "Dataset size: 9000 \n",
      "Window size: 4 \n",
      "Image: (110, 120)\n",
      "Memory needed: 0.44 GB\n",
      "LOADED DATASET...\n",
      "Memory left 23.59 GB\n",
      "(9000, 4, 110, 120) (9000, 1, 440, 120)\n",
      "Using 3.54 GB\n",
      "torch.Size([9000, 1, 440, 120])\n",
      "torch.Size([9000, 15])\n"
     ]
    },
    {
     "name": "stderr",
     "output_type": "stream",
     "text": [
      "/its/home/drs25/RoboSkin/Code/NewRigExperiments/data_format.py:90: UserWarning: To copy construct from a tensor, it is recommended to use sourceTensor.clone().detach() or sourceTensor.clone().detach().requires_grad_(True), rather than torch.tensor(sourceTensor).\n",
      "  train_labels_tensor = torch.tensor(one_hot_labels, dtype=torch.float32).to(device)\n"
     ]
    },
    {
     "name": "stdout",
     "output_type": "stream",
     "text": [
      "Epoch [1/100], Step [180/180], Loss: 486.4583\n",
      "Epoch [11/100], Step [180/180], Loss: 73.7738\n",
      "Epoch [21/100], Step [180/180], Loss: 21.3102\n",
      "Epoch [31/100], Step [180/180], Loss: 5.4902\n",
      "Epoch [41/100], Step [180/180], Loss: 1.2159\n",
      "Epoch [51/100], Step [180/180], Loss: 0.9119\n",
      "Epoch [61/100], Step [180/180], Loss: 0.1640\n",
      "Epoch [71/100], Step [180/180], Loss: 0.1191\n",
      "Epoch [81/100], Step [180/180], Loss: 0.0935\n",
      "Epoch [91/100], Step [180/180], Loss: 0.0748\n",
      "Finished Training\n",
      "Commence calculations...\n",
      "Accuracy: 99.99861113040096 %\n",
      "Accuracy: 99.99444475306927 %\n",
      "Results: [0.99998611 0.99994445 0.        ]\n",
      "Dataset size: 3000 \n",
      "Window size: 20 \n",
      "Image: (110, 120)\n",
      "Memory needed: 0.74 GB\n",
      "Dataset size: 9000 \n",
      "Window size: 4 \n",
      "Image: (110, 120)\n",
      "Memory needed: 0.44 GB\n",
      "LOADED DATASET...\n",
      "Memory left 23.59 GB\n",
      "(9000, 4, 110, 120) (9000, 1, 440, 120)\n",
      "Using 3.54 GB\n",
      "torch.Size([9000, 1, 440, 120])\n",
      "torch.Size([9000, 15])\n"
     ]
    },
    {
     "name": "stderr",
     "output_type": "stream",
     "text": [
      "/its/home/drs25/RoboSkin/Code/NewRigExperiments/data_format.py:90: UserWarning: To copy construct from a tensor, it is recommended to use sourceTensor.clone().detach() or sourceTensor.clone().detach().requires_grad_(True), rather than torch.tensor(sourceTensor).\n",
      "  train_labels_tensor = torch.tensor(one_hot_labels, dtype=torch.float32).to(device)\n"
     ]
    },
    {
     "name": "stdout",
     "output_type": "stream",
     "text": [
      "Epoch [1/100], Step [180/180], Loss: 486.6372\n",
      "Epoch [11/100], Step [180/180], Loss: 68.2084\n",
      "Epoch [21/100], Step [180/180], Loss: 17.8822\n",
      "Epoch [31/100], Step [180/180], Loss: 4.2904\n",
      "Epoch [41/100], Step [180/180], Loss: 0.8539\n",
      "Epoch [51/100], Step [180/180], Loss: 0.3068\n",
      "Epoch [61/100], Step [180/180], Loss: 0.1625\n",
      "Epoch [71/100], Step [180/180], Loss: 0.1127\n",
      "Epoch [81/100], Step [180/180], Loss: 0.0882\n",
      "Epoch [91/100], Step [180/180], Loss: 0.0742\n",
      "Finished Training\n",
      "Commence calculations...\n",
      "Accuracy: 99.99861113040096 %\n",
      "Accuracy: 99.99444475306927 %\n",
      "Results: [0.99998611 0.99994445 0.        ]\n",
      "Dataset size: 3000 \n",
      "Window size: 20 \n",
      "Image: (110, 120)\n",
      "Memory needed: 0.74 GB\n",
      "Dataset size: 9000 \n",
      "Window size: 4 \n",
      "Image: (110, 120)\n",
      "Memory needed: 0.44 GB\n",
      "LOADED DATASET...\n",
      "Memory left 23.59 GB\n",
      "(9000, 4, 110, 120) (9000, 1, 440, 120)\n",
      "Using 3.54 GB\n",
      "torch.Size([9000, 1, 440, 120])\n",
      "torch.Size([9000, 15])\n"
     ]
    },
    {
     "name": "stderr",
     "output_type": "stream",
     "text": [
      "/its/home/drs25/RoboSkin/Code/NewRigExperiments/data_format.py:90: UserWarning: To copy construct from a tensor, it is recommended to use sourceTensor.clone().detach() or sourceTensor.clone().detach().requires_grad_(True), rather than torch.tensor(sourceTensor).\n",
      "  train_labels_tensor = torch.tensor(one_hot_labels, dtype=torch.float32).to(device)\n"
     ]
    },
    {
     "name": "stdout",
     "output_type": "stream",
     "text": [
      "Epoch [1/100], Step [180/180], Loss: 486.2480\n",
      "Epoch [11/100], Step [180/180], Loss: 79.8580\n",
      "Epoch [21/100], Step [180/180], Loss: 24.2909\n",
      "Epoch [31/100], Step [180/180], Loss: 7.4161\n",
      "Epoch [41/100], Step [180/180], Loss: 1.8729\n",
      "Epoch [51/100], Step [180/180], Loss: 0.4214\n",
      "Epoch [61/100], Step [180/180], Loss: 0.1586\n",
      "Epoch [71/100], Step [180/180], Loss: 0.1186\n",
      "Epoch [81/100], Step [180/180], Loss: 0.0905\n",
      "Epoch [91/100], Step [180/180], Loss: 0.0734\n",
      "Finished Training\n",
      "Commence calculations...\n",
      "Accuracy: 99.99861113040096 %\n",
      "Accuracy: 99.99444475306927 %\n",
      "Results: [0.99998611 0.99994445 0.        ]\n",
      "Dataset size: 3000 \n",
      "Window size: 20 \n",
      "Image: (110, 120)\n",
      "Memory needed: 0.74 GB\n",
      "Dataset size: 9000 \n",
      "Window size: 4 \n",
      "Image: (110, 120)\n",
      "Memory needed: 0.44 GB\n",
      "LOADED DATASET...\n",
      "Memory left 23.59 GB\n",
      "(9000, 4, 110, 120) (9000, 1, 440, 120)\n",
      "Using 3.54 GB\n",
      "torch.Size([9000, 1, 440, 120])\n",
      "torch.Size([9000, 15])\n"
     ]
    },
    {
     "name": "stderr",
     "output_type": "stream",
     "text": [
      "/its/home/drs25/RoboSkin/Code/NewRigExperiments/data_format.py:90: UserWarning: To copy construct from a tensor, it is recommended to use sourceTensor.clone().detach() or sourceTensor.clone().detach().requires_grad_(True), rather than torch.tensor(sourceTensor).\n",
      "  train_labels_tensor = torch.tensor(one_hot_labels, dtype=torch.float32).to(device)\n"
     ]
    },
    {
     "name": "stdout",
     "output_type": "stream",
     "text": [
      "Epoch [1/100], Step [180/180], Loss: 486.7200\n",
      "Epoch [11/100], Step [180/180], Loss: 81.3643\n",
      "Epoch [21/100], Step [180/180], Loss: 23.5911\n",
      "Epoch [31/100], Step [180/180], Loss: 7.8977\n",
      "Epoch [41/100], Step [180/180], Loss: 1.1619\n",
      "Epoch [51/100], Step [180/180], Loss: 0.4109\n",
      "Epoch [61/100], Step [180/180], Loss: 0.1832\n",
      "Epoch [71/100], Step [180/180], Loss: 0.1222\n",
      "Epoch [81/100], Step [180/180], Loss: 0.0955\n",
      "Epoch [91/100], Step [180/180], Loss: 0.0773\n",
      "Finished Training\n",
      "Commence calculations...\n",
      "Accuracy: 99.99861113040096 %\n",
      "Accuracy: 99.93889228376202 %\n",
      "Results: [0.99998611 0.99938892 0.        ]\n",
      "Dataset size: 3000 \n",
      "Window size: 20 \n",
      "Image: (110, 120)\n",
      "Memory needed: 0.74 GB\n",
      "Dataset size: 9000 \n",
      "Window size: 4 \n",
      "Image: (110, 120)\n",
      "Memory needed: 0.44 GB\n",
      "LOADED DATASET...\n",
      "Memory left 23.59 GB\n",
      "(9000, 4, 110, 120) (9000, 1, 440, 120)\n",
      "Using 3.54 GB\n",
      "torch.Size([9000, 1, 440, 120])\n",
      "torch.Size([9000, 15])\n"
     ]
    },
    {
     "name": "stderr",
     "output_type": "stream",
     "text": [
      "/its/home/drs25/RoboSkin/Code/NewRigExperiments/data_format.py:90: UserWarning: To copy construct from a tensor, it is recommended to use sourceTensor.clone().detach() or sourceTensor.clone().detach().requires_grad_(True), rather than torch.tensor(sourceTensor).\n",
      "  train_labels_tensor = torch.tensor(one_hot_labels, dtype=torch.float32).to(device)\n"
     ]
    },
    {
     "name": "stdout",
     "output_type": "stream",
     "text": [
      "Epoch [1/100], Step [180/180], Loss: 487.1474\n",
      "Epoch [11/100], Step [180/180], Loss: 101.1721\n",
      "Epoch [21/100], Step [180/180], Loss: 26.1613\n",
      "Epoch [31/100], Step [180/180], Loss: 8.9569\n",
      "Epoch [41/100], Step [180/180], Loss: 1.9478\n",
      "Epoch [51/100], Step [180/180], Loss: 0.3646\n",
      "Epoch [61/100], Step [180/180], Loss: 0.2144\n",
      "Epoch [71/100], Step [180/180], Loss: 0.1317\n",
      "Epoch [81/100], Step [180/180], Loss: 0.0985\n",
      "Epoch [91/100], Step [180/180], Loss: 0.0806\n",
      "Finished Training\n",
      "Commence calculations...\n",
      "Accuracy: 99.99861113040096 %\n",
      "Accuracy: 99.99444475306927 %\n",
      "Results: [0.99998611 0.99994445 0.        ]\n",
      "Dataset size: 3000 \n",
      "Window size: 20 \n",
      "Image: (110, 120)\n",
      "Memory needed: 0.74 GB\n",
      "Dataset size: 9000 \n",
      "Window size: 4 \n",
      "Image: (110, 120)\n",
      "Memory needed: 0.44 GB\n",
      "LOADED DATASET...\n",
      "Memory left 23.59 GB\n",
      "(9000, 4, 110, 120) (9000, 1, 440, 120)\n",
      "Using 3.54 GB\n",
      "torch.Size([9000, 1, 440, 120])\n",
      "torch.Size([9000, 15])\n"
     ]
    },
    {
     "name": "stderr",
     "output_type": "stream",
     "text": [
      "/its/home/drs25/RoboSkin/Code/NewRigExperiments/data_format.py:90: UserWarning: To copy construct from a tensor, it is recommended to use sourceTensor.clone().detach() or sourceTensor.clone().detach().requires_grad_(True), rather than torch.tensor(sourceTensor).\n",
      "  train_labels_tensor = torch.tensor(one_hot_labels, dtype=torch.float32).to(device)\n"
     ]
    },
    {
     "name": "stdout",
     "output_type": "stream",
     "text": [
      "Epoch [1/100], Step [180/180], Loss: 487.1296\n",
      "Epoch [11/100], Step [180/180], Loss: 84.5944\n",
      "Epoch [21/100], Step [180/180], Loss: 24.6233\n",
      "Epoch [31/100], Step [180/180], Loss: 8.2649\n",
      "Epoch [41/100], Step [180/180], Loss: 2.4168\n",
      "Epoch [51/100], Step [180/180], Loss: 0.4728\n",
      "Epoch [61/100], Step [180/180], Loss: 0.1745\n",
      "Epoch [71/100], Step [180/180], Loss: 0.1226\n",
      "Epoch [81/100], Step [180/180], Loss: 0.0955\n",
      "Epoch [91/100], Step [180/180], Loss: 0.0791\n",
      "Finished Training\n",
      "Commence calculations...\n",
      "Accuracy: 99.99861113040096 %\n",
      "Accuracy: 99.99444475306927 %\n",
      "Results: [0.99998611 0.99994445 0.        ]\n",
      "Dataset size: 3000 \n",
      "Window size: 20 \n",
      "Image: (110, 120)\n",
      "Memory needed: 0.74 GB\n",
      "Dataset size: 9000 \n",
      "Window size: 4 \n",
      "Image: (110, 120)\n",
      "Memory needed: 0.44 GB\n",
      "LOADED DATASET...\n",
      "Memory left 23.59 GB\n",
      "(9000, 4, 110, 120) (9000, 1, 440, 120)\n",
      "Using 3.54 GB\n",
      "torch.Size([9000, 1, 440, 120])\n",
      "torch.Size([9000, 15])\n"
     ]
    },
    {
     "name": "stderr",
     "output_type": "stream",
     "text": [
      "/its/home/drs25/RoboSkin/Code/NewRigExperiments/data_format.py:90: UserWarning: To copy construct from a tensor, it is recommended to use sourceTensor.clone().detach() or sourceTensor.clone().detach().requires_grad_(True), rather than torch.tensor(sourceTensor).\n",
      "  train_labels_tensor = torch.tensor(one_hot_labels, dtype=torch.float32).to(device)\n"
     ]
    },
    {
     "name": "stdout",
     "output_type": "stream",
     "text": [
      "Epoch [1/100], Step [180/180], Loss: 486.7805\n",
      "Epoch [11/100], Step [180/180], Loss: 75.7339\n",
      "Epoch [21/100], Step [180/180], Loss: 22.3960\n",
      "Epoch [31/100], Step [180/180], Loss: 5.7526\n",
      "Epoch [41/100], Step [180/180], Loss: 0.9564\n",
      "Epoch [51/100], Step [180/180], Loss: 0.7230\n",
      "Epoch [61/100], Step [180/180], Loss: 0.1731\n",
      "Epoch [71/100], Step [180/180], Loss: 0.1224\n",
      "Epoch [81/100], Step [180/180], Loss: 0.0997\n",
      "Epoch [91/100], Step [180/180], Loss: 0.0723\n",
      "Finished Training\n",
      "Commence calculations...\n",
      "Accuracy: 99.99861113040096 %\n",
      "Accuracy: 99.99444475306927 %\n",
      "Results: [0.99998611 0.99994445 0.        ]\n",
      "Dataset size: 3000 \n",
      "Window size: 20 \n",
      "Image: (110, 120)\n",
      "Memory needed: 0.74 GB\n",
      "Dataset size: 9000 \n",
      "Window size: 4 \n",
      "Image: (110, 120)\n",
      "Memory needed: 0.44 GB\n",
      "LOADED DATASET...\n",
      "Memory left 23.59 GB\n",
      "(9000, 4, 110, 120) (9000, 1, 440, 120)\n",
      "Using 3.54 GB\n",
      "torch.Size([9000, 1, 440, 120])\n",
      "torch.Size([9000, 15])\n"
     ]
    },
    {
     "name": "stderr",
     "output_type": "stream",
     "text": [
      "/its/home/drs25/RoboSkin/Code/NewRigExperiments/data_format.py:90: UserWarning: To copy construct from a tensor, it is recommended to use sourceTensor.clone().detach() or sourceTensor.clone().detach().requires_grad_(True), rather than torch.tensor(sourceTensor).\n",
      "  train_labels_tensor = torch.tensor(one_hot_labels, dtype=torch.float32).to(device)\n"
     ]
    },
    {
     "name": "stdout",
     "output_type": "stream",
     "text": [
      "Epoch [1/100], Step [180/180], Loss: 485.4432\n",
      "Epoch [11/100], Step [180/180], Loss: 75.8014\n",
      "Epoch [21/100], Step [180/180], Loss: 23.6110\n",
      "Epoch [31/100], Step [180/180], Loss: 7.8906\n",
      "Epoch [41/100], Step [180/180], Loss: 1.1585\n",
      "Epoch [51/100], Step [180/180], Loss: 0.3166\n",
      "Epoch [61/100], Step [180/180], Loss: 0.1690\n",
      "Epoch [71/100], Step [180/180], Loss: 0.1204\n",
      "Epoch [81/100], Step [180/180], Loss: 0.0926\n",
      "Epoch [91/100], Step [180/180], Loss: 0.0754\n",
      "Finished Training\n",
      "Commence calculations...\n",
      "Accuracy: 99.99861113040096 %\n",
      "Accuracy: 99.99444475306927 %\n",
      "Results: [0.99998611 0.99994445 0.        ]\n",
      "Dataset size: 3000 \n",
      "Window size: 20 \n",
      "Image: (110, 120)\n",
      "Memory needed: 0.74 GB\n",
      "Dataset size: 9000 \n",
      "Window size: 4 \n",
      "Image: (110, 120)\n",
      "Memory needed: 0.44 GB\n",
      "LOADED DATASET...\n",
      "Memory left 23.59 GB\n",
      "(9000, 4, 110, 120) (9000, 1, 440, 120)\n",
      "Using 3.54 GB\n",
      "torch.Size([9000, 1, 440, 120])\n",
      "torch.Size([9000, 15])\n"
     ]
    },
    {
     "name": "stderr",
     "output_type": "stream",
     "text": [
      "/its/home/drs25/RoboSkin/Code/NewRigExperiments/data_format.py:90: UserWarning: To copy construct from a tensor, it is recommended to use sourceTensor.clone().detach() or sourceTensor.clone().detach().requires_grad_(True), rather than torch.tensor(sourceTensor).\n",
      "  train_labels_tensor = torch.tensor(one_hot_labels, dtype=torch.float32).to(device)\n"
     ]
    },
    {
     "name": "stdout",
     "output_type": "stream",
     "text": [
      "Epoch [1/100], Step [180/180], Loss: 486.2922\n",
      "Epoch [11/100], Step [180/180], Loss: 91.0084\n",
      "Epoch [21/100], Step [180/180], Loss: 25.9367\n",
      "Epoch [31/100], Step [180/180], Loss: 9.1643\n",
      "Epoch [41/100], Step [180/180], Loss: 1.4694\n",
      "Epoch [51/100], Step [180/180], Loss: 0.3922\n",
      "Epoch [61/100], Step [180/180], Loss: 0.1748\n",
      "Epoch [71/100], Step [180/180], Loss: 0.1236\n",
      "Epoch [81/100], Step [180/180], Loss: 0.0972\n",
      "Epoch [91/100], Step [180/180], Loss: 0.0777\n",
      "Finished Training\n",
      "Commence calculations...\n",
      "Accuracy: 99.99861113040096 %\n",
      "Accuracy: 99.99444475306927 %\n",
      "Results: [0.99998611 0.99994445 0.        ]\n",
      "Dataset size: 3000 \n",
      "Window size: 20 \n",
      "Image: (110, 120)\n",
      "Memory needed: 0.74 GB\n",
      "Dataset size: 9000 \n",
      "Window size: 4 \n",
      "Image: (110, 120)\n",
      "Memory needed: 0.44 GB\n",
      "LOADED DATASET...\n",
      "Memory left 23.59 GB\n",
      "(9000, 4, 110, 120) (9000, 1, 440, 120)\n",
      "Using 3.54 GB\n",
      "torch.Size([9000, 1, 440, 120])\n",
      "torch.Size([9000, 15])\n"
     ]
    },
    {
     "name": "stderr",
     "output_type": "stream",
     "text": [
      "/its/home/drs25/RoboSkin/Code/NewRigExperiments/data_format.py:90: UserWarning: To copy construct from a tensor, it is recommended to use sourceTensor.clone().detach() or sourceTensor.clone().detach().requires_grad_(True), rather than torch.tensor(sourceTensor).\n",
      "  train_labels_tensor = torch.tensor(one_hot_labels, dtype=torch.float32).to(device)\n"
     ]
    },
    {
     "name": "stdout",
     "output_type": "stream",
     "text": [
      "Epoch [1/100], Step [180/180], Loss: 486.0110\n",
      "Epoch [11/100], Step [180/180], Loss: 66.0065\n",
      "Epoch [21/100], Step [180/180], Loss: 20.2447\n",
      "Epoch [31/100], Step [180/180], Loss: 6.6428\n",
      "Epoch [41/100], Step [180/180], Loss: 1.0124\n",
      "Epoch [51/100], Step [180/180], Loss: 0.3136\n",
      "Epoch [61/100], Step [180/180], Loss: 0.3113\n",
      "Epoch [71/100], Step [180/180], Loss: 0.1172\n",
      "Epoch [81/100], Step [180/180], Loss: 0.0888\n",
      "Epoch [91/100], Step [180/180], Loss: 0.0738\n",
      "Finished Training\n",
      "Commence calculations...\n",
      "Accuracy: 99.99861113040096 %\n",
      "Accuracy: 99.88333981445476 %\n",
      "Results: [0.99998611 0.9988334  0.        ]\n",
      "Dataset size: 3000 \n",
      "Window size: 20 \n",
      "Image: (110, 120)\n",
      "Memory needed: 0.74 GB\n",
      "Dataset size: 9000 \n",
      "Window size: 4 \n",
      "Image: (110, 120)\n",
      "Memory needed: 0.44 GB\n",
      "LOADED DATASET...\n",
      "Memory left 23.59 GB\n",
      "(9000, 4, 110, 120) (9000, 1, 440, 120)\n",
      "Using 3.54 GB\n",
      "torch.Size([9000, 1, 440, 120])\n",
      "torch.Size([9000, 15])\n"
     ]
    },
    {
     "name": "stderr",
     "output_type": "stream",
     "text": [
      "/its/home/drs25/RoboSkin/Code/NewRigExperiments/data_format.py:90: UserWarning: To copy construct from a tensor, it is recommended to use sourceTensor.clone().detach() or sourceTensor.clone().detach().requires_grad_(True), rather than torch.tensor(sourceTensor).\n",
      "  train_labels_tensor = torch.tensor(one_hot_labels, dtype=torch.float32).to(device)\n"
     ]
    },
    {
     "name": "stdout",
     "output_type": "stream",
     "text": [
      "Epoch [1/100], Step [180/180], Loss: 487.3719\n",
      "Epoch [11/100], Step [180/180], Loss: 95.1856\n",
      "Epoch [21/100], Step [180/180], Loss: 25.0854\n",
      "Epoch [31/100], Step [180/180], Loss: 8.0904\n",
      "Epoch [41/100], Step [180/180], Loss: 1.2277\n",
      "Epoch [51/100], Step [180/180], Loss: 0.2838\n",
      "Epoch [61/100], Step [180/180], Loss: 0.1729\n",
      "Epoch [71/100], Step [180/180], Loss: 0.1232\n",
      "Epoch [81/100], Step [180/180], Loss: 0.0973\n",
      "Epoch [91/100], Step [180/180], Loss: 0.0768\n",
      "Finished Training\n",
      "Commence calculations...\n",
      "Accuracy: 99.99861113040096 %\n",
      "Accuracy: 99.99444475306927 %\n",
      "Results: [0.99998611 0.99994445 0.        ]\n",
      "Dataset size: 3000 \n",
      "Window size: 20 \n",
      "Image: (110, 120)\n",
      "Memory needed: 0.74 GB\n",
      "Dataset size: 9000 \n",
      "Window size: 4 \n",
      "Image: (110, 120)\n",
      "Memory needed: 0.44 GB\n",
      "LOADED DATASET...\n",
      "Memory left 23.59 GB\n",
      "(9000, 4, 110, 120) (9000, 1, 440, 120)\n",
      "Using 3.54 GB\n",
      "torch.Size([9000, 1, 440, 120])\n",
      "torch.Size([9000, 15])\n"
     ]
    },
    {
     "name": "stderr",
     "output_type": "stream",
     "text": [
      "/its/home/drs25/RoboSkin/Code/NewRigExperiments/data_format.py:90: UserWarning: To copy construct from a tensor, it is recommended to use sourceTensor.clone().detach() or sourceTensor.clone().detach().requires_grad_(True), rather than torch.tensor(sourceTensor).\n",
      "  train_labels_tensor = torch.tensor(one_hot_labels, dtype=torch.float32).to(device)\n"
     ]
    },
    {
     "name": "stdout",
     "output_type": "stream",
     "text": [
      "Epoch [1/100], Step [180/180], Loss: 487.2445\n",
      "Epoch [11/100], Step [180/180], Loss: 109.1252\n",
      "Epoch [21/100], Step [180/180], Loss: 26.0434\n",
      "Epoch [31/100], Step [180/180], Loss: 8.6686\n",
      "Epoch [41/100], Step [180/180], Loss: 2.5595\n",
      "Epoch [51/100], Step [180/180], Loss: 0.5232\n",
      "Epoch [61/100], Step [180/180], Loss: 0.1837\n",
      "Epoch [71/100], Step [180/180], Loss: 0.1279\n",
      "Epoch [81/100], Step [180/180], Loss: 0.0985\n",
      "Epoch [91/100], Step [180/180], Loss: 0.0784\n",
      "Finished Training\n",
      "Commence calculations...\n",
      "Accuracy: 99.99861113040096 %\n",
      "Accuracy: 99.93889228376202 %\n",
      "Results: [0.99998611 0.99938892 0.        ]\n",
      "Dataset size: 3000 \n",
      "Window size: 20 \n",
      "Image: (110, 120)\n",
      "Memory needed: 0.74 GB\n",
      "Dataset size: 9000 \n",
      "Window size: 4 \n",
      "Image: (110, 120)\n",
      "Memory needed: 0.44 GB\n",
      "LOADED DATASET...\n",
      "Memory left 23.59 GB\n",
      "(9000, 4, 110, 120) (9000, 1, 440, 120)\n",
      "Using 3.54 GB\n",
      "torch.Size([9000, 1, 440, 120])\n",
      "torch.Size([9000, 15])\n"
     ]
    },
    {
     "name": "stderr",
     "output_type": "stream",
     "text": [
      "/its/home/drs25/RoboSkin/Code/NewRigExperiments/data_format.py:90: UserWarning: To copy construct from a tensor, it is recommended to use sourceTensor.clone().detach() or sourceTensor.clone().detach().requires_grad_(True), rather than torch.tensor(sourceTensor).\n",
      "  train_labels_tensor = torch.tensor(one_hot_labels, dtype=torch.float32).to(device)\n"
     ]
    },
    {
     "name": "stdout",
     "output_type": "stream",
     "text": [
      "Epoch [1/100], Step [180/180], Loss: 486.4768\n",
      "Epoch [11/100], Step [180/180], Loss: 72.7296\n",
      "Epoch [21/100], Step [180/180], Loss: 20.9319\n",
      "Epoch [31/100], Step [180/180], Loss: 5.8562\n",
      "Epoch [41/100], Step [180/180], Loss: 1.4347\n",
      "Epoch [51/100], Step [180/180], Loss: 0.2821\n",
      "Epoch [61/100], Step [180/180], Loss: 0.1633\n",
      "Epoch [71/100], Step [180/180], Loss: 0.1198\n",
      "Epoch [81/100], Step [180/180], Loss: 0.0926\n",
      "Epoch [91/100], Step [180/180], Loss: 0.0743\n",
      "Finished Training\n",
      "Commence calculations...\n",
      "Accuracy: 99.99861113040096 %\n",
      "Accuracy: 99.93889228376202 %\n",
      "Results: [0.99998611 0.99938892 0.        ]\n",
      "Dataset size: 3000 \n",
      "Window size: 20 \n",
      "Image: (110, 120)\n",
      "Memory needed: 0.74 GB\n",
      "Dataset size: 9000 \n",
      "Window size: 4 \n",
      "Image: (110, 120)\n",
      "Memory needed: 0.44 GB\n",
      "LOADED DATASET...\n",
      "Memory left 23.59 GB\n",
      "(9000, 4, 110, 120) (9000, 1, 440, 120)\n",
      "Using 3.54 GB\n",
      "torch.Size([9000, 1, 440, 120])\n",
      "torch.Size([9000, 15])\n"
     ]
    },
    {
     "name": "stderr",
     "output_type": "stream",
     "text": [
      "/its/home/drs25/RoboSkin/Code/NewRigExperiments/data_format.py:90: UserWarning: To copy construct from a tensor, it is recommended to use sourceTensor.clone().detach() or sourceTensor.clone().detach().requires_grad_(True), rather than torch.tensor(sourceTensor).\n",
      "  train_labels_tensor = torch.tensor(one_hot_labels, dtype=torch.float32).to(device)\n"
     ]
    },
    {
     "name": "stdout",
     "output_type": "stream",
     "text": [
      "Epoch [1/100], Step [180/180], Loss: 486.9614\n",
      "Epoch [11/100], Step [180/180], Loss: 91.6697\n",
      "Epoch [21/100], Step [180/180], Loss: 27.3929\n",
      "Epoch [31/100], Step [180/180], Loss: 9.4875\n",
      "Epoch [41/100], Step [180/180], Loss: 2.4540\n",
      "Epoch [51/100], Step [180/180], Loss: 0.7530\n",
      "Epoch [61/100], Step [180/180], Loss: 0.3061\n",
      "Epoch [71/100], Step [180/180], Loss: 0.1292\n",
      "Epoch [81/100], Step [180/180], Loss: 0.1001\n",
      "Epoch [91/100], Step [180/180], Loss: 0.0805\n",
      "Finished Training\n",
      "Commence calculations...\n",
      "Accuracy: 99.99861113040096 %\n",
      "Accuracy: 99.99444475306927 %\n",
      "Results: [0.99998611 0.99994445 0.        ]\n",
      "Dataset size: 3000 \n",
      "Window size: 20 \n",
      "Image: (110, 120)\n",
      "Memory needed: 0.74 GB\n",
      "Dataset size: 9000 \n",
      "Window size: 4 \n",
      "Image: (110, 120)\n",
      "Memory needed: 0.44 GB\n",
      "LOADED DATASET...\n",
      "Memory left 23.59 GB\n",
      "(9000, 4, 110, 120) (9000, 1, 440, 120)\n",
      "Using 3.54 GB\n",
      "torch.Size([9000, 1, 440, 120])\n",
      "torch.Size([9000, 15])\n"
     ]
    },
    {
     "name": "stderr",
     "output_type": "stream",
     "text": [
      "/its/home/drs25/RoboSkin/Code/NewRigExperiments/data_format.py:90: UserWarning: To copy construct from a tensor, it is recommended to use sourceTensor.clone().detach() or sourceTensor.clone().detach().requires_grad_(True), rather than torch.tensor(sourceTensor).\n",
      "  train_labels_tensor = torch.tensor(one_hot_labels, dtype=torch.float32).to(device)\n"
     ]
    },
    {
     "name": "stdout",
     "output_type": "stream",
     "text": [
      "Epoch [1/100], Step [180/180], Loss: 485.2367\n",
      "Epoch [11/100], Step [180/180], Loss: 64.4260\n",
      "Epoch [21/100], Step [180/180], Loss: 18.1979\n",
      "Epoch [31/100], Step [180/180], Loss: 5.0892\n",
      "Epoch [41/100], Step [180/180], Loss: 1.1270\n",
      "Epoch [51/100], Step [180/180], Loss: 0.2456\n",
      "Epoch [61/100], Step [180/180], Loss: 0.1621\n",
      "Epoch [71/100], Step [180/180], Loss: 0.1164\n",
      "Epoch [81/100], Step [180/180], Loss: 0.0902\n",
      "Epoch [91/100], Step [180/180], Loss: 0.0745\n",
      "Finished Training\n",
      "Commence calculations...\n",
      "Accuracy: 99.99861113040096 %\n",
      "Accuracy: 99.99444475306927 %\n",
      "Results: [0.99998611 0.99994445 0.        ]\n"
     ]
    }
   ],
   "source": [
    "acc=np.zeros((num_trials,3)) #train,test,noisy\n",
    "\n",
    "for i in range(num_trials):\n",
    "    data=loaded(t=T_SIZE,filename=\"X_data_15.npz\")\n",
    "    data.applySobel()\n",
    "    data.orientation_augment()\n",
    "    data.shuffle()\n",
    "    data.X=data.X[0:15000]\n",
    "    data.y=data.y[0:15000]\n",
    "    train_loader,test_loader=org_data(data,(len(data.X),1,T_SIZE*data.X.shape[2],data.X.shape[3]))\n",
    "    model,history=run(train_loader,0,4,num_epochs = EPOCHS)\n",
    "    print(\"Commence calculations...\")\n",
    "    acc[i][0]=calc(model,train_loader)\n",
    "    acc[i][1]=calc(model,test_loader)\n",
    "    preds=model(test_data_sliced_tensor)\n",
    "    acc[i][2]=calc_noisy(preds,labels)\n",
    "    print(\"Results:\",acc[i])\n",
    "np.save(path+\"/data/20_TRIALS_CNN_ORIENTATION_AUGMENTATION\",acc)"
   ]
  },
  {
   "attachments": {},
   "cell_type": "markdown",
   "metadata": {},
   "source": [
    "### no augmentation"
   ]
  },
  {
   "cell_type": "code",
   "execution_count": 36,
   "metadata": {},
   "outputs": [
    {
     "name": "stdout",
     "output_type": "stream",
     "text": [
      "Dataset size: 3000 \n",
      "Window size: 20 \n",
      "Image: (110, 120)\n",
      "Memory needed: 0.74 GB\n",
      "LOADED DATASET...\n",
      "Memory left 23.59 GB\n",
      "(3000, 4, 110, 120) (3000, 1, 440, 120)\n",
      "Using 1.18 GB\n",
      "torch.Size([3000, 1, 440, 120])\n",
      "torch.Size([3000, 15])\n"
     ]
    },
    {
     "name": "stderr",
     "output_type": "stream",
     "text": [
      "/its/home/drs25/RoboSkin/Code/NewRigExperiments/data_format.py:90: UserWarning: To copy construct from a tensor, it is recommended to use sourceTensor.clone().detach() or sourceTensor.clone().detach().requires_grad_(True), rather than torch.tensor(sourceTensor).\n",
      "  train_labels_tensor = torch.tensor(one_hot_labels, dtype=torch.float32).to(device)\n"
     ]
    },
    {
     "name": "stdout",
     "output_type": "stream",
     "text": [
      "Epoch [1/100], Step [60/60], Loss: 162.2673\n",
      "Epoch [11/100], Step [60/60], Loss: 74.0245\n",
      "Epoch [21/100], Step [60/60], Loss: 24.5539\n",
      "Epoch [31/100], Step [60/60], Loss: 9.6093\n",
      "Epoch [41/100], Step [60/60], Loss: 4.5145\n",
      "Epoch [51/100], Step [60/60], Loss: 1.1680\n",
      "Epoch [61/100], Step [60/60], Loss: 0.6256\n",
      "Epoch [71/100], Step [60/60], Loss: 0.1830\n",
      "Epoch [81/100], Step [60/60], Loss: 0.1345\n",
      "Epoch [91/100], Step [60/60], Loss: 0.0963\n",
      "Finished Training\n",
      "Commence calculations...\n",
      "Accuracy: 99.99583350693722 %\n",
      "Accuracy: 99.98333611064822 %\n",
      "Results: [0.99995834 0.99983336 0.        ]\n",
      "Dataset size: 3000 \n",
      "Window size: 20 \n",
      "Image: (110, 120)\n",
      "Memory needed: 0.74 GB\n",
      "LOADED DATASET...\n",
      "Memory left 23.59 GB\n",
      "(3000, 4, 110, 120) (3000, 1, 440, 120)\n",
      "Using 1.18 GB\n",
      "torch.Size([3000, 1, 440, 120])\n",
      "torch.Size([3000, 15])\n"
     ]
    },
    {
     "name": "stderr",
     "output_type": "stream",
     "text": [
      "/its/home/drs25/RoboSkin/Code/NewRigExperiments/data_format.py:90: UserWarning: To copy construct from a tensor, it is recommended to use sourceTensor.clone().detach() or sourceTensor.clone().detach().requires_grad_(True), rather than torch.tensor(sourceTensor).\n",
      "  train_labels_tensor = torch.tensor(one_hot_labels, dtype=torch.float32).to(device)\n"
     ]
    },
    {
     "name": "stdout",
     "output_type": "stream",
     "text": [
      "Epoch [1/100], Step [60/60], Loss: 162.3972\n",
      "Epoch [11/100], Step [60/60], Loss: 77.7909\n",
      "Epoch [21/100], Step [60/60], Loss: 19.4813\n",
      "Epoch [31/100], Step [60/60], Loss: 5.4362\n",
      "Epoch [41/100], Step [60/60], Loss: 1.7950\n",
      "Epoch [51/100], Step [60/60], Loss: 0.5925\n",
      "Epoch [61/100], Step [60/60], Loss: 0.2113\n",
      "Epoch [71/100], Step [60/60], Loss: 0.1410\n",
      "Epoch [81/100], Step [60/60], Loss: 0.1068\n",
      "Epoch [91/100], Step [60/60], Loss: 0.0841\n",
      "Finished Training\n",
      "Commence calculations...\n",
      "Accuracy: 99.99583350693722 %\n",
      "Accuracy: 99.98333611064822 %\n",
      "Results: [0.99995834 0.99983336 0.        ]\n",
      "Dataset size: 3000 \n",
      "Window size: 20 \n",
      "Image: (110, 120)\n",
      "Memory needed: 0.74 GB\n",
      "LOADED DATASET...\n",
      "Memory left 23.59 GB\n",
      "(3000, 4, 110, 120) (3000, 1, 440, 120)\n",
      "Using 1.18 GB\n",
      "torch.Size([3000, 1, 440, 120])\n",
      "torch.Size([3000, 15])\n"
     ]
    },
    {
     "name": "stderr",
     "output_type": "stream",
     "text": [
      "/its/home/drs25/RoboSkin/Code/NewRigExperiments/data_format.py:90: UserWarning: To copy construct from a tensor, it is recommended to use sourceTensor.clone().detach() or sourceTensor.clone().detach().requires_grad_(True), rather than torch.tensor(sourceTensor).\n",
      "  train_labels_tensor = torch.tensor(one_hot_labels, dtype=torch.float32).to(device)\n"
     ]
    },
    {
     "name": "stdout",
     "output_type": "stream",
     "text": [
      "Epoch [1/100], Step [60/60], Loss: 162.1392\n",
      "Epoch [11/100], Step [60/60], Loss: 61.2745\n",
      "Epoch [21/100], Step [60/60], Loss: 15.4504\n",
      "Epoch [31/100], Step [60/60], Loss: 5.7221\n",
      "Epoch [41/100], Step [60/60], Loss: 1.6041\n",
      "Epoch [51/100], Step [60/60], Loss: 0.3639\n",
      "Epoch [61/100], Step [60/60], Loss: 0.2044\n",
      "Epoch [71/100], Step [60/60], Loss: 0.1429\n",
      "Epoch [81/100], Step [60/60], Loss: 0.1124\n",
      "Epoch [91/100], Step [60/60], Loss: 0.0856\n",
      "Finished Training\n",
      "Commence calculations...\n",
      "Accuracy: 99.99583350693722 %\n",
      "Accuracy: 99.98333611064822 %\n",
      "Results: [0.99995834 0.99983336 0.        ]\n",
      "Dataset size: 3000 \n",
      "Window size: 20 \n",
      "Image: (110, 120)\n",
      "Memory needed: 0.74 GB\n",
      "LOADED DATASET...\n",
      "Memory left 23.59 GB\n",
      "(3000, 4, 110, 120) (3000, 1, 440, 120)\n",
      "Using 1.18 GB\n",
      "torch.Size([3000, 1, 440, 120])\n",
      "torch.Size([3000, 15])\n"
     ]
    },
    {
     "name": "stderr",
     "output_type": "stream",
     "text": [
      "/its/home/drs25/RoboSkin/Code/NewRigExperiments/data_format.py:90: UserWarning: To copy construct from a tensor, it is recommended to use sourceTensor.clone().detach() or sourceTensor.clone().detach().requires_grad_(True), rather than torch.tensor(sourceTensor).\n",
      "  train_labels_tensor = torch.tensor(one_hot_labels, dtype=torch.float32).to(device)\n"
     ]
    },
    {
     "name": "stdout",
     "output_type": "stream",
     "text": [
      "Epoch [1/100], Step [60/60], Loss: 162.2469\n",
      "Epoch [11/100], Step [60/60], Loss: 73.8777\n",
      "Epoch [21/100], Step [60/60], Loss: 17.1754\n",
      "Epoch [31/100], Step [60/60], Loss: 6.0318\n",
      "Epoch [41/100], Step [60/60], Loss: 1.8640\n",
      "Epoch [51/100], Step [60/60], Loss: 0.4441\n",
      "Epoch [61/100], Step [60/60], Loss: 0.2156\n",
      "Epoch [71/100], Step [60/60], Loss: 0.1433\n",
      "Epoch [81/100], Step [60/60], Loss: 0.1065\n",
      "Epoch [91/100], Step [60/60], Loss: 0.0839\n",
      "Finished Training\n",
      "Commence calculations...\n",
      "Accuracy: 99.99583350693722 %\n",
      "Accuracy: 99.98333611064822 %\n",
      "Results: [0.99995834 0.99983336 0.        ]\n",
      "Dataset size: 3000 \n",
      "Window size: 20 \n",
      "Image: (110, 120)\n",
      "Memory needed: 0.74 GB\n",
      "LOADED DATASET...\n",
      "Memory left 23.59 GB\n",
      "(3000, 4, 110, 120) (3000, 1, 440, 120)\n",
      "Using 1.18 GB\n",
      "torch.Size([3000, 1, 440, 120])\n",
      "torch.Size([3000, 15])\n"
     ]
    },
    {
     "name": "stderr",
     "output_type": "stream",
     "text": [
      "/its/home/drs25/RoboSkin/Code/NewRigExperiments/data_format.py:90: UserWarning: To copy construct from a tensor, it is recommended to use sourceTensor.clone().detach() or sourceTensor.clone().detach().requires_grad_(True), rather than torch.tensor(sourceTensor).\n",
      "  train_labels_tensor = torch.tensor(one_hot_labels, dtype=torch.float32).to(device)\n"
     ]
    },
    {
     "name": "stdout",
     "output_type": "stream",
     "text": [
      "Epoch [1/100], Step [60/60], Loss: 162.4320\n",
      "Epoch [11/100], Step [60/60], Loss: 78.8300\n",
      "Epoch [21/100], Step [60/60], Loss: 19.3391\n",
      "Epoch [31/100], Step [60/60], Loss: 6.5596\n",
      "Epoch [41/100], Step [60/60], Loss: 2.7084\n",
      "Epoch [51/100], Step [60/60], Loss: 0.4018\n",
      "Epoch [61/100], Step [60/60], Loss: 0.2328\n",
      "Epoch [71/100], Step [60/60], Loss: 0.1557\n",
      "Epoch [81/100], Step [60/60], Loss: 0.1112\n",
      "Epoch [91/100], Step [60/60], Loss: 0.0900\n",
      "Finished Training\n",
      "Commence calculations...\n",
      "Accuracy: 99.99583350693722 %\n",
      "Accuracy: 99.98333611064822 %\n",
      "Results: [0.99995834 0.99983336 0.        ]\n",
      "Dataset size: 3000 \n",
      "Window size: 20 \n",
      "Image: (110, 120)\n",
      "Memory needed: 0.74 GB\n",
      "LOADED DATASET...\n",
      "Memory left 23.59 GB\n",
      "(3000, 4, 110, 120) (3000, 1, 440, 120)\n",
      "Using 1.18 GB\n",
      "torch.Size([3000, 1, 440, 120])\n",
      "torch.Size([3000, 15])\n"
     ]
    },
    {
     "name": "stderr",
     "output_type": "stream",
     "text": [
      "/its/home/drs25/RoboSkin/Code/NewRigExperiments/data_format.py:90: UserWarning: To copy construct from a tensor, it is recommended to use sourceTensor.clone().detach() or sourceTensor.clone().detach().requires_grad_(True), rather than torch.tensor(sourceTensor).\n",
      "  train_labels_tensor = torch.tensor(one_hot_labels, dtype=torch.float32).to(device)\n"
     ]
    },
    {
     "name": "stdout",
     "output_type": "stream",
     "text": [
      "Epoch [1/100], Step [60/60], Loss: 162.1131\n",
      "Epoch [11/100], Step [60/60], Loss: 63.9748\n",
      "Epoch [21/100], Step [60/60], Loss: 18.2422\n",
      "Epoch [31/100], Step [60/60], Loss: 7.0447\n",
      "Epoch [41/100], Step [60/60], Loss: 2.2998\n",
      "Epoch [51/100], Step [60/60], Loss: 0.6094\n",
      "Epoch [61/100], Step [60/60], Loss: 0.3109\n",
      "Epoch [71/100], Step [60/60], Loss: 0.1557\n",
      "Epoch [81/100], Step [60/60], Loss: 0.1146\n",
      "Epoch [91/100], Step [60/60], Loss: 0.0883\n",
      "Finished Training\n",
      "Commence calculations...\n",
      "Accuracy: 99.99583350693722 %\n",
      "Accuracy: 99.98333611064822 %\n",
      "Results: [0.99995834 0.99983336 0.        ]\n",
      "Dataset size: 3000 \n",
      "Window size: 20 \n",
      "Image: (110, 120)\n",
      "Memory needed: 0.74 GB\n",
      "LOADED DATASET...\n",
      "Memory left 23.59 GB\n",
      "(3000, 4, 110, 120) (3000, 1, 440, 120)\n",
      "Using 1.18 GB\n",
      "torch.Size([3000, 1, 440, 120])\n",
      "torch.Size([3000, 15])\n"
     ]
    },
    {
     "name": "stderr",
     "output_type": "stream",
     "text": [
      "/its/home/drs25/RoboSkin/Code/NewRigExperiments/data_format.py:90: UserWarning: To copy construct from a tensor, it is recommended to use sourceTensor.clone().detach() or sourceTensor.clone().detach().requires_grad_(True), rather than torch.tensor(sourceTensor).\n",
      "  train_labels_tensor = torch.tensor(one_hot_labels, dtype=torch.float32).to(device)\n"
     ]
    },
    {
     "name": "stdout",
     "output_type": "stream",
     "text": [
      "Epoch [1/100], Step [60/60], Loss: 162.3832\n",
      "Epoch [11/100], Step [60/60], Loss: 69.3532\n",
      "Epoch [21/100], Step [60/60], Loss: 14.0038\n",
      "Epoch [31/100], Step [60/60], Loss: 4.4048\n",
      "Epoch [41/100], Step [60/60], Loss: 1.1192\n",
      "Epoch [51/100], Step [60/60], Loss: 0.3450\n",
      "Epoch [61/100], Step [60/60], Loss: 0.2685\n",
      "Epoch [71/100], Step [60/60], Loss: 0.1427\n",
      "Epoch [81/100], Step [60/60], Loss: 0.1104\n",
      "Epoch [91/100], Step [60/60], Loss: 0.0857\n",
      "Finished Training\n",
      "Commence calculations...\n",
      "Accuracy: 99.99583350693722 %\n",
      "Accuracy: 99.98333611064822 %\n",
      "Results: [0.99995834 0.99983336 0.        ]\n",
      "Dataset size: 3000 \n",
      "Window size: 20 \n",
      "Image: (110, 120)\n",
      "Memory needed: 0.74 GB\n",
      "LOADED DATASET...\n",
      "Memory left 23.59 GB\n",
      "(3000, 4, 110, 120) (3000, 1, 440, 120)\n",
      "Using 1.18 GB\n",
      "torch.Size([3000, 1, 440, 120])\n",
      "torch.Size([3000, 15])\n"
     ]
    },
    {
     "name": "stderr",
     "output_type": "stream",
     "text": [
      "/its/home/drs25/RoboSkin/Code/NewRigExperiments/data_format.py:90: UserWarning: To copy construct from a tensor, it is recommended to use sourceTensor.clone().detach() or sourceTensor.clone().detach().requires_grad_(True), rather than torch.tensor(sourceTensor).\n",
      "  train_labels_tensor = torch.tensor(one_hot_labels, dtype=torch.float32).to(device)\n"
     ]
    },
    {
     "name": "stdout",
     "output_type": "stream",
     "text": [
      "Epoch [1/100], Step [60/60], Loss: 162.3255\n",
      "Epoch [11/100], Step [60/60], Loss: 67.8091\n",
      "Epoch [21/100], Step [60/60], Loss: 16.2637\n",
      "Epoch [31/100], Step [60/60], Loss: 6.0231\n",
      "Epoch [41/100], Step [60/60], Loss: 2.7044\n",
      "Epoch [51/100], Step [60/60], Loss: 0.4755\n",
      "Epoch [61/100], Step [60/60], Loss: 0.2790\n",
      "Epoch [71/100], Step [60/60], Loss: 0.1834\n",
      "Epoch [81/100], Step [60/60], Loss: 0.1107\n",
      "Epoch [91/100], Step [60/60], Loss: 0.0870\n",
      "Finished Training\n",
      "Commence calculations...\n",
      "Accuracy: 99.99583350693722 %\n",
      "Accuracy: 99.98333611064822 %\n",
      "Results: [0.99995834 0.99983336 0.        ]\n",
      "Dataset size: 3000 \n",
      "Window size: 20 \n",
      "Image: (110, 120)\n",
      "Memory needed: 0.74 GB\n",
      "LOADED DATASET...\n",
      "Memory left 23.59 GB\n",
      "(3000, 4, 110, 120) (3000, 1, 440, 120)\n",
      "Using 1.18 GB\n",
      "torch.Size([3000, 1, 440, 120])\n",
      "torch.Size([3000, 15])\n"
     ]
    },
    {
     "name": "stderr",
     "output_type": "stream",
     "text": [
      "/its/home/drs25/RoboSkin/Code/NewRigExperiments/data_format.py:90: UserWarning: To copy construct from a tensor, it is recommended to use sourceTensor.clone().detach() or sourceTensor.clone().detach().requires_grad_(True), rather than torch.tensor(sourceTensor).\n",
      "  train_labels_tensor = torch.tensor(one_hot_labels, dtype=torch.float32).to(device)\n"
     ]
    },
    {
     "name": "stdout",
     "output_type": "stream",
     "text": [
      "Epoch [1/100], Step [60/60], Loss: 162.3753\n",
      "Epoch [11/100], Step [60/60], Loss: 64.3278\n",
      "Epoch [21/100], Step [60/60], Loss: 14.0334\n",
      "Epoch [31/100], Step [60/60], Loss: 4.4248\n",
      "Epoch [41/100], Step [60/60], Loss: 1.2999\n",
      "Epoch [51/100], Step [60/60], Loss: 0.3493\n",
      "Epoch [61/100], Step [60/60], Loss: 0.1881\n",
      "Epoch [71/100], Step [60/60], Loss: 0.1329\n",
      "Epoch [81/100], Step [60/60], Loss: 0.1000\n",
      "Epoch [91/100], Step [60/60], Loss: 0.0781\n",
      "Finished Training\n",
      "Commence calculations...\n",
      "Accuracy: 99.99583350693722 %\n",
      "Accuracy: 99.98333611064822 %\n",
      "Results: [0.99995834 0.99983336 0.        ]\n",
      "Dataset size: 3000 \n",
      "Window size: 20 \n",
      "Image: (110, 120)\n",
      "Memory needed: 0.74 GB\n",
      "LOADED DATASET...\n",
      "Memory left 23.59 GB\n",
      "(3000, 4, 110, 120) (3000, 1, 440, 120)\n",
      "Using 1.18 GB\n",
      "torch.Size([3000, 1, 440, 120])\n",
      "torch.Size([3000, 15])\n"
     ]
    },
    {
     "name": "stderr",
     "output_type": "stream",
     "text": [
      "/its/home/drs25/RoboSkin/Code/NewRigExperiments/data_format.py:90: UserWarning: To copy construct from a tensor, it is recommended to use sourceTensor.clone().detach() or sourceTensor.clone().detach().requires_grad_(True), rather than torch.tensor(sourceTensor).\n",
      "  train_labels_tensor = torch.tensor(one_hot_labels, dtype=torch.float32).to(device)\n"
     ]
    },
    {
     "name": "stdout",
     "output_type": "stream",
     "text": [
      "Epoch [1/100], Step [60/60], Loss: 162.4889\n",
      "Epoch [11/100], Step [60/60], Loss: 75.4549\n",
      "Epoch [21/100], Step [60/60], Loss: 21.7188\n",
      "Epoch [31/100], Step [60/60], Loss: 7.8957\n",
      "Epoch [41/100], Step [60/60], Loss: 3.7117\n",
      "Epoch [51/100], Step [60/60], Loss: 0.7820\n",
      "Epoch [61/100], Step [60/60], Loss: 0.4399\n",
      "Epoch [71/100], Step [60/60], Loss: 0.1646\n",
      "Epoch [81/100], Step [60/60], Loss: 0.1192\n",
      "Epoch [91/100], Step [60/60], Loss: 0.0946\n",
      "Finished Training\n",
      "Commence calculations...\n",
      "Accuracy: 99.99583350693722 %\n",
      "Accuracy: 99.98333611064822 %\n",
      "Results: [0.99995834 0.99983336 0.        ]\n",
      "Dataset size: 3000 \n",
      "Window size: 20 \n",
      "Image: (110, 120)\n",
      "Memory needed: 0.74 GB\n",
      "LOADED DATASET...\n",
      "Memory left 23.59 GB\n",
      "(3000, 4, 110, 120) (3000, 1, 440, 120)\n",
      "Using 1.18 GB\n",
      "torch.Size([3000, 1, 440, 120])\n",
      "torch.Size([3000, 15])\n"
     ]
    },
    {
     "name": "stderr",
     "output_type": "stream",
     "text": [
      "/its/home/drs25/RoboSkin/Code/NewRigExperiments/data_format.py:90: UserWarning: To copy construct from a tensor, it is recommended to use sourceTensor.clone().detach() or sourceTensor.clone().detach().requires_grad_(True), rather than torch.tensor(sourceTensor).\n",
      "  train_labels_tensor = torch.tensor(one_hot_labels, dtype=torch.float32).to(device)\n"
     ]
    },
    {
     "name": "stdout",
     "output_type": "stream",
     "text": [
      "Epoch [1/100], Step [60/60], Loss: 162.3618\n",
      "Epoch [11/100], Step [60/60], Loss: 69.3105\n",
      "Epoch [21/100], Step [60/60], Loss: 16.3238\n",
      "Epoch [31/100], Step [60/60], Loss: 6.3111\n",
      "Epoch [41/100], Step [60/60], Loss: 2.9228\n",
      "Epoch [51/100], Step [60/60], Loss: 0.4994\n",
      "Epoch [61/100], Step [60/60], Loss: 0.2365\n",
      "Epoch [71/100], Step [60/60], Loss: 0.1551\n",
      "Epoch [81/100], Step [60/60], Loss: 0.1101\n",
      "Epoch [91/100], Step [60/60], Loss: 0.0848\n",
      "Finished Training\n",
      "Commence calculations...\n",
      "Accuracy: 99.99583350693722 %\n",
      "Accuracy: 99.98333611064822 %\n",
      "Results: [0.99995834 0.99983336 0.        ]\n",
      "Dataset size: 3000 \n",
      "Window size: 20 \n",
      "Image: (110, 120)\n",
      "Memory needed: 0.74 GB\n",
      "LOADED DATASET...\n",
      "Memory left 23.59 GB\n",
      "(3000, 4, 110, 120) (3000, 1, 440, 120)\n",
      "Using 1.18 GB\n",
      "torch.Size([3000, 1, 440, 120])\n",
      "torch.Size([3000, 15])\n"
     ]
    },
    {
     "name": "stderr",
     "output_type": "stream",
     "text": [
      "/its/home/drs25/RoboSkin/Code/NewRigExperiments/data_format.py:90: UserWarning: To copy construct from a tensor, it is recommended to use sourceTensor.clone().detach() or sourceTensor.clone().detach().requires_grad_(True), rather than torch.tensor(sourceTensor).\n",
      "  train_labels_tensor = torch.tensor(one_hot_labels, dtype=torch.float32).to(device)\n"
     ]
    },
    {
     "name": "stdout",
     "output_type": "stream",
     "text": [
      "Epoch [1/100], Step [60/60], Loss: 162.4902\n",
      "Epoch [11/100], Step [60/60], Loss: 91.8821\n",
      "Epoch [21/100], Step [60/60], Loss: 22.6655\n",
      "Epoch [31/100], Step [60/60], Loss: 6.7405\n",
      "Epoch [41/100], Step [60/60], Loss: 1.7977\n",
      "Epoch [51/100], Step [60/60], Loss: 0.4018\n",
      "Epoch [61/100], Step [60/60], Loss: 0.2237\n",
      "Epoch [71/100], Step [60/60], Loss: 0.1481\n",
      "Epoch [81/100], Step [60/60], Loss: 0.1092\n",
      "Epoch [91/100], Step [60/60], Loss: 0.0889\n",
      "Finished Training\n",
      "Commence calculations...\n",
      "Accuracy: 99.99583350693722 %\n",
      "Accuracy: 99.98333611064822 %\n",
      "Results: [0.99995834 0.99983336 0.        ]\n",
      "Dataset size: 3000 \n",
      "Window size: 20 \n",
      "Image: (110, 120)\n",
      "Memory needed: 0.74 GB\n",
      "LOADED DATASET...\n",
      "Memory left 23.59 GB\n",
      "(3000, 4, 110, 120) (3000, 1, 440, 120)\n",
      "Using 1.18 GB\n",
      "torch.Size([3000, 1, 440, 120])\n",
      "torch.Size([3000, 15])\n"
     ]
    },
    {
     "name": "stderr",
     "output_type": "stream",
     "text": [
      "/its/home/drs25/RoboSkin/Code/NewRigExperiments/data_format.py:90: UserWarning: To copy construct from a tensor, it is recommended to use sourceTensor.clone().detach() or sourceTensor.clone().detach().requires_grad_(True), rather than torch.tensor(sourceTensor).\n",
      "  train_labels_tensor = torch.tensor(one_hot_labels, dtype=torch.float32).to(device)\n"
     ]
    },
    {
     "name": "stdout",
     "output_type": "stream",
     "text": [
      "Epoch [1/100], Step [60/60], Loss: 162.2151\n",
      "Epoch [11/100], Step [60/60], Loss: 57.6812\n",
      "Epoch [21/100], Step [60/60], Loss: 17.3167\n",
      "Epoch [31/100], Step [60/60], Loss: 6.4141\n",
      "Epoch [41/100], Step [60/60], Loss: 2.4665\n",
      "Epoch [51/100], Step [60/60], Loss: 0.5338\n",
      "Epoch [61/100], Step [60/60], Loss: 0.2119\n",
      "Epoch [71/100], Step [60/60], Loss: 0.1409\n",
      "Epoch [81/100], Step [60/60], Loss: 0.1041\n",
      "Epoch [91/100], Step [60/60], Loss: 0.0820\n",
      "Finished Training\n",
      "Commence calculations...\n",
      "Accuracy: 99.99583350693722 %\n",
      "Accuracy: 99.98333611064822 %\n",
      "Results: [0.99995834 0.99983336 0.        ]\n",
      "Dataset size: 3000 \n",
      "Window size: 20 \n",
      "Image: (110, 120)\n",
      "Memory needed: 0.74 GB\n",
      "LOADED DATASET...\n",
      "Memory left 23.59 GB\n",
      "(3000, 4, 110, 120) (3000, 1, 440, 120)\n",
      "Using 1.18 GB\n",
      "torch.Size([3000, 1, 440, 120])\n",
      "torch.Size([3000, 15])\n"
     ]
    },
    {
     "name": "stderr",
     "output_type": "stream",
     "text": [
      "/its/home/drs25/RoboSkin/Code/NewRigExperiments/data_format.py:90: UserWarning: To copy construct from a tensor, it is recommended to use sourceTensor.clone().detach() or sourceTensor.clone().detach().requires_grad_(True), rather than torch.tensor(sourceTensor).\n",
      "  train_labels_tensor = torch.tensor(one_hot_labels, dtype=torch.float32).to(device)\n"
     ]
    },
    {
     "name": "stdout",
     "output_type": "stream",
     "text": [
      "Epoch [1/100], Step [60/60], Loss: 162.1919\n",
      "Epoch [11/100], Step [60/60], Loss: 63.0405\n",
      "Epoch [21/100], Step [60/60], Loss: 16.7646\n",
      "Epoch [31/100], Step [60/60], Loss: 6.3649\n",
      "Epoch [41/100], Step [60/60], Loss: 2.2783\n",
      "Epoch [51/100], Step [60/60], Loss: 0.6024\n",
      "Epoch [61/100], Step [60/60], Loss: 0.2183\n",
      "Epoch [71/100], Step [60/60], Loss: 0.1572\n",
      "Epoch [81/100], Step [60/60], Loss: 0.1122\n",
      "Epoch [91/100], Step [60/60], Loss: 0.0862\n",
      "Finished Training\n",
      "Commence calculations...\n",
      "Accuracy: 99.99583350693722 %\n",
      "Accuracy: 99.98333611064822 %\n",
      "Results: [0.99995834 0.99983336 0.        ]\n",
      "Dataset size: 3000 \n",
      "Window size: 20 \n",
      "Image: (110, 120)\n",
      "Memory needed: 0.74 GB\n",
      "LOADED DATASET...\n",
      "Memory left 23.59 GB\n",
      "(3000, 4, 110, 120) (3000, 1, 440, 120)\n",
      "Using 1.18 GB\n",
      "torch.Size([3000, 1, 440, 120])\n",
      "torch.Size([3000, 15])\n"
     ]
    },
    {
     "name": "stderr",
     "output_type": "stream",
     "text": [
      "/its/home/drs25/RoboSkin/Code/NewRigExperiments/data_format.py:90: UserWarning: To copy construct from a tensor, it is recommended to use sourceTensor.clone().detach() or sourceTensor.clone().detach().requires_grad_(True), rather than torch.tensor(sourceTensor).\n",
      "  train_labels_tensor = torch.tensor(one_hot_labels, dtype=torch.float32).to(device)\n"
     ]
    },
    {
     "name": "stdout",
     "output_type": "stream",
     "text": [
      "Epoch [1/100], Step [60/60], Loss: 162.1014\n",
      "Epoch [11/100], Step [60/60], Loss: 62.3620\n",
      "Epoch [21/100], Step [60/60], Loss: 18.1854\n",
      "Epoch [31/100], Step [60/60], Loss: 7.6676\n",
      "Epoch [41/100], Step [60/60], Loss: 3.4789\n",
      "Epoch [51/100], Step [60/60], Loss: 0.5110\n",
      "Epoch [61/100], Step [60/60], Loss: 0.2432\n",
      "Epoch [71/100], Step [60/60], Loss: 0.1554\n",
      "Epoch [81/100], Step [60/60], Loss: 0.1171\n",
      "Epoch [91/100], Step [60/60], Loss: 0.0894\n",
      "Finished Training\n",
      "Commence calculations...\n",
      "Accuracy: 99.99583350693722 %\n",
      "Accuracy: 99.98333611064822 %\n",
      "Results: [0.99995834 0.99983336 0.        ]\n",
      "Dataset size: 3000 \n",
      "Window size: 20 \n",
      "Image: (110, 120)\n",
      "Memory needed: 0.74 GB\n",
      "LOADED DATASET...\n",
      "Memory left 23.59 GB\n",
      "(3000, 4, 110, 120) (3000, 1, 440, 120)\n",
      "Using 1.18 GB\n",
      "torch.Size([3000, 1, 440, 120])\n",
      "torch.Size([3000, 15])\n"
     ]
    },
    {
     "name": "stderr",
     "output_type": "stream",
     "text": [
      "/its/home/drs25/RoboSkin/Code/NewRigExperiments/data_format.py:90: UserWarning: To copy construct from a tensor, it is recommended to use sourceTensor.clone().detach() or sourceTensor.clone().detach().requires_grad_(True), rather than torch.tensor(sourceTensor).\n",
      "  train_labels_tensor = torch.tensor(one_hot_labels, dtype=torch.float32).to(device)\n"
     ]
    },
    {
     "name": "stdout",
     "output_type": "stream",
     "text": [
      "Epoch [1/100], Step [60/60], Loss: 162.3435\n",
      "Epoch [11/100], Step [60/60], Loss: 66.9873\n",
      "Epoch [21/100], Step [60/60], Loss: 18.1561\n",
      "Epoch [31/100], Step [60/60], Loss: 7.5892\n",
      "Epoch [41/100], Step [60/60], Loss: 2.9883\n",
      "Epoch [51/100], Step [60/60], Loss: 0.7423\n",
      "Epoch [61/100], Step [60/60], Loss: 0.3408\n",
      "Epoch [71/100], Step [60/60], Loss: 0.1613\n",
      "Epoch [81/100], Step [60/60], Loss: 0.1149\n",
      "Epoch [91/100], Step [60/60], Loss: 0.0897\n",
      "Finished Training\n",
      "Commence calculations...\n",
      "Accuracy: 99.99583350693722 %\n",
      "Accuracy: 99.98333611064822 %\n",
      "Results: [0.99995834 0.99983336 0.        ]\n",
      "Dataset size: 3000 \n",
      "Window size: 20 \n",
      "Image: (110, 120)\n",
      "Memory needed: 0.74 GB\n",
      "LOADED DATASET...\n",
      "Memory left 23.59 GB\n",
      "(3000, 4, 110, 120) (3000, 1, 440, 120)\n",
      "Using 1.18 GB\n",
      "torch.Size([3000, 1, 440, 120])\n",
      "torch.Size([3000, 15])\n"
     ]
    },
    {
     "name": "stderr",
     "output_type": "stream",
     "text": [
      "/its/home/drs25/RoboSkin/Code/NewRigExperiments/data_format.py:90: UserWarning: To copy construct from a tensor, it is recommended to use sourceTensor.clone().detach() or sourceTensor.clone().detach().requires_grad_(True), rather than torch.tensor(sourceTensor).\n",
      "  train_labels_tensor = torch.tensor(one_hot_labels, dtype=torch.float32).to(device)\n"
     ]
    },
    {
     "name": "stdout",
     "output_type": "stream",
     "text": [
      "Epoch [1/100], Step [60/60], Loss: 162.3992\n",
      "Epoch [11/100], Step [60/60], Loss: 71.8974\n",
      "Epoch [21/100], Step [60/60], Loss: 19.2036\n",
      "Epoch [31/100], Step [60/60], Loss: 6.0861\n",
      "Epoch [41/100], Step [60/60], Loss: 2.1769\n",
      "Epoch [51/100], Step [60/60], Loss: 0.4970\n",
      "Epoch [61/100], Step [60/60], Loss: 0.2229\n",
      "Epoch [71/100], Step [60/60], Loss: 0.1436\n",
      "Epoch [81/100], Step [60/60], Loss: 0.1043\n",
      "Epoch [91/100], Step [60/60], Loss: 0.0834\n",
      "Finished Training\n",
      "Commence calculations...\n",
      "Accuracy: 99.99583350693722 %\n",
      "Accuracy: 99.98333611064822 %\n",
      "Results: [0.99995834 0.99983336 0.        ]\n",
      "Dataset size: 3000 \n",
      "Window size: 20 \n",
      "Image: (110, 120)\n",
      "Memory needed: 0.74 GB\n",
      "LOADED DATASET...\n",
      "Memory left 23.59 GB\n",
      "(3000, 4, 110, 120) (3000, 1, 440, 120)\n",
      "Using 1.18 GB\n",
      "torch.Size([3000, 1, 440, 120])\n",
      "torch.Size([3000, 15])\n"
     ]
    },
    {
     "name": "stderr",
     "output_type": "stream",
     "text": [
      "/its/home/drs25/RoboSkin/Code/NewRigExperiments/data_format.py:90: UserWarning: To copy construct from a tensor, it is recommended to use sourceTensor.clone().detach() or sourceTensor.clone().detach().requires_grad_(True), rather than torch.tensor(sourceTensor).\n",
      "  train_labels_tensor = torch.tensor(one_hot_labels, dtype=torch.float32).to(device)\n"
     ]
    },
    {
     "name": "stdout",
     "output_type": "stream",
     "text": [
      "Epoch [1/100], Step [60/60], Loss: 162.0947\n",
      "Epoch [11/100], Step [60/60], Loss: 66.0610\n",
      "Epoch [21/100], Step [60/60], Loss: 19.0809\n",
      "Epoch [31/100], Step [60/60], Loss: 7.0039\n",
      "Epoch [41/100], Step [60/60], Loss: 3.3974\n",
      "Epoch [51/100], Step [60/60], Loss: 0.9491\n",
      "Epoch [61/100], Step [60/60], Loss: 0.2532\n",
      "Epoch [71/100], Step [60/60], Loss: 0.1655\n",
      "Epoch [81/100], Step [60/60], Loss: 0.1151\n",
      "Epoch [91/100], Step [60/60], Loss: 0.0915\n",
      "Finished Training\n",
      "Commence calculations...\n",
      "Accuracy: 99.99583350693722 %\n",
      "Accuracy: 99.98333611064822 %\n",
      "Results: [0.99995834 0.99983336 0.        ]\n",
      "Dataset size: 3000 \n",
      "Window size: 20 \n",
      "Image: (110, 120)\n",
      "Memory needed: 0.74 GB\n",
      "LOADED DATASET...\n",
      "Memory left 23.59 GB\n",
      "(3000, 4, 110, 120) (3000, 1, 440, 120)\n",
      "Using 1.18 GB\n",
      "torch.Size([3000, 1, 440, 120])\n",
      "torch.Size([3000, 15])\n"
     ]
    },
    {
     "name": "stderr",
     "output_type": "stream",
     "text": [
      "/its/home/drs25/RoboSkin/Code/NewRigExperiments/data_format.py:90: UserWarning: To copy construct from a tensor, it is recommended to use sourceTensor.clone().detach() or sourceTensor.clone().detach().requires_grad_(True), rather than torch.tensor(sourceTensor).\n",
      "  train_labels_tensor = torch.tensor(one_hot_labels, dtype=torch.float32).to(device)\n"
     ]
    },
    {
     "name": "stdout",
     "output_type": "stream",
     "text": [
      "Epoch [1/100], Step [60/60], Loss: 162.1230\n",
      "Epoch [11/100], Step [60/60], Loss: 62.2428\n",
      "Epoch [21/100], Step [60/60], Loss: 18.7486\n",
      "Epoch [31/100], Step [60/60], Loss: 7.2103\n",
      "Epoch [41/100], Step [60/60], Loss: 2.6880\n",
      "Epoch [51/100], Step [60/60], Loss: 0.5091\n",
      "Epoch [61/100], Step [60/60], Loss: 0.2447\n",
      "Epoch [71/100], Step [60/60], Loss: 0.1567\n",
      "Epoch [81/100], Step [60/60], Loss: 0.1115\n",
      "Epoch [91/100], Step [60/60], Loss: 0.0897\n",
      "Finished Training\n",
      "Commence calculations...\n",
      "Accuracy: 99.99583350693722 %\n",
      "Accuracy: 99.98333611064822 %\n",
      "Results: [0.99995834 0.99983336 0.        ]\n",
      "Dataset size: 3000 \n",
      "Window size: 20 \n",
      "Image: (110, 120)\n",
      "Memory needed: 0.74 GB\n",
      "LOADED DATASET...\n",
      "Memory left 23.59 GB\n",
      "(3000, 4, 110, 120) (3000, 1, 440, 120)\n",
      "Using 1.18 GB\n",
      "torch.Size([3000, 1, 440, 120])\n",
      "torch.Size([3000, 15])\n"
     ]
    },
    {
     "name": "stderr",
     "output_type": "stream",
     "text": [
      "/its/home/drs25/RoboSkin/Code/NewRigExperiments/data_format.py:90: UserWarning: To copy construct from a tensor, it is recommended to use sourceTensor.clone().detach() or sourceTensor.clone().detach().requires_grad_(True), rather than torch.tensor(sourceTensor).\n",
      "  train_labels_tensor = torch.tensor(one_hot_labels, dtype=torch.float32).to(device)\n"
     ]
    },
    {
     "name": "stdout",
     "output_type": "stream",
     "text": [
      "Epoch [1/100], Step [60/60], Loss: 162.2398\n",
      "Epoch [11/100], Step [60/60], Loss: 61.3003\n",
      "Epoch [21/100], Step [60/60], Loss: 15.8042\n",
      "Epoch [31/100], Step [60/60], Loss: 6.3282\n",
      "Epoch [41/100], Step [60/60], Loss: 2.2590\n",
      "Epoch [51/100], Step [60/60], Loss: 0.5132\n",
      "Epoch [61/100], Step [60/60], Loss: 0.2039\n",
      "Epoch [71/100], Step [60/60], Loss: 0.1449\n",
      "Epoch [81/100], Step [60/60], Loss: 0.1033\n",
      "Epoch [91/100], Step [60/60], Loss: 0.0808\n",
      "Finished Training\n",
      "Commence calculations...\n",
      "Accuracy: 99.99583350693722 %\n",
      "Accuracy: 99.98333611064822 %\n",
      "Results: [0.99995834 0.99983336 0.        ]\n"
     ]
    }
   ],
   "source": [
    "acc=np.zeros((num_trials,3)) #train,test,noisy\n",
    "\n",
    "for i in range(num_trials):\n",
    "    data=loaded(t=T_SIZE,filename=\"X_data_15.npz\")\n",
    "    data.applySobel()\n",
    "    data.shuffle()\n",
    "    data.X=data.X[0:15000]\n",
    "    data.y=data.y[0:15000]\n",
    "    train_loader,test_loader=org_data(data,(len(data.X),1,T_SIZE*data.X.shape[2],data.X.shape[3]))\n",
    "    model,history=run(train_loader,0,4,num_epochs = EPOCHS)\n",
    "    print(\"Commence calculations...\")\n",
    "    acc[i][0]=calc(model,train_loader)\n",
    "    acc[i][1]=calc(model,test_loader)\n",
    "    preds=model(test_data_sliced_tensor)\n",
    "    acc[i][2]=calc_noisy(preds,labels)\n",
    "    print(\"Results:\",acc[i])\n",
    "np.save(path+\"/data/20_TRIALS_CNN_NO_AUGMENTATION\",acc)"
   ]
  },
  {
   "attachments": {},
   "cell_type": "markdown",
   "metadata": {},
   "source": [
    "### different starts"
   ]
  },
  {
   "cell_type": "code",
   "execution_count": 37,
   "metadata": {},
   "outputs": [
    {
     "name": "stdout",
     "output_type": "stream",
     "text": [
      "Dataset size: 3000 \n",
      "Window size: 20 \n",
      "Image: (110, 120)\n",
      "Memory needed: 0.74 GB\n",
      "LOADED DATASET...\n",
      "Memory left 23.59 GB\n",
      "(15000, 4, 110, 120) (15000, 1, 440, 120)\n",
      "Using 5.9 GB\n",
      "torch.Size([15000, 1, 440, 120])\n",
      "torch.Size([15000, 15])\n"
     ]
    },
    {
     "name": "stderr",
     "output_type": "stream",
     "text": [
      "/its/home/drs25/RoboSkin/Code/NewRigExperiments/data_format.py:90: UserWarning: To copy construct from a tensor, it is recommended to use sourceTensor.clone().detach() or sourceTensor.clone().detach().requires_grad_(True), rather than torch.tensor(sourceTensor).\n",
      "  train_labels_tensor = torch.tensor(one_hot_labels, dtype=torch.float32).to(device)\n"
     ]
    },
    {
     "name": "stdout",
     "output_type": "stream",
     "text": [
      "Epoch [1/100], Step [300/300], Loss: 233.2946\n",
      "Epoch [11/100], Step [300/300], Loss: 54.0207\n",
      "Epoch [21/100], Step [300/300], Loss: 7.7764\n",
      "Epoch [31/100], Step [300/300], Loss: 2.8667\n",
      "Epoch [41/100], Step [300/300], Loss: 1.2364\n",
      "Epoch [51/100], Step [300/300], Loss: 0.6719\n",
      "Epoch [61/100], Step [300/300], Loss: 0.4180\n",
      "Epoch [71/100], Step [300/300], Loss: 0.2379\n",
      "Epoch [81/100], Step [300/300], Loss: 0.1213\n",
      "Epoch [91/100], Step [300/300], Loss: 0.0976\n",
      "Finished Training\n",
      "Commence calculations...\n",
      "Accuracy: 99.99916667361106 %\n",
      "Accuracy: 99.99666677777408 %\n",
      "Results: [0.99999167 0.99996667 0.        ]\n",
      "Dataset size: 3000 \n",
      "Window size: 20 \n",
      "Image: (110, 120)\n",
      "Memory needed: 0.74 GB\n",
      "LOADED DATASET...\n",
      "Memory left 23.59 GB\n",
      "(15000, 4, 110, 120) (15000, 1, 440, 120)\n",
      "Using 5.9 GB\n",
      "torch.Size([15000, 1, 440, 120])\n",
      "torch.Size([15000, 15])\n"
     ]
    },
    {
     "name": "stderr",
     "output_type": "stream",
     "text": [
      "/its/home/drs25/RoboSkin/Code/NewRigExperiments/data_format.py:90: UserWarning: To copy construct from a tensor, it is recommended to use sourceTensor.clone().detach() or sourceTensor.clone().detach().requires_grad_(True), rather than torch.tensor(sourceTensor).\n",
      "  train_labels_tensor = torch.tensor(one_hot_labels, dtype=torch.float32).to(device)\n"
     ]
    },
    {
     "name": "stdout",
     "output_type": "stream",
     "text": [
      "Epoch [1/100], Step [300/300], Loss: 288.2931\n",
      "Epoch [11/100], Step [300/300], Loss: 55.8686\n",
      "Epoch [21/100], Step [300/300], Loss: 8.1964\n",
      "Epoch [31/100], Step [300/300], Loss: 2.7310\n",
      "Epoch [41/100], Step [300/300], Loss: 1.0827\n",
      "Epoch [51/100], Step [300/300], Loss: 0.4528\n",
      "Epoch [61/100], Step [300/300], Loss: 0.3275\n",
      "Epoch [71/100], Step [300/300], Loss: 0.1810\n",
      "Epoch [81/100], Step [300/300], Loss: 0.1389\n",
      "Epoch [91/100], Step [300/300], Loss: 0.1006\n",
      "Finished Training\n",
      "Commence calculations...\n",
      "Accuracy: 99.99916667361106 %\n",
      "Accuracy: 99.99666677777408 %\n",
      "Results: [0.99999167 0.99996667 0.        ]\n",
      "Dataset size: 3000 \n",
      "Window size: 20 \n",
      "Image: (110, 120)\n",
      "Memory needed: 0.74 GB\n",
      "LOADED DATASET...\n",
      "Memory left 23.59 GB\n",
      "(15000, 4, 110, 120) (15000, 1, 440, 120)\n",
      "Using 5.9 GB\n",
      "torch.Size([15000, 1, 440, 120])\n",
      "torch.Size([15000, 15])\n"
     ]
    },
    {
     "name": "stderr",
     "output_type": "stream",
     "text": [
      "/its/home/drs25/RoboSkin/Code/NewRigExperiments/data_format.py:90: UserWarning: To copy construct from a tensor, it is recommended to use sourceTensor.clone().detach() or sourceTensor.clone().detach().requires_grad_(True), rather than torch.tensor(sourceTensor).\n",
      "  train_labels_tensor = torch.tensor(one_hot_labels, dtype=torch.float32).to(device)\n"
     ]
    },
    {
     "name": "stdout",
     "output_type": "stream",
     "text": [
      "Epoch [1/100], Step [300/300], Loss: 234.2857\n",
      "Epoch [11/100], Step [300/300], Loss: 41.5351\n",
      "Epoch [21/100], Step [300/300], Loss: 7.1912\n",
      "Epoch [31/100], Step [300/300], Loss: 2.2396\n",
      "Epoch [41/100], Step [300/300], Loss: 0.7635\n",
      "Epoch [51/100], Step [300/300], Loss: 0.6012\n",
      "Epoch [61/100], Step [300/300], Loss: 0.2560\n",
      "Epoch [71/100], Step [300/300], Loss: 0.1994\n",
      "Epoch [81/100], Step [300/300], Loss: 0.1353\n",
      "Epoch [91/100], Step [300/300], Loss: 0.1201\n",
      "Finished Training\n",
      "Commence calculations...\n",
      "Accuracy: 99.99916667361106 %\n",
      "Accuracy: 99.99666677777408 %\n",
      "Results: [0.99999167 0.99996667 0.        ]\n",
      "Dataset size: 3000 \n",
      "Window size: 20 \n",
      "Image: (110, 120)\n",
      "Memory needed: 0.74 GB\n",
      "LOADED DATASET...\n",
      "Memory left 23.59 GB\n",
      "(15000, 4, 110, 120) (15000, 1, 440, 120)\n",
      "Using 5.9 GB\n",
      "torch.Size([15000, 1, 440, 120])\n",
      "torch.Size([15000, 15])\n"
     ]
    },
    {
     "name": "stderr",
     "output_type": "stream",
     "text": [
      "/its/home/drs25/RoboSkin/Code/NewRigExperiments/data_format.py:90: UserWarning: To copy construct from a tensor, it is recommended to use sourceTensor.clone().detach() or sourceTensor.clone().detach().requires_grad_(True), rather than torch.tensor(sourceTensor).\n",
      "  train_labels_tensor = torch.tensor(one_hot_labels, dtype=torch.float32).to(device)\n"
     ]
    },
    {
     "name": "stdout",
     "output_type": "stream",
     "text": [
      "Epoch [1/100], Step [300/300], Loss: 298.8751\n",
      "Epoch [11/100], Step [300/300], Loss: 62.6216\n",
      "Epoch [21/100], Step [300/300], Loss: 8.7196\n",
      "Epoch [31/100], Step [300/300], Loss: 3.1493\n",
      "Epoch [41/100], Step [300/300], Loss: 1.2432\n",
      "Epoch [51/100], Step [300/300], Loss: 0.5065\n",
      "Epoch [61/100], Step [300/300], Loss: 0.3997\n",
      "Epoch [71/100], Step [300/300], Loss: 0.2014\n",
      "Epoch [81/100], Step [300/300], Loss: 0.1569\n",
      "Epoch [91/100], Step [300/300], Loss: 0.1214\n",
      "Finished Training\n",
      "Commence calculations...\n",
      "Accuracy: 99.99916667361106 %\n",
      "Accuracy: 99.99666677777408 %\n",
      "Results: [0.99999167 0.99996667 0.        ]\n",
      "Dataset size: 3000 \n",
      "Window size: 20 \n",
      "Image: (110, 120)\n",
      "Memory needed: 0.74 GB\n",
      "LOADED DATASET...\n",
      "Memory left 23.59 GB\n",
      "(15000, 4, 110, 120) (15000, 1, 440, 120)\n",
      "Using 5.9 GB\n",
      "torch.Size([15000, 1, 440, 120])\n",
      "torch.Size([15000, 15])\n"
     ]
    },
    {
     "name": "stderr",
     "output_type": "stream",
     "text": [
      "/its/home/drs25/RoboSkin/Code/NewRigExperiments/data_format.py:90: UserWarning: To copy construct from a tensor, it is recommended to use sourceTensor.clone().detach() or sourceTensor.clone().detach().requires_grad_(True), rather than torch.tensor(sourceTensor).\n",
      "  train_labels_tensor = torch.tensor(one_hot_labels, dtype=torch.float32).to(device)\n"
     ]
    },
    {
     "name": "stdout",
     "output_type": "stream",
     "text": [
      "Epoch [1/100], Step [300/300], Loss: 268.7827\n",
      "Epoch [11/100], Step [300/300], Loss: 56.5739\n",
      "Epoch [21/100], Step [300/300], Loss: 7.8086\n",
      "Epoch [31/100], Step [300/300], Loss: 2.7328\n",
      "Epoch [41/100], Step [300/300], Loss: 1.1650\n",
      "Epoch [51/100], Step [300/300], Loss: 0.4939\n",
      "Epoch [61/100], Step [300/300], Loss: 0.3600\n",
      "Epoch [71/100], Step [300/300], Loss: 0.1758\n",
      "Epoch [81/100], Step [300/300], Loss: 0.1232\n",
      "Epoch [91/100], Step [300/300], Loss: 0.1008\n",
      "Finished Training\n",
      "Commence calculations...\n",
      "Accuracy: 99.99916667361106 %\n",
      "Accuracy: 99.99666677777408 %\n",
      "Results: [0.99999167 0.99996667 0.        ]\n",
      "Dataset size: 3000 \n",
      "Window size: 20 \n",
      "Image: (110, 120)\n",
      "Memory needed: 0.74 GB\n",
      "LOADED DATASET...\n",
      "Memory left 23.59 GB\n",
      "(15000, 4, 110, 120) (15000, 1, 440, 120)\n",
      "Using 5.9 GB\n",
      "torch.Size([15000, 1, 440, 120])\n",
      "torch.Size([15000, 15])\n"
     ]
    },
    {
     "name": "stderr",
     "output_type": "stream",
     "text": [
      "/its/home/drs25/RoboSkin/Code/NewRigExperiments/data_format.py:90: UserWarning: To copy construct from a tensor, it is recommended to use sourceTensor.clone().detach() or sourceTensor.clone().detach().requires_grad_(True), rather than torch.tensor(sourceTensor).\n",
      "  train_labels_tensor = torch.tensor(one_hot_labels, dtype=torch.float32).to(device)\n"
     ]
    },
    {
     "name": "stdout",
     "output_type": "stream",
     "text": [
      "Epoch [1/100], Step [300/300], Loss: 287.4970\n",
      "Epoch [11/100], Step [300/300], Loss: 49.2812\n",
      "Epoch [21/100], Step [300/300], Loss: 7.1049\n",
      "Epoch [31/100], Step [300/300], Loss: 2.5104\n",
      "Epoch [41/100], Step [300/300], Loss: 1.0610\n",
      "Epoch [51/100], Step [300/300], Loss: 0.4807\n",
      "Epoch [61/100], Step [300/300], Loss: 0.3475\n",
      "Epoch [71/100], Step [300/300], Loss: 0.1808\n",
      "Epoch [81/100], Step [300/300], Loss: 0.1386\n",
      "Epoch [91/100], Step [300/300], Loss: 0.1048\n",
      "Finished Training\n",
      "Commence calculations...\n",
      "Accuracy: 99.99916667361106 %\n",
      "Accuracy: 99.99666677777408 %\n",
      "Results: [0.99999167 0.99996667 0.        ]\n",
      "Dataset size: 3000 \n",
      "Window size: 20 \n",
      "Image: (110, 120)\n",
      "Memory needed: 0.74 GB\n",
      "LOADED DATASET...\n",
      "Memory left 23.59 GB\n",
      "(15000, 4, 110, 120) (15000, 1, 440, 120)\n",
      "Using 5.9 GB\n",
      "torch.Size([15000, 1, 440, 120])\n",
      "torch.Size([15000, 15])\n"
     ]
    },
    {
     "name": "stderr",
     "output_type": "stream",
     "text": [
      "/its/home/drs25/RoboSkin/Code/NewRigExperiments/data_format.py:90: UserWarning: To copy construct from a tensor, it is recommended to use sourceTensor.clone().detach() or sourceTensor.clone().detach().requires_grad_(True), rather than torch.tensor(sourceTensor).\n",
      "  train_labels_tensor = torch.tensor(one_hot_labels, dtype=torch.float32).to(device)\n"
     ]
    },
    {
     "name": "stdout",
     "output_type": "stream",
     "text": [
      "Epoch [1/100], Step [300/300], Loss: 237.3045\n",
      "Epoch [11/100], Step [300/300], Loss: 35.3902\n",
      "Epoch [21/100], Step [300/300], Loss: 5.5925\n",
      "Epoch [31/100], Step [300/300], Loss: 1.8040\n",
      "Epoch [41/100], Step [300/300], Loss: 0.7904\n",
      "Epoch [51/100], Step [300/300], Loss: 0.6431\n",
      "Epoch [61/100], Step [300/300], Loss: 0.2139\n",
      "Epoch [71/100], Step [300/300], Loss: 0.1514\n",
      "Epoch [81/100], Step [300/300], Loss: 0.1201\n",
      "Epoch [91/100], Step [300/300], Loss: 0.1013\n",
      "Finished Training\n",
      "Commence calculations...\n",
      "Accuracy: 99.99916667361106 %\n",
      "Accuracy: 99.99666677777408 %\n",
      "Results: [0.99999167 0.99996667 0.        ]\n",
      "Dataset size: 3000 \n",
      "Window size: 20 \n",
      "Image: (110, 120)\n",
      "Memory needed: 0.74 GB\n",
      "LOADED DATASET...\n",
      "Memory left 23.59 GB\n",
      "(15000, 4, 110, 120) (15000, 1, 440, 120)\n",
      "Using 5.9 GB\n",
      "torch.Size([15000, 1, 440, 120])\n",
      "torch.Size([15000, 15])\n"
     ]
    },
    {
     "name": "stderr",
     "output_type": "stream",
     "text": [
      "/its/home/drs25/RoboSkin/Code/NewRigExperiments/data_format.py:90: UserWarning: To copy construct from a tensor, it is recommended to use sourceTensor.clone().detach() or sourceTensor.clone().detach().requires_grad_(True), rather than torch.tensor(sourceTensor).\n",
      "  train_labels_tensor = torch.tensor(one_hot_labels, dtype=torch.float32).to(device)\n"
     ]
    },
    {
     "name": "stdout",
     "output_type": "stream",
     "text": [
      "Epoch [1/100], Step [300/300], Loss: 280.5630\n",
      "Epoch [11/100], Step [300/300], Loss: 50.9945\n",
      "Epoch [21/100], Step [300/300], Loss: 8.2655\n",
      "Epoch [31/100], Step [300/300], Loss: 2.6749\n",
      "Epoch [41/100], Step [300/300], Loss: 1.0596\n",
      "Epoch [51/100], Step [300/300], Loss: 0.4360\n",
      "Epoch [61/100], Step [300/300], Loss: 0.2978\n",
      "Epoch [71/100], Step [300/300], Loss: 0.2509\n",
      "Epoch [81/100], Step [300/300], Loss: 0.2478\n",
      "Epoch [91/100], Step [300/300], Loss: 0.1044\n",
      "Finished Training\n",
      "Commence calculations...\n",
      "Accuracy: 99.99916667361106 %\n",
      "Accuracy: 99.99666677777408 %\n",
      "Results: [0.99999167 0.99996667 0.        ]\n",
      "Dataset size: 3000 \n",
      "Window size: 20 \n",
      "Image: (110, 120)\n",
      "Memory needed: 0.74 GB\n",
      "LOADED DATASET...\n",
      "Memory left 23.59 GB\n",
      "(15000, 4, 110, 120) (15000, 1, 440, 120)\n",
      "Using 5.9 GB\n",
      "torch.Size([15000, 1, 440, 120])\n",
      "torch.Size([15000, 15])\n"
     ]
    },
    {
     "name": "stderr",
     "output_type": "stream",
     "text": [
      "/its/home/drs25/RoboSkin/Code/NewRigExperiments/data_format.py:90: UserWarning: To copy construct from a tensor, it is recommended to use sourceTensor.clone().detach() or sourceTensor.clone().detach().requires_grad_(True), rather than torch.tensor(sourceTensor).\n",
      "  train_labels_tensor = torch.tensor(one_hot_labels, dtype=torch.float32).to(device)\n"
     ]
    },
    {
     "name": "stdout",
     "output_type": "stream",
     "text": [
      "Epoch [1/100], Step [300/300], Loss: 245.8284\n",
      "Epoch [11/100], Step [300/300], Loss: 48.3391\n",
      "Epoch [21/100], Step [300/300], Loss: 7.3886\n",
      "Epoch [31/100], Step [300/300], Loss: 2.3059\n",
      "Epoch [41/100], Step [300/300], Loss: 1.0353\n",
      "Epoch [51/100], Step [300/300], Loss: 0.5028\n",
      "Epoch [61/100], Step [300/300], Loss: 0.2175\n",
      "Epoch [71/100], Step [300/300], Loss: 0.1648\n",
      "Epoch [81/100], Step [300/300], Loss: 0.1266\n",
      "Epoch [91/100], Step [300/300], Loss: 0.1007\n",
      "Finished Training\n",
      "Commence calculations...\n",
      "Accuracy: 99.99916667361106 %\n",
      "Accuracy: 99.99666677777408 %\n",
      "Results: [0.99999167 0.99996667 0.        ]\n",
      "Dataset size: 3000 \n",
      "Window size: 20 \n",
      "Image: (110, 120)\n",
      "Memory needed: 0.74 GB\n",
      "LOADED DATASET...\n",
      "Memory left 23.59 GB\n",
      "(15000, 4, 110, 120) (15000, 1, 440, 120)\n",
      "Using 5.9 GB\n",
      "torch.Size([15000, 1, 440, 120])\n",
      "torch.Size([15000, 15])\n"
     ]
    },
    {
     "name": "stderr",
     "output_type": "stream",
     "text": [
      "/its/home/drs25/RoboSkin/Code/NewRigExperiments/data_format.py:90: UserWarning: To copy construct from a tensor, it is recommended to use sourceTensor.clone().detach() or sourceTensor.clone().detach().requires_grad_(True), rather than torch.tensor(sourceTensor).\n",
      "  train_labels_tensor = torch.tensor(one_hot_labels, dtype=torch.float32).to(device)\n"
     ]
    },
    {
     "name": "stdout",
     "output_type": "stream",
     "text": [
      "Epoch [1/100], Step [300/300], Loss: 248.0342\n",
      "Epoch [11/100], Step [300/300], Loss: 28.9127\n",
      "Epoch [21/100], Step [300/300], Loss: 5.4941\n",
      "Epoch [31/100], Step [300/300], Loss: 2.2648\n",
      "Epoch [41/100], Step [300/300], Loss: 0.9294\n",
      "Epoch [51/100], Step [300/300], Loss: 0.4592\n",
      "Epoch [61/100], Step [300/300], Loss: 0.2321\n",
      "Epoch [71/100], Step [300/300], Loss: 0.1534\n",
      "Epoch [81/100], Step [300/300], Loss: 0.1114\n",
      "Epoch [91/100], Step [300/300], Loss: 0.1023\n",
      "Finished Training\n",
      "Commence calculations...\n",
      "Accuracy: 99.99916667361106 %\n",
      "Accuracy: 99.99666677777408 %\n",
      "Results: [0.99999167 0.99996667 0.        ]\n",
      "Dataset size: 3000 \n",
      "Window size: 20 \n",
      "Image: (110, 120)\n",
      "Memory needed: 0.74 GB\n",
      "LOADED DATASET...\n",
      "Memory left 23.59 GB\n",
      "(15000, 4, 110, 120) (15000, 1, 440, 120)\n",
      "Using 5.9 GB\n",
      "torch.Size([15000, 1, 440, 120])\n",
      "torch.Size([15000, 15])\n"
     ]
    },
    {
     "name": "stderr",
     "output_type": "stream",
     "text": [
      "/its/home/drs25/RoboSkin/Code/NewRigExperiments/data_format.py:90: UserWarning: To copy construct from a tensor, it is recommended to use sourceTensor.clone().detach() or sourceTensor.clone().detach().requires_grad_(True), rather than torch.tensor(sourceTensor).\n",
      "  train_labels_tensor = torch.tensor(one_hot_labels, dtype=torch.float32).to(device)\n"
     ]
    },
    {
     "name": "stdout",
     "output_type": "stream",
     "text": [
      "Epoch [1/100], Step [300/300], Loss: 276.9045\n"
     ]
    }
   ],
   "source": [
    "acc=np.zeros((num_trials,3)) #train,test,noisy\n",
    "\n",
    "for i in range(num_trials):\n",
    "    data=loaded(t=20,filename=\"X_data_15.npz\")\n",
    "    data.applySobel()\n",
    "    data.different_starts(t=4)\n",
    "    data.shuffle()\n",
    "    data.X=data.X[0:15000]\n",
    "    data.y=data.y[0:15000]\n",
    "    train_loader,test_loader=org_data(data,(len(data.X),1,T_SIZE*data.X.shape[2],data.X.shape[3]))\n",
    "    model,history=run(train_loader,0,4,num_epochs = EPOCHS)\n",
    "    print(\"Commence calculations...\")\n",
    "    acc[i][0]=calc(model,train_loader)\n",
    "    acc[i][1]=calc(model,test_loader)\n",
    "    preds=model(test_data_sliced_tensor)\n",
    "    acc[i][2]=calc_noisy(preds,labels)\n",
    "    print(\"Results:\",acc[i])\n",
    "np.save(path+\"/data/20_TRIALS_CNN_DIFFERENT_AUGMENTATION\",acc)"
   ]
  },
  {
   "attachments": {},
   "cell_type": "markdown",
   "metadata": {},
   "source": [
    "### all augmentation"
   ]
  },
  {
   "cell_type": "code",
   "execution_count": 24,
   "metadata": {},
   "outputs": [
    {
     "name": "stdout",
     "output_type": "stream",
     "text": [
      "Dataset size: 3000 \n",
      "Window size: 20 \n",
      "Image: (110, 120)\n",
      "Memory needed: 0.74 GB\n",
      "Dataset size: 108000 \n",
      "Window size: 4 \n",
      "Image: (110, 120)\n",
      "Memory needed: 5.31 GB\n",
      "LOADED DATASET...\n",
      "Memory left 23.59 GB\n",
      "(15000, 4, 110, 120) (15000, 1, 440, 120)\n",
      "Using 5.9 GB\n",
      "torch.Size([15000, 1, 440, 120])\n",
      "torch.Size([15000, 15])\n"
     ]
    },
    {
     "name": "stderr",
     "output_type": "stream",
     "text": [
      "/its/home/drs25/RoboSkin/Code/NewRigExperiments/data_format.py:90: UserWarning: To copy construct from a tensor, it is recommended to use sourceTensor.clone().detach() or sourceTensor.clone().detach().requires_grad_(True), rather than torch.tensor(sourceTensor).\n",
      "  train_labels_tensor = torch.tensor(one_hot_labels, dtype=torch.float32).to(device)\n"
     ]
    },
    {
     "name": "stdout",
     "output_type": "stream",
     "text": [
      "Epoch [1/100], Step [300/300], Loss: 812.5735\n",
      "Epoch [11/100], Step [300/300], Loss: 185.3249\n",
      "Epoch [21/100], Step [300/300], Loss: 41.3338\n",
      "Epoch [31/100], Step [300/300], Loss: 16.5446\n",
      "Epoch [41/100], Step [300/300], Loss: 6.7562\n",
      "Epoch [51/100], Step [300/300], Loss: 2.3201\n",
      "Epoch [61/100], Step [300/300], Loss: 1.3317\n",
      "Epoch [71/100], Step [300/300], Loss: 0.6575\n",
      "Epoch [81/100], Step [300/300], Loss: 0.3427\n",
      "Epoch [91/100], Step [300/300], Loss: 0.1603\n",
      "Finished Training\n",
      "Commence calculations...\n",
      "Accuracy: 99.99916667361106 %\n",
      "Accuracy: 99.96333455551482 %\n",
      "Results: [0.99999167 0.99963335 0.        ]\n",
      "Dataset size: 3000 \n",
      "Window size: 20 \n",
      "Image: (110, 120)\n",
      "Memory needed: 0.74 GB\n",
      "Dataset size: 108000 \n",
      "Window size: 4 \n",
      "Image: (110, 120)\n",
      "Memory needed: 5.31 GB\n",
      "LOADED DATASET...\n",
      "Memory left 23.59 GB\n",
      "(15000, 4, 110, 120) (15000, 1, 440, 120)\n",
      "Using 5.9 GB\n",
      "torch.Size([15000, 1, 440, 120])\n",
      "torch.Size([15000, 15])\n"
     ]
    },
    {
     "name": "stderr",
     "output_type": "stream",
     "text": [
      "/its/home/drs25/RoboSkin/Code/NewRigExperiments/data_format.py:90: UserWarning: To copy construct from a tensor, it is recommended to use sourceTensor.clone().detach() or sourceTensor.clone().detach().requires_grad_(True), rather than torch.tensor(sourceTensor).\n",
      "  train_labels_tensor = torch.tensor(one_hot_labels, dtype=torch.float32).to(device)\n"
     ]
    },
    {
     "name": "stdout",
     "output_type": "stream",
     "text": [
      "Epoch [1/100], Step [300/300], Loss: 812.5056\n",
      "Epoch [11/100], Step [300/300], Loss: 170.2980\n",
      "Epoch [21/100], Step [300/300], Loss: 43.2937\n",
      "Epoch [31/100], Step [300/300], Loss: 18.9142\n",
      "Epoch [41/100], Step [300/300], Loss: 8.3716\n",
      "Epoch [51/100], Step [300/300], Loss: 3.1313\n",
      "Epoch [61/100], Step [300/300], Loss: 0.8895\n",
      "Epoch [71/100], Step [300/300], Loss: 0.4573\n",
      "Epoch [81/100], Step [300/300], Loss: 0.2650\n",
      "Epoch [91/100], Step [300/300], Loss: 0.2014\n",
      "Finished Training\n",
      "Commence calculations...\n",
      "Accuracy: 99.99916667361106 %\n",
      "Accuracy: 99.99666677777408 %\n",
      "Results: [0.99999167 0.99996667 0.        ]\n",
      "Dataset size: 3000 \n",
      "Window size: 20 \n",
      "Image: (110, 120)\n",
      "Memory needed: 0.74 GB\n",
      "Dataset size: 108000 \n",
      "Window size: 4 \n",
      "Image: (110, 120)\n",
      "Memory needed: 5.31 GB\n",
      "LOADED DATASET...\n",
      "Memory left 23.59 GB\n",
      "(15000, 4, 110, 120) (15000, 1, 440, 120)\n",
      "Using 5.9 GB\n",
      "torch.Size([15000, 1, 440, 120])\n",
      "torch.Size([15000, 15])\n"
     ]
    },
    {
     "name": "stderr",
     "output_type": "stream",
     "text": [
      "/its/home/drs25/RoboSkin/Code/NewRigExperiments/data_format.py:90: UserWarning: To copy construct from a tensor, it is recommended to use sourceTensor.clone().detach() or sourceTensor.clone().detach().requires_grad_(True), rather than torch.tensor(sourceTensor).\n",
      "  train_labels_tensor = torch.tensor(one_hot_labels, dtype=torch.float32).to(device)\n"
     ]
    },
    {
     "name": "stdout",
     "output_type": "stream",
     "text": [
      "Epoch [1/100], Step [300/300], Loss: 812.3529\n",
      "Epoch [11/100], Step [300/300], Loss: 175.2736\n",
      "Epoch [21/100], Step [300/300], Loss: 42.2568\n",
      "Epoch [31/100], Step [300/300], Loss: 15.8607\n",
      "Epoch [41/100], Step [300/300], Loss: 5.5755\n",
      "Epoch [51/100], Step [300/300], Loss: 2.5979\n",
      "Epoch [61/100], Step [300/300], Loss: 1.4498\n",
      "Epoch [71/100], Step [300/300], Loss: 0.8739\n",
      "Epoch [81/100], Step [300/300], Loss: 0.2981\n",
      "Epoch [91/100], Step [300/300], Loss: 0.1524\n",
      "Finished Training\n",
      "Commence calculations...\n",
      "Accuracy: 99.99916667361106 %\n",
      "Accuracy: 99.8966701109963 %\n",
      "Results: [0.99999167 0.9989667  0.        ]\n",
      "Dataset size: 3000 \n",
      "Window size: 20 \n",
      "Image: (110, 120)\n",
      "Memory needed: 0.74 GB\n",
      "Dataset size: 108000 \n",
      "Window size: 4 \n",
      "Image: (110, 120)\n",
      "Memory needed: 5.31 GB\n",
      "LOADED DATASET...\n",
      "Memory left 23.59 GB\n",
      "(15000, 4, 110, 120) (15000, 1, 440, 120)\n",
      "Using 5.9 GB\n",
      "torch.Size([15000, 1, 440, 120])\n",
      "torch.Size([15000, 15])\n"
     ]
    },
    {
     "name": "stderr",
     "output_type": "stream",
     "text": [
      "/its/home/drs25/RoboSkin/Code/NewRigExperiments/data_format.py:90: UserWarning: To copy construct from a tensor, it is recommended to use sourceTensor.clone().detach() or sourceTensor.clone().detach().requires_grad_(True), rather than torch.tensor(sourceTensor).\n",
      "  train_labels_tensor = torch.tensor(one_hot_labels, dtype=torch.float32).to(device)\n"
     ]
    },
    {
     "name": "stdout",
     "output_type": "stream",
     "text": [
      "Epoch [1/100], Step [300/300], Loss: 812.0562\n",
      "Epoch [11/100], Step [300/300], Loss: 145.7170\n",
      "Epoch [21/100], Step [300/300], Loss: 39.1452\n",
      "Epoch [31/100], Step [300/300], Loss: 15.4437\n",
      "Epoch [41/100], Step [300/300], Loss: 7.2783\n",
      "Epoch [51/100], Step [300/300], Loss: 2.9856\n",
      "Epoch [61/100], Step [300/300], Loss: 0.9724\n",
      "Epoch [71/100], Step [300/300], Loss: 0.6479\n",
      "Epoch [81/100], Step [300/300], Loss: 0.2920\n",
      "Epoch [91/100], Step [300/300], Loss: 0.2446\n",
      "Finished Training\n",
      "Commence calculations...\n",
      "Accuracy: 99.99916667361106 %\n",
      "Accuracy: 99.8966701109963 %\n",
      "Results: [0.99999167 0.9989667  0.        ]\n",
      "Dataset size: 3000 \n",
      "Window size: 20 \n",
      "Image: (110, 120)\n",
      "Memory needed: 0.74 GB\n",
      "Dataset size: 108000 \n",
      "Window size: 4 \n",
      "Image: (110, 120)\n",
      "Memory needed: 5.31 GB\n",
      "LOADED DATASET...\n",
      "Memory left 23.59 GB\n",
      "(15000, 4, 110, 120) (15000, 1, 440, 120)\n",
      "Using 5.9 GB\n",
      "torch.Size([15000, 1, 440, 120])\n",
      "torch.Size([15000, 15])\n"
     ]
    },
    {
     "name": "stderr",
     "output_type": "stream",
     "text": [
      "/its/home/drs25/RoboSkin/Code/NewRigExperiments/data_format.py:90: UserWarning: To copy construct from a tensor, it is recommended to use sourceTensor.clone().detach() or sourceTensor.clone().detach().requires_grad_(True), rather than torch.tensor(sourceTensor).\n",
      "  train_labels_tensor = torch.tensor(one_hot_labels, dtype=torch.float32).to(device)\n"
     ]
    },
    {
     "name": "stdout",
     "output_type": "stream",
     "text": [
      "Epoch [1/100], Step [300/300], Loss: 812.0288\n",
      "Epoch [11/100], Step [300/300], Loss: 152.7195\n",
      "Epoch [21/100], Step [300/300], Loss: 40.9590\n",
      "Epoch [31/100], Step [300/300], Loss: 16.1208\n",
      "Epoch [41/100], Step [300/300], Loss: 7.4269\n",
      "Epoch [51/100], Step [300/300], Loss: 2.2589\n",
      "Epoch [61/100], Step [300/300], Loss: 1.2356\n",
      "Epoch [71/100], Step [300/300], Loss: 0.6214\n",
      "Epoch [81/100], Step [300/300], Loss: 0.6702\n",
      "Epoch [91/100], Step [300/300], Loss: 0.1613\n",
      "Finished Training\n",
      "Commence calculations...\n",
      "Accuracy: 99.99916667361106 %\n",
      "Accuracy: 99.8966701109963 %\n",
      "Results: [0.99999167 0.9989667  0.        ]\n",
      "Dataset size: 3000 \n",
      "Window size: 20 \n",
      "Image: (110, 120)\n",
      "Memory needed: 0.74 GB\n",
      "Dataset size: 108000 \n",
      "Window size: 4 \n",
      "Image: (110, 120)\n",
      "Memory needed: 5.31 GB\n",
      "LOADED DATASET...\n",
      "Memory left 23.59 GB\n",
      "(15000, 4, 110, 120) (15000, 1, 440, 120)\n",
      "Using 5.9 GB\n",
      "torch.Size([15000, 1, 440, 120])\n",
      "torch.Size([15000, 15])\n"
     ]
    },
    {
     "name": "stderr",
     "output_type": "stream",
     "text": [
      "/its/home/drs25/RoboSkin/Code/NewRigExperiments/data_format.py:90: UserWarning: To copy construct from a tensor, it is recommended to use sourceTensor.clone().detach() or sourceTensor.clone().detach().requires_grad_(True), rather than torch.tensor(sourceTensor).\n",
      "  train_labels_tensor = torch.tensor(one_hot_labels, dtype=torch.float32).to(device)\n"
     ]
    },
    {
     "name": "stdout",
     "output_type": "stream",
     "text": [
      "Epoch [1/100], Step [300/300], Loss: 812.7866\n",
      "Epoch [11/100], Step [300/300], Loss: 202.4461\n",
      "Epoch [21/100], Step [300/300], Loss: 47.6155\n",
      "Epoch [31/100], Step [300/300], Loss: 19.4686\n",
      "Epoch [41/100], Step [300/300], Loss: 7.7780\n",
      "Epoch [51/100], Step [300/300], Loss: 2.3357\n",
      "Epoch [61/100], Step [300/300], Loss: 1.2752\n",
      "Epoch [71/100], Step [300/300], Loss: 0.7704\n",
      "Epoch [81/100], Step [300/300], Loss: 0.2262\n",
      "Epoch [91/100], Step [300/300], Loss: 0.1544\n",
      "Finished Training\n",
      "Commence calculations...\n",
      "Accuracy: 99.99916667361106 %\n",
      "Accuracy: 99.93000233325556 %\n",
      "Results: [0.99999167 0.99930002 0.        ]\n",
      "Dataset size: 3000 \n",
      "Window size: 20 \n",
      "Image: (110, 120)\n",
      "Memory needed: 0.74 GB\n",
      "Dataset size: 108000 \n",
      "Window size: 4 \n",
      "Image: (110, 120)\n",
      "Memory needed: 5.31 GB\n",
      "LOADED DATASET...\n",
      "Memory left 23.59 GB\n",
      "(15000, 4, 110, 120) (15000, 1, 440, 120)\n",
      "Using 5.9 GB\n",
      "torch.Size([15000, 1, 440, 120])\n",
      "torch.Size([15000, 15])\n"
     ]
    },
    {
     "name": "stderr",
     "output_type": "stream",
     "text": [
      "/its/home/drs25/RoboSkin/Code/NewRigExperiments/data_format.py:90: UserWarning: To copy construct from a tensor, it is recommended to use sourceTensor.clone().detach() or sourceTensor.clone().detach().requires_grad_(True), rather than torch.tensor(sourceTensor).\n",
      "  train_labels_tensor = torch.tensor(one_hot_labels, dtype=torch.float32).to(device)\n"
     ]
    },
    {
     "name": "stdout",
     "output_type": "stream",
     "text": [
      "Epoch [1/100], Step [300/300], Loss: 812.6195\n",
      "Epoch [11/100], Step [300/300], Loss: 224.0684\n",
      "Epoch [21/100], Step [300/300], Loss: 54.7684\n",
      "Epoch [31/100], Step [300/300], Loss: 19.7013\n",
      "Epoch [41/100], Step [300/300], Loss: 6.2185\n",
      "Epoch [51/100], Step [300/300], Loss: 2.2176\n",
      "Epoch [61/100], Step [300/300], Loss: 0.8601\n",
      "Epoch [71/100], Step [300/300], Loss: 0.3569\n",
      "Epoch [81/100], Step [300/300], Loss: 0.2693\n",
      "Epoch [91/100], Step [300/300], Loss: 0.1695\n",
      "Finished Training\n",
      "Commence calculations...\n",
      "Accuracy: 99.99916667361106 %\n",
      "Accuracy: 99.8966701109963 %\n",
      "Results: [0.99999167 0.9989667  0.        ]\n",
      "Dataset size: 3000 \n",
      "Window size: 20 \n",
      "Image: (110, 120)\n",
      "Memory needed: 0.74 GB\n",
      "Dataset size: 108000 \n",
      "Window size: 4 \n",
      "Image: (110, 120)\n",
      "Memory needed: 5.31 GB\n",
      "LOADED DATASET...\n",
      "Memory left 23.59 GB\n",
      "(15000, 4, 110, 120) (15000, 1, 440, 120)\n",
      "Using 5.9 GB\n",
      "torch.Size([15000, 1, 440, 120])\n",
      "torch.Size([15000, 15])\n"
     ]
    },
    {
     "name": "stderr",
     "output_type": "stream",
     "text": [
      "/its/home/drs25/RoboSkin/Code/NewRigExperiments/data_format.py:90: UserWarning: To copy construct from a tensor, it is recommended to use sourceTensor.clone().detach() or sourceTensor.clone().detach().requires_grad_(True), rather than torch.tensor(sourceTensor).\n",
      "  train_labels_tensor = torch.tensor(one_hot_labels, dtype=torch.float32).to(device)\n"
     ]
    },
    {
     "name": "stdout",
     "output_type": "stream",
     "text": [
      "Epoch [1/100], Step [300/300], Loss: 812.4707\n",
      "Epoch [11/100], Step [300/300], Loss: 187.5321\n",
      "Epoch [21/100], Step [300/300], Loss: 48.0139\n",
      "Epoch [31/100], Step [300/300], Loss: 18.8827\n",
      "Epoch [41/100], Step [300/300], Loss: 8.2157\n",
      "Epoch [51/100], Step [300/300], Loss: 3.9587\n",
      "Epoch [61/100], Step [300/300], Loss: 1.2361\n",
      "Epoch [71/100], Step [300/300], Loss: 0.3448\n",
      "Epoch [81/100], Step [300/300], Loss: 0.2217\n",
      "Epoch [91/100], Step [300/300], Loss: 0.1630\n",
      "Finished Training\n",
      "Commence calculations...\n",
      "Accuracy: 99.99916667361106 %\n",
      "Accuracy: 99.96333455551482 %\n",
      "Results: [0.99999167 0.99963335 0.        ]\n",
      "Dataset size: 3000 \n",
      "Window size: 20 \n",
      "Image: (110, 120)\n",
      "Memory needed: 0.74 GB\n",
      "Dataset size: 108000 \n",
      "Window size: 4 \n",
      "Image: (110, 120)\n",
      "Memory needed: 5.31 GB\n",
      "LOADED DATASET...\n",
      "Memory left 23.59 GB\n",
      "(15000, 4, 110, 120) (15000, 1, 440, 120)\n",
      "Using 5.9 GB\n",
      "torch.Size([15000, 1, 440, 120])\n",
      "torch.Size([15000, 15])\n"
     ]
    },
    {
     "name": "stderr",
     "output_type": "stream",
     "text": [
      "/its/home/drs25/RoboSkin/Code/NewRigExperiments/data_format.py:90: UserWarning: To copy construct from a tensor, it is recommended to use sourceTensor.clone().detach() or sourceTensor.clone().detach().requires_grad_(True), rather than torch.tensor(sourceTensor).\n",
      "  train_labels_tensor = torch.tensor(one_hot_labels, dtype=torch.float32).to(device)\n"
     ]
    },
    {
     "name": "stdout",
     "output_type": "stream",
     "text": [
      "Epoch [1/100], Step [300/300], Loss: 812.7459\n",
      "Epoch [11/100], Step [300/300], Loss: 221.9111\n",
      "Epoch [21/100], Step [300/300], Loss: 46.8711\n",
      "Epoch [31/100], Step [300/300], Loss: 17.1184\n",
      "Epoch [41/100], Step [300/300], Loss: 8.2155\n",
      "Epoch [51/100], Step [300/300], Loss: 3.0087\n",
      "Epoch [61/100], Step [300/300], Loss: 1.2860\n",
      "Epoch [71/100], Step [300/300], Loss: 0.4269\n",
      "Epoch [81/100], Step [300/300], Loss: 0.2671\n",
      "Epoch [91/100], Step [300/300], Loss: 0.1549\n",
      "Finished Training\n",
      "Commence calculations...\n",
      "Accuracy: 99.99916667361106 %\n",
      "Accuracy: 99.96333455551482 %\n",
      "Results: [0.99999167 0.99963335 0.        ]\n",
      "Dataset size: 3000 \n",
      "Window size: 20 \n",
      "Image: (110, 120)\n",
      "Memory needed: 0.74 GB\n",
      "Dataset size: 108000 \n",
      "Window size: 4 \n",
      "Image: (110, 120)\n",
      "Memory needed: 5.31 GB\n",
      "LOADED DATASET...\n",
      "Memory left 23.59 GB\n",
      "(15000, 4, 110, 120) (15000, 1, 440, 120)\n",
      "Using 5.9 GB\n",
      "torch.Size([15000, 1, 440, 120])\n",
      "torch.Size([15000, 15])\n"
     ]
    },
    {
     "name": "stderr",
     "output_type": "stream",
     "text": [
      "/its/home/drs25/RoboSkin/Code/NewRigExperiments/data_format.py:90: UserWarning: To copy construct from a tensor, it is recommended to use sourceTensor.clone().detach() or sourceTensor.clone().detach().requires_grad_(True), rather than torch.tensor(sourceTensor).\n",
      "  train_labels_tensor = torch.tensor(one_hot_labels, dtype=torch.float32).to(device)\n"
     ]
    },
    {
     "name": "stdout",
     "output_type": "stream",
     "text": [
      "Epoch [1/100], Step [300/300], Loss: 812.4227\n",
      "Epoch [11/100], Step [300/300], Loss: 198.8989\n",
      "Epoch [21/100], Step [300/300], Loss: 50.5492\n",
      "Epoch [31/100], Step [300/300], Loss: 20.2454\n",
      "Epoch [41/100], Step [300/300], Loss: 8.7033\n",
      "Epoch [51/100], Step [300/300], Loss: 3.6120\n",
      "Epoch [61/100], Step [300/300], Loss: 1.6188\n",
      "Epoch [71/100], Step [300/300], Loss: 0.6256\n",
      "Epoch [81/100], Step [300/300], Loss: 0.2010\n",
      "Epoch [91/100], Step [300/300], Loss: 0.1567\n",
      "Finished Training\n",
      "Commence calculations...\n",
      "Accuracy: 99.99916667361106 %\n",
      "Accuracy: 99.96333455551482 %\n",
      "Results: [0.99999167 0.99963335 0.        ]\n",
      "Dataset size: 3000 \n",
      "Window size: 20 \n",
      "Image: (110, 120)\n",
      "Memory needed: 0.74 GB\n",
      "Dataset size: 108000 \n",
      "Window size: 4 \n",
      "Image: (110, 120)\n",
      "Memory needed: 5.31 GB\n",
      "LOADED DATASET...\n",
      "Memory left 23.59 GB\n",
      "(15000, 4, 110, 120) (15000, 1, 440, 120)\n",
      "Using 5.9 GB\n",
      "torch.Size([15000, 1, 440, 120])\n",
      "torch.Size([15000, 15])\n"
     ]
    },
    {
     "name": "stderr",
     "output_type": "stream",
     "text": [
      "/its/home/drs25/RoboSkin/Code/NewRigExperiments/data_format.py:90: UserWarning: To copy construct from a tensor, it is recommended to use sourceTensor.clone().detach() or sourceTensor.clone().detach().requires_grad_(True), rather than torch.tensor(sourceTensor).\n",
      "  train_labels_tensor = torch.tensor(one_hot_labels, dtype=torch.float32).to(device)\n"
     ]
    },
    {
     "name": "stdout",
     "output_type": "stream",
     "text": [
      "Epoch [1/100], Step [300/300], Loss: 812.6421\n",
      "Epoch [11/100], Step [300/300], Loss: 221.6436\n",
      "Epoch [21/100], Step [300/300], Loss: 57.1311\n",
      "Epoch [31/100], Step [300/300], Loss: 21.1520\n",
      "Epoch [41/100], Step [300/300], Loss: 8.1261\n",
      "Epoch [51/100], Step [300/300], Loss: 3.3992\n",
      "Epoch [61/100], Step [300/300], Loss: 3.0022\n",
      "Epoch [71/100], Step [300/300], Loss: 0.6048\n",
      "Epoch [81/100], Step [300/300], Loss: 0.2639\n",
      "Epoch [91/100], Step [300/300], Loss: 0.1633\n",
      "Finished Training\n",
      "Commence calculations...\n",
      "Accuracy: 99.99916667361106 %\n",
      "Accuracy: 99.8966701109963 %\n",
      "Results: [0.99999167 0.9989667  0.        ]\n",
      "Dataset size: 3000 \n",
      "Window size: 20 \n",
      "Image: (110, 120)\n",
      "Memory needed: 0.74 GB\n",
      "Dataset size: 108000 \n",
      "Window size: 4 \n",
      "Image: (110, 120)\n",
      "Memory needed: 5.31 GB\n",
      "LOADED DATASET...\n",
      "Memory left 23.59 GB\n",
      "(15000, 4, 110, 120) (15000, 1, 440, 120)\n",
      "Using 5.9 GB\n",
      "torch.Size([15000, 1, 440, 120])\n",
      "torch.Size([15000, 15])\n"
     ]
    },
    {
     "name": "stderr",
     "output_type": "stream",
     "text": [
      "/its/home/drs25/RoboSkin/Code/NewRigExperiments/data_format.py:90: UserWarning: To copy construct from a tensor, it is recommended to use sourceTensor.clone().detach() or sourceTensor.clone().detach().requires_grad_(True), rather than torch.tensor(sourceTensor).\n",
      "  train_labels_tensor = torch.tensor(one_hot_labels, dtype=torch.float32).to(device)\n"
     ]
    },
    {
     "name": "stdout",
     "output_type": "stream",
     "text": [
      "Epoch [1/100], Step [300/300], Loss: 812.8398\n",
      "Epoch [11/100], Step [300/300], Loss: 231.0522\n",
      "Epoch [21/100], Step [300/300], Loss: 51.5554\n",
      "Epoch [31/100], Step [300/300], Loss: 20.1927\n",
      "Epoch [41/100], Step [300/300], Loss: 8.0341\n",
      "Epoch [51/100], Step [300/300], Loss: 2.1989\n",
      "Epoch [61/100], Step [300/300], Loss: 0.8821\n",
      "Epoch [71/100], Step [300/300], Loss: 0.3441\n",
      "Epoch [81/100], Step [300/300], Loss: 0.3232\n",
      "Epoch [91/100], Step [300/300], Loss: 0.1652\n",
      "Finished Training\n",
      "Commence calculations...\n",
      "Accuracy: 99.99916667361106 %\n",
      "Accuracy: 99.93000233325556 %\n",
      "Results: [0.99999167 0.99930002 0.        ]\n",
      "Dataset size: 3000 \n",
      "Window size: 20 \n",
      "Image: (110, 120)\n",
      "Memory needed: 0.74 GB\n",
      "Dataset size: 108000 \n",
      "Window size: 4 \n",
      "Image: (110, 120)\n",
      "Memory needed: 5.31 GB\n",
      "LOADED DATASET...\n",
      "Memory left 23.59 GB\n",
      "(15000, 4, 110, 120) (15000, 1, 440, 120)\n",
      "Using 5.9 GB\n",
      "torch.Size([15000, 1, 440, 120])\n",
      "torch.Size([15000, 15])\n"
     ]
    },
    {
     "name": "stderr",
     "output_type": "stream",
     "text": [
      "/its/home/drs25/RoboSkin/Code/NewRigExperiments/data_format.py:90: UserWarning: To copy construct from a tensor, it is recommended to use sourceTensor.clone().detach() or sourceTensor.clone().detach().requires_grad_(True), rather than torch.tensor(sourceTensor).\n",
      "  train_labels_tensor = torch.tensor(one_hot_labels, dtype=torch.float32).to(device)\n"
     ]
    },
    {
     "name": "stdout",
     "output_type": "stream",
     "text": [
      "Epoch [1/100], Step [300/300], Loss: 812.6114\n",
      "Epoch [11/100], Step [300/300], Loss: 370.9623\n",
      "Epoch [21/100], Step [300/300], Loss: 74.3945\n",
      "Epoch [31/100], Step [300/300], Loss: 26.6682\n",
      "Epoch [41/100], Step [300/300], Loss: 12.0151\n",
      "Epoch [51/100], Step [300/300], Loss: 4.4762\n",
      "Epoch [61/100], Step [300/300], Loss: 1.1056\n",
      "Epoch [71/100], Step [300/300], Loss: 0.9242\n",
      "Epoch [81/100], Step [300/300], Loss: 0.3001\n",
      "Epoch [91/100], Step [300/300], Loss: 0.2583\n",
      "Finished Training\n",
      "Commence calculations...\n",
      "Accuracy: 99.99916667361106 %\n",
      "Accuracy: 99.96333455551482 %\n",
      "Results: [0.99999167 0.99963335 0.        ]\n",
      "Dataset size: 3000 \n",
      "Window size: 20 \n",
      "Image: (110, 120)\n",
      "Memory needed: 0.74 GB\n",
      "Dataset size: 108000 \n",
      "Window size: 4 \n",
      "Image: (110, 120)\n",
      "Memory needed: 5.31 GB\n",
      "LOADED DATASET...\n",
      "Memory left 23.59 GB\n",
      "(15000, 4, 110, 120) (15000, 1, 440, 120)\n",
      "Using 5.9 GB\n",
      "torch.Size([15000, 1, 440, 120])\n",
      "torch.Size([15000, 15])\n"
     ]
    },
    {
     "name": "stderr",
     "output_type": "stream",
     "text": [
      "/its/home/drs25/RoboSkin/Code/NewRigExperiments/data_format.py:90: UserWarning: To copy construct from a tensor, it is recommended to use sourceTensor.clone().detach() or sourceTensor.clone().detach().requires_grad_(True), rather than torch.tensor(sourceTensor).\n",
      "  train_labels_tensor = torch.tensor(one_hot_labels, dtype=torch.float32).to(device)\n"
     ]
    },
    {
     "name": "stdout",
     "output_type": "stream",
     "text": [
      "Epoch [1/100], Step [300/300], Loss: 812.4926\n",
      "Epoch [11/100], Step [300/300], Loss: 200.1247\n",
      "Epoch [21/100], Step [300/300], Loss: 48.1474\n",
      "Epoch [31/100], Step [300/300], Loss: 18.7909\n",
      "Epoch [41/100], Step [300/300], Loss: 9.1075\n",
      "Epoch [51/100], Step [300/300], Loss: 3.4290\n",
      "Epoch [61/100], Step [300/300], Loss: 2.8944\n",
      "Epoch [71/100], Step [300/300], Loss: 0.4062\n",
      "Epoch [81/100], Step [300/300], Loss: 0.2070\n",
      "Epoch [91/100], Step [300/300], Loss: 0.2676\n",
      "Finished Training\n",
      "Commence calculations...\n",
      "Accuracy: 99.99916667361106 %\n",
      "Accuracy: 99.99666677777408 %\n",
      "Results: [0.99999167 0.99996667 0.        ]\n",
      "Dataset size: 3000 \n",
      "Window size: 20 \n",
      "Image: (110, 120)\n",
      "Memory needed: 0.74 GB\n",
      "Dataset size: 108000 \n",
      "Window size: 4 \n",
      "Image: (110, 120)\n",
      "Memory needed: 5.31 GB\n",
      "LOADED DATASET...\n",
      "Memory left 23.59 GB\n",
      "(15000, 4, 110, 120) (15000, 1, 440, 120)\n",
      "Using 5.9 GB\n",
      "torch.Size([15000, 1, 440, 120])\n",
      "torch.Size([15000, 15])\n"
     ]
    },
    {
     "name": "stderr",
     "output_type": "stream",
     "text": [
      "/its/home/drs25/RoboSkin/Code/NewRigExperiments/data_format.py:90: UserWarning: To copy construct from a tensor, it is recommended to use sourceTensor.clone().detach() or sourceTensor.clone().detach().requires_grad_(True), rather than torch.tensor(sourceTensor).\n",
      "  train_labels_tensor = torch.tensor(one_hot_labels, dtype=torch.float32).to(device)\n"
     ]
    },
    {
     "name": "stdout",
     "output_type": "stream",
     "text": [
      "Epoch [1/100], Step [300/300], Loss: 812.6429\n",
      "Epoch [11/100], Step [300/300], Loss: 261.1443\n",
      "Epoch [21/100], Step [300/300], Loss: 55.9752\n",
      "Epoch [31/100], Step [300/300], Loss: 21.4651\n",
      "Epoch [41/100], Step [300/300], Loss: 8.4787\n",
      "Epoch [51/100], Step [300/300], Loss: 2.3052\n",
      "Epoch [61/100], Step [300/300], Loss: 1.6323\n",
      "Epoch [71/100], Step [300/300], Loss: 0.3312\n",
      "Epoch [81/100], Step [300/300], Loss: 0.2098\n",
      "Epoch [91/100], Step [300/300], Loss: 0.1694\n",
      "Finished Training\n",
      "Commence calculations...\n",
      "Accuracy: 99.99916667361106 %\n",
      "Accuracy: 99.96333455551482 %\n",
      "Results: [0.99999167 0.99963335 0.        ]\n",
      "Dataset size: 3000 \n",
      "Window size: 20 \n",
      "Image: (110, 120)\n",
      "Memory needed: 0.74 GB\n",
      "Dataset size: 108000 \n",
      "Window size: 4 \n",
      "Image: (110, 120)\n",
      "Memory needed: 5.31 GB\n",
      "LOADED DATASET...\n",
      "Memory left 23.59 GB\n",
      "(15000, 4, 110, 120) (15000, 1, 440, 120)\n",
      "Using 5.9 GB\n",
      "torch.Size([15000, 1, 440, 120])\n",
      "torch.Size([15000, 15])\n"
     ]
    },
    {
     "name": "stderr",
     "output_type": "stream",
     "text": [
      "/its/home/drs25/RoboSkin/Code/NewRigExperiments/data_format.py:90: UserWarning: To copy construct from a tensor, it is recommended to use sourceTensor.clone().detach() or sourceTensor.clone().detach().requires_grad_(True), rather than torch.tensor(sourceTensor).\n",
      "  train_labels_tensor = torch.tensor(one_hot_labels, dtype=torch.float32).to(device)\n"
     ]
    },
    {
     "name": "stdout",
     "output_type": "stream",
     "text": [
      "Epoch [1/100], Step [300/300], Loss: 812.4896\n",
      "Epoch [11/100], Step [300/300], Loss: 227.2161\n",
      "Epoch [21/100], Step [300/300], Loss: 51.9318\n",
      "Epoch [31/100], Step [300/300], Loss: 19.5586\n",
      "Epoch [41/100], Step [300/300], Loss: 8.5518\n",
      "Epoch [51/100], Step [300/300], Loss: 2.3250\n",
      "Epoch [61/100], Step [300/300], Loss: 0.8708\n",
      "Epoch [71/100], Step [300/300], Loss: 0.5882\n",
      "Epoch [81/100], Step [300/300], Loss: 0.2263\n",
      "Epoch [91/100], Step [300/300], Loss: 0.1827\n",
      "Finished Training\n",
      "Commence calculations...\n",
      "Accuracy: 99.99916667361106 %\n",
      "Accuracy: 99.76334122195927 %\n",
      "Results: [0.99999167 0.99763341 0.        ]\n",
      "Dataset size: 3000 \n",
      "Window size: 20 \n",
      "Image: (110, 120)\n",
      "Memory needed: 0.74 GB\n",
      "Dataset size: 108000 \n",
      "Window size: 4 \n",
      "Image: (110, 120)\n",
      "Memory needed: 5.31 GB\n",
      "LOADED DATASET...\n",
      "Memory left 23.59 GB\n",
      "(15000, 4, 110, 120) (15000, 1, 440, 120)\n",
      "Using 5.9 GB\n",
      "torch.Size([15000, 1, 440, 120])\n",
      "torch.Size([15000, 15])\n"
     ]
    },
    {
     "name": "stderr",
     "output_type": "stream",
     "text": [
      "/its/home/drs25/RoboSkin/Code/NewRigExperiments/data_format.py:90: UserWarning: To copy construct from a tensor, it is recommended to use sourceTensor.clone().detach() or sourceTensor.clone().detach().requires_grad_(True), rather than torch.tensor(sourceTensor).\n",
      "  train_labels_tensor = torch.tensor(one_hot_labels, dtype=torch.float32).to(device)\n"
     ]
    },
    {
     "name": "stdout",
     "output_type": "stream",
     "text": [
      "Epoch [1/100], Step [300/300], Loss: 812.9000\n",
      "Epoch [11/100], Step [300/300], Loss: 202.0411\n",
      "Epoch [21/100], Step [300/300], Loss: 51.8607\n",
      "Epoch [31/100], Step [300/300], Loss: 19.5638\n",
      "Epoch [41/100], Step [300/300], Loss: 7.0174\n",
      "Epoch [51/100], Step [300/300], Loss: 3.3589\n",
      "Epoch [61/100], Step [300/300], Loss: 2.6934\n",
      "Epoch [71/100], Step [300/300], Loss: 0.6221\n",
      "Epoch [81/100], Step [300/300], Loss: 0.1964\n",
      "Epoch [91/100], Step [300/300], Loss: 0.1604\n",
      "Finished Training\n",
      "Commence calculations...\n",
      "Accuracy: 99.99916667361106 %\n",
      "Accuracy: 99.93000233325556 %\n",
      "Results: [0.99999167 0.99930002 0.        ]\n",
      "Dataset size: 3000 \n",
      "Window size: 20 \n",
      "Image: (110, 120)\n",
      "Memory needed: 0.74 GB\n",
      "Dataset size: 108000 \n",
      "Window size: 4 \n",
      "Image: (110, 120)\n",
      "Memory needed: 5.31 GB\n",
      "LOADED DATASET...\n",
      "Memory left 23.59 GB\n",
      "(15000, 4, 110, 120) (15000, 1, 440, 120)\n",
      "Using 5.9 GB\n",
      "torch.Size([15000, 1, 440, 120])\n",
      "torch.Size([15000, 15])\n"
     ]
    },
    {
     "name": "stderr",
     "output_type": "stream",
     "text": [
      "/its/home/drs25/RoboSkin/Code/NewRigExperiments/data_format.py:90: UserWarning: To copy construct from a tensor, it is recommended to use sourceTensor.clone().detach() or sourceTensor.clone().detach().requires_grad_(True), rather than torch.tensor(sourceTensor).\n",
      "  train_labels_tensor = torch.tensor(one_hot_labels, dtype=torch.float32).to(device)\n"
     ]
    },
    {
     "name": "stdout",
     "output_type": "stream",
     "text": [
      "Epoch [1/100], Step [300/300], Loss: 812.5736\n",
      "Epoch [11/100], Step [300/300], Loss: 310.8346\n",
      "Epoch [21/100], Step [300/300], Loss: 73.6850\n",
      "Epoch [31/100], Step [300/300], Loss: 25.3977\n",
      "Epoch [41/100], Step [300/300], Loss: 11.4223\n",
      "Epoch [51/100], Step [300/300], Loss: 3.8686\n",
      "Epoch [61/100], Step [300/300], Loss: 0.9861\n",
      "Epoch [71/100], Step [300/300], Loss: 1.0532\n",
      "Epoch [81/100], Step [300/300], Loss: 0.9567\n",
      "Epoch [91/100], Step [300/300], Loss: 0.1823\n",
      "Finished Training\n",
      "Commence calculations...\n",
      "Accuracy: 99.99916667361106 %\n",
      "Accuracy: 99.93000233325556 %\n",
      "Results: [0.99999167 0.99930002 0.        ]\n",
      "Dataset size: 3000 \n",
      "Window size: 20 \n",
      "Image: (110, 120)\n",
      "Memory needed: 0.74 GB\n",
      "Dataset size: 108000 \n",
      "Window size: 4 \n",
      "Image: (110, 120)\n",
      "Memory needed: 5.31 GB\n",
      "LOADED DATASET...\n",
      "Memory left 23.59 GB\n",
      "(15000, 4, 110, 120) (15000, 1, 440, 120)\n",
      "Using 5.9 GB\n",
      "torch.Size([15000, 1, 440, 120])\n",
      "torch.Size([15000, 15])\n"
     ]
    },
    {
     "name": "stderr",
     "output_type": "stream",
     "text": [
      "/its/home/drs25/RoboSkin/Code/NewRigExperiments/data_format.py:90: UserWarning: To copy construct from a tensor, it is recommended to use sourceTensor.clone().detach() or sourceTensor.clone().detach().requires_grad_(True), rather than torch.tensor(sourceTensor).\n",
      "  train_labels_tensor = torch.tensor(one_hot_labels, dtype=torch.float32).to(device)\n"
     ]
    },
    {
     "name": "stdout",
     "output_type": "stream",
     "text": [
      "Epoch [1/100], Step [300/300], Loss: 812.7279\n",
      "Epoch [11/100], Step [300/300], Loss: 297.5913\n",
      "Epoch [21/100], Step [300/300], Loss: 65.6399\n",
      "Epoch [31/100], Step [300/300], Loss: 24.3954\n",
      "Epoch [41/100], Step [300/300], Loss: 9.7347\n",
      "Epoch [51/100], Step [300/300], Loss: 3.7511\n",
      "Epoch [61/100], Step [300/300], Loss: 2.7195\n",
      "Epoch [71/100], Step [300/300], Loss: 0.6037\n",
      "Epoch [81/100], Step [300/300], Loss: 0.4336\n",
      "Epoch [91/100], Step [300/300], Loss: 0.1856\n",
      "Finished Training\n",
      "Commence calculations...\n",
      "Accuracy: 99.99916667361106 %\n",
      "Accuracy: 99.93000233325556 %\n",
      "Results: [0.99999167 0.99930002 0.        ]\n",
      "Dataset size: 3000 \n",
      "Window size: 20 \n",
      "Image: (110, 120)\n",
      "Memory needed: 0.74 GB\n",
      "Dataset size: 108000 \n",
      "Window size: 4 \n",
      "Image: (110, 120)\n",
      "Memory needed: 5.31 GB\n",
      "LOADED DATASET...\n",
      "Memory left 23.59 GB\n",
      "(15000, 4, 110, 120) (15000, 1, 440, 120)\n",
      "Using 5.9 GB\n",
      "torch.Size([15000, 1, 440, 120])\n",
      "torch.Size([15000, 15])\n"
     ]
    },
    {
     "name": "stderr",
     "output_type": "stream",
     "text": [
      "/its/home/drs25/RoboSkin/Code/NewRigExperiments/data_format.py:90: UserWarning: To copy construct from a tensor, it is recommended to use sourceTensor.clone().detach() or sourceTensor.clone().detach().requires_grad_(True), rather than torch.tensor(sourceTensor).\n",
      "  train_labels_tensor = torch.tensor(one_hot_labels, dtype=torch.float32).to(device)\n"
     ]
    },
    {
     "name": "stdout",
     "output_type": "stream",
     "text": [
      "Epoch [1/100], Step [300/300], Loss: 812.4444\n",
      "Epoch [11/100], Step [300/300], Loss: 206.7544\n",
      "Epoch [21/100], Step [300/300], Loss: 47.6270\n",
      "Epoch [31/100], Step [300/300], Loss: 19.2314\n",
      "Epoch [41/100], Step [300/300], Loss: 7.3926\n",
      "Epoch [51/100], Step [300/300], Loss: 3.4608\n",
      "Epoch [61/100], Step [300/300], Loss: 2.6263\n",
      "Epoch [71/100], Step [300/300], Loss: 0.3844\n",
      "Epoch [81/100], Step [300/300], Loss: 0.2621\n",
      "Epoch [91/100], Step [300/300], Loss: 0.1725\n",
      "Finished Training\n",
      "Commence calculations...\n",
      "Accuracy: 99.99916667361106 %\n",
      "Accuracy: 99.96333455551482 %\n",
      "Results: [0.99999167 0.99963335 0.        ]\n"
     ]
    }
   ],
   "source": [
    "acc=np.zeros((num_trials,3)) #train,test,noisy\n",
    "\n",
    "for i in range(num_trials):\n",
    "    data=loaded(t=20,filename=\"X_data_15.npz\")\n",
    "    data.applySobel()\n",
    "    data.speed_augment(t=4)\n",
    "    data.zoom_augment([10,20,30,40])\n",
    "    data.orientation_augment()\n",
    "    data.shuffle()\n",
    "    data.X=data.X[0:15000]\n",
    "    data.y=data.y[0:15000]\n",
    "    train_loader,test_loader=org_data(data,(len(data.X),1,T_SIZE*data.X.shape[2],data.X.shape[3]))\n",
    "    model,history=run(train_loader,0,4,num_epochs = EPOCHS)\n",
    "    print(\"Commence calculations...\")\n",
    "    acc[i][0]=calc(model,train_loader)\n",
    "    acc[i][1]=calc(model,test_loader)\n",
    "    preds=model(test_data_sliced_tensor)\n",
    "    acc[i][2]=calc_noisy(preds,labels)\n",
    "    print(\"Results:\",acc[i])\n",
    "np.save(path+\"/data/20_TRIALS_CNN_ALL_AUGMENTATION\",acc)"
   ]
  },
  {
   "attachments": {},
   "cell_type": "markdown",
   "metadata": {},
   "source": [
    "## viewer"
   ]
  },
  {
   "cell_type": "code",
   "execution_count": null,
   "metadata": {},
   "outputs": [],
   "source": [
    "data=loaded(t=20,filename=\"X_data_15.npz\")\n",
    "data.applySobel()\n",
    "example_vid=data.X[0]\n",
    "\n",
    "#example_speed="
   ]
  },
  {
   "cell_type": "code",
   "execution_count": 32,
   "metadata": {},
   "outputs": [
    {
     "name": "stdout",
     "output_type": "stream",
     "text": [
      "                Train                            Test                          \n",
      "                 mean  std      min      max     mean     std      min      max\n",
      "Dataset                                                                        \n",
      "All           99.9992  0.0  99.9992  99.9992  99.9317  0.0513  99.7633  99.9967\n",
      "None          99.9958  0.0  99.9958  99.9958  99.9833  0.0000  99.9833  99.9833\n",
      "Orientation   99.9986  0.0  99.9986  99.9986  99.9778  0.0261  99.9389  99.9944\n",
      "Speed         99.9986  0.0  99.9986  99.9986  99.9944  0.0000  99.9944  99.9944\n",
      "Varying Time  99.9992  0.0  99.9992  99.9992  99.9967  0.0000  99.9967  99.9967\n",
      "Zoom          99.9990  0.0  99.9990  99.9990  99.9958  0.0000  99.9958  99.9958\n",
      "              New               \n",
      "             mean  std  min  max\n",
      "Dataset                         \n",
      "All           0.0  0.0  0.0  0.0\n",
      "None          0.0  0.0  0.0  0.0\n",
      "Orientation   0.0  0.0  0.0  0.0\n",
      "Speed         0.0  0.0  0.0  0.0\n",
      "Varying Time  0.0  0.0  0.0  0.0\n",
      "Zoom          0.0  0.0  0.0  0.0\n"
     ]
    }
   ],
   "source": [
    "import pandas as pd\n",
    "pd.set_option('display.width', 200)  # Adjust width\n",
    "pd.set_option('display.max_columns', None)  # Show all columns\n",
    "pd.set_option('display.max_rows', 50)  # Adjust to your preference\n",
    "\n",
    "orient=np.load(path+\"/data/20_TRIALS_CNN_ORIENTATION_AUGMENTATION.npy\")\n",
    "speeds=np.load(path+\"/data/20_TRIALS_CNN_SPEED_AUGMENTATION.npy\")\n",
    "zoom=np.load(path+\"/data/20_TRIALS_CNN_ZOOM_AUGMENTATION.npy\")\n",
    "none=np.load(path+\"/data/20_TRIALS_CNN_NO_AUGMENTATION.npy\")\n",
    "diff=np.load(path+\"/data/20_TRIALS_CNN_DIFFERENT_AUGMENTATION.npy\")\n",
    "all_=np.load(path+\"/data/20_TRIALS_CNN_ALL_AUGMENTATION.npy\")\n",
    "\n",
    "df = pd.DataFrame(\n",
    "    np.vstack([orient, speeds, zoom, none, diff, all_]),  # Stack all datasets\n",
    "    columns=[\"Train\", \"Test\", \"New\"]\n",
    ")\n",
    "\n",
    "# Add a column indicating the dataset source\n",
    "df[\"Dataset\"] = np.repeat([\"Orientation\", \"Speed\", \"Zoom\",\"None\",\"Varying Time\",\"All\"], 20)\n",
    "# Get summary statistics for each dataset separately\n",
    "summary = df.groupby(\"Dataset\")[[\"Train\", \"Test\", \"New\"]].agg([\"mean\", \"std\", \"min\", \"max\"])\n",
    "summary=summary*100\n",
    "summary=summary.round(4)\n",
    "# Display summary\n",
    "print(summary[['Train','Test']])\n",
    "\n",
    "print(summary[['New']])"
   ]
  },
  {
   "cell_type": "code",
   "execution_count": 11,
   "metadata": {},
   "outputs": [
    {
     "data": {
      "text/plain": [
       "0.0"
      ]
     },
     "execution_count": 11,
     "metadata": {},
     "output_type": "execute_result"
    }
   ],
   "source": [
    "np.max(orient[:,2])"
   ]
  },
  {
   "attachments": {},
   "cell_type": "markdown",
   "metadata": {},
   "source": [
    "## stats testing"
   ]
  },
  {
   "cell_type": "code",
   "execution_count": 28,
   "metadata": {},
   "outputs": [
    {
     "name": "stdout",
     "output_type": "stream",
     "text": [
      "\n",
      "=== Rank-Sum Test for Train Accuracy ===\n",
      "orient vs speeds: stat=0.000, p-value=1.000 → Not Significant\n",
      "orient vs zoom: stat=-5.410, p-value=0.000 → Statistically Significant\n",
      "orient vs none: stat=5.410, p-value=0.000 → Statistically Significant\n",
      "orient vs all: stat=-5.410, p-value=0.000 → Statistically Significant\n",
      "orient vs diff: stat=-5.410, p-value=0.000 → Statistically Significant\n",
      "speeds vs zoom: stat=-5.410, p-value=0.000 → Statistically Significant\n",
      "speeds vs none: stat=5.410, p-value=0.000 → Statistically Significant\n",
      "speeds vs diff: stat=-5.410, p-value=0.000 → Statistically Significant\n",
      "speeds vs all: stat=-5.410, p-value=0.000 → Statistically Significant\n",
      "zoom vs none: stat=5.410, p-value=0.000 → Statistically Significant\n",
      "zoom vs diff: stat=-5.410, p-value=0.000 → Statistically Significant\n",
      "zoom vs all: stat=-5.410, p-value=0.000 → Statistically Significant\n",
      "none vs diff: stat=-5.410, p-value=0.000 → Statistically Significant\n",
      "none vs all: stat=-5.410, p-value=0.000 → Statistically Significant\n",
      "diff vs all: stat=0.000, p-value=1.000 → Not Significant\n",
      "\n",
      "=== Rank-Sum Test for Test Accuracy ===\n",
      "orient vs speeds: stat=-1.623, p-value=0.105 → Not Significant\n",
      "orient vs zoom: stat=-5.410, p-value=0.000 → Statistically Significant\n",
      "orient vs none: stat=2.164, p-value=0.030 → Statistically Significant\n",
      "orient vs all: stat=3.192, p-value=0.001 → Statistically Significant\n",
      "orient vs diff: stat=-5.410, p-value=0.000 → Statistically Significant\n",
      "speeds vs zoom: stat=-5.410, p-value=0.000 → Statistically Significant\n",
      "speeds vs none: stat=5.410, p-value=0.000 → Statistically Significant\n",
      "speeds vs diff: stat=-5.410, p-value=0.000 → Statistically Significant\n",
      "speeds vs all: stat=4.328, p-value=0.000 → Statistically Significant\n",
      "zoom vs none: stat=5.410, p-value=0.000 → Statistically Significant\n",
      "zoom vs diff: stat=-5.410, p-value=0.000 → Statistically Significant\n",
      "zoom vs all: stat=4.328, p-value=0.000 → Statistically Significant\n",
      "none vs diff: stat=-5.410, p-value=0.000 → Statistically Significant\n",
      "none vs all: stat=4.328, p-value=0.000 → Statistically Significant\n",
      "diff vs all: stat=4.869, p-value=0.000 → Statistically Significant\n",
      "\n",
      "=== Rank-Sum Test for New Accuracy ===\n",
      "orient vs speeds: stat=0.000, p-value=1.000 → Not Significant\n",
      "orient vs zoom: stat=0.000, p-value=1.000 → Not Significant\n",
      "orient vs none: stat=0.000, p-value=1.000 → Not Significant\n",
      "orient vs all: stat=0.000, p-value=1.000 → Not Significant\n",
      "orient vs diff: stat=0.000, p-value=1.000 → Not Significant\n",
      "speeds vs zoom: stat=0.000, p-value=1.000 → Not Significant\n",
      "speeds vs none: stat=0.000, p-value=1.000 → Not Significant\n",
      "speeds vs diff: stat=0.000, p-value=1.000 → Not Significant\n",
      "speeds vs all: stat=0.000, p-value=1.000 → Not Significant\n",
      "zoom vs none: stat=0.000, p-value=1.000 → Not Significant\n",
      "zoom vs diff: stat=0.000, p-value=1.000 → Not Significant\n",
      "zoom vs all: stat=0.000, p-value=1.000 → Not Significant\n",
      "none vs diff: stat=0.000, p-value=1.000 → Not Significant\n",
      "none vs all: stat=0.000, p-value=1.000 → Not Significant\n",
      "diff vs all: stat=0.000, p-value=1.000 → Not Significant\n"
     ]
    }
   ],
   "source": [
    "from scipy.stats import ranksums\n",
    "\n",
    "datasets = {\n",
    "    \"orient\": orient,\n",
    "    \"speeds\": speeds,\n",
    "    \"zoom\": zoom,\n",
    "    \"none\": none,\n",
    "    \"diff\" : diff,\n",
    "    \"all\" : all_\n",
    "}\n",
    "\n",
    "# Compare datasets pairwise\n",
    "pairs = [\n",
    "    (\"orient\", \"speeds\"),\n",
    "    (\"orient\", \"zoom\"),\n",
    "    (\"orient\", \"none\"),\n",
    "    (\"orient\", \"all\"),\n",
    "    (\"orient\", \"diff\"),\n",
    "    (\"speeds\", \"zoom\"),\n",
    "    (\"speeds\", \"none\"),\n",
    "    (\"speeds\", \"diff\"),\n",
    "    (\"speeds\", \"all\"),\n",
    "    (\"zoom\", \"none\"),\n",
    "    (\"zoom\", \"diff\"),\n",
    "    (\"zoom\", \"all\"),\n",
    "    (\"none\", \"diff\"),\n",
    "    (\"none\", \"all\"),\n",
    "    (\"diff\", \"all\"),\n",
    "\n",
    "]\n",
    "alpha = 0.05\n",
    "\n",
    "for i, col in enumerate([\"Train\", \"Test\", \"New\"]):\n",
    "    print(f\"\\n=== Rank-Sum Test for {col} Accuracy ===\")\n",
    "    for d1, d2 in pairs:\n",
    "        stat, p_value = ranksums(datasets[d1][:, i], datasets[d2][:, i])  # Compare column i\n",
    "        significance = \"Statistically Significant\" if p_value < alpha else \"Not Significant\"\n",
    "        print(f\"{d1} vs {d2}: stat={stat:.3f}, p-value={p_value:.3f} → {significance}\")"
   ]
  }
 ],
 "metadata": {
  "kernelspec": {
   "display_name": "Python 3",
   "language": "python",
   "name": "python3"
  },
  "language_info": {
   "codemirror_mode": {
    "name": "ipython",
    "version": 3
   },
   "file_extension": ".py",
   "mimetype": "text/x-python",
   "name": "python",
   "nbconvert_exporter": "python",
   "pygments_lexer": "ipython3",
   "version": "3.10.12"
  },
  "orig_nbformat": 4
 },
 "nbformat": 4,
 "nbformat_minor": 2
}
