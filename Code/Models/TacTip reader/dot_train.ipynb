{
 "cells": [
  {
   "cell_type": "code",
   "execution_count": 1,
   "metadata": {},
   "outputs": [
    {
     "name": "stdout",
     "output_type": "stream",
     "text": [
      "11.7\n",
      "GPU: True\n"
     ]
    },
    {
     "data": {
      "text/plain": [
       "torch.Size([50, 266])"
      ]
     },
     "execution_count": 1,
     "metadata": {},
     "output_type": "execute_result"
    }
   ],
   "source": [
    "import numpy as np\n",
    "import torch\n",
    "import torch.nn as nn\n",
    "import torch.optim as optim\n",
    "import numpy as np\n",
    "from sklearn.model_selection import train_test_split\n",
    "import matplotlib.pyplot as plt\n",
    "import cv2 \n",
    "from sklearn import preprocessing\n",
    "import os\n",
    "from torchvision import datasets, models, transforms\n",
    "\n",
    "#if linux\n",
    "import matplotlib\n",
    "matplotlib.use('TkAgg')\n",
    "\n",
    "\n",
    "device = torch.device(\"cuda\" if torch.cuda.is_available() else \"cpu\")\n",
    "torch.cuda.empty_cache() \n",
    "print(torch.version.cuda)\n",
    "print(\"GPU:\",torch.cuda.is_available())\n",
    "\n",
    "\n",
    "\n",
    "class SimpleNeuralNetwork(nn.Module):\n",
    "    def __init__(self, input_size, output_size,layers=[1000,500,200],drop_out_prob=0.2):\n",
    "        super(SimpleNeuralNetwork, self).__init__()\n",
    "        self.fc=[nn.Linear(input_size, layers[0])]\n",
    "        self.fc.append(nn.Sigmoid())\n",
    "        self.fc.append(nn.Dropout(p=drop_out_prob))\n",
    "        for i in range(1,len(layers)): #create layers \n",
    "                self.fc.append(nn.Linear(layers[i-1], layers[i]))\n",
    "                self.fc.append(nn.Sigmoid())\n",
    "                self.fc.append(nn.Dropout(p=drop_out_prob))\n",
    "        self.fc.append(nn.Linear(layers[-1], output_size))\n",
    "        self.fc_layers = nn.Sequential(*self.fc)\n",
    "    def forward(self, x):\n",
    "        x=self.fc_layers(x)\n",
    "        return x\n",
    "    \n",
    "class SimpleConv2DNeuralNetwork(nn.Module):\n",
    "    def __init__(self, input_size, output_size,layers=[1000,500,200],drop_out_prob=0.2):\n",
    "        super(SimpleConv2DNeuralNetwork, self).__init__()\n",
    "        input_channels=1 #greyscale\n",
    "        self.conv_layer = nn.Conv2d(in_channels=input_channels, out_channels=8, kernel_size=3)\n",
    "        # Add 2D convolutional layer\n",
    "        self.conv_layer = nn.Conv2d(in_channels=input_channels, out_channels=8, kernel_size=3)\n",
    "        \n",
    "        # Calculate the size of the tensor after convolution and pooling\n",
    "        conv_output_size = self._get_conv_output_size(input_channels, input_size[0], input_size[1])  # Adjust the last two dimensions\n",
    "        # Add hidden layers\n",
    "        self.fc=[nn.Linear(int(conv_output_size), layers[0])]\n",
    "        self.fc.append(nn.Sigmoid())\n",
    "        self.fc.append(nn.Dropout(p=drop_out_prob))\n",
    "        for i in range(1,len(layers)): #create layers \n",
    "                self.fc.append(nn.Linear(layers[i-1], layers[i]))\n",
    "                self.fc.append(nn.Sigmoid())\n",
    "                self.fc.append(nn.Dropout(p=drop_out_prob))\n",
    "        self.fc.append(nn.Linear(layers[-1], output_size))\n",
    "        self.fc_layers = nn.Sequential(*self.fc)\n",
    "    def forward(self, x):\n",
    "        x=self.conv_layer(x)\n",
    "        x = torch.relu(x)\n",
    "        # Reshape the tensor to match the input size of the first fully connected layer\n",
    "        x = x.view(x.size(0), -1)\n",
    "        x=self.fc_layers(x)\n",
    "        return x\n",
    "    def _get_conv_output_size(self, input_channels, height, width):\n",
    "        dummy_input = torch.zeros(1, input_channels, height, width)\n",
    "        dummy_output = self.conv_layer(dummy_input)\n",
    "        return dummy_output.view(-1).size(0)\n",
    "\n",
    "n=SimpleConv2DNeuralNetwork([149,192],266)\n",
    "x=n.forward(torch.tensor(np.random.normal(0,1,(50,1,149,192))).float())\n",
    "x.shape"
   ]
  },
  {
   "cell_type": "code",
   "execution_count": 2,
   "metadata": {},
   "outputs": [
    {
     "name": "stdout",
     "output_type": "stream",
     "text": [
      "Training dataset size 990\n",
      "Labels dataset size 990\n"
     ]
    },
    {
     "data": {
      "text/plain": [
       "<matplotlib.collections.PathCollection at 0x7f1bf450fdc0>"
      ]
     },
     "execution_count": 2,
     "metadata": {},
     "output_type": "execute_result"
    }
   ],
   "source": [
    "\n",
    "name=\"pickle_linear.pkl\"\n",
    "file=\"/its/home/drs25/Documents/GitHub/RoboSkin/Code/Models/TacTip reader/dots/\" #\"C:/Users/dexte/github/RoboSkin/Code/Models/TacTip reader/dots/\"\n",
    "\n",
    "#load dataset\n",
    "y=np.load(file+\"augmentedNewTacTip.npy\")\n",
    "X_train=np.load(file+\"augmentedNewTacTipimages.npy\")\n",
    "\n",
    "DATASET_SIZE=300 #X_train.shape[0]\n",
    "print(\"Training dataset size\",len(X_train))\n",
    "print(\"Labels dataset size\",len(y))\n",
    "#shape correctly\n",
    "SIZE=0.3\n",
    "y=y[0:DATASET_SIZE].reshape((y[0:DATASET_SIZE].shape[0],y[0:DATASET_SIZE].shape[1]*2))\n",
    "y=y/(255)*SIZE\n",
    "h=X_train.shape[2]*SIZE\n",
    "w=X_train.shape[1]*SIZE\n",
    "#this is the part to apply preprocessing\n",
    "X_train_grayscale = np.zeros((DATASET_SIZE,int(w),int(h))) # ((X_train.shape[0],int(h*w))) #((X_train.shape[0],144,192))\n",
    "for i in range(DATASET_SIZE):\n",
    "    im=X_train[i].copy()\n",
    "    im=cv2.resize(im,(int(h),int(w)),interpolation=cv2.INTER_AREA)\n",
    "    im = np.uint8(im)\n",
    "    current = cv2.cvtColor(im, cv2.COLOR_BGR2GRAY) #\n",
    "    frame = cv2.adaptiveThreshold(\n",
    "            current, 255, cv2.ADAPTIVE_THRESH_MEAN_C, cv2.THRESH_BINARY, 5, 1\n",
    "        )\n",
    "    kernel = np.ones((2, 2), np.uint8)\n",
    "    frame = cv2.erode(frame, kernel, iterations=1)\n",
    "    X_train_grayscale[i]=frame/255 #remove flatten for conv\n",
    "\n",
    "\n",
    "plt.imshow(cv2.resize(X_train_grayscale[0].reshape(144,192),(int(h),int(w)),interpolation=cv2.INTER_AREA))\n",
    "example=(y[0].reshape((y[-1].shape[0]//2,2))*255)\n",
    "plt.scatter(example[:,0],example[:,1])\n",
    "#plt.show()"
   ]
  },
  {
   "cell_type": "code",
   "execution_count": 3,
   "metadata": {},
   "outputs": [
    {
     "data": {
      "text/plain": [
       "((240, 144, 192), (240, 266))"
      ]
     },
     "execution_count": 3,
     "metadata": {},
     "output_type": "execute_result"
    }
   ],
   "source": [
    "X, data_test, Y, labels_test = train_test_split(X_train_grayscale, y, test_size=0.20, random_state=42)\n",
    "X.shape,Y.shape\n",
    "#X=X.reshape(792,1,144,192)\n",
    "#data_test=data_test"
   ]
  },
  {
   "cell_type": "code",
   "execution_count": 8,
   "metadata": {},
   "outputs": [
    {
     "name": "stdout",
     "output_type": "stream",
     "text": [
      "(240, 144, 192)\n"
     ]
    },
    {
     "ename": "",
     "evalue": "",
     "output_type": "error",
     "traceback": [
      "\u001b[1;31mCanceled future for execute_request message before replies were done"
     ]
    },
    {
     "ename": "",
     "evalue": "",
     "output_type": "error",
     "traceback": [
      "\u001b[1;31mThe Kernel crashed while executing code in the the current cell or a previous cell. Please review the code in the cell(s) to identify a possible cause of the failure. Click <a href='https://aka.ms/vscodeJupyterKernelCrash'>here</a> for more info. View Jupyter <a href='command:jupyter.viewOutput'>log</a> for further details."
     ]
    }
   ],
   "source": [
    "torch.cuda.empty_cache() \n",
    "\n",
    "# Define the size of the input (n) and output (m) layers\n",
    "n_inputs = X.shape[1]\n",
    "m_outputs = Y.shape[1]\n",
    "print(X.shape)\n",
    "# Convert data to PyTorch tensors\n",
    "X_tensor = torch.tensor(X).view(X.shape[0],1,X.shape[1],X.shape[2])#.to(device)#.to(torch.float32)\n",
    "y_tensor = torch.tensor(Y)#.to(device)#.to(torch.float32)\n",
    "\n",
    "# Define the neural network model\n",
    "\n",
    "\n",
    "# Create the neural network\n",
    "model = SimpleConv2DNeuralNetwork([149,192], m_outputs,layers=[1000],drop_out_prob=0.1)#.to(device)\n",
    "#model=Network().to(device)\n",
    "\n",
    "# Define the loss function and optimizer\n",
    "criterion = nn.MSELoss()\n",
    "optimizer = optim.Adam(model.parameters(), lr=0.0001)\n",
    "\n",
    "def train(model,num_epochs,output=True):\n",
    "    loss_ar=[]\n",
    "    for epoch in range(num_epochs):\n",
    "        # Forward pass\n",
    "        y_pred = model(X_tensor.float())\n",
    "\n",
    "        # Compute the loss\n",
    "        loss = criterion(y_pred, y_tensor)\n",
    "\n",
    "        # Zero gradients, backward pass, and update the weights\n",
    "        optimizer.zero_grad()\n",
    "        loss.backward()\n",
    "        optimizer.step()\n",
    "        loss_ar.append(loss.item())\n",
    "        #predict\n",
    "        # Print the current loss to monitor training progress\n",
    "        if epoch%1000==0 and output:\n",
    "            print(f\"Epoch [{epoch+1}/{num_epochs}], Loss: {loss.item():.4f}\")\n",
    "    return np.array(loss_ar)\n",
    "plt.title(\"Loss while training marker prediction model\")\n",
    "plt.ylabel(\"Accuracy\")\n",
    "plt.xlabel(\"Epoch\")\n",
    "loss=train(model,150000)\n",
    "plt.plot(loss,label=\"Loss\")\n",
    "#plt.plot(b,label=\"Accuracy\")\n",
    "plt.legend(loc=\"upper right\")\n",
    "plt.show()"
   ]
  },
  {
   "cell_type": "code",
   "execution_count": 15,
   "metadata": {},
   "outputs": [
    {
     "name": "stdout",
     "output_type": "stream",
     "text": [
      "Epoch [1/20000], Loss: 0.0007\n",
      "Epoch [1001/20000], Loss: 0.0007\n",
      "Epoch [2001/20000], Loss: 0.0007\n",
      "Epoch [3001/20000], Loss: 0.0007\n",
      "Epoch [4001/20000], Loss: 0.0007\n",
      "Epoch [5001/20000], Loss: 0.0007\n",
      "Epoch [6001/20000], Loss: 0.0007\n",
      "Epoch [7001/20000], Loss: 0.0007\n",
      "Epoch [8001/20000], Loss: 0.0007\n",
      "Epoch [9001/20000], Loss: 0.0007\n",
      "Epoch [10001/20000], Loss: 0.0007\n",
      "Epoch [11001/20000], Loss: 0.0007\n",
      "Epoch [12001/20000], Loss: 0.0007\n",
      "Epoch [13001/20000], Loss: 0.0007\n",
      "Epoch [14001/20000], Loss: 0.0007\n",
      "Epoch [15001/20000], Loss: 0.0007\n",
      "Epoch [16001/20000], Loss: 0.0007\n",
      "Epoch [17001/20000], Loss: 0.0007\n",
      "Epoch [18001/20000], Loss: 0.0007\n",
      "Epoch [19001/20000], Loss: 0.0007\n"
     ]
    }
   ],
   "source": [
    "loss=train(model,20000)"
   ]
  },
  {
   "cell_type": "code",
   "execution_count": 12,
   "metadata": {},
   "outputs": [],
   "source": [
    "np.save(\"DataLossA\",loss)"
   ]
  },
  {
   "cell_type": "code",
   "execution_count": 14,
   "metadata": {},
   "outputs": [],
   "source": [
    "torch.save(model.state_dict(), \"C:/Users/dexte/github/RoboSkin/Code/Models/TacTip reader/pytorchModelCross.pth\")"
   ]
  },
  {
   "cell_type": "code",
   "execution_count": 26,
   "metadata": {},
   "outputs": [
    {
     "name": "stderr",
     "output_type": "stream",
     "text": [
      "/its/home/drs25/miniconda3/lib/python3.10/site-packages/torch/cuda/__init__.py:546: UserWarning: Can't initialize NVML\n",
      "  warnings.warn(\"Can't initialize NVML\")\n"
     ]
    },
    {
     "data": {
      "text/plain": [
       "SimpleNeuralNetwork(\n",
       "  (fc_layers): Sequential(\n",
       "    (0): Linear(in_features=27648, out_features=1000, bias=True)\n",
       "    (1): Sigmoid()\n",
       "    (2): Dropout(p=0.1, inplace=False)\n",
       "    (3): Linear(in_features=1000, out_features=500, bias=True)\n",
       "    (4): Sigmoid()\n",
       "    (5): Dropout(p=0.1, inplace=False)\n",
       "    (6): Linear(in_features=500, out_features=200, bias=True)\n",
       "    (7): Sigmoid()\n",
       "    (8): Dropout(p=0.1, inplace=False)\n",
       "    (9): Linear(in_features=200, out_features=266, bias=True)\n",
       "  )\n",
       ")"
      ]
     },
     "execution_count": 26,
     "metadata": {},
     "output_type": "execute_result"
    }
   ],
   "source": [
    "X, data_test, Y, labels_test = train_test_split(X_train_grayscale, y, test_size=0.20, random_state=42)\n",
    "# Define the size of the input (n) and output (m) layers\n",
    "n_inputs = X.shape[1]\n",
    "m_outputs = Y.shape[1]\n",
    "model = SimpleNeuralNetwork(n_inputs, m_outputs,drop_out_prob=0.1)#.to(device)\n",
    "\n",
    "model.load_state_dict(torch.load(\"/its/home/drs25/Documents/GitHub/RoboSkin/Code/Models/TacTip reader/pytorchModel.pth\"))\n",
    "model.eval()\n"
   ]
  },
  {
   "cell_type": "code",
   "execution_count": 27,
   "metadata": {},
   "outputs": [
    {
     "name": "stderr",
     "output_type": "stream",
     "text": [
      "Exception in Tkinter callback\n",
      "Traceback (most recent call last):\n",
      "  File \"/its/home/drs25/miniconda3/lib/python3.10/tkinter/__init__.py\", line 1919, in __call__\n",
      "    if self.subst:\n",
      "KeyboardInterrupt\n"
     ]
    }
   ],
   "source": [
    "with torch.no_grad():\n",
    "     model.eval()\n",
    "     predictions = model(torch.tensor(data_test, dtype=torch.float32)).detach().numpy()\n",
    "import random\n",
    "N=random.randint(0,len(predictions)-101)\n",
    "for i in range(100):\n",
    "     example=predictions[N+i]\n",
    "     example=(example.reshape((example.shape[0]//2,2))*255)/SIZE\n",
    "     image=data_test[N+i].reshape((int(w),int(h)))\n",
    "     image=cv2.resize(image,(X_train.shape[2],X_train.shape[1]),interpolation=cv2.INTER_AREA)\n",
    "     label=(labels_test[N+i].reshape((labels_test[N+i].shape[0]//2,2))*255)/SIZE\n",
    "     plt.cla()\n",
    "     plt.imshow(image)\n",
    "     plt.scatter(example[:,0],example[:,1],c=\"b\")\n",
    "     plt.scatter(label[:,0],label[:,1],c=\"r\")\n",
    "     plt.pause(0.5)"
   ]
  }
 ],
 "metadata": {
  "kernelspec": {
   "display_name": "base",
   "language": "python",
   "name": "python3"
  },
  "language_info": {
   "codemirror_mode": {
    "name": "ipython",
    "version": 3
   },
   "file_extension": ".py",
   "mimetype": "text/x-python",
   "name": "python",
   "nbconvert_exporter": "python",
   "pygments_lexer": "ipython3",
   "version": "3.10.7"
  },
  "orig_nbformat": 4
 },
 "nbformat": 4,
 "nbformat_minor": 2
}
