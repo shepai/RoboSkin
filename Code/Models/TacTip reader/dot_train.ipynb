{
 "cells": [
  {
   "cell_type": "code",
   "execution_count": 8,
   "metadata": {},
   "outputs": [
    {
     "name": "stdout",
     "output_type": "stream",
     "text": [
      "11.7\n",
      "GPU: True\n"
     ]
    }
   ],
   "source": [
    "import numpy as np\n",
    "import torch\n",
    "import torch.nn as nn\n",
    "import torch.optim as optim\n",
    "import numpy as np\n",
    "from sklearn.model_selection import train_test_split\n",
    "import matplotlib.pyplot as plt\n",
    "import cv2 \n",
    "from sklearn import preprocessing\n",
    "import os\n",
    "\n",
    "#if linux\n",
    "import matplotlib\n",
    "matplotlib.use('TkAgg')\n",
    "\n",
    "device = torch.device(\"cuda\" if torch.cuda.is_available() else \"cpu\")\n",
    "print(torch.version.cuda)\n",
    "print(\"GPU:\",torch.cuda.is_available())"
   ]
  },
  {
   "cell_type": "code",
   "execution_count": 7,
   "metadata": {},
   "outputs": [
    {
     "name": "stdout",
     "output_type": "stream",
     "text": [
      "Training dataset size 1710\n",
      "Labels dataset size 1710\n"
     ]
    }
   ],
   "source": [
    "\n",
    "name=\"pickle_linear.pkl\"\n",
    "file=\"/its/home/drs25/Documents/GitHub/RoboSkin/Code/Models/TacTip reader/dots/\"\n",
    "\n",
    "#load dataset\n",
    "y=np.load(file+\"augmented_small.npy\")\n",
    "X_train=np.load(file+\"augmented_smallimages.npy\")\n",
    "\n",
    "\n",
    "print(\"Training dataset size\",len(X_train))\n",
    "print(\"Labels dataset size\",len(y))\n",
    "#shape correctly\n",
    "SIZE=0.3\n",
    "y=y.reshape((y.shape[0],y.shape[1]*2))\n",
    "y=y/(255)*SIZE\n",
    "h=X_train.shape[2]*SIZE\n",
    "w=X_train.shape[1]*SIZE\n",
    "#this is the part to apply preprocessing\n",
    "X_train_grayscale = np.zeros((X_train.shape[0],int(h*w)))\n",
    "for i in range(X_train.shape[0]):\n",
    "    im=X_train[i].copy()\n",
    "    im=cv2.resize(im,(int(h),int(w)),interpolation=cv2.INTER_AREA)\n",
    "    im = np.float32(im)\n",
    "    X_train_grayscale[i] = cv2.cvtColor(im, cv2.COLOR_BGR2GRAY).flatten()/255\n",
    "\n",
    "\n",
    "plt.imshow(cv2.resize(X_train[0],(int(h),int(w)),interpolation=cv2.INTER_AREA))\n",
    "example=(y[0].reshape((y[-1].shape[0]//2,2))*255)\n",
    "plt.scatter(example[:,0],example[:,1])\n",
    "plt.show()"
   ]
  },
  {
   "cell_type": "code",
   "execution_count": 19,
   "metadata": {},
   "outputs": [
    {
     "data": {
      "text/plain": [
       "((1368, 27648), (1368, 266))"
      ]
     },
     "execution_count": 19,
     "metadata": {},
     "output_type": "execute_result"
    }
   ],
   "source": [
    "X, data_test, Y, labels_test = train_test_split(X_train_grayscale, y, test_size=0.20, random_state=42)\n",
    "X.shape,Y.shape"
   ]
  },
  {
   "cell_type": "code",
   "execution_count": 20,
   "metadata": {},
   "outputs": [
    {
     "name": "stdout",
     "output_type": "stream",
     "text": [
      "Epoch [1/150000], Loss: 0.2158\n"
     ]
    }
   ],
   "source": [
    "\n",
    "# Define the size of the input (n) and output (m) layers\n",
    "n_inputs = X.shape[1]\n",
    "m_outputs = Y.shape[1]\n",
    "\n",
    "# Convert data to PyTorch tensors\n",
    "X_tensor = torch.tensor(X, dtype=torch.float32).to(device)\n",
    "y_tensor = torch.tensor(Y, dtype=torch.float32).to(device)\n",
    "\n",
    "# Define the neural network model\n",
    "class SimpleNeuralNetwork(nn.Module):\n",
    "    def __init__(self, input_size, output_size,layers=[1000,500,200],drop_out_prob=0.2):\n",
    "        super(SimpleNeuralNetwork, self).__init__()\n",
    "        self.fc=[nn.Linear(input_size, layers[0])]\n",
    "        self.fc.append(nn.Sigmoid())\n",
    "        self.fc.append(nn.Dropout(p=drop_out_prob))\n",
    "        for i in range(1,len(layers)): #create layers \n",
    "                self.fc.append(nn.Linear(layers[i-1], layers[i]))\n",
    "                self.fc.append(nn.Sigmoid())\n",
    "                self.fc.append(nn.Dropout(p=drop_out_prob))\n",
    "        self.fc.append(nn.Linear(layers[-1], output_size))\n",
    "        self.fc_layers = nn.Sequential(*self.fc)\n",
    "    def forward(self, x):\n",
    "        x=self.fc_layers(x)\n",
    "        return x\n",
    "\n",
    "# Create the neural network\n",
    "model = SimpleNeuralNetwork(n_inputs, m_outputs,drop_out_prob=0.1).to(device)\n",
    "\n",
    "# Define the loss function and optimizer\n",
    "criterion = nn.MSELoss() #nn.MSELoss() #nn.CrossEntropyLoss() \n",
    "optimizer = optim.SGD(model.parameters(), lr=0.02)\n",
    "\n",
    "def train(model,num_epochs,output=True):\n",
    "    loss_ar=[]\n",
    "    for epoch in range(num_epochs):\n",
    "        # Forward pass\n",
    "        y_pred = model(X_tensor)\n",
    "\n",
    "        # Compute the loss\n",
    "        loss = criterion(y_pred, y_tensor)\n",
    "\n",
    "        # Zero gradients, backward pass, and update the weights\n",
    "        optimizer.zero_grad()\n",
    "        loss.backward()\n",
    "        optimizer.step()\n",
    "        loss_ar.append(loss.item())\n",
    "        #predict\n",
    "        # Print the current loss to monitor training progress\n",
    "        if epoch%1000==0 and output:\n",
    "            print(f\"Epoch [{epoch+1}/{num_epochs}], Loss: {loss.item():.4f}\")\n",
    "    return np.array(loss_ar)\n",
    "plt.title(\"Loss while training marker prediction model\")\n",
    "plt.ylabel(\"Accuracy\")\n",
    "plt.xlabel(\"Epoch\")\n",
    "loss=train(model,150000)\n",
    "plt.plot(loss,label=\"Loss\")\n",
    "#plt.plot(b,label=\"Accuracy\")\n",
    "plt.legend(loc=\"upper right\")\n",
    "plt.show()"
   ]
  }
 ],
 "metadata": {
  "kernelspec": {
   "display_name": "base",
   "language": "python",
   "name": "python3"
  },
  "language_info": {
   "codemirror_mode": {
    "name": "ipython",
    "version": 3
   },
   "file_extension": ".py",
   "mimetype": "text/x-python",
   "name": "python",
   "nbconvert_exporter": "python",
   "pygments_lexer": "ipython3",
   "version": "3.10.8"
  },
  "orig_nbformat": 4
 },
 "nbformat": 4,
 "nbformat_minor": 2
}
