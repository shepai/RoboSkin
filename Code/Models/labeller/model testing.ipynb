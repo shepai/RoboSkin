{
 "cells": [
  {
   "cell_type": "code",
   "execution_count": 1,
   "metadata": {},
   "outputs": [],
   "source": [
    "import numpy as np\n"
   ]
  },
  {
   "cell_type": "code",
   "execution_count": 3,
   "metadata": {},
   "outputs": [
    {
     "ename": "FileNotFoundError",
     "evalue": "[Errno 2] No such file or directory: 'C:/Users/dexte/github/RoboSkin/Code/Models/labeller/X_data_push'",
     "output_type": "error",
     "traceback": [
      "\u001b[1;31m---------------------------------------------------------------------------\u001b[0m",
      "\u001b[1;31mFileNotFoundError\u001b[0m                         Traceback (most recent call last)",
      "\u001b[1;32mc:\\Users\\dexte\\github\\RoboSkin\\Code\\Models\\labeller\\model testing.ipynb Cell 2\u001b[0m in \u001b[0;36m1\n\u001b[1;32m----> <a href='vscode-notebook-cell:/c%3A/Users/dexte/github/RoboSkin/Code/Models/labeller/model%20testing.ipynb#W1sZmlsZQ%3D%3D?line=0'>1</a>\u001b[0m X1\u001b[39m=\u001b[39mnp\u001b[39m.\u001b[39;49mload(\u001b[39m\"\u001b[39;49m\u001b[39mC:/Users/dexte/github/RoboSkin/Code/Models/labeller/X_data_push\u001b[39;49m\u001b[39m\"\u001b[39;49m)\n\u001b[0;32m      <a href='vscode-notebook-cell:/c%3A/Users/dexte/github/RoboSkin/Code/Models/labeller/model%20testing.ipynb#W1sZmlsZQ%3D%3D?line=1'>2</a>\u001b[0m y1\u001b[39m=\u001b[39mnp\u001b[39m.\u001b[39mload(\u001b[39m\"\u001b[39m\u001b[39mC:/Users/dexte/github/RoboSkin/Code/Models/labeller/y_data_push\u001b[39m\u001b[39m\"\u001b[39m)\n\u001b[0;32m      <a href='vscode-notebook-cell:/c%3A/Users/dexte/github/RoboSkin/Code/Models/labeller/model%20testing.ipynb#W1sZmlsZQ%3D%3D?line=3'>4</a>\u001b[0m X2\u001b[39m=\u001b[39mnp\u001b[39m.\u001b[39mload(\u001b[39m\"\u001b[39m\u001b[39mC:/Users/dexte/github/RoboSkin/Code/Models/labeller/X_data_edge\u001b[39m\u001b[39m\"\u001b[39m)\n",
      "File \u001b[1;32mc:\\Users\\dexte\\AppData\\Local\\Programs\\Python\\Python310\\lib\\site-packages\\numpy\\lib\\npyio.py:405\u001b[0m, in \u001b[0;36mload\u001b[1;34m(file, mmap_mode, allow_pickle, fix_imports, encoding, max_header_size)\u001b[0m\n\u001b[0;32m    403\u001b[0m     own_fid \u001b[39m=\u001b[39m \u001b[39mFalse\u001b[39;00m\n\u001b[0;32m    404\u001b[0m \u001b[39melse\u001b[39;00m:\n\u001b[1;32m--> 405\u001b[0m     fid \u001b[39m=\u001b[39m stack\u001b[39m.\u001b[39menter_context(\u001b[39mopen\u001b[39;49m(os_fspath(file), \u001b[39m\"\u001b[39;49m\u001b[39mrb\u001b[39;49m\u001b[39m\"\u001b[39;49m))\n\u001b[0;32m    406\u001b[0m     own_fid \u001b[39m=\u001b[39m \u001b[39mTrue\u001b[39;00m\n\u001b[0;32m    408\u001b[0m \u001b[39m# Code to distinguish from NumPy binary files and pickles.\u001b[39;00m\n",
      "\u001b[1;31mFileNotFoundError\u001b[0m: [Errno 2] No such file or directory: 'C:/Users/dexte/github/RoboSkin/Code/Models/labeller/X_data_push'"
     ]
    }
   ],
   "source": [
    "X1=np.load(\"C:/Users/dexte/github/RoboSkin/Code/Models/labeller/X_data_push\")\n",
    "y1=np.load(\"C:/Users/dexte/github/RoboSkin/Code/Models/labeller/y_data_push\")\n",
    "\n",
    "X2=np.load(\"C:/Users/dexte/github/RoboSkin/Code/Models/labeller/X_data_edge\")\n",
    "y2=np.load(\"C:/Users/dexte/github/RoboSkin/Code/Models/labeller/y_data_edge\")\n",
    "\n",
    "X=np.concatenate([X1,X2])\n",
    "y=np.concatenate([y1,y2])\n",
    "\n",
    "print(X.shape,y.shape)"
   ]
  }
 ],
 "metadata": {
  "kernelspec": {
   "display_name": "Python 3",
   "language": "python",
   "name": "python3"
  },
  "language_info": {
   "codemirror_mode": {
    "name": "ipython",
    "version": 3
   },
   "file_extension": ".py",
   "mimetype": "text/x-python",
   "name": "python",
   "nbconvert_exporter": "python",
   "pygments_lexer": "ipython3",
   "version": "3.10.7"
  },
  "orig_nbformat": 4
 },
 "nbformat": 4,
 "nbformat_minor": 2
}
